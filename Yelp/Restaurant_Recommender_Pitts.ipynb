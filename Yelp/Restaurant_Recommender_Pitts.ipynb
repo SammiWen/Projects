{
 "cells": [
  {
   "cell_type": "markdown",
   "metadata": {},
   "source": [
    "# Yelp Data Challenge - Restaurant Recommender\n",
    "Patrick 🌰"
   ]
  },
  {
   "cell_type": "code",
   "execution_count": 1,
   "metadata": {
    "collapsed": false
   },
   "outputs": [
    {
     "name": "stderr",
     "output_type": "stream",
     "text": [
      "[WARNING] graphlab.product_key: Unable to write current GraphLab Create license to /Users/lipengyuan/.graphlab/config. Ensure that this user account                         has write permission to /Users/lipengyuan/.graphlab/config to save the license for offline use.\n",
      "[INFO] graphlab.cython.cy_server: GraphLab Create v2.1 started. Logging: /tmp/graphlab_server_1544471307.log\n"
     ]
    },
    {
     "name": "stdout",
     "output_type": "stream",
     "text": [
      "This non-commercial license of GraphLab Create for academic use is assigned to li_peng@bentley.edu and will expire on August 01, 2019.\n"
     ]
    },
    {
     "name": "stderr",
     "output_type": "stream",
     "text": [
      "[WARNING] graphlab.deploy._session: Unable to create session in specified location: '/Users/lipengyuan/.graphlab/artifacts'. Using: '/var/tmp/graphlab-lipengyuan/767/tmp_session_71b70dcb-39d8-4740-ad51-fc279e4f9bd9'\n"
     ]
    }
   ],
   "source": [
    "import graphlab"
   ]
  },
  {
   "cell_type": "code",
   "execution_count": null,
   "metadata": {
    "collapsed": true
   },
   "outputs": [],
   "source": []
  },
  {
   "cell_type": "code",
   "execution_count": 2,
   "metadata": {
    "collapsed": false
   },
   "outputs": [
    {
     "name": "stderr",
     "output_type": "stream",
     "text": [
      "/Users/lipengyuan/anaconda3/envs/gl-env1/lib/python2.7/site-packages/matplotlib/font_manager.py:273: UserWarning: Matplotlib is building the font cache using fc-list. This may take a moment.\n",
      "  warnings.warn('Matplotlib is building the font cache using fc-list. This may take a moment.')\n"
     ]
    }
   ],
   "source": [
    "import pandas as pd\n",
    "import numpy as np\n",
    "import matplotlib.pyplot as plt\n",
    "% matplotlib inline\n",
    "plt.style.use(\"ggplot\")"
   ]
  },
  {
   "cell_type": "code",
   "execution_count": 5,
   "metadata": {
    "collapsed": false
   },
   "outputs": [],
   "source": [
    "df = pd.read_csv('pittsrestfinallast2year.csv')"
   ]
  },
  {
   "cell_type": "code",
   "execution_count": 7,
   "metadata": {
    "collapsed": false
   },
   "outputs": [
    {
     "data": {
      "text/html": [
       "<div>\n",
       "<table border=\"1\" class=\"dataframe\">\n",
       "  <thead>\n",
       "    <tr style=\"text-align: right;\">\n",
       "      <th></th>\n",
       "      <th>Unnamed: 0</th>\n",
       "      <th>business_id</th>\n",
       "      <th>name</th>\n",
       "      <th>categories</th>\n",
       "      <th>avg_stars</th>\n",
       "      <th>cool</th>\n",
       "      <th>date</th>\n",
       "      <th>funny</th>\n",
       "      <th>review_id</th>\n",
       "      <th>stars</th>\n",
       "      <th>text</th>\n",
       "      <th>useful</th>\n",
       "      <th>user_id</th>\n",
       "    </tr>\n",
       "  </thead>\n",
       "  <tbody>\n",
       "    <tr>\n",
       "      <th>0</th>\n",
       "      <td>2</td>\n",
       "      <td>--ujyvoQlwVoBgMYtADiLA</td>\n",
       "      <td>Primanti Bros</td>\n",
       "      <td>Sandwiches, Sports Bars, Restaurants, Nightlif...</td>\n",
       "      <td>3.5</td>\n",
       "      <td>0</td>\n",
       "      <td>2016-10-05</td>\n",
       "      <td>0</td>\n",
       "      <td>isswD5jO3GwCYIkDNK9AEA</td>\n",
       "      <td>4</td>\n",
       "      <td>I love the white pizza and the Monongahela (bl...</td>\n",
       "      <td>0</td>\n",
       "      <td>D5_iQw0N9wO7kT7FrT7j6A</td>\n",
       "    </tr>\n",
       "    <tr>\n",
       "      <th>1</th>\n",
       "      <td>11</td>\n",
       "      <td>--ujyvoQlwVoBgMYtADiLA</td>\n",
       "      <td>Primanti Bros</td>\n",
       "      <td>Sandwiches, Sports Bars, Restaurants, Nightlif...</td>\n",
       "      <td>3.5</td>\n",
       "      <td>0</td>\n",
       "      <td>2017-07-31</td>\n",
       "      <td>0</td>\n",
       "      <td>CRMppAp7f0GF5pa8sNkV4g</td>\n",
       "      <td>5</td>\n",
       "      <td>love Primanti bros.great food. good service. f...</td>\n",
       "      <td>0</td>\n",
       "      <td>nyzncOg3goSAMK15IijIqA</td>\n",
       "    </tr>\n",
       "    <tr>\n",
       "      <th>2</th>\n",
       "      <td>12</td>\n",
       "      <td>--ujyvoQlwVoBgMYtADiLA</td>\n",
       "      <td>Primanti Bros</td>\n",
       "      <td>Sandwiches, Sports Bars, Restaurants, Nightlif...</td>\n",
       "      <td>3.5</td>\n",
       "      <td>0</td>\n",
       "      <td>2017-03-25</td>\n",
       "      <td>0</td>\n",
       "      <td>BdGR_xduQ2CLkEIgtR2eCQ</td>\n",
       "      <td>4</td>\n",
       "      <td>Great food and very convenient location. The p...</td>\n",
       "      <td>0</td>\n",
       "      <td>YFRp9i9sDuA1T5oMKq5cbg</td>\n",
       "    </tr>\n",
       "    <tr>\n",
       "      <th>3</th>\n",
       "      <td>18</td>\n",
       "      <td>--ujyvoQlwVoBgMYtADiLA</td>\n",
       "      <td>Primanti Bros</td>\n",
       "      <td>Sandwiches, Sports Bars, Restaurants, Nightlif...</td>\n",
       "      <td>3.5</td>\n",
       "      <td>0</td>\n",
       "      <td>2017-12-31</td>\n",
       "      <td>0</td>\n",
       "      <td>Jt2iThRe8Fu6GAG-moAIPQ</td>\n",
       "      <td>3</td>\n",
       "      <td>I love visiting Primanti Bros every time we co...</td>\n",
       "      <td>0</td>\n",
       "      <td>QqdHAP9tSwjteG7b9q7sAw</td>\n",
       "    </tr>\n",
       "    <tr>\n",
       "      <th>4</th>\n",
       "      <td>20</td>\n",
       "      <td>--ujyvoQlwVoBgMYtADiLA</td>\n",
       "      <td>Primanti Bros</td>\n",
       "      <td>Sandwiches, Sports Bars, Restaurants, Nightlif...</td>\n",
       "      <td>3.5</td>\n",
       "      <td>0</td>\n",
       "      <td>2016-09-27</td>\n",
       "      <td>0</td>\n",
       "      <td>1mi5-2nKgRQ0u6KoWXA3vQ</td>\n",
       "      <td>5</td>\n",
       "      <td>You can't beat their happy hour! Great sandwic...</td>\n",
       "      <td>0</td>\n",
       "      <td>4qfMMlGtme2RNFqDgxYLxg</td>\n",
       "    </tr>\n",
       "  </tbody>\n",
       "</table>\n",
       "</div>"
      ],
      "text/plain": [
       "   Unnamed: 0             business_id           name  \\\n",
       "0           2  --ujyvoQlwVoBgMYtADiLA  Primanti Bros   \n",
       "1          11  --ujyvoQlwVoBgMYtADiLA  Primanti Bros   \n",
       "2          12  --ujyvoQlwVoBgMYtADiLA  Primanti Bros   \n",
       "3          18  --ujyvoQlwVoBgMYtADiLA  Primanti Bros   \n",
       "4          20  --ujyvoQlwVoBgMYtADiLA  Primanti Bros   \n",
       "\n",
       "                                          categories  avg_stars  cool  \\\n",
       "0  Sandwiches, Sports Bars, Restaurants, Nightlif...        3.5     0   \n",
       "1  Sandwiches, Sports Bars, Restaurants, Nightlif...        3.5     0   \n",
       "2  Sandwiches, Sports Bars, Restaurants, Nightlif...        3.5     0   \n",
       "3  Sandwiches, Sports Bars, Restaurants, Nightlif...        3.5     0   \n",
       "4  Sandwiches, Sports Bars, Restaurants, Nightlif...        3.5     0   \n",
       "\n",
       "         date  funny               review_id  stars  \\\n",
       "0  2016-10-05      0  isswD5jO3GwCYIkDNK9AEA      4   \n",
       "1  2017-07-31      0  CRMppAp7f0GF5pa8sNkV4g      5   \n",
       "2  2017-03-25      0  BdGR_xduQ2CLkEIgtR2eCQ      4   \n",
       "3  2017-12-31      0  Jt2iThRe8Fu6GAG-moAIPQ      3   \n",
       "4  2016-09-27      0  1mi5-2nKgRQ0u6KoWXA3vQ      5   \n",
       "\n",
       "                                                text  useful  \\\n",
       "0  I love the white pizza and the Monongahela (bl...       0   \n",
       "1  love Primanti bros.great food. good service. f...       0   \n",
       "2  Great food and very convenient location. The p...       0   \n",
       "3  I love visiting Primanti Bros every time we co...       0   \n",
       "4  You can't beat their happy hour! Great sandwic...       0   \n",
       "\n",
       "                  user_id  \n",
       "0  D5_iQw0N9wO7kT7FrT7j6A  \n",
       "1  nyzncOg3goSAMK15IijIqA  \n",
       "2  YFRp9i9sDuA1T5oMKq5cbg  \n",
       "3  QqdHAP9tSwjteG7b9q7sAw  \n",
       "4  4qfMMlGtme2RNFqDgxYLxg  "
      ]
     },
     "execution_count": 7,
     "metadata": {},
     "output_type": "execute_result"
    }
   ],
   "source": [
    "df.head()"
   ]
  },
  {
   "cell_type": "markdown",
   "metadata": {},
   "source": [
    "## 1. Clean data and get rating data "
   ]
  },
  {
   "cell_type": "code",
   "execution_count": 8,
   "metadata": {
    "collapsed": false
   },
   "outputs": [
    {
     "data": {
      "text/plain": [
       "<matplotlib.axes._subplots.AxesSubplot at 0x120ffd890>"
      ]
     },
     "execution_count": 8,
     "metadata": {},
     "output_type": "execute_result"
    },
    {
     "data": {
      "image/png": "[encoded data removed]",
      "text/plain": [
       "<matplotlib.figure.Figure at 0x120ffd910>"
      ]
     },
     "metadata": {},
     "output_type": "display_data"
    }
   ],
   "source": [
    "# Get business_id, user_id, stars for recommender\n",
    "df_stars = df[['business_id', 'user_id', 'stars']]\n",
    "# stars distribution\n",
    "df_stars['stars'].hist()"
   ]
  },
  {
   "cell_type": "code",
   "execution_count": 9,
   "metadata": {
    "collapsed": false
   },
   "outputs": [
    {
     "data": {
      "text/plain": [
       "1769"
      ]
     },
     "execution_count": 9,
     "metadata": {},
     "output_type": "execute_result"
    }
   ],
   "source": [
    "df_stars['business_id'].nunique() \n",
    "# number of unique elements"
   ]
  },
  {
   "cell_type": "code",
   "execution_count": 10,
   "metadata": {
    "collapsed": false
   },
   "outputs": [
    {
     "data": {
      "text/plain": [
       "21520"
      ]
     },
     "execution_count": 10,
     "metadata": {},
     "output_type": "execute_result"
    }
   ],
   "source": [
    "# number of unique user_id\n",
    "df_stars['user_id'].nunique()"
   ]
  },
  {
   "cell_type": "code",
   "execution_count": 11,
   "metadata": {
    "collapsed": false
   },
   "outputs": [
    {
     "data": {
      "text/plain": [
       "6Ki3bAL0wx9ymbdJqbSWMA    218\n",
       "Lfv4hefW1VbvaC2gatTFWA    117\n",
       "fmzIm7RxEdii5Jz44PtO7g    112\n",
       "DeXKbQYNx52OlOizobOLJw     97\n",
       "gofnmwo5ptoEnQI47zCBYg     93\n",
       "1u80DXuswfp7hFW2NN9B-Q     89\n",
       "2jKzO_01d12oiu-2bOYcYg     89\n",
       "-hietrA8M58asfpyJkCyiA     71\n",
       "7qGe49__QqCpk8ZYOm7W8w     71\n",
       "pW_XkS9BfbnAQ_JMxNA-8w     65\n",
       "pspJkQgUOap1OjTZVMbdsQ     65\n",
       "5IaHGddT0RLq1-S5LbP1iw     64\n",
       "xhmBgIT3xHgojioDq_c_fg     63\n",
       "-sv8-a09Psq5CMzmg6E4OQ     61\n",
       "d0D7L-vfQDIADolnPAcb9A     60\n",
       "bmSuFvdMyF66PDUZr9VfoQ     58\n",
       "3egcdazws_x1wW35jgXfNw     57\n",
       "hg71CGHy9bwpgY8cGVVg4w     57\n",
       "JeIVRtZiwUnSP9qR4AmfEQ     57\n",
       "8AwcaBJjiMpQ__FPxktwwQ     56\n",
       "Name: user_id, dtype: int64"
      ]
     },
     "execution_count": 11,
     "metadata": {},
     "output_type": "execute_result"
    }
   ],
   "source": [
    "# user comments counts\n",
    "df_user_counts = df_stars['user_id'].value_counts()\n",
    "df_user_counts.head(20)"
   ]
  },
  {
   "cell_type": "code",
   "execution_count": 12,
   "metadata": {
    "collapsed": false
   },
   "outputs": [
    {
     "data": {
      "image/png": "[encoded data removed]",
      "text/plain": [
       "<matplotlib.figure.Figure at 0x11e59d790>"
      ]
     },
     "metadata": {},
     "output_type": "display_data"
    }
   ],
   "source": [
    "# display log histogram\n",
    "# df_user_counts.hist()\n",
    "df_user_counts.apply(np.log).hist()\n",
    "plt.show()"
   ]
  },
  {
   "cell_type": "markdown",
   "metadata": {},
   "source": []
  },
  {
   "cell_type": "markdown",
   "metadata": {},
   "source": [
    "#### There are many users that haven't given many reviews, exclude these users from the item-item similarity recommender\n",
    "\n"
   ]
  },
  {
   "cell_type": "code",
   "execution_count": 14,
   "metadata": {
    "collapsed": false
   },
   "outputs": [
    {
     "data": {
      "text/plain": [
       "14383"
      ]
     },
     "execution_count": 14,
     "metadata": {},
     "output_type": "execute_result"
    }
   ],
   "source": [
    "# how many users only comments once\n",
    "df_user_counts[df_user_counts == 1].sum()"
   ]
  },
  {
   "cell_type": "code",
   "execution_count": 15,
   "metadata": {
    "collapsed": false
   },
   "outputs": [
    {
     "data": {
      "text/plain": [
       "1361"
      ]
     },
     "execution_count": 15,
     "metadata": {},
     "output_type": "execute_result"
    }
   ],
   "source": [
    "# users comment over 5 times\n",
    "df_users = df_user_counts[df_user_counts > 5]\n",
    "# count users comment over 5 times as active user\n",
    "df_users.count()"
   ]
  },
  {
   "cell_type": "code",
   "execution_count": 16,
   "metadata": {
    "collapsed": false
   },
   "outputs": [
    {
     "data": {
      "text/plain": [
       "Index([u'6Ki3bAL0wx9ymbdJqbSWMA', u'Lfv4hefW1VbvaC2gatTFWA',\n",
       "       u'fmzIm7RxEdii5Jz44PtO7g', u'DeXKbQYNx52OlOizobOLJw',\n",
       "       u'gofnmwo5ptoEnQI47zCBYg', u'1u80DXuswfp7hFW2NN9B-Q',\n",
       "       u'2jKzO_01d12oiu-2bOYcYg', u'-hietrA8M58asfpyJkCyiA',\n",
       "       u'7qGe49__QqCpk8ZYOm7W8w', u'pW_XkS9BfbnAQ_JMxNA-8w',\n",
       "       ...\n",
       "       u'19kmgZ4dFpRSmPlyeVn9CA', u'lAf9Fx7BWwqRzpEoTYadJA',\n",
       "       u'b6e7hiRG1PN0QVcZTubAzw', u'0pQonPPPQM2LW1FbrVtOoQ',\n",
       "       u'vs844SYuQRjULR9oXC0Ckw', u'uNuPyXHbbtHnhWhPLamESQ',\n",
       "       u'e5H7oAD_txEclZ6oRnZpjw', u'6hplZWMvriP6MbEKKCjlfg',\n",
       "       u'd8QTcqAe4lingCDsTCsAkw', u'lu7QvOJl-EiaqV0VvNhpWg'],\n",
       "      dtype='object', length=1361)"
      ]
     },
     "execution_count": 16,
     "metadata": {},
     "output_type": "execute_result"
    }
   ],
   "source": [
    "# display active user id\n",
    "df_users.index"
   ]
  },
  {
   "cell_type": "code",
   "execution_count": 17,
   "metadata": {
    "collapsed": false
   },
   "outputs": [
    {
     "data": {
      "text/html": [
       "<div>\n",
       "<table border=\"1\" class=\"dataframe\">\n",
       "  <thead>\n",
       "    <tr style=\"text-align: right;\">\n",
       "      <th></th>\n",
       "      <th>user_id</th>\n",
       "      <th>business_id</th>\n",
       "      <th>stars</th>\n",
       "    </tr>\n",
       "  </thead>\n",
       "  <tbody>\n",
       "    <tr>\n",
       "      <th>0</th>\n",
       "      <td>6Ki3bAL0wx9ymbdJqbSWMA</td>\n",
       "      <td>-8F04F54iDT6VgWPCgybug</td>\n",
       "      <td>4</td>\n",
       "    </tr>\n",
       "    <tr>\n",
       "      <th>1</th>\n",
       "      <td>6Ki3bAL0wx9ymbdJqbSWMA</td>\n",
       "      <td>-DUQQsE2QvFIuqO5EiChQA</td>\n",
       "      <td>3</td>\n",
       "    </tr>\n",
       "    <tr>\n",
       "      <th>2</th>\n",
       "      <td>6Ki3bAL0wx9ymbdJqbSWMA</td>\n",
       "      <td>-SUammmS2p6c5GuuGA-kmw</td>\n",
       "      <td>4</td>\n",
       "    </tr>\n",
       "    <tr>\n",
       "      <th>3</th>\n",
       "      <td>6Ki3bAL0wx9ymbdJqbSWMA</td>\n",
       "      <td>-SX8276QNjtSMu3ZIIcpLA</td>\n",
       "      <td>4</td>\n",
       "    </tr>\n",
       "    <tr>\n",
       "      <th>4</th>\n",
       "      <td>6Ki3bAL0wx9ymbdJqbSWMA</td>\n",
       "      <td>-WVF5DKZeEWlMK8Cucto-A</td>\n",
       "      <td>3</td>\n",
       "    </tr>\n",
       "  </tbody>\n",
       "</table>\n",
       "</div>"
      ],
      "text/plain": [
       "                  user_id             business_id  stars\n",
       "0  6Ki3bAL0wx9ymbdJqbSWMA  -8F04F54iDT6VgWPCgybug      4\n",
       "1  6Ki3bAL0wx9ymbdJqbSWMA  -DUQQsE2QvFIuqO5EiChQA      3\n",
       "2  6Ki3bAL0wx9ymbdJqbSWMA  -SUammmS2p6c5GuuGA-kmw      4\n",
       "3  6Ki3bAL0wx9ymbdJqbSWMA  -SX8276QNjtSMu3ZIIcpLA      4\n",
       "4  6Ki3bAL0wx9ymbdJqbSWMA  -WVF5DKZeEWlMK8Cucto-A      3"
      ]
     },
     "execution_count": 17,
     "metadata": {},
     "output_type": "execute_result"
    }
   ],
   "source": [
    "# reorder dataframe\n",
    "df_stars_cleaned = df_stars.set_index('user_id').ix[df_users.index].reset_index()\n",
    "df_stars_cleaned.head()"
   ]
  },
  {
   "cell_type": "code",
   "execution_count": 18,
   "metadata": {
    "collapsed": true
   },
   "outputs": [],
   "source": [
    "df_utility = pd.pivot_table(data=df_stars_cleaned,\n",
    "                            values='stars', # fill with stars\n",
    "                            index='user_id', # rows\n",
    "                            columns='business_id', # columns\n",
    "                            fill_value=0) # fill missings"
   ]
  },
  {
   "cell_type": "code",
   "execution_count": 19,
   "metadata": {
    "collapsed": false
   },
   "outputs": [
    {
     "data": {
      "text/html": [
       "<div>\n",
       "<table border=\"1\" class=\"dataframe\">\n",
       "  <thead>\n",
       "    <tr style=\"text-align: right;\">\n",
       "      <th>business_id</th>\n",
       "      <th>--ujyvoQlwVoBgMYtADiLA</th>\n",
       "      <th>-1xCh7Cocn6IwFzhELyohA</th>\n",
       "      <th>-7H-oXvCxJzuT42ky6Db0g</th>\n",
       "      <th>-7PX_FOoCwktlunImRyZdg</th>\n",
       "      <th>-7teXSpi9nqy58WUd-8yfw</th>\n",
       "      <th>-8F04F54iDT6VgWPCgybug</th>\n",
       "      <th>-BuZrOMqgO4OU_UKYSddAg</th>\n",
       "      <th>-CfqFIH6rxUxJL9gR-k_XA</th>\n",
       "      <th>-DUQQsE2QvFIuqO5EiChQA</th>\n",
       "      <th>-FcuxZqsQ0FO35GEXExwjw</th>\n",
       "      <th>...</th>\n",
       "      <th>z_RTK0MaxaRHRQ99hDL2QA</th>\n",
       "      <th>zc0I2evMOPKNuu1mlm_tsQ</th>\n",
       "      <th>zi6cB_bkswWPLD2k3IVtyg</th>\n",
       "      <th>ziJsGjXvidzZWC1I0-SOSg</th>\n",
       "      <th>zjOfUAyqyH_BPe7EkFBrEQ</th>\n",
       "      <th>zkW7OAv8Cnb-3SxEBOubTQ</th>\n",
       "      <th>zuEJKjSkX-4qw8MlEcI0Xg</th>\n",
       "      <th>zuUWG7OdMv6awFRYhEYT5Q</th>\n",
       "      <th>zxSfGIhK3hH3vVz_pS5eaA</th>\n",
       "      <th>zzwhN7x37nyjP0ZM8oiHmw</th>\n",
       "    </tr>\n",
       "    <tr>\n",
       "      <th>user_id</th>\n",
       "      <th></th>\n",
       "      <th></th>\n",
       "      <th></th>\n",
       "      <th></th>\n",
       "      <th></th>\n",
       "      <th></th>\n",
       "      <th></th>\n",
       "      <th></th>\n",
       "      <th></th>\n",
       "      <th></th>\n",
       "      <th></th>\n",
       "      <th></th>\n",
       "      <th></th>\n",
       "      <th></th>\n",
       "      <th></th>\n",
       "      <th></th>\n",
       "      <th></th>\n",
       "      <th></th>\n",
       "      <th></th>\n",
       "      <th></th>\n",
       "      <th></th>\n",
       "    </tr>\n",
       "  </thead>\n",
       "  <tbody>\n",
       "    <tr>\n",
       "      <th>-0-hVEpwWEcJLJoGq3rE3g</th>\n",
       "      <td>0</td>\n",
       "      <td>0</td>\n",
       "      <td>0</td>\n",
       "      <td>0</td>\n",
       "      <td>0</td>\n",
       "      <td>0</td>\n",
       "      <td>0</td>\n",
       "      <td>0</td>\n",
       "      <td>0</td>\n",
       "      <td>0</td>\n",
       "      <td>...</td>\n",
       "      <td>0</td>\n",
       "      <td>0</td>\n",
       "      <td>0</td>\n",
       "      <td>0</td>\n",
       "      <td>0</td>\n",
       "      <td>0</td>\n",
       "      <td>0</td>\n",
       "      <td>0</td>\n",
       "      <td>0</td>\n",
       "      <td>0</td>\n",
       "    </tr>\n",
       "    <tr>\n",
       "      <th>-ARdx8hOcEWlMDjzwLYZ_g</th>\n",
       "      <td>0</td>\n",
       "      <td>0</td>\n",
       "      <td>0</td>\n",
       "      <td>0</td>\n",
       "      <td>0</td>\n",
       "      <td>0</td>\n",
       "      <td>0</td>\n",
       "      <td>0</td>\n",
       "      <td>0</td>\n",
       "      <td>0</td>\n",
       "      <td>...</td>\n",
       "      <td>0</td>\n",
       "      <td>0</td>\n",
       "      <td>0</td>\n",
       "      <td>0</td>\n",
       "      <td>0</td>\n",
       "      <td>0</td>\n",
       "      <td>0</td>\n",
       "      <td>0</td>\n",
       "      <td>0</td>\n",
       "      <td>0</td>\n",
       "    </tr>\n",
       "    <tr>\n",
       "      <th>-Ds0hzlQwZUukmOwnapaFg</th>\n",
       "      <td>0</td>\n",
       "      <td>0</td>\n",
       "      <td>0</td>\n",
       "      <td>0</td>\n",
       "      <td>0</td>\n",
       "      <td>0</td>\n",
       "      <td>0</td>\n",
       "      <td>0</td>\n",
       "      <td>0</td>\n",
       "      <td>0</td>\n",
       "      <td>...</td>\n",
       "      <td>0</td>\n",
       "      <td>0</td>\n",
       "      <td>0</td>\n",
       "      <td>0</td>\n",
       "      <td>0</td>\n",
       "      <td>0</td>\n",
       "      <td>0</td>\n",
       "      <td>0</td>\n",
       "      <td>0</td>\n",
       "      <td>0</td>\n",
       "    </tr>\n",
       "    <tr>\n",
       "      <th>-FFUshmxcnv3PINbQPDj_g</th>\n",
       "      <td>0</td>\n",
       "      <td>0</td>\n",
       "      <td>0</td>\n",
       "      <td>0</td>\n",
       "      <td>0</td>\n",
       "      <td>0</td>\n",
       "      <td>0</td>\n",
       "      <td>0</td>\n",
       "      <td>0</td>\n",
       "      <td>0</td>\n",
       "      <td>...</td>\n",
       "      <td>0</td>\n",
       "      <td>0</td>\n",
       "      <td>0</td>\n",
       "      <td>0</td>\n",
       "      <td>0</td>\n",
       "      <td>0</td>\n",
       "      <td>0</td>\n",
       "      <td>0</td>\n",
       "      <td>0</td>\n",
       "      <td>0</td>\n",
       "    </tr>\n",
       "    <tr>\n",
       "      <th>-Hp15ocusLulN0VpO1rwiw</th>\n",
       "      <td>0</td>\n",
       "      <td>0</td>\n",
       "      <td>0</td>\n",
       "      <td>5</td>\n",
       "      <td>0</td>\n",
       "      <td>0</td>\n",
       "      <td>0</td>\n",
       "      <td>0</td>\n",
       "      <td>0</td>\n",
       "      <td>0</td>\n",
       "      <td>...</td>\n",
       "      <td>0</td>\n",
       "      <td>0</td>\n",
       "      <td>0</td>\n",
       "      <td>0</td>\n",
       "      <td>0</td>\n",
       "      <td>0</td>\n",
       "      <td>0</td>\n",
       "      <td>0</td>\n",
       "      <td>0</td>\n",
       "      <td>0</td>\n",
       "    </tr>\n",
       "  </tbody>\n",
       "</table>\n",
       "<p>5 rows × 1586 columns</p>\n",
       "</div>"
      ],
      "text/plain": [
       "business_id             --ujyvoQlwVoBgMYtADiLA  -1xCh7Cocn6IwFzhELyohA  \\\n",
       "user_id                                                                  \n",
       "-0-hVEpwWEcJLJoGq3rE3g                       0                       0   \n",
       "-ARdx8hOcEWlMDjzwLYZ_g                       0                       0   \n",
       "-Ds0hzlQwZUukmOwnapaFg                       0                       0   \n",
       "-FFUshmxcnv3PINbQPDj_g                       0                       0   \n",
       "-Hp15ocusLulN0VpO1rwiw                       0                       0   \n",
       "\n",
       "business_id             -7H-oXvCxJzuT42ky6Db0g  -7PX_FOoCwktlunImRyZdg  \\\n",
       "user_id                                                                  \n",
       "-0-hVEpwWEcJLJoGq3rE3g                       0                       0   \n",
       "-ARdx8hOcEWlMDjzwLYZ_g                       0                       0   \n",
       "-Ds0hzlQwZUukmOwnapaFg                       0                       0   \n",
       "-FFUshmxcnv3PINbQPDj_g                       0                       0   \n",
       "-Hp15ocusLulN0VpO1rwiw                       0                       5   \n",
       "\n",
       "business_id             -7teXSpi9nqy58WUd-8yfw  -8F04F54iDT6VgWPCgybug  \\\n",
       "user_id                                                                  \n",
       "-0-hVEpwWEcJLJoGq3rE3g                       0                       0   \n",
       "-ARdx8hOcEWlMDjzwLYZ_g                       0                       0   \n",
       "-Ds0hzlQwZUukmOwnapaFg                       0                       0   \n",
       "-FFUshmxcnv3PINbQPDj_g                       0                       0   \n",
       "-Hp15ocusLulN0VpO1rwiw                       0                       0   \n",
       "\n",
       "business_id             -BuZrOMqgO4OU_UKYSddAg  -CfqFIH6rxUxJL9gR-k_XA  \\\n",
       "user_id                                                                  \n",
       "-0-hVEpwWEcJLJoGq3rE3g                       0                       0   \n",
       "-ARdx8hOcEWlMDjzwLYZ_g                       0                       0   \n",
       "-Ds0hzlQwZUukmOwnapaFg                       0                       0   \n",
       "-FFUshmxcnv3PINbQPDj_g                       0                       0   \n",
       "-Hp15ocusLulN0VpO1rwiw                       0                       0   \n",
       "\n",
       "business_id             -DUQQsE2QvFIuqO5EiChQA  -FcuxZqsQ0FO35GEXExwjw  \\\n",
       "user_id                                                                  \n",
       "-0-hVEpwWEcJLJoGq3rE3g                       0                       0   \n",
       "-ARdx8hOcEWlMDjzwLYZ_g                       0                       0   \n",
       "-Ds0hzlQwZUukmOwnapaFg                       0                       0   \n",
       "-FFUshmxcnv3PINbQPDj_g                       0                       0   \n",
       "-Hp15ocusLulN0VpO1rwiw                       0                       0   \n",
       "\n",
       "business_id                      ...            z_RTK0MaxaRHRQ99hDL2QA  \\\n",
       "user_id                          ...                                     \n",
       "-0-hVEpwWEcJLJoGq3rE3g           ...                                 0   \n",
       "-ARdx8hOcEWlMDjzwLYZ_g           ...                                 0   \n",
       "-Ds0hzlQwZUukmOwnapaFg           ...                                 0   \n",
       "-FFUshmxcnv3PINbQPDj_g           ...                                 0   \n",
       "-Hp15ocusLulN0VpO1rwiw           ...                                 0   \n",
       "\n",
       "business_id             zc0I2evMOPKNuu1mlm_tsQ  zi6cB_bkswWPLD2k3IVtyg  \\\n",
       "user_id                                                                  \n",
       "-0-hVEpwWEcJLJoGq3rE3g                       0                       0   \n",
       "-ARdx8hOcEWlMDjzwLYZ_g                       0                       0   \n",
       "-Ds0hzlQwZUukmOwnapaFg                       0                       0   \n",
       "-FFUshmxcnv3PINbQPDj_g                       0                       0   \n",
       "-Hp15ocusLulN0VpO1rwiw                       0                       0   \n",
       "\n",
       "business_id             ziJsGjXvidzZWC1I0-SOSg  zjOfUAyqyH_BPe7EkFBrEQ  \\\n",
       "user_id                                                                  \n",
       "-0-hVEpwWEcJLJoGq3rE3g                       0                       0   \n",
       "-ARdx8hOcEWlMDjzwLYZ_g                       0                       0   \n",
       "-Ds0hzlQwZUukmOwnapaFg                       0                       0   \n",
       "-FFUshmxcnv3PINbQPDj_g                       0                       0   \n",
       "-Hp15ocusLulN0VpO1rwiw                       0                       0   \n",
       "\n",
       "business_id             zkW7OAv8Cnb-3SxEBOubTQ  zuEJKjSkX-4qw8MlEcI0Xg  \\\n",
       "user_id                                                                  \n",
       "-0-hVEpwWEcJLJoGq3rE3g                       0                       0   \n",
       "-ARdx8hOcEWlMDjzwLYZ_g                       0                       0   \n",
       "-Ds0hzlQwZUukmOwnapaFg                       0                       0   \n",
       "-FFUshmxcnv3PINbQPDj_g                       0                       0   \n",
       "-Hp15ocusLulN0VpO1rwiw                       0                       0   \n",
       "\n",
       "business_id             zuUWG7OdMv6awFRYhEYT5Q  zxSfGIhK3hH3vVz_pS5eaA  \\\n",
       "user_id                                                                  \n",
       "-0-hVEpwWEcJLJoGq3rE3g                       0                       0   \n",
       "-ARdx8hOcEWlMDjzwLYZ_g                       0                       0   \n",
       "-Ds0hzlQwZUukmOwnapaFg                       0                       0   \n",
       "-FFUshmxcnv3PINbQPDj_g                       0                       0   \n",
       "-Hp15ocusLulN0VpO1rwiw                       0                       0   \n",
       "\n",
       "business_id             zzwhN7x37nyjP0ZM8oiHmw  \n",
       "user_id                                         \n",
       "-0-hVEpwWEcJLJoGq3rE3g                       0  \n",
       "-ARdx8hOcEWlMDjzwLYZ_g                       0  \n",
       "-Ds0hzlQwZUukmOwnapaFg                       0  \n",
       "-FFUshmxcnv3PINbQPDj_g                       0  \n",
       "-Hp15ocusLulN0VpO1rwiw                       0  \n",
       "\n",
       "[5 rows x 1586 columns]"
      ]
     },
     "execution_count": 19,
     "metadata": {},
     "output_type": "execute_result"
    }
   ],
   "source": [
    "df_utility.head()"
   ]
  },
  {
   "cell_type": "code",
   "execution_count": 20,
   "metadata": {
    "collapsed": false
   },
   "outputs": [
    {
     "data": {
      "text/plain": [
       "(1361,)"
      ]
     },
     "execution_count": 20,
     "metadata": {},
     "output_type": "execute_result"
    }
   ],
   "source": [
    "# get the list of user id by checking out the index of the utility matrix\n",
    "user_id_list = df_utility.index\n",
    "user_id_list.shape"
   ]
  },
  {
   "cell_type": "code",
   "execution_count": 21,
   "metadata": {
    "collapsed": false
   },
   "outputs": [
    {
     "data": {
      "text/plain": [
       "(1586,)"
      ]
     },
     "execution_count": 21,
     "metadata": {},
     "output_type": "execute_result"
    }
   ],
   "source": [
    "# get the list of item id by checking out the columns of the utility matrix\n",
    "item_id_list = df_utility.columns\n",
    "item_id_list.shape"
   ]
  },
  {
   "cell_type": "markdown",
   "metadata": {},
   "source": [
    "## recommendation system with graphlab"
   ]
  },
  {
   "cell_type": "code",
   "execution_count": null,
   "metadata": {
    "collapsed": true
   },
   "outputs": [],
   "source": [
    "import graphlab\n",
    "# li_peng@bentley.edu\n",
    "# Product key: EE1C-F268-44A4-8C68-DC7F-E841-76EB-8765\n",
    "    \n",
    "# pip install --upgrade --no-cache-dir https://get.graphlab.com/GraphLab-Create/2.1/li_peng@bentley.edu/EE1C-F268-44A4-8C68-DC7F-E841-76EB-8765/GraphLab-Create-License.tar.gz"
   ]
  },
  {
   "cell_type": "markdown",
   "metadata": {},
   "source": [
    "## 2. Item-Item similarity recommender"
   ]
  },
  {
   "cell_type": "code",
   "execution_count": 23,
   "metadata": {
    "collapsed": false
   },
   "outputs": [
    {
     "data": {
      "text/html": [
       "<div style=\"max-height:1000px;max-width:1500px;overflow:auto;\"><table frame=\"box\" rules=\"cols\">\n",
       "    <tr>\n",
       "        <th style=\"padding-left: 1em; padding-right: 1em; text-align: center\">business_id</th>\n",
       "        <th style=\"padding-left: 1em; padding-right: 1em; text-align: center\">user_id</th>\n",
       "        <th style=\"padding-left: 1em; padding-right: 1em; text-align: center\">stars</th>\n",
       "    </tr>\n",
       "    <tr>\n",
       "        <td style=\"padding-left: 1em; padding-right: 1em; text-align: center; vertical-align: top\">--ujyvoQlwVoBgMYtADiLA</td>\n",
       "        <td style=\"padding-left: 1em; padding-right: 1em; text-align: center; vertical-align: top\">D5_iQw0N9wO7kT7FrT7j6A</td>\n",
       "        <td style=\"padding-left: 1em; padding-right: 1em; text-align: center; vertical-align: top\">4</td>\n",
       "    </tr>\n",
       "    <tr>\n",
       "        <td style=\"padding-left: 1em; padding-right: 1em; text-align: center; vertical-align: top\">--ujyvoQlwVoBgMYtADiLA</td>\n",
       "        <td style=\"padding-left: 1em; padding-right: 1em; text-align: center; vertical-align: top\">nyzncOg3goSAMK15IijIqA</td>\n",
       "        <td style=\"padding-left: 1em; padding-right: 1em; text-align: center; vertical-align: top\">5</td>\n",
       "    </tr>\n",
       "    <tr>\n",
       "        <td style=\"padding-left: 1em; padding-right: 1em; text-align: center; vertical-align: top\">--ujyvoQlwVoBgMYtADiLA</td>\n",
       "        <td style=\"padding-left: 1em; padding-right: 1em; text-align: center; vertical-align: top\">YFRp9i9sDuA1T5oMKq5cbg</td>\n",
       "        <td style=\"padding-left: 1em; padding-right: 1em; text-align: center; vertical-align: top\">4</td>\n",
       "    </tr>\n",
       "    <tr>\n",
       "        <td style=\"padding-left: 1em; padding-right: 1em; text-align: center; vertical-align: top\">--ujyvoQlwVoBgMYtADiLA</td>\n",
       "        <td style=\"padding-left: 1em; padding-right: 1em; text-align: center; vertical-align: top\">QqdHAP9tSwjteG7b9q7sAw</td>\n",
       "        <td style=\"padding-left: 1em; padding-right: 1em; text-align: center; vertical-align: top\">3</td>\n",
       "    </tr>\n",
       "    <tr>\n",
       "        <td style=\"padding-left: 1em; padding-right: 1em; text-align: center; vertical-align: top\">--ujyvoQlwVoBgMYtADiLA</td>\n",
       "        <td style=\"padding-left: 1em; padding-right: 1em; text-align: center; vertical-align: top\">4qfMMlGtme2RNFqDgxYLxg</td>\n",
       "        <td style=\"padding-left: 1em; padding-right: 1em; text-align: center; vertical-align: top\">5</td>\n",
       "    </tr>\n",
       "    <tr>\n",
       "        <td style=\"padding-left: 1em; padding-right: 1em; text-align: center; vertical-align: top\">--ujyvoQlwVoBgMYtADiLA</td>\n",
       "        <td style=\"padding-left: 1em; padding-right: 1em; text-align: center; vertical-align: top\">65GY-LY1Y9OLQ24bk05VYg</td>\n",
       "        <td style=\"padding-left: 1em; padding-right: 1em; text-align: center; vertical-align: top\">4</td>\n",
       "    </tr>\n",
       "    <tr>\n",
       "        <td style=\"padding-left: 1em; padding-right: 1em; text-align: center; vertical-align: top\">--ujyvoQlwVoBgMYtADiLA</td>\n",
       "        <td style=\"padding-left: 1em; padding-right: 1em; text-align: center; vertical-align: top\">ynQWcEUSahZ9uegM9kE9Qw</td>\n",
       "        <td style=\"padding-left: 1em; padding-right: 1em; text-align: center; vertical-align: top\">2</td>\n",
       "    </tr>\n",
       "    <tr>\n",
       "        <td style=\"padding-left: 1em; padding-right: 1em; text-align: center; vertical-align: top\">--ujyvoQlwVoBgMYtADiLA</td>\n",
       "        <td style=\"padding-left: 1em; padding-right: 1em; text-align: center; vertical-align: top\">qmO1jsUwOSSIE9eAOryuZw</td>\n",
       "        <td style=\"padding-left: 1em; padding-right: 1em; text-align: center; vertical-align: top\">5</td>\n",
       "    </tr>\n",
       "    <tr>\n",
       "        <td style=\"padding-left: 1em; padding-right: 1em; text-align: center; vertical-align: top\">--ujyvoQlwVoBgMYtADiLA</td>\n",
       "        <td style=\"padding-left: 1em; padding-right: 1em; text-align: center; vertical-align: top\">0Amd1mZAzHhHMbgKd2RuOg</td>\n",
       "        <td style=\"padding-left: 1em; padding-right: 1em; text-align: center; vertical-align: top\">2</td>\n",
       "    </tr>\n",
       "    <tr>\n",
       "        <td style=\"padding-left: 1em; padding-right: 1em; text-align: center; vertical-align: top\">--ujyvoQlwVoBgMYtADiLA</td>\n",
       "        <td style=\"padding-left: 1em; padding-right: 1em; text-align: center; vertical-align: top\">uHyE6oz8dXTYCQ087JQYEA</td>\n",
       "        <td style=\"padding-left: 1em; padding-right: 1em; text-align: center; vertical-align: top\">1</td>\n",
       "    </tr>\n",
       "</table>\n",
       "[49142 rows x 3 columns]<br/>Note: Only the head of the SFrame is printed.<br/>You can use print_rows(num_rows=m, num_columns=n) to print more rows and columns.\n",
       "</div>"
      ],
      "text/plain": [
       "Columns:\n",
       "\tbusiness_id\tstr\n",
       "\tuser_id\tstr\n",
       "\tstars\tint\n",
       "\n",
       "Rows: 49142\n",
       "\n",
       "Data:\n",
       "+------------------------+------------------------+-------+\n",
       "|      business_id       |        user_id         | stars |\n",
       "+------------------------+------------------------+-------+\n",
       "| --ujyvoQlwVoBgMYtADiLA | D5_iQw0N9wO7kT7FrT7j6A |   4   |\n",
       "| --ujyvoQlwVoBgMYtADiLA | nyzncOg3goSAMK15IijIqA |   5   |\n",
       "| --ujyvoQlwVoBgMYtADiLA | YFRp9i9sDuA1T5oMKq5cbg |   4   |\n",
       "| --ujyvoQlwVoBgMYtADiLA | QqdHAP9tSwjteG7b9q7sAw |   3   |\n",
       "| --ujyvoQlwVoBgMYtADiLA | 4qfMMlGtme2RNFqDgxYLxg |   5   |\n",
       "| --ujyvoQlwVoBgMYtADiLA | 65GY-LY1Y9OLQ24bk05VYg |   4   |\n",
       "| --ujyvoQlwVoBgMYtADiLA | ynQWcEUSahZ9uegM9kE9Qw |   2   |\n",
       "| --ujyvoQlwVoBgMYtADiLA | qmO1jsUwOSSIE9eAOryuZw |   5   |\n",
       "| --ujyvoQlwVoBgMYtADiLA | 0Amd1mZAzHhHMbgKd2RuOg |   2   |\n",
       "| --ujyvoQlwVoBgMYtADiLA | uHyE6oz8dXTYCQ087JQYEA |   1   |\n",
       "+------------------------+------------------------+-------+\n",
       "[49142 rows x 3 columns]\n",
       "Note: Only the head of the SFrame is printed.\n",
       "You can use print_rows(num_rows=m, num_columns=n) to print more rows and columns."
      ]
     },
     "execution_count": 23,
     "metadata": {},
     "output_type": "execute_result"
    }
   ],
   "source": [
    "sf_stars = graphlab.SFrame(df_stars)\n",
    "sf_stars # SFrame similar to DataFrame"
   ]
  },
  {
   "cell_type": "code",
   "execution_count": 26,
   "metadata": {
    "collapsed": false
   },
   "outputs": [
    {
     "data": {
      "text/html": [
       "<pre>Recsys training: model = item_similarity</pre>"
      ],
      "text/plain": [
       "Recsys training: model = item_similarity"
      ]
     },
     "metadata": {},
     "output_type": "display_data"
    },
    {
     "data": {
      "text/html": [
       "<pre>Preparing data set.</pre>"
      ],
      "text/plain": [
       "Preparing data set."
      ]
     },
     "metadata": {},
     "output_type": "display_data"
    },
    {
     "data": {
      "text/html": [
       "<pre>    Data has 49142 observations with 21520 users and 1769 items.</pre>"
      ],
      "text/plain": [
       "    Data has 49142 observations with 21520 users and 1769 items."
      ]
     },
     "metadata": {},
     "output_type": "display_data"
    },
    {
     "data": {
      "text/html": [
       "<pre>    Data prepared in: 0.165725s</pre>"
      ],
      "text/plain": [
       "    Data prepared in: 0.165725s"
      ]
     },
     "metadata": {},
     "output_type": "display_data"
    },
    {
     "data": {
      "text/html": [
       "<pre>Training model from provided data.</pre>"
      ],
      "text/plain": [
       "Training model from provided data."
      ]
     },
     "metadata": {},
     "output_type": "display_data"
    },
    {
     "data": {
      "text/html": [
       "<pre>Gathering per-item and per-user statistics.</pre>"
      ],
      "text/plain": [
       "Gathering per-item and per-user statistics."
      ]
     },
     "metadata": {},
     "output_type": "display_data"
    },
    {
     "data": {
      "text/html": [
       "<pre>+--------------------------------+------------+</pre>"
      ],
      "text/plain": [
       "+--------------------------------+------------+"
      ]
     },
     "metadata": {},
     "output_type": "display_data"
    },
    {
     "data": {
      "text/html": [
       "<pre>| Elapsed Time (Item Statistics) | % Complete |</pre>"
      ],
      "text/plain": [
       "| Elapsed Time (Item Statistics) | % Complete |"
      ]
     },
     "metadata": {},
     "output_type": "display_data"
    },
    {
     "data": {
      "text/html": [
       "<pre>+--------------------------------+------------+</pre>"
      ],
      "text/plain": [
       "+--------------------------------+------------+"
      ]
     },
     "metadata": {},
     "output_type": "display_data"
    },
    {
     "data": {
      "text/html": [
       "<pre>| 4.643ms                        | 27.75      |</pre>"
      ],
      "text/plain": [
       "| 4.643ms                        | 27.75      |"
      ]
     },
     "metadata": {},
     "output_type": "display_data"
    },
    {
     "data": {
      "text/html": [
       "<pre>| 11.702ms                       | 100        |</pre>"
      ],
      "text/plain": [
       "| 11.702ms                       | 100        |"
      ]
     },
     "metadata": {},
     "output_type": "display_data"
    },
    {
     "data": {
      "text/html": [
       "<pre>+--------------------------------+------------+</pre>"
      ],
      "text/plain": [
       "+--------------------------------+------------+"
      ]
     },
     "metadata": {},
     "output_type": "display_data"
    },
    {
     "data": {
      "text/html": [
       "<pre>Setting up lookup tables.</pre>"
      ],
      "text/plain": [
       "Setting up lookup tables."
      ]
     },
     "metadata": {},
     "output_type": "display_data"
    },
    {
     "data": {
      "text/html": [
       "<pre>Processing data in one pass using dense lookup tables.</pre>"
      ],
      "text/plain": [
       "Processing data in one pass using dense lookup tables."
      ]
     },
     "metadata": {},
     "output_type": "display_data"
    },
    {
     "data": {
      "text/html": [
       "<pre>+-------------------------------------+------------------+-----------------+</pre>"
      ],
      "text/plain": [
       "+-------------------------------------+------------------+-----------------+"
      ]
     },
     "metadata": {},
     "output_type": "display_data"
    },
    {
     "data": {
      "text/html": [
       "<pre>| Elapsed Time (Constructing Lookups) | Total % Complete | Items Processed |</pre>"
      ],
      "text/plain": [
       "| Elapsed Time (Constructing Lookups) | Total % Complete | Items Processed |"
      ]
     },
     "metadata": {},
     "output_type": "display_data"
    },
    {
     "data": {
      "text/html": [
       "<pre>+-------------------------------------+------------------+-----------------+</pre>"
      ],
      "text/plain": [
       "+-------------------------------------+------------------+-----------------+"
      ]
     },
     "metadata": {},
     "output_type": "display_data"
    },
    {
     "data": {
      "text/html": [
       "<pre>| 33.731ms                            | 0                | 0               |</pre>"
      ],
      "text/plain": [
       "| 33.731ms                            | 0                | 0               |"
      ]
     },
     "metadata": {},
     "output_type": "display_data"
    },
    {
     "data": {
      "text/html": [
       "<pre>| 72.307ms                            | 100              | 1769            |</pre>"
      ],
      "text/plain": [
       "| 72.307ms                            | 100              | 1769            |"
      ]
     },
     "metadata": {},
     "output_type": "display_data"
    },
    {
     "data": {
      "text/html": [
       "<pre>+-------------------------------------+------------------+-----------------+</pre>"
      ],
      "text/plain": [
       "+-------------------------------------+------------------+-----------------+"
      ]
     },
     "metadata": {},
     "output_type": "display_data"
    },
    {
     "data": {
      "text/html": [
       "<pre>Finalizing lookup tables.</pre>"
      ],
      "text/plain": [
       "Finalizing lookup tables."
      ]
     },
     "metadata": {},
     "output_type": "display_data"
    },
    {
     "data": {
      "text/html": [
       "<pre>Generating candidate set for working with new users.</pre>"
      ],
      "text/plain": [
       "Generating candidate set for working with new users."
      ]
     },
     "metadata": {},
     "output_type": "display_data"
    },
    {
     "data": {
      "text/html": [
       "<pre>Finished training in 1.09105s</pre>"
      ],
      "text/plain": [
       "Finished training in 1.09105s"
      ]
     },
     "metadata": {},
     "output_type": "display_data"
    }
   ],
   "source": [
    "# item-item recommender\n",
    "item_item_rec = graphlab.recommender.item_similarity_recommender.create(sf_stars,user_id='user_id',\n",
    "                                                                        item_id='business_id',\n",
    "                                                                        target = 'stars')"
   ]
  },
  {
   "cell_type": "code",
   "execution_count": 27,
   "metadata": {
    "collapsed": true
   },
   "outputs": [],
   "source": [
    "item_item_rec_result = item_item_rec.recommend(k=3, verbose=False)"
   ]
  },
  {
   "cell_type": "code",
   "execution_count": 28,
   "metadata": {
    "collapsed": false
   },
   "outputs": [
    {
     "data": {
      "text/html": [
       "<div style=\"max-height:1000px;max-width:1500px;overflow:auto;\"><table frame=\"box\" rules=\"cols\">\n",
       "    <tr>\n",
       "        <th style=\"padding-left: 1em; padding-right: 1em; text-align: center\">user_id</th>\n",
       "        <th style=\"padding-left: 1em; padding-right: 1em; text-align: center\">business_id</th>\n",
       "        <th style=\"padding-left: 1em; padding-right: 1em; text-align: center\">score</th>\n",
       "        <th style=\"padding-left: 1em; padding-right: 1em; text-align: center\">rank</th>\n",
       "    </tr>\n",
       "    <tr>\n",
       "        <td style=\"padding-left: 1em; padding-right: 1em; text-align: center; vertical-align: top\">D5_iQw0N9wO7kT7FrT7j6A</td>\n",
       "        <td style=\"padding-left: 1em; padding-right: 1em; text-align: center; vertical-align: top\">q2y2K9RwT954oQGgeNAu1w</td>\n",
       "        <td style=\"padding-left: 1em; padding-right: 1em; text-align: center; vertical-align: top\">0.0192307680845</td>\n",
       "        <td style=\"padding-left: 1em; padding-right: 1em; text-align: center; vertical-align: top\">1</td>\n",
       "    </tr>\n",
       "    <tr>\n",
       "        <td style=\"padding-left: 1em; padding-right: 1em; text-align: center; vertical-align: top\">D5_iQw0N9wO7kT7FrT7j6A</td>\n",
       "        <td style=\"padding-left: 1em; padding-right: 1em; text-align: center; vertical-align: top\">5-wiVRTpKwhz2wKxNS-JzA</td>\n",
       "        <td style=\"padding-left: 1em; padding-right: 1em; text-align: center; vertical-align: top\">0.0166122019291</td>\n",
       "        <td style=\"padding-left: 1em; padding-right: 1em; text-align: center; vertical-align: top\">2</td>\n",
       "    </tr>\n",
       "    <tr>\n",
       "        <td style=\"padding-left: 1em; padding-right: 1em; text-align: center; vertical-align: top\">D5_iQw0N9wO7kT7FrT7j6A</td>\n",
       "        <td style=\"padding-left: 1em; padding-right: 1em; text-align: center; vertical-align: top\">ts4ZmG1Fde5UfQDDskR5eQ</td>\n",
       "        <td style=\"padding-left: 1em; padding-right: 1em; text-align: center; vertical-align: top\">0.014653109014</td>\n",
       "        <td style=\"padding-left: 1em; padding-right: 1em; text-align: center; vertical-align: top\">3</td>\n",
       "    </tr>\n",
       "    <tr>\n",
       "        <td style=\"padding-left: 1em; padding-right: 1em; text-align: center; vertical-align: top\">nyzncOg3goSAMK15IijIqA</td>\n",
       "        <td style=\"padding-left: 1em; padding-right: 1em; text-align: center; vertical-align: top\">5-wiVRTpKwhz2wKxNS-JzA</td>\n",
       "        <td style=\"padding-left: 1em; padding-right: 1em; text-align: center; vertical-align: top\">0.0588235259056</td>\n",
       "        <td style=\"padding-left: 1em; padding-right: 1em; text-align: center; vertical-align: top\">1</td>\n",
       "    </tr>\n",
       "    <tr>\n",
       "        <td style=\"padding-left: 1em; padding-right: 1em; text-align: center; vertical-align: top\">nyzncOg3goSAMK15IijIqA</td>\n",
       "        <td style=\"padding-left: 1em; padding-right: 1em; text-align: center; vertical-align: top\">ldGnkfXjRNAxRP9cizgr0Q</td>\n",
       "        <td style=\"padding-left: 1em; padding-right: 1em; text-align: center; vertical-align: top\">0.0526315569878</td>\n",
       "        <td style=\"padding-left: 1em; padding-right: 1em; text-align: center; vertical-align: top\">2</td>\n",
       "    </tr>\n",
       "    <tr>\n",
       "        <td style=\"padding-left: 1em; padding-right: 1em; text-align: center; vertical-align: top\">nyzncOg3goSAMK15IijIqA</td>\n",
       "        <td style=\"padding-left: 1em; padding-right: 1em; text-align: center; vertical-align: top\">T-OuUSSzWgrMCv9TUX3epg</td>\n",
       "        <td style=\"padding-left: 1em; padding-right: 1em; text-align: center; vertical-align: top\">0.0526315569878</td>\n",
       "        <td style=\"padding-left: 1em; padding-right: 1em; text-align: center; vertical-align: top\">3</td>\n",
       "    </tr>\n",
       "    <tr>\n",
       "        <td style=\"padding-left: 1em; padding-right: 1em; text-align: center; vertical-align: top\">YFRp9i9sDuA1T5oMKq5cbg</td>\n",
       "        <td style=\"padding-left: 1em; padding-right: 1em; text-align: center; vertical-align: top\">5-wiVRTpKwhz2wKxNS-JzA</td>\n",
       "        <td style=\"padding-left: 1em; padding-right: 1em; text-align: center; vertical-align: top\">0.0588235259056</td>\n",
       "        <td style=\"padding-left: 1em; padding-right: 1em; text-align: center; vertical-align: top\">1</td>\n",
       "    </tr>\n",
       "    <tr>\n",
       "        <td style=\"padding-left: 1em; padding-right: 1em; text-align: center; vertical-align: top\">YFRp9i9sDuA1T5oMKq5cbg</td>\n",
       "        <td style=\"padding-left: 1em; padding-right: 1em; text-align: center; vertical-align: top\">ldGnkfXjRNAxRP9cizgr0Q</td>\n",
       "        <td style=\"padding-left: 1em; padding-right: 1em; text-align: center; vertical-align: top\">0.0526315569878</td>\n",
       "        <td style=\"padding-left: 1em; padding-right: 1em; text-align: center; vertical-align: top\">2</td>\n",
       "    </tr>\n",
       "    <tr>\n",
       "        <td style=\"padding-left: 1em; padding-right: 1em; text-align: center; vertical-align: top\">YFRp9i9sDuA1T5oMKq5cbg</td>\n",
       "        <td style=\"padding-left: 1em; padding-right: 1em; text-align: center; vertical-align: top\">T-OuUSSzWgrMCv9TUX3epg</td>\n",
       "        <td style=\"padding-left: 1em; padding-right: 1em; text-align: center; vertical-align: top\">0.0526315569878</td>\n",
       "        <td style=\"padding-left: 1em; padding-right: 1em; text-align: center; vertical-align: top\">3</td>\n",
       "    </tr>\n",
       "    <tr>\n",
       "        <td style=\"padding-left: 1em; padding-right: 1em; text-align: center; vertical-align: top\">QqdHAP9tSwjteG7b9q7sAw</td>\n",
       "        <td style=\"padding-left: 1em; padding-right: 1em; text-align: center; vertical-align: top\">VkeVbH5zcm0MBKuKtytGKw</td>\n",
       "        <td style=\"padding-left: 1em; padding-right: 1em; text-align: center; vertical-align: top\">0.032051295042</td>\n",
       "        <td style=\"padding-left: 1em; padding-right: 1em; text-align: center; vertical-align: top\">1</td>\n",
       "    </tr>\n",
       "</table>\n",
       "[64560 rows x 4 columns]<br/>Note: Only the head of the SFrame is printed.<br/>You can use print_rows(num_rows=m, num_columns=n) to print more rows and columns.\n",
       "</div>"
      ],
      "text/plain": [
       "Columns:\n",
       "\tuser_id\tstr\n",
       "\tbusiness_id\tstr\n",
       "\tscore\tfloat\n",
       "\trank\tint\n",
       "\n",
       "Rows: 64560\n",
       "\n",
       "Data:\n",
       "+------------------------+------------------------+-----------------+------+\n",
       "|        user_id         |      business_id       |      score      | rank |\n",
       "+------------------------+------------------------+-----------------+------+\n",
       "| D5_iQw0N9wO7kT7FrT7j6A | q2y2K9RwT954oQGgeNAu1w | 0.0192307680845 |  1   |\n",
       "| D5_iQw0N9wO7kT7FrT7j6A | 5-wiVRTpKwhz2wKxNS-JzA | 0.0166122019291 |  2   |\n",
       "| D5_iQw0N9wO7kT7FrT7j6A | ts4ZmG1Fde5UfQDDskR5eQ |  0.014653109014 |  3   |\n",
       "| nyzncOg3goSAMK15IijIqA | 5-wiVRTpKwhz2wKxNS-JzA | 0.0588235259056 |  1   |\n",
       "| nyzncOg3goSAMK15IijIqA | ldGnkfXjRNAxRP9cizgr0Q | 0.0526315569878 |  2   |\n",
       "| nyzncOg3goSAMK15IijIqA | T-OuUSSzWgrMCv9TUX3epg | 0.0526315569878 |  3   |\n",
       "| YFRp9i9sDuA1T5oMKq5cbg | 5-wiVRTpKwhz2wKxNS-JzA | 0.0588235259056 |  1   |\n",
       "| YFRp9i9sDuA1T5oMKq5cbg | ldGnkfXjRNAxRP9cizgr0Q | 0.0526315569878 |  2   |\n",
       "| YFRp9i9sDuA1T5oMKq5cbg | T-OuUSSzWgrMCv9TUX3epg | 0.0526315569878 |  3   |\n",
       "| QqdHAP9tSwjteG7b9q7sAw | VkeVbH5zcm0MBKuKtytGKw |  0.032051295042 |  1   |\n",
       "+------------------------+------------------------+-----------------+------+\n",
       "[64560 rows x 4 columns]\n",
       "Note: Only the head of the SFrame is printed.\n",
       "You can use print_rows(num_rows=m, num_columns=n) to print more rows and columns."
      ]
     },
     "execution_count": 28,
     "metadata": {},
     "output_type": "execute_result"
    }
   ],
   "source": [
    "item_item_rec_result"
   ]
  },
  {
   "cell_type": "markdown",
   "metadata": {},
   "source": [
    "# 3. Content-based recommender"
   ]
  },
  {
   "cell_type": "code",
   "execution_count": 29,
   "metadata": {
    "collapsed": false
   },
   "outputs": [
    {
     "data": {
      "text/html": [
       "<div>\n",
       "<table border=\"1\" class=\"dataframe\">\n",
       "  <thead>\n",
       "    <tr style=\"text-align: right;\">\n",
       "      <th></th>\n",
       "      <th>Unnamed: 0</th>\n",
       "      <th>avg_stars</th>\n",
       "      <th>cool</th>\n",
       "      <th>funny</th>\n",
       "      <th>stars</th>\n",
       "      <th>useful</th>\n",
       "    </tr>\n",
       "    <tr>\n",
       "      <th>business_id</th>\n",
       "      <th></th>\n",
       "      <th></th>\n",
       "      <th></th>\n",
       "      <th></th>\n",
       "      <th></th>\n",
       "      <th></th>\n",
       "    </tr>\n",
       "  </thead>\n",
       "  <tbody>\n",
       "    <tr>\n",
       "      <th>--ujyvoQlwVoBgMYtADiLA</th>\n",
       "      <td>36.894737</td>\n",
       "      <td>3.5</td>\n",
       "      <td>0.157895</td>\n",
       "      <td>0.157895</td>\n",
       "      <td>3.421053</td>\n",
       "      <td>0.578947</td>\n",
       "    </tr>\n",
       "    <tr>\n",
       "      <th>-1xCh7Cocn6IwFzhELyohA</th>\n",
       "      <td>88.166667</td>\n",
       "      <td>2.5</td>\n",
       "      <td>0.166667</td>\n",
       "      <td>0.166667</td>\n",
       "      <td>3.666667</td>\n",
       "      <td>0.333333</td>\n",
       "    </tr>\n",
       "    <tr>\n",
       "      <th>-7H-oXvCxJzuT42ky6Db0g</th>\n",
       "      <td>388.412214</td>\n",
       "      <td>3.5</td>\n",
       "      <td>0.282443</td>\n",
       "      <td>0.160305</td>\n",
       "      <td>3.480916</td>\n",
       "      <td>0.694656</td>\n",
       "    </tr>\n",
       "    <tr>\n",
       "      <th>-7PX_FOoCwktlunImRyZdg</th>\n",
       "      <td>704.480769</td>\n",
       "      <td>4.5</td>\n",
       "      <td>0.461538</td>\n",
       "      <td>0.038462</td>\n",
       "      <td>4.615385</td>\n",
       "      <td>0.711538</td>\n",
       "    </tr>\n",
       "    <tr>\n",
       "      <th>-7teXSpi9nqy58WUd-8yfw</th>\n",
       "      <td>774.000000</td>\n",
       "      <td>4.5</td>\n",
       "      <td>0.000000</td>\n",
       "      <td>0.000000</td>\n",
       "      <td>5.000000</td>\n",
       "      <td>2.000000</td>\n",
       "    </tr>\n",
       "  </tbody>\n",
       "</table>\n",
       "</div>"
      ],
      "text/plain": [
       "                        Unnamed: 0  avg_stars      cool     funny     stars  \\\n",
       "business_id                                                                   \n",
       "--ujyvoQlwVoBgMYtADiLA   36.894737        3.5  0.157895  0.157895  3.421053   \n",
       "-1xCh7Cocn6IwFzhELyohA   88.166667        2.5  0.166667  0.166667  3.666667   \n",
       "-7H-oXvCxJzuT42ky6Db0g  388.412214        3.5  0.282443  0.160305  3.480916   \n",
       "-7PX_FOoCwktlunImRyZdg  704.480769        4.5  0.461538  0.038462  4.615385   \n",
       "-7teXSpi9nqy58WUd-8yfw  774.000000        4.5  0.000000  0.000000  5.000000   \n",
       "\n",
       "                          useful  \n",
       "business_id                       \n",
       "--ujyvoQlwVoBgMYtADiLA  0.578947  \n",
       "-1xCh7Cocn6IwFzhELyohA  0.333333  \n",
       "-7H-oXvCxJzuT42ky6Db0g  0.694656  \n",
       "-7PX_FOoCwktlunImRyZdg  0.711538  \n",
       "-7teXSpi9nqy58WUd-8yfw  2.000000  "
      ]
     },
     "execution_count": 29,
     "metadata": {},
     "output_type": "execute_result"
    }
   ],
   "source": [
    "# group by business_id, then average numerical features\n",
    "\n",
    "df_average = df.groupby(['business_id']).mean()\n",
    "df_average.head()"
   ]
  },
  {
   "cell_type": "code",
   "execution_count": 30,
   "metadata": {
    "collapsed": false
   },
   "outputs": [
    {
     "data": {
      "text/plain": [
       "business_id\n",
       "--ujyvoQlwVoBgMYtADiLA    [Sandwiches, Sports Bars, Restaurants, Nightli...\n",
       "-1xCh7Cocn6IwFzhELyohA    [Nightlife, Sports Bars, Restaurants, Mexican,...\n",
       "-7H-oXvCxJzuT42ky6Db0g    [Bars, Nightlife, Cocktail Bars, American (New...\n",
       "-7PX_FOoCwktlunImRyZdg    [Food, Specialty Food, Italian, Restaurants, P...\n",
       "-7teXSpi9nqy58WUd-8yfw                 [Restaurants, American (New), Cafes]\n",
       "Name: categories, dtype: object"
      ]
     },
     "execution_count": 30,
     "metadata": {},
     "output_type": "execute_result"
    }
   ],
   "source": [
    "# group by business_id, extract categories data\n",
    "\n",
    "categories_series = df.groupby(['business_id']).categories.apply(np.unique)\n",
    "categories_series.head()"
   ]
  },
  {
   "cell_type": "code",
   "execution_count": 31,
   "metadata": {
    "collapsed": true
   },
   "outputs": [],
   "source": [
    "# convert categories data to string remove `[]`\n",
    "categories_series = categories_series.str.join('').apply(lambda x: x[1:-1])"
   ]
  },
  {
   "cell_type": "code",
   "execution_count": 32,
   "metadata": {
    "collapsed": false
   },
   "outputs": [
    {
     "data": {
      "text/html": [
       "<div>\n",
       "<table border=\"1\" class=\"dataframe\">\n",
       "  <thead>\n",
       "    <tr style=\"text-align: right;\">\n",
       "      <th></th>\n",
       "      <th>acos</th>\n",
       "      <th>active</th>\n",
       "      <th>adult</th>\n",
       "      <th>afes</th>\n",
       "      <th>afeteria</th>\n",
       "      <th>affles</th>\n",
       "      <th>african</th>\n",
       "      <th>agels</th>\n",
       "      <th>agents</th>\n",
       "      <th>airports</th>\n",
       "      <th>...</th>\n",
       "      <th>wineries</th>\n",
       "      <th>wing</th>\n",
       "      <th>wings</th>\n",
       "      <th>wrap</th>\n",
       "      <th>wraps</th>\n",
       "      <th>yogur</th>\n",
       "      <th>yogurt</th>\n",
       "      <th>yourself</th>\n",
       "      <th>zakaya</th>\n",
       "      <th>zechuan</th>\n",
       "    </tr>\n",
       "    <tr>\n",
       "      <th>business_id</th>\n",
       "      <th></th>\n",
       "      <th></th>\n",
       "      <th></th>\n",
       "      <th></th>\n",
       "      <th></th>\n",
       "      <th></th>\n",
       "      <th></th>\n",
       "      <th></th>\n",
       "      <th></th>\n",
       "      <th></th>\n",
       "      <th></th>\n",
       "      <th></th>\n",
       "      <th></th>\n",
       "      <th></th>\n",
       "      <th></th>\n",
       "      <th></th>\n",
       "      <th></th>\n",
       "      <th></th>\n",
       "      <th></th>\n",
       "      <th></th>\n",
       "      <th></th>\n",
       "    </tr>\n",
       "  </thead>\n",
       "  <tbody>\n",
       "    <tr>\n",
       "      <th>--ujyvoQlwVoBgMYtADiLA</th>\n",
       "      <td>0</td>\n",
       "      <td>0</td>\n",
       "      <td>0</td>\n",
       "      <td>0</td>\n",
       "      <td>0</td>\n",
       "      <td>0</td>\n",
       "      <td>0</td>\n",
       "      <td>0</td>\n",
       "      <td>0</td>\n",
       "      <td>0</td>\n",
       "      <td>...</td>\n",
       "      <td>0</td>\n",
       "      <td>0</td>\n",
       "      <td>0</td>\n",
       "      <td>0</td>\n",
       "      <td>0</td>\n",
       "      <td>0</td>\n",
       "      <td>0</td>\n",
       "      <td>0</td>\n",
       "      <td>0</td>\n",
       "      <td>0</td>\n",
       "    </tr>\n",
       "    <tr>\n",
       "      <th>-1xCh7Cocn6IwFzhELyohA</th>\n",
       "      <td>0</td>\n",
       "      <td>0</td>\n",
       "      <td>0</td>\n",
       "      <td>0</td>\n",
       "      <td>0</td>\n",
       "      <td>0</td>\n",
       "      <td>0</td>\n",
       "      <td>0</td>\n",
       "      <td>0</td>\n",
       "      <td>0</td>\n",
       "      <td>...</td>\n",
       "      <td>0</td>\n",
       "      <td>0</td>\n",
       "      <td>0</td>\n",
       "      <td>0</td>\n",
       "      <td>0</td>\n",
       "      <td>0</td>\n",
       "      <td>0</td>\n",
       "      <td>0</td>\n",
       "      <td>0</td>\n",
       "      <td>0</td>\n",
       "    </tr>\n",
       "    <tr>\n",
       "      <th>-7H-oXvCxJzuT42ky6Db0g</th>\n",
       "      <td>0</td>\n",
       "      <td>0</td>\n",
       "      <td>0</td>\n",
       "      <td>0</td>\n",
       "      <td>0</td>\n",
       "      <td>0</td>\n",
       "      <td>0</td>\n",
       "      <td>0</td>\n",
       "      <td>0</td>\n",
       "      <td>0</td>\n",
       "      <td>...</td>\n",
       "      <td>0</td>\n",
       "      <td>0</td>\n",
       "      <td>0</td>\n",
       "      <td>0</td>\n",
       "      <td>0</td>\n",
       "      <td>0</td>\n",
       "      <td>0</td>\n",
       "      <td>0</td>\n",
       "      <td>0</td>\n",
       "      <td>0</td>\n",
       "    </tr>\n",
       "    <tr>\n",
       "      <th>-7PX_FOoCwktlunImRyZdg</th>\n",
       "      <td>0</td>\n",
       "      <td>0</td>\n",
       "      <td>0</td>\n",
       "      <td>0</td>\n",
       "      <td>0</td>\n",
       "      <td>0</td>\n",
       "      <td>0</td>\n",
       "      <td>0</td>\n",
       "      <td>0</td>\n",
       "      <td>0</td>\n",
       "      <td>...</td>\n",
       "      <td>0</td>\n",
       "      <td>0</td>\n",
       "      <td>0</td>\n",
       "      <td>0</td>\n",
       "      <td>0</td>\n",
       "      <td>0</td>\n",
       "      <td>0</td>\n",
       "      <td>0</td>\n",
       "      <td>0</td>\n",
       "      <td>0</td>\n",
       "    </tr>\n",
       "    <tr>\n",
       "      <th>-7teXSpi9nqy58WUd-8yfw</th>\n",
       "      <td>0</td>\n",
       "      <td>0</td>\n",
       "      <td>0</td>\n",
       "      <td>0</td>\n",
       "      <td>0</td>\n",
       "      <td>0</td>\n",
       "      <td>0</td>\n",
       "      <td>0</td>\n",
       "      <td>0</td>\n",
       "      <td>0</td>\n",
       "      <td>...</td>\n",
       "      <td>0</td>\n",
       "      <td>0</td>\n",
       "      <td>0</td>\n",
       "      <td>0</td>\n",
       "      <td>0</td>\n",
       "      <td>0</td>\n",
       "      <td>0</td>\n",
       "      <td>0</td>\n",
       "      <td>0</td>\n",
       "      <td>0</td>\n",
       "    </tr>\n",
       "  </tbody>\n",
       "</table>\n",
       "<p>5 rows × 524 columns</p>\n",
       "</div>"
      ],
      "text/plain": [
       "                        acos  active  adult  afes  afeteria  affles  african  \\\n",
       "business_id                                                                    \n",
       "--ujyvoQlwVoBgMYtADiLA     0       0      0     0         0       0        0   \n",
       "-1xCh7Cocn6IwFzhELyohA     0       0      0     0         0       0        0   \n",
       "-7H-oXvCxJzuT42ky6Db0g     0       0      0     0         0       0        0   \n",
       "-7PX_FOoCwktlunImRyZdg     0       0      0     0         0       0        0   \n",
       "-7teXSpi9nqy58WUd-8yfw     0       0      0     0         0       0        0   \n",
       "\n",
       "                        agels  agents  airports   ...     wineries  wing  \\\n",
       "business_id                                       ...                      \n",
       "--ujyvoQlwVoBgMYtADiLA      0       0         0   ...            0     0   \n",
       "-1xCh7Cocn6IwFzhELyohA      0       0         0   ...            0     0   \n",
       "-7H-oXvCxJzuT42ky6Db0g      0       0         0   ...            0     0   \n",
       "-7PX_FOoCwktlunImRyZdg      0       0         0   ...            0     0   \n",
       "-7teXSpi9nqy58WUd-8yfw      0       0         0   ...            0     0   \n",
       "\n",
       "                        wings  wrap  wraps  yogur  yogurt  yourself  zakaya  \\\n",
       "business_id                                                                   \n",
       "--ujyvoQlwVoBgMYtADiLA      0     0      0      0       0         0       0   \n",
       "-1xCh7Cocn6IwFzhELyohA      0     0      0      0       0         0       0   \n",
       "-7H-oXvCxJzuT42ky6Db0g      0     0      0      0       0         0       0   \n",
       "-7PX_FOoCwktlunImRyZdg      0     0      0      0       0         0       0   \n",
       "-7teXSpi9nqy58WUd-8yfw      0     0      0      0       0         0       0   \n",
       "\n",
       "                        zechuan  \n",
       "business_id                      \n",
       "--ujyvoQlwVoBgMYtADiLA        0  \n",
       "-1xCh7Cocn6IwFzhELyohA        0  \n",
       "-7H-oXvCxJzuT42ky6Db0g        0  \n",
       "-7PX_FOoCwktlunImRyZdg        0  \n",
       "-7teXSpi9nqy58WUd-8yfw        0  \n",
       "\n",
       "[5 rows x 524 columns]"
      ]
     },
     "execution_count": 32,
     "metadata": {},
     "output_type": "execute_result"
    }
   ],
   "source": [
    "# business_id, categories table\n",
    "from sklearn.feature_extraction.text import CountVectorizer\n",
    "\n",
    "vectorizer = CountVectorizer()\n",
    "categories_mat = vectorizer.fit_transform(categories_series).toarray()\n",
    "categories = vectorizer.get_feature_names()\n",
    "df_categories = pd.DataFrame(categories_mat,\n",
    "                             columns=categories, \n",
    "                             index=categories_series.index)\n",
    "df_categories.head()"
   ]
  },
  {
   "cell_type": "code",
   "execution_count": 33,
   "metadata": {
    "collapsed": false
   },
   "outputs": [
    {
     "name": "stdout",
     "output_type": "stream",
     "text": [
      "0.938250038005\n"
     ]
    },
    {
     "data": {
      "text/html": [
       "<div>\n",
       "<table border=\"1\" class=\"dataframe\">\n",
       "  <thead>\n",
       "    <tr style=\"text-align: right;\">\n",
       "      <th></th>\n",
       "      <th>0</th>\n",
       "      <th>1</th>\n",
       "      <th>2</th>\n",
       "      <th>3</th>\n",
       "      <th>4</th>\n",
       "      <th>5</th>\n",
       "      <th>6</th>\n",
       "      <th>7</th>\n",
       "      <th>8</th>\n",
       "      <th>9</th>\n",
       "      <th>...</th>\n",
       "      <th>140</th>\n",
       "      <th>141</th>\n",
       "      <th>142</th>\n",
       "      <th>143</th>\n",
       "      <th>144</th>\n",
       "      <th>145</th>\n",
       "      <th>146</th>\n",
       "      <th>147</th>\n",
       "      <th>148</th>\n",
       "      <th>149</th>\n",
       "    </tr>\n",
       "    <tr>\n",
       "      <th>business_id</th>\n",
       "      <th></th>\n",
       "      <th></th>\n",
       "      <th></th>\n",
       "      <th></th>\n",
       "      <th></th>\n",
       "      <th></th>\n",
       "      <th></th>\n",
       "      <th></th>\n",
       "      <th></th>\n",
       "      <th></th>\n",
       "      <th></th>\n",
       "      <th></th>\n",
       "      <th></th>\n",
       "      <th></th>\n",
       "      <th></th>\n",
       "      <th></th>\n",
       "      <th></th>\n",
       "      <th></th>\n",
       "      <th></th>\n",
       "      <th></th>\n",
       "      <th></th>\n",
       "    </tr>\n",
       "  </thead>\n",
       "  <tbody>\n",
       "    <tr>\n",
       "      <th>--ujyvoQlwVoBgMYtADiLA</th>\n",
       "      <td>1.965961</td>\n",
       "      <td>-0.762370</td>\n",
       "      <td>-0.406660</td>\n",
       "      <td>-0.152930</td>\n",
       "      <td>0.060348</td>\n",
       "      <td>0.173053</td>\n",
       "      <td>-0.142139</td>\n",
       "      <td>-0.222134</td>\n",
       "      <td>-0.254836</td>\n",
       "      <td>0.779986</td>\n",
       "      <td>...</td>\n",
       "      <td>-0.003971</td>\n",
       "      <td>0.011548</td>\n",
       "      <td>-0.005096</td>\n",
       "      <td>-0.009391</td>\n",
       "      <td>-0.014314</td>\n",
       "      <td>-0.017461</td>\n",
       "      <td>0.033660</td>\n",
       "      <td>-0.018718</td>\n",
       "      <td>-0.010219</td>\n",
       "      <td>0.003805</td>\n",
       "    </tr>\n",
       "    <tr>\n",
       "      <th>-1xCh7Cocn6IwFzhELyohA</th>\n",
       "      <td>1.187046</td>\n",
       "      <td>-0.238001</td>\n",
       "      <td>-0.820554</td>\n",
       "      <td>0.088202</td>\n",
       "      <td>0.466171</td>\n",
       "      <td>-0.339414</td>\n",
       "      <td>0.039972</td>\n",
       "      <td>-0.268311</td>\n",
       "      <td>0.036976</td>\n",
       "      <td>0.206708</td>\n",
       "      <td>...</td>\n",
       "      <td>-0.004723</td>\n",
       "      <td>-0.004974</td>\n",
       "      <td>0.008918</td>\n",
       "      <td>-0.014448</td>\n",
       "      <td>-0.023058</td>\n",
       "      <td>-0.026966</td>\n",
       "      <td>-0.020443</td>\n",
       "      <td>-0.022162</td>\n",
       "      <td>-0.020728</td>\n",
       "      <td>-0.015912</td>\n",
       "    </tr>\n",
       "    <tr>\n",
       "      <th>-7H-oXvCxJzuT42ky6Db0g</th>\n",
       "      <td>1.552564</td>\n",
       "      <td>-1.000806</td>\n",
       "      <td>0.478494</td>\n",
       "      <td>0.875922</td>\n",
       "      <td>-0.095192</td>\n",
       "      <td>0.305422</td>\n",
       "      <td>-0.127449</td>\n",
       "      <td>0.024367</td>\n",
       "      <td>-0.379793</td>\n",
       "      <td>0.501997</td>\n",
       "      <td>...</td>\n",
       "      <td>0.019953</td>\n",
       "      <td>-0.018954</td>\n",
       "      <td>0.012179</td>\n",
       "      <td>0.000152</td>\n",
       "      <td>0.014586</td>\n",
       "      <td>0.014335</td>\n",
       "      <td>0.003982</td>\n",
       "      <td>0.015021</td>\n",
       "      <td>0.008060</td>\n",
       "      <td>-0.014756</td>\n",
       "    </tr>\n",
       "    <tr>\n",
       "      <th>-7PX_FOoCwktlunImRyZdg</th>\n",
       "      <td>0.912859</td>\n",
       "      <td>1.151146</td>\n",
       "      <td>-0.410586</td>\n",
       "      <td>-0.051039</td>\n",
       "      <td>-0.018777</td>\n",
       "      <td>-0.109057</td>\n",
       "      <td>-0.065190</td>\n",
       "      <td>-0.275680</td>\n",
       "      <td>-0.142594</td>\n",
       "      <td>0.261228</td>\n",
       "      <td>...</td>\n",
       "      <td>-0.043558</td>\n",
       "      <td>0.034023</td>\n",
       "      <td>0.130169</td>\n",
       "      <td>0.156338</td>\n",
       "      <td>-0.182250</td>\n",
       "      <td>-0.049542</td>\n",
       "      <td>-0.134806</td>\n",
       "      <td>0.024520</td>\n",
       "      <td>0.143511</td>\n",
       "      <td>0.059648</td>\n",
       "    </tr>\n",
       "    <tr>\n",
       "      <th>-7teXSpi9nqy58WUd-8yfw</th>\n",
       "      <td>0.745860</td>\n",
       "      <td>-0.335099</td>\n",
       "      <td>1.052080</td>\n",
       "      <td>-0.699081</td>\n",
       "      <td>-0.029562</td>\n",
       "      <td>0.123743</td>\n",
       "      <td>-0.143149</td>\n",
       "      <td>0.053297</td>\n",
       "      <td>-0.685675</td>\n",
       "      <td>0.415664</td>\n",
       "      <td>...</td>\n",
       "      <td>0.036836</td>\n",
       "      <td>0.029547</td>\n",
       "      <td>0.026260</td>\n",
       "      <td>-0.018182</td>\n",
       "      <td>-0.007570</td>\n",
       "      <td>0.008862</td>\n",
       "      <td>0.059905</td>\n",
       "      <td>0.017852</td>\n",
       "      <td>-0.018959</td>\n",
       "      <td>-0.020043</td>\n",
       "    </tr>\n",
       "  </tbody>\n",
       "</table>\n",
       "<p>5 rows × 150 columns</p>\n",
       "</div>"
      ],
      "text/plain": [
       "                             0         1         2         3         4    \\\n",
       "business_id                                                                \n",
       "--ujyvoQlwVoBgMYtADiLA  1.965961 -0.762370 -0.406660 -0.152930  0.060348   \n",
       "-1xCh7Cocn6IwFzhELyohA  1.187046 -0.238001 -0.820554  0.088202  0.466171   \n",
       "-7H-oXvCxJzuT42ky6Db0g  1.552564 -1.000806  0.478494  0.875922 -0.095192   \n",
       "-7PX_FOoCwktlunImRyZdg  0.912859  1.151146 -0.410586 -0.051039 -0.018777   \n",
       "-7teXSpi9nqy58WUd-8yfw  0.745860 -0.335099  1.052080 -0.699081 -0.029562   \n",
       "\n",
       "                             5         6         7         8         9    \\\n",
       "business_id                                                                \n",
       "--ujyvoQlwVoBgMYtADiLA  0.173053 -0.142139 -0.222134 -0.254836  0.779986   \n",
       "-1xCh7Cocn6IwFzhELyohA -0.339414  0.039972 -0.268311  0.036976  0.206708   \n",
       "-7H-oXvCxJzuT42ky6Db0g  0.305422 -0.127449  0.024367 -0.379793  0.501997   \n",
       "-7PX_FOoCwktlunImRyZdg -0.109057 -0.065190 -0.275680 -0.142594  0.261228   \n",
       "-7teXSpi9nqy58WUd-8yfw  0.123743 -0.143149  0.053297 -0.685675  0.415664   \n",
       "\n",
       "                          ...          140       141       142       143  \\\n",
       "business_id               ...                                              \n",
       "--ujyvoQlwVoBgMYtADiLA    ...    -0.003971  0.011548 -0.005096 -0.009391   \n",
       "-1xCh7Cocn6IwFzhELyohA    ...    -0.004723 -0.004974  0.008918 -0.014448   \n",
       "-7H-oXvCxJzuT42ky6Db0g    ...     0.019953 -0.018954  0.012179  0.000152   \n",
       "-7PX_FOoCwktlunImRyZdg    ...    -0.043558  0.034023  0.130169  0.156338   \n",
       "-7teXSpi9nqy58WUd-8yfw    ...     0.036836  0.029547  0.026260 -0.018182   \n",
       "\n",
       "                             144       145       146       147       148  \\\n",
       "business_id                                                                \n",
       "--ujyvoQlwVoBgMYtADiLA -0.014314 -0.017461  0.033660 -0.018718 -0.010219   \n",
       "-1xCh7Cocn6IwFzhELyohA -0.023058 -0.026966 -0.020443 -0.022162 -0.020728   \n",
       "-7H-oXvCxJzuT42ky6Db0g  0.014586  0.014335  0.003982  0.015021  0.008060   \n",
       "-7PX_FOoCwktlunImRyZdg -0.182250 -0.049542 -0.134806  0.024520  0.143511   \n",
       "-7teXSpi9nqy58WUd-8yfw -0.007570  0.008862  0.059905  0.017852 -0.018959   \n",
       "\n",
       "                             149  \n",
       "business_id                       \n",
       "--ujyvoQlwVoBgMYtADiLA  0.003805  \n",
       "-1xCh7Cocn6IwFzhELyohA -0.015912  \n",
       "-7H-oXvCxJzuT42ky6Db0g -0.014756  \n",
       "-7PX_FOoCwktlunImRyZdg  0.059648  \n",
       "-7teXSpi9nqy58WUd-8yfw -0.020043  \n",
       "\n",
       "[5 rows x 150 columns]"
      ]
     },
     "execution_count": 33,
     "metadata": {},
     "output_type": "execute_result"
    }
   ],
   "source": [
    "# use svd to reduce dimension\n",
    "from sklearn.decomposition import TruncatedSVD\n",
    "svd = TruncatedSVD(n_components=150,\n",
    "                   random_state=42)\n",
    "\n",
    "svd.fit(categories_mat)\n",
    "categories_svd = svd.transform(categories_mat)\n",
    "df_categories_svd = pd.DataFrame(categories_svd,\n",
    "                                 index=categories_series.index)\n",
    "\n",
    "print(svd.explained_variance_ratio_.sum()) # total variance explained\n",
    "df_categories_svd.head()"
   ]
  },
  {
   "cell_type": "code",
   "execution_count": 34,
   "metadata": {
    "collapsed": false
   },
   "outputs": [
    {
     "name": "stdout",
     "output_type": "stream",
     "text": [
      "df_average :  (1769, 6)\n",
      "df_categories :  (1769, 524)\n",
      "df_categories_svd :  (1769, 150)\n"
     ]
    }
   ],
   "source": [
    "# display feature matrix dimension\n",
    "\n",
    "print 'df_average : ', df_average.shape\n",
    "print 'df_categories : ', df_categories.shape\n",
    "print 'df_categories_svd : ', df_categories_svd.shape"
   ]
  },
  {
   "cell_type": "code",
   "execution_count": 35,
   "metadata": {
    "collapsed": true
   },
   "outputs": [],
   "source": [
    "# join two to generate feature data for each business_id\n",
    "\n",
    "df_business = df_average.join(df_categories_svd)"
   ]
  },
  {
   "cell_type": "code",
   "execution_count": 37,
   "metadata": {
    "collapsed": false
   },
   "outputs": [
    {
     "name": "stdout",
     "output_type": "stream",
     "text": [
      "(1769, 156)\n"
     ]
    },
    {
     "data": {
      "text/html": [
       "<div>\n",
       "<table border=\"1\" class=\"dataframe\">\n",
       "  <thead>\n",
       "    <tr style=\"text-align: right;\">\n",
       "      <th></th>\n",
       "      <th>Unnamed: 0</th>\n",
       "      <th>avg_stars</th>\n",
       "      <th>cool</th>\n",
       "      <th>funny</th>\n",
       "      <th>stars</th>\n",
       "      <th>useful</th>\n",
       "      <th>0</th>\n",
       "      <th>1</th>\n",
       "      <th>2</th>\n",
       "      <th>3</th>\n",
       "      <th>...</th>\n",
       "      <th>140</th>\n",
       "      <th>141</th>\n",
       "      <th>142</th>\n",
       "      <th>143</th>\n",
       "      <th>144</th>\n",
       "      <th>145</th>\n",
       "      <th>146</th>\n",
       "      <th>147</th>\n",
       "      <th>148</th>\n",
       "      <th>149</th>\n",
       "    </tr>\n",
       "    <tr>\n",
       "      <th>business_id</th>\n",
       "      <th></th>\n",
       "      <th></th>\n",
       "      <th></th>\n",
       "      <th></th>\n",
       "      <th></th>\n",
       "      <th></th>\n",
       "      <th></th>\n",
       "      <th></th>\n",
       "      <th></th>\n",
       "      <th></th>\n",
       "      <th></th>\n",
       "      <th></th>\n",
       "      <th></th>\n",
       "      <th></th>\n",
       "      <th></th>\n",
       "      <th></th>\n",
       "      <th></th>\n",
       "      <th></th>\n",
       "      <th></th>\n",
       "      <th></th>\n",
       "      <th></th>\n",
       "    </tr>\n",
       "  </thead>\n",
       "  <tbody>\n",
       "    <tr>\n",
       "      <th>--ujyvoQlwVoBgMYtADiLA</th>\n",
       "      <td>36.894737</td>\n",
       "      <td>3.5</td>\n",
       "      <td>0.157895</td>\n",
       "      <td>0.157895</td>\n",
       "      <td>3.421053</td>\n",
       "      <td>0.578947</td>\n",
       "      <td>1.965961</td>\n",
       "      <td>-0.762370</td>\n",
       "      <td>-0.406660</td>\n",
       "      <td>-0.152930</td>\n",
       "      <td>...</td>\n",
       "      <td>-0.003971</td>\n",
       "      <td>0.011548</td>\n",
       "      <td>-0.005096</td>\n",
       "      <td>-0.009391</td>\n",
       "      <td>-0.014314</td>\n",
       "      <td>-0.017461</td>\n",
       "      <td>0.033660</td>\n",
       "      <td>-0.018718</td>\n",
       "      <td>-0.010219</td>\n",
       "      <td>0.003805</td>\n",
       "    </tr>\n",
       "    <tr>\n",
       "      <th>-1xCh7Cocn6IwFzhELyohA</th>\n",
       "      <td>88.166667</td>\n",
       "      <td>2.5</td>\n",
       "      <td>0.166667</td>\n",
       "      <td>0.166667</td>\n",
       "      <td>3.666667</td>\n",
       "      <td>0.333333</td>\n",
       "      <td>1.187046</td>\n",
       "      <td>-0.238001</td>\n",
       "      <td>-0.820554</td>\n",
       "      <td>0.088202</td>\n",
       "      <td>...</td>\n",
       "      <td>-0.004723</td>\n",
       "      <td>-0.004974</td>\n",
       "      <td>0.008918</td>\n",
       "      <td>-0.014448</td>\n",
       "      <td>-0.023058</td>\n",
       "      <td>-0.026966</td>\n",
       "      <td>-0.020443</td>\n",
       "      <td>-0.022162</td>\n",
       "      <td>-0.020728</td>\n",
       "      <td>-0.015912</td>\n",
       "    </tr>\n",
       "    <tr>\n",
       "      <th>-7H-oXvCxJzuT42ky6Db0g</th>\n",
       "      <td>388.412214</td>\n",
       "      <td>3.5</td>\n",
       "      <td>0.282443</td>\n",
       "      <td>0.160305</td>\n",
       "      <td>3.480916</td>\n",
       "      <td>0.694656</td>\n",
       "      <td>1.552564</td>\n",
       "      <td>-1.000806</td>\n",
       "      <td>0.478494</td>\n",
       "      <td>0.875922</td>\n",
       "      <td>...</td>\n",
       "      <td>0.019953</td>\n",
       "      <td>-0.018954</td>\n",
       "      <td>0.012179</td>\n",
       "      <td>0.000152</td>\n",
       "      <td>0.014586</td>\n",
       "      <td>0.014335</td>\n",
       "      <td>0.003982</td>\n",
       "      <td>0.015021</td>\n",
       "      <td>0.008060</td>\n",
       "      <td>-0.014756</td>\n",
       "    </tr>\n",
       "    <tr>\n",
       "      <th>-7PX_FOoCwktlunImRyZdg</th>\n",
       "      <td>704.480769</td>\n",
       "      <td>4.5</td>\n",
       "      <td>0.461538</td>\n",
       "      <td>0.038462</td>\n",
       "      <td>4.615385</td>\n",
       "      <td>0.711538</td>\n",
       "      <td>0.912859</td>\n",
       "      <td>1.151146</td>\n",
       "      <td>-0.410586</td>\n",
       "      <td>-0.051039</td>\n",
       "      <td>...</td>\n",
       "      <td>-0.043558</td>\n",
       "      <td>0.034023</td>\n",
       "      <td>0.130169</td>\n",
       "      <td>0.156338</td>\n",
       "      <td>-0.182250</td>\n",
       "      <td>-0.049542</td>\n",
       "      <td>-0.134806</td>\n",
       "      <td>0.024520</td>\n",
       "      <td>0.143511</td>\n",
       "      <td>0.059648</td>\n",
       "    </tr>\n",
       "    <tr>\n",
       "      <th>-7teXSpi9nqy58WUd-8yfw</th>\n",
       "      <td>774.000000</td>\n",
       "      <td>4.5</td>\n",
       "      <td>0.000000</td>\n",
       "      <td>0.000000</td>\n",
       "      <td>5.000000</td>\n",
       "      <td>2.000000</td>\n",
       "      <td>0.745860</td>\n",
       "      <td>-0.335099</td>\n",
       "      <td>1.052080</td>\n",
       "      <td>-0.699081</td>\n",
       "      <td>...</td>\n",
       "      <td>0.036836</td>\n",
       "      <td>0.029547</td>\n",
       "      <td>0.026260</td>\n",
       "      <td>-0.018182</td>\n",
       "      <td>-0.007570</td>\n",
       "      <td>0.008862</td>\n",
       "      <td>0.059905</td>\n",
       "      <td>0.017852</td>\n",
       "      <td>-0.018959</td>\n",
       "      <td>-0.020043</td>\n",
       "    </tr>\n",
       "  </tbody>\n",
       "</table>\n",
       "<p>5 rows × 156 columns</p>\n",
       "</div>"
      ],
      "text/plain": [
       "                        Unnamed: 0  avg_stars      cool     funny     stars  \\\n",
       "business_id                                                                   \n",
       "--ujyvoQlwVoBgMYtADiLA   36.894737        3.5  0.157895  0.157895  3.421053   \n",
       "-1xCh7Cocn6IwFzhELyohA   88.166667        2.5  0.166667  0.166667  3.666667   \n",
       "-7H-oXvCxJzuT42ky6Db0g  388.412214        3.5  0.282443  0.160305  3.480916   \n",
       "-7PX_FOoCwktlunImRyZdg  704.480769        4.5  0.461538  0.038462  4.615385   \n",
       "-7teXSpi9nqy58WUd-8yfw  774.000000        4.5  0.000000  0.000000  5.000000   \n",
       "\n",
       "                          useful         0         1         2         3  \\\n",
       "business_id                                                                \n",
       "--ujyvoQlwVoBgMYtADiLA  0.578947  1.965961 -0.762370 -0.406660 -0.152930   \n",
       "-1xCh7Cocn6IwFzhELyohA  0.333333  1.187046 -0.238001 -0.820554  0.088202   \n",
       "-7H-oXvCxJzuT42ky6Db0g  0.694656  1.552564 -1.000806  0.478494  0.875922   \n",
       "-7PX_FOoCwktlunImRyZdg  0.711538  0.912859  1.151146 -0.410586 -0.051039   \n",
       "-7teXSpi9nqy58WUd-8yfw  2.000000  0.745860 -0.335099  1.052080 -0.699081   \n",
       "\n",
       "                          ...          140       141       142       143  \\\n",
       "business_id               ...                                              \n",
       "--ujyvoQlwVoBgMYtADiLA    ...    -0.003971  0.011548 -0.005096 -0.009391   \n",
       "-1xCh7Cocn6IwFzhELyohA    ...    -0.004723 -0.004974  0.008918 -0.014448   \n",
       "-7H-oXvCxJzuT42ky6Db0g    ...     0.019953 -0.018954  0.012179  0.000152   \n",
       "-7PX_FOoCwktlunImRyZdg    ...    -0.043558  0.034023  0.130169  0.156338   \n",
       "-7teXSpi9nqy58WUd-8yfw    ...     0.036836  0.029547  0.026260 -0.018182   \n",
       "\n",
       "                             144       145       146       147       148  \\\n",
       "business_id                                                                \n",
       "--ujyvoQlwVoBgMYtADiLA -0.014314 -0.017461  0.033660 -0.018718 -0.010219   \n",
       "-1xCh7Cocn6IwFzhELyohA -0.023058 -0.026966 -0.020443 -0.022162 -0.020728   \n",
       "-7H-oXvCxJzuT42ky6Db0g  0.014586  0.014335  0.003982  0.015021  0.008060   \n",
       "-7PX_FOoCwktlunImRyZdg -0.182250 -0.049542 -0.134806  0.024520  0.143511   \n",
       "-7teXSpi9nqy58WUd-8yfw -0.007570  0.008862  0.059905  0.017852 -0.018959   \n",
       "\n",
       "                             149  \n",
       "business_id                       \n",
       "--ujyvoQlwVoBgMYtADiLA  0.003805  \n",
       "-1xCh7Cocn6IwFzhELyohA -0.015912  \n",
       "-7H-oXvCxJzuT42ky6Db0g -0.014756  \n",
       "-7PX_FOoCwktlunImRyZdg  0.059648  \n",
       "-7teXSpi9nqy58WUd-8yfw -0.020043  \n",
       "\n",
       "[5 rows x 156 columns]"
      ]
     },
     "execution_count": 37,
     "metadata": {},
     "output_type": "execute_result"
    }
   ],
   "source": [
    "print df_business.shape\n",
    "df_business.head()"
   ]
  },
  {
   "cell_type": "code",
   "execution_count": 38,
   "metadata": {
    "collapsed": true
   },
   "outputs": [],
   "source": [
    "# prepare data\n",
    "\n",
    "item_data = graphlab.SFrame(df_business.reset_index())"
   ]
  },
  {
   "cell_type": "code",
   "execution_count": 39,
   "metadata": {
    "collapsed": false
   },
   "outputs": [
    {
     "name": "stdout",
     "output_type": "stream",
     "text": [
      "WARNING: The ItemContentRecommender model is still in beta.\n",
      "WARNING: This feature transformer is still in beta, and some interpretation rules may change in the future.\n",
      "('Applying transform:\\n', Class             : AutoVectorizer\n",
      "\n",
      "Model Fields\n",
      "------------\n",
      "Features          : ['Unnamed: 0', 'avg_stars', 'cool', 'funny', 'stars', 'useful', '0', '1', '2', '3', '4', '5', '6', '7', '8', '9', '10', '11', '12', '13', '14', '15', '16', '17', '18', '19', '20', '21', '22', '23', '24', '25', '26', '27', '28', '29', '30', '31', '32', '33', '34', '35', '36', '37', '38', '39', '40', '41', '42', '43', '44', '45', '46', '47', '48', '49', '50', '51', '52', '53', '54', '55', '56', '57', '58', '59', '60', '61', '62', '63', '64', '65', '66', '67', '68', '69', '70', '71', '72', '73', '74', '75', '76', '77', '78', '79', '80', '81', '82', '83', '84', '85', '86', '87', '88', '89', '90', '91', '92', '93', '94', '95', '96', '97', '98', '99', '100', '101', '102', '103', '104', '105', '106', '107', '108', '109', '110', '111', '112', '113', '114', '115', '116', '117', '118', '119', '120', '121', '122', '123', '124', '125', '126', '127', '128', '129', '130', '131', '132', '133', '134', '135', '136', '137', '138', '139', '140', '141', '142', '143', '144', '145', '146', '147', '148', '149']\n",
      "Excluded Features : ['business_id']\n",
      "\n",
      "Column      Type   Interpretation  Transforms  Output Type\n",
      "----------  -----  --------------  ----------  -----------\n",
      "Unnamed: 0  float  numerical       None        float      \n",
      "avg_stars   float  numerical       None        float      \n",
      "cool        float  numerical       None        float      \n",
      "funny       float  numerical       None        float      \n",
      "stars       float  numerical       None        float      \n",
      "useful      float  numerical       None        float      \n",
      "0           float  numerical       None        float      \n",
      "1           float  numerical       None        float      \n",
      "2           float  numerical       None        float      \n",
      "3           float  numerical       None        float      \n",
      "4           float  numerical       None        float      \n",
      "5           float  numerical       None        float      \n",
      "6           float  numerical       None        float      \n",
      "7           float  numerical       None        float      \n",
      "8           float  numerical       None        float      \n",
      "9           float  numerical       None        float      \n",
      "10          float  numerical       None        float      \n",
      "11          float  numerical       None        float      \n",
      "12          float  numerical       None        float      \n",
      "13          float  numerical       None        float      \n",
      "14          float  numerical       None        float      \n",
      "15          float  numerical       None        float      \n",
      "16          float  numerical       None        float      \n",
      "17          float  numerical       None        float      \n",
      "18          float  numerical       None        float      \n",
      "19          float  numerical       None        float      \n",
      "20          float  numerical       None        float      \n",
      "21          float  numerical       None        float      \n",
      "22          float  numerical       None        float      \n",
      "23          float  numerical       None        float      \n",
      "24          float  numerical       None        float      \n",
      "25          float  numerical       None        float      \n",
      "26          float  numerical       None        float      \n",
      "27          float  numerical       None        float      \n",
      "28          float  numerical       None        float      \n",
      "29          float  numerical       None        float      \n",
      "30          float  numerical       None        float      \n",
      "31          float  numerical       None        float      \n",
      "32          float  numerical       None        float      \n",
      "33          float  numerical       None        float      \n",
      "34          float  numerical       None        float      \n",
      "35          float  numerical       None        float      \n",
      "36          float  numerical       None        float      \n",
      "37          float  numerical       None        float      \n",
      "38          float  numerical       None        float      \n",
      "39          float  numerical       None        float      \n",
      "40          float  numerical       None        float      \n",
      "41          float  numerical       None        float      \n",
      "42          float  numerical       None        float      \n",
      "43          float  numerical       None        float      \n",
      "44          float  numerical       None        float      \n",
      "45          float  numerical       None        float      \n",
      "46          float  numerical       None        float      \n",
      "47          float  numerical       None        float      \n",
      "48          float  numerical       None        float      \n",
      "49          float  numerical       None        float      \n",
      "50          float  numerical       None        float      \n",
      "51          float  numerical       None        float      \n",
      "52          float  numerical       None        float      \n",
      "53          float  numerical       None        float      \n",
      "54          float  numerical       None        float      \n",
      "55          float  numerical       None        float      \n",
      "56          float  numerical       None        float      \n",
      "57          float  numerical       None        float      \n",
      "58          float  numerical       None        float      \n",
      "59          float  numerical       None        float      \n",
      "60          float  numerical       None        float      \n",
      "61          float  numerical       None        float      \n",
      "62          float  numerical       None        float      \n",
      "63          float  numerical       None        float      \n",
      "64          float  numerical       None        float      \n",
      "65          float  numerical       None        float      \n",
      "66          float  numerical       None        float      \n",
      "67          float  numerical       None        float      \n",
      "68          float  numerical       None        float      \n",
      "69          float  numerical       None        float      \n",
      "70          float  numerical       None        float      \n",
      "71          float  numerical       None        float      \n",
      "72          float  numerical       None        float      \n",
      "73          float  numerical       None        float      \n",
      "74          float  numerical       None        float      \n",
      "75          float  numerical       None        float      \n",
      "76          float  numerical       None        float      \n",
      "77          float  numerical       None        float      \n",
      "78          float  numerical       None        float      \n",
      "79          float  numerical       None        float      \n",
      "80          float  numerical       None        float      \n",
      "81          float  numerical       None        float      \n",
      "82          float  numerical       None        float      \n",
      "83          float  numerical       None        float      \n",
      "84          float  numerical       None        float      \n",
      "85          float  numerical       None        float      \n",
      "86          float  numerical       None        float      \n",
      "87          float  numerical       None        float      \n",
      "88          float  numerical       None        float      \n",
      "89          float  numerical       None        float      \n",
      "90          float  numerical       None        float      \n",
      "91          float  numerical       None        float      \n",
      "92          float  numerical       None        float      \n",
      "93          float  numerical       None        float      \n",
      "94          float  numerical       None        float      \n",
      "95          float  numerical       None        float      \n",
      "96          float  numerical       None        float      \n",
      "97          float  numerical       None        float      \n",
      "98          float  numerical       None        float      \n",
      "99          float  numerical       None        float      \n",
      "100         float  numerical       None        float      \n",
      "101         float  numerical       None        float      \n",
      "102         float  numerical       None        float      \n",
      "103         float  numerical       None        float      \n",
      "104         float  numerical       None        float      \n",
      "105         float  numerical       None        float      \n",
      "106         float  numerical       None        float      \n",
      "107         float  numerical       None        float      \n",
      "108         float  numerical       None        float      \n",
      "109         float  numerical       None        float      \n",
      "110         float  numerical       None        float      \n",
      "111         float  numerical       None        float      \n",
      "112         float  numerical       None        float      \n",
      "113         float  numerical       None        float      \n",
      "114         float  numerical       None        float      \n",
      "115         float  numerical       None        float      \n",
      "116         float  numerical       None        float      \n",
      "117         float  numerical       None        float      \n",
      "118         float  numerical       None        float      \n",
      "119         float  numerical       None        float      \n",
      "120         float  numerical       None        float      \n",
      "121         float  numerical       None        float      \n",
      "122         float  numerical       None        float      \n",
      "123         float  numerical       None        float      \n",
      "124         float  numerical       None        float      \n",
      "125         float  numerical       None        float      \n",
      "126         float  numerical       None        float      \n",
      "127         float  numerical       None        float      \n",
      "128         float  numerical       None        float      \n",
      "129         float  numerical       None        float      \n",
      "130         float  numerical       None        float      \n",
      "131         float  numerical       None        float      \n",
      "132         float  numerical       None        float      \n",
      "133         float  numerical       None        float      \n",
      "134         float  numerical       None        float      \n",
      "135         float  numerical       None        float      \n",
      "136         float  numerical       None        float      \n",
      "137         float  numerical       None        float      \n",
      "138         float  numerical       None        float      \n",
      "139         float  numerical       None        float      \n",
      "140         float  numerical       None        float      \n",
      "141         float  numerical       None        float      \n",
      "142         float  numerical       None        float      \n",
      "143         float  numerical       None        float      \n",
      "144         float  numerical       None        float      \n",
      "145         float  numerical       None        float      \n",
      "146         float  numerical       None        float      \n",
      "147         float  numerical       None        float      \n",
      "148         float  numerical       None        float      \n",
      "149         float  numerical       None        float      \n",
      "\n",
      ")\n"
     ]
    },
    {
     "data": {
      "text/html": [
       "<pre>Recsys training: model = item_content_recommender</pre>"
      ],
      "text/plain": [
       "Recsys training: model = item_content_recommender"
      ]
     },
     "metadata": {},
     "output_type": "display_data"
    },
    {
     "name": "stdout",
     "output_type": "stream",
     "text": [
      "Defaulting to brute force instead of ball tree because there are multiple distance components.\n"
     ]
    },
    {
     "data": {
      "text/html": [
       "<pre>Starting brute force nearest neighbors model training.</pre>"
      ],
      "text/plain": [
       "Starting brute force nearest neighbors model training."
      ]
     },
     "metadata": {},
     "output_type": "display_data"
    },
    {
     "data": {
      "text/html": [
       "<pre>Starting pairwise querying.</pre>"
      ],
      "text/plain": [
       "Starting pairwise querying."
      ]
     },
     "metadata": {},
     "output_type": "display_data"
    },
    {
     "data": {
      "text/html": [
       "<pre>+--------------+---------+-------------+--------------+</pre>"
      ],
      "text/plain": [
       "+--------------+---------+-------------+--------------+"
      ]
     },
     "metadata": {},
     "output_type": "display_data"
    },
    {
     "data": {
      "text/html": [
       "<pre>| Query points | # Pairs | % Complete. | Elapsed Time |</pre>"
      ],
      "text/plain": [
       "| Query points | # Pairs | % Complete. | Elapsed Time |"
      ]
     },
     "metadata": {},
     "output_type": "display_data"
    },
    {
     "data": {
      "text/html": [
       "<pre>+--------------+---------+-------------+--------------+</pre>"
      ],
      "text/plain": [
       "+--------------+---------+-------------+--------------+"
      ]
     },
     "metadata": {},
     "output_type": "display_data"
    },
    {
     "data": {
      "text/html": [
       "<pre>| 1            | 1769    | 0.0565291   | 62.072ms     |</pre>"
      ],
      "text/plain": [
       "| 1            | 1769    | 0.0565291   | 62.072ms     |"
      ]
     },
     "metadata": {},
     "output_type": "display_data"
    },
    {
     "data": {
      "text/html": [
       "<pre>| 253          | 447557  | 14.3019     | 1.06s        |</pre>"
      ],
      "text/plain": [
       "| 253          | 447557  | 14.3019     | 1.06s        |"
      ]
     },
     "metadata": {},
     "output_type": "display_data"
    },
    {
     "data": {
      "text/html": [
       "<pre>| 506          | 895114  | 28.6037     | 2.07s        |</pre>"
      ],
      "text/plain": [
       "| 506          | 895114  | 28.6037     | 2.07s        |"
      ]
     },
     "metadata": {},
     "output_type": "display_data"
    },
    {
     "data": {
      "text/html": [
       "<pre>| 706          | 1248914 | 39.9096     | 3.07s        |</pre>"
      ],
      "text/plain": [
       "| 706          | 1248914 | 39.9096     | 3.07s        |"
      ]
     },
     "metadata": {},
     "output_type": "display_data"
    },
    {
     "data": {
      "text/html": [
       "<pre>| 967          | 1710623 | 54.6637     | 4.07s        |</pre>"
      ],
      "text/plain": [
       "| 967          | 1710623 | 54.6637     | 4.07s        |"
      ]
     },
     "metadata": {},
     "output_type": "display_data"
    },
    {
     "data": {
      "text/html": [
       "<pre>| 1218         | 2154642 | 68.8525     | 5.07s        |</pre>"
      ],
      "text/plain": [
       "| 1218         | 2154642 | 68.8525     | 5.07s        |"
      ]
     },
     "metadata": {},
     "output_type": "display_data"
    },
    {
     "data": {
      "text/html": [
       "<pre>| 1513         | 2676497 | 85.5285     | 6.07s        |</pre>"
      ],
      "text/plain": [
       "| 1513         | 2676497 | 85.5285     | 6.07s        |"
      ]
     },
     "metadata": {},
     "output_type": "display_data"
    },
    {
     "data": {
      "text/html": [
       "<pre>| Done         |         | 100         | 6.98s        |</pre>"
      ],
      "text/plain": [
       "| Done         |         | 100         | 6.98s        |"
      ]
     },
     "metadata": {},
     "output_type": "display_data"
    },
    {
     "data": {
      "text/html": [
       "<pre>+--------------+---------+-------------+--------------+</pre>"
      ],
      "text/plain": [
       "+--------------+---------+-------------+--------------+"
      ]
     },
     "metadata": {},
     "output_type": "display_data"
    },
    {
     "data": {
      "text/html": [
       "<pre>Preparing data set.</pre>"
      ],
      "text/plain": [
       "Preparing data set."
      ]
     },
     "metadata": {},
     "output_type": "display_data"
    },
    {
     "data": {
      "text/html": [
       "<pre>    Data has 0 observations with 0 users and 1769 items.</pre>"
      ],
      "text/plain": [
       "    Data has 0 observations with 0 users and 1769 items."
      ]
     },
     "metadata": {},
     "output_type": "display_data"
    },
    {
     "data": {
      "text/html": [
       "<pre>    Data prepared in: 0.556124s</pre>"
      ],
      "text/plain": [
       "    Data prepared in: 0.556124s"
      ]
     },
     "metadata": {},
     "output_type": "display_data"
    },
    {
     "data": {
      "text/html": [
       "<pre>Loading user-provided nearest items.</pre>"
      ],
      "text/plain": [
       "Loading user-provided nearest items."
      ]
     },
     "metadata": {},
     "output_type": "display_data"
    },
    {
     "data": {
      "text/html": [
       "<pre>Generating candidate set for working with new users.</pre>"
      ],
      "text/plain": [
       "Generating candidate set for working with new users."
      ]
     },
     "metadata": {},
     "output_type": "display_data"
    },
    {
     "data": {
      "text/html": [
       "<pre>Finished training in 0.017742s</pre>"
      ],
      "text/plain": [
       "Finished training in 0.017742s"
      ]
     },
     "metadata": {},
     "output_type": "display_data"
    }
   ],
   "source": [
    "# build content based recommender\n",
    "\n",
    "content_rec = graphlab.recommender.item_content_recommender.create(item_data, \"business_id\")"
   ]
  },
  {
   "cell_type": "code",
   "execution_count": 43,
   "metadata": {
    "collapsed": false
   },
   "outputs": [
    {
     "data": {
      "text/plain": [
       "['--ujyvoQlwVoBgMYtADiLA']"
      ]
     },
     "execution_count": 43,
     "metadata": {},
     "output_type": "execute_result"
    }
   ],
   "source": [
    "sample_item"
   ]
  },
  {
   "cell_type": "code",
   "execution_count": 42,
   "metadata": {
    "collapsed": false
   },
   "outputs": [
    {
     "data": {
      "text/html": [
       "<div style=\"max-height:1000px;max-width:1500px;overflow:auto;\"><table frame=\"box\" rules=\"cols\">\n",
       "    <tr>\n",
       "        <th style=\"padding-left: 1em; padding-right: 1em; text-align: center\">business_id</th>\n",
       "        <th style=\"padding-left: 1em; padding-right: 1em; text-align: center\">score</th>\n",
       "        <th style=\"padding-left: 1em; padding-right: 1em; text-align: center\">rank</th>\n",
       "    </tr>\n",
       "    <tr>\n",
       "        <td style=\"padding-left: 1em; padding-right: 1em; text-align: center; vertical-align: top\">lKom12WnYEjH5FFemK3M1Q</td>\n",
       "        <td style=\"padding-left: 1em; padding-right: 1em; text-align: center; vertical-align: top\">0.897495567799</td>\n",
       "        <td style=\"padding-left: 1em; padding-right: 1em; text-align: center; vertical-align: top\">1</td>\n",
       "    </tr>\n",
       "    <tr>\n",
       "        <td style=\"padding-left: 1em; padding-right: 1em; text-align: center; vertical-align: top\">ABiwctEu-OZ8YsVc5lnLZQ</td>\n",
       "        <td style=\"padding-left: 1em; padding-right: 1em; text-align: center; vertical-align: top\">0.885692715645</td>\n",
       "        <td style=\"padding-left: 1em; padding-right: 1em; text-align: center; vertical-align: top\">2</td>\n",
       "    </tr>\n",
       "    <tr>\n",
       "        <td style=\"padding-left: 1em; padding-right: 1em; text-align: center; vertical-align: top\">WE7UsbkilPeI8nw9ODnD-g</td>\n",
       "        <td style=\"padding-left: 1em; padding-right: 1em; text-align: center; vertical-align: top\">0.870426177979</td>\n",
       "        <td style=\"padding-left: 1em; padding-right: 1em; text-align: center; vertical-align: top\">3</td>\n",
       "    </tr>\n",
       "    <tr>\n",
       "        <td style=\"padding-left: 1em; padding-right: 1em; text-align: center; vertical-align: top\">ehtDfDwcOBghAKAjgWlg4Q</td>\n",
       "        <td style=\"padding-left: 1em; padding-right: 1em; text-align: center; vertical-align: top\">0.844665825367</td>\n",
       "        <td style=\"padding-left: 1em; padding-right: 1em; text-align: center; vertical-align: top\">4</td>\n",
       "    </tr>\n",
       "    <tr>\n",
       "        <td style=\"padding-left: 1em; padding-right: 1em; text-align: center; vertical-align: top\">TKDL0wiztnEr_rMkX8ZomQ</td>\n",
       "        <td style=\"padding-left: 1em; padding-right: 1em; text-align: center; vertical-align: top\">0.834016263485</td>\n",
       "        <td style=\"padding-left: 1em; padding-right: 1em; text-align: center; vertical-align: top\">5</td>\n",
       "    </tr>\n",
       "    <tr>\n",
       "        <td style=\"padding-left: 1em; padding-right: 1em; text-align: center; vertical-align: top\">JzB7NITHQ7gVHGVZ1ntgIQ</td>\n",
       "        <td style=\"padding-left: 1em; padding-right: 1em; text-align: center; vertical-align: top\">0.830173075199</td>\n",
       "        <td style=\"padding-left: 1em; padding-right: 1em; text-align: center; vertical-align: top\">6</td>\n",
       "    </tr>\n",
       "    <tr>\n",
       "        <td style=\"padding-left: 1em; padding-right: 1em; text-align: center; vertical-align: top\">z1nFepEOkn_Bp5aopscf9w</td>\n",
       "        <td style=\"padding-left: 1em; padding-right: 1em; text-align: center; vertical-align: top\">0.827483713627</td>\n",
       "        <td style=\"padding-left: 1em; padding-right: 1em; text-align: center; vertical-align: top\">7</td>\n",
       "    </tr>\n",
       "    <tr>\n",
       "        <td style=\"padding-left: 1em; padding-right: 1em; text-align: center; vertical-align: top\">FB33W3bwg3ADcIJOcLLz0w</td>\n",
       "        <td style=\"padding-left: 1em; padding-right: 1em; text-align: center; vertical-align: top\">0.82446295023</td>\n",
       "        <td style=\"padding-left: 1em; padding-right: 1em; text-align: center; vertical-align: top\">8</td>\n",
       "    </tr>\n",
       "    <tr>\n",
       "        <td style=\"padding-left: 1em; padding-right: 1em; text-align: center; vertical-align: top\">WXd7r6Yvjxhyo1L6R3lQMA</td>\n",
       "        <td style=\"padding-left: 1em; padding-right: 1em; text-align: center; vertical-align: top\">0.823049008846</td>\n",
       "        <td style=\"padding-left: 1em; padding-right: 1em; text-align: center; vertical-align: top\">9</td>\n",
       "    </tr>\n",
       "    <tr>\n",
       "        <td style=\"padding-left: 1em; padding-right: 1em; text-align: center; vertical-align: top\">HFr3uQI9h8sTTvGn3xk5Zg</td>\n",
       "        <td style=\"padding-left: 1em; padding-right: 1em; text-align: center; vertical-align: top\">0.810444414616</td>\n",
       "        <td style=\"padding-left: 1em; padding-right: 1em; text-align: center; vertical-align: top\">10</td>\n",
       "    </tr>\n",
       "</table>\n",
       "[10 rows x 3 columns]<br/>\n",
       "</div>"
      ],
      "text/plain": [
       "Columns:\n",
       "\tbusiness_id\tstr\n",
       "\tscore\tfloat\n",
       "\trank\tint\n",
       "\n",
       "Rows: 10\n",
       "\n",
       "Data:\n",
       "+------------------------+----------------+------+\n",
       "|      business_id       |     score      | rank |\n",
       "+------------------------+----------------+------+\n",
       "| lKom12WnYEjH5FFemK3M1Q | 0.897495567799 |  1   |\n",
       "| ABiwctEu-OZ8YsVc5lnLZQ | 0.885692715645 |  2   |\n",
       "| WE7UsbkilPeI8nw9ODnD-g | 0.870426177979 |  3   |\n",
       "| ehtDfDwcOBghAKAjgWlg4Q | 0.844665825367 |  4   |\n",
       "| TKDL0wiztnEr_rMkX8ZomQ | 0.834016263485 |  5   |\n",
       "| JzB7NITHQ7gVHGVZ1ntgIQ | 0.830173075199 |  6   |\n",
       "| z1nFepEOkn_Bp5aopscf9w | 0.827483713627 |  7   |\n",
       "| FB33W3bwg3ADcIJOcLLz0w | 0.82446295023  |  8   |\n",
       "| WXd7r6Yvjxhyo1L6R3lQMA | 0.823049008846 |  9   |\n",
       "| HFr3uQI9h8sTTvGn3xk5Zg | 0.810444414616 |  10  |\n",
       "+------------------------+----------------+------+\n",
       "[10 rows x 3 columns]"
      ]
     },
     "execution_count": 42,
     "metadata": {},
     "output_type": "execute_result"
    }
   ],
   "source": [
    "# make recommendation for a single item\n",
    "\n",
    "sample_item = [df_stars.iloc[0].business_id]\n",
    "content_rec.recommend_from_interactions(sample_item) # recommendation from single item"
   ]
  },
  {
   "cell_type": "code",
   "execution_count": 44,
   "metadata": {
    "collapsed": false
   },
   "outputs": [
    {
     "data": {
      "text/html": [
       "<div>\n",
       "<table border=\"1\" class=\"dataframe\">\n",
       "  <thead>\n",
       "    <tr style=\"text-align: right;\">\n",
       "      <th></th>\n",
       "      <th>business_id</th>\n",
       "      <th>similar</th>\n",
       "      <th>score</th>\n",
       "      <th>rank</th>\n",
       "    </tr>\n",
       "  </thead>\n",
       "  <tbody>\n",
       "    <tr>\n",
       "      <th>0</th>\n",
       "      <td>--ujyvoQlwVoBgMYtADiLA</td>\n",
       "      <td>lKom12WnYEjH5FFemK3M1Q</td>\n",
       "      <td>0.897496</td>\n",
       "      <td>1</td>\n",
       "    </tr>\n",
       "    <tr>\n",
       "      <th>1</th>\n",
       "      <td>--ujyvoQlwVoBgMYtADiLA</td>\n",
       "      <td>ABiwctEu-OZ8YsVc5lnLZQ</td>\n",
       "      <td>0.885693</td>\n",
       "      <td>2</td>\n",
       "    </tr>\n",
       "    <tr>\n",
       "      <th>2</th>\n",
       "      <td>--ujyvoQlwVoBgMYtADiLA</td>\n",
       "      <td>WE7UsbkilPeI8nw9ODnD-g</td>\n",
       "      <td>0.870426</td>\n",
       "      <td>3</td>\n",
       "    </tr>\n",
       "    <tr>\n",
       "      <th>3</th>\n",
       "      <td>--ujyvoQlwVoBgMYtADiLA</td>\n",
       "      <td>ehtDfDwcOBghAKAjgWlg4Q</td>\n",
       "      <td>0.844666</td>\n",
       "      <td>4</td>\n",
       "    </tr>\n",
       "    <tr>\n",
       "      <th>4</th>\n",
       "      <td>--ujyvoQlwVoBgMYtADiLA</td>\n",
       "      <td>TKDL0wiztnEr_rMkX8ZomQ</td>\n",
       "      <td>0.834016</td>\n",
       "      <td>5</td>\n",
       "    </tr>\n",
       "    <tr>\n",
       "      <th>5</th>\n",
       "      <td>--ujyvoQlwVoBgMYtADiLA</td>\n",
       "      <td>JzB7NITHQ7gVHGVZ1ntgIQ</td>\n",
       "      <td>0.830173</td>\n",
       "      <td>6</td>\n",
       "    </tr>\n",
       "    <tr>\n",
       "      <th>6</th>\n",
       "      <td>--ujyvoQlwVoBgMYtADiLA</td>\n",
       "      <td>z1nFepEOkn_Bp5aopscf9w</td>\n",
       "      <td>0.827484</td>\n",
       "      <td>7</td>\n",
       "    </tr>\n",
       "    <tr>\n",
       "      <th>7</th>\n",
       "      <td>--ujyvoQlwVoBgMYtADiLA</td>\n",
       "      <td>FB33W3bwg3ADcIJOcLLz0w</td>\n",
       "      <td>0.824463</td>\n",
       "      <td>8</td>\n",
       "    </tr>\n",
       "    <tr>\n",
       "      <th>8</th>\n",
       "      <td>--ujyvoQlwVoBgMYtADiLA</td>\n",
       "      <td>WXd7r6Yvjxhyo1L6R3lQMA</td>\n",
       "      <td>0.823049</td>\n",
       "      <td>9</td>\n",
       "    </tr>\n",
       "    <tr>\n",
       "      <th>9</th>\n",
       "      <td>--ujyvoQlwVoBgMYtADiLA</td>\n",
       "      <td>HFr3uQI9h8sTTvGn3xk5Zg</td>\n",
       "      <td>0.810444</td>\n",
       "      <td>10</td>\n",
       "    </tr>\n",
       "    <tr>\n",
       "      <th>10</th>\n",
       "      <td>-1xCh7Cocn6IwFzhELyohA</td>\n",
       "      <td>7mU3l5VjH1IxsXcxBxUblg</td>\n",
       "      <td>0.847667</td>\n",
       "      <td>1</td>\n",
       "    </tr>\n",
       "    <tr>\n",
       "      <th>11</th>\n",
       "      <td>-1xCh7Cocn6IwFzhELyohA</td>\n",
       "      <td>qME1CvFxSrhqE6-YGcp3Rw</td>\n",
       "      <td>0.843009</td>\n",
       "      <td>2</td>\n",
       "    </tr>\n",
       "    <tr>\n",
       "      <th>12</th>\n",
       "      <td>-1xCh7Cocn6IwFzhELyohA</td>\n",
       "      <td>0r1Ow0HYAAjU7oM_2ePN6g</td>\n",
       "      <td>0.787646</td>\n",
       "      <td>3</td>\n",
       "    </tr>\n",
       "    <tr>\n",
       "      <th>13</th>\n",
       "      <td>-1xCh7Cocn6IwFzhELyohA</td>\n",
       "      <td>WXd7r6Yvjxhyo1L6R3lQMA</td>\n",
       "      <td>0.773573</td>\n",
       "      <td>4</td>\n",
       "    </tr>\n",
       "    <tr>\n",
       "      <th>14</th>\n",
       "      <td>-1xCh7Cocn6IwFzhELyohA</td>\n",
       "      <td>5VLwQAIheQwmpusFa-tC6w</td>\n",
       "      <td>0.769714</td>\n",
       "      <td>5</td>\n",
       "    </tr>\n",
       "    <tr>\n",
       "      <th>15</th>\n",
       "      <td>-1xCh7Cocn6IwFzhELyohA</td>\n",
       "      <td>TTnUoYDCQoTfldLs3AuTDg</td>\n",
       "      <td>0.763700</td>\n",
       "      <td>6</td>\n",
       "    </tr>\n",
       "    <tr>\n",
       "      <th>16</th>\n",
       "      <td>-1xCh7Cocn6IwFzhELyohA</td>\n",
       "      <td>zMPfZdODe82SL_zxnv7asg</td>\n",
       "      <td>0.763543</td>\n",
       "      <td>7</td>\n",
       "    </tr>\n",
       "    <tr>\n",
       "      <th>17</th>\n",
       "      <td>-1xCh7Cocn6IwFzhELyohA</td>\n",
       "      <td>dCPyV8XCEyE7pyUgzOCDKA</td>\n",
       "      <td>0.760729</td>\n",
       "      <td>8</td>\n",
       "    </tr>\n",
       "    <tr>\n",
       "      <th>18</th>\n",
       "      <td>-1xCh7Cocn6IwFzhELyohA</td>\n",
       "      <td>e6abKOxJ2CyEwXLq2tI-yQ</td>\n",
       "      <td>0.755735</td>\n",
       "      <td>9</td>\n",
       "    </tr>\n",
       "    <tr>\n",
       "      <th>19</th>\n",
       "      <td>-1xCh7Cocn6IwFzhELyohA</td>\n",
       "      <td>V0DJ2gDXlKl11VJ75ZN0-A</td>\n",
       "      <td>0.751061</td>\n",
       "      <td>10</td>\n",
       "    </tr>\n",
       "    <tr>\n",
       "      <th>20</th>\n",
       "      <td>-7H-oXvCxJzuT42ky6Db0g</td>\n",
       "      <td>XMNdO9lFw3lSPO4gCH_qvQ</td>\n",
       "      <td>0.921071</td>\n",
       "      <td>1</td>\n",
       "    </tr>\n",
       "    <tr>\n",
       "      <th>21</th>\n",
       "      <td>-7H-oXvCxJzuT42ky6Db0g</td>\n",
       "      <td>mc5Ha4QyQZvU7fzr-ubhhw</td>\n",
       "      <td>0.910982</td>\n",
       "      <td>2</td>\n",
       "    </tr>\n",
       "    <tr>\n",
       "      <th>22</th>\n",
       "      <td>-7H-oXvCxJzuT42ky6Db0g</td>\n",
       "      <td>nkDSE-yhvLX4ij5fSzvb5Q</td>\n",
       "      <td>0.908756</td>\n",
       "      <td>3</td>\n",
       "    </tr>\n",
       "    <tr>\n",
       "      <th>23</th>\n",
       "      <td>-7H-oXvCxJzuT42ky6Db0g</td>\n",
       "      <td>3rf5VUEu1jlU2-EdiRmIBw</td>\n",
       "      <td>0.907160</td>\n",
       "      <td>4</td>\n",
       "    </tr>\n",
       "    <tr>\n",
       "      <th>24</th>\n",
       "      <td>-7H-oXvCxJzuT42ky6Db0g</td>\n",
       "      <td>M5Dc39uXDsFzcAGl_ijDzw</td>\n",
       "      <td>0.865414</td>\n",
       "      <td>5</td>\n",
       "    </tr>\n",
       "    <tr>\n",
       "      <th>25</th>\n",
       "      <td>-7H-oXvCxJzuT42ky6Db0g</td>\n",
       "      <td>lPcKVCwnnx54lJR5BXFbKQ</td>\n",
       "      <td>0.860042</td>\n",
       "      <td>6</td>\n",
       "    </tr>\n",
       "    <tr>\n",
       "      <th>26</th>\n",
       "      <td>-7H-oXvCxJzuT42ky6Db0g</td>\n",
       "      <td>yednPCeCKT2eQWtv5wd7Lg</td>\n",
       "      <td>0.822713</td>\n",
       "      <td>7</td>\n",
       "    </tr>\n",
       "    <tr>\n",
       "      <th>27</th>\n",
       "      <td>-7H-oXvCxJzuT42ky6Db0g</td>\n",
       "      <td>sCODuHnzNW_s4BuxtqTCBA</td>\n",
       "      <td>0.822691</td>\n",
       "      <td>8</td>\n",
       "    </tr>\n",
       "    <tr>\n",
       "      <th>28</th>\n",
       "      <td>-7H-oXvCxJzuT42ky6Db0g</td>\n",
       "      <td>s5XqvAOIepm0Pw8mAf27lw</td>\n",
       "      <td>0.820996</td>\n",
       "      <td>9</td>\n",
       "    </tr>\n",
       "    <tr>\n",
       "      <th>29</th>\n",
       "      <td>-7H-oXvCxJzuT42ky6Db0g</td>\n",
       "      <td>LNAI2hGXzAFq_9KFwpdshg</td>\n",
       "      <td>0.815106</td>\n",
       "      <td>10</td>\n",
       "    </tr>\n",
       "  </tbody>\n",
       "</table>\n",
       "</div>"
      ],
      "text/plain": [
       "               business_id                 similar     score  rank\n",
       "0   --ujyvoQlwVoBgMYtADiLA  lKom12WnYEjH5FFemK3M1Q  0.897496     1\n",
       "1   --ujyvoQlwVoBgMYtADiLA  ABiwctEu-OZ8YsVc5lnLZQ  0.885693     2\n",
       "2   --ujyvoQlwVoBgMYtADiLA  WE7UsbkilPeI8nw9ODnD-g  0.870426     3\n",
       "3   --ujyvoQlwVoBgMYtADiLA  ehtDfDwcOBghAKAjgWlg4Q  0.844666     4\n",
       "4   --ujyvoQlwVoBgMYtADiLA  TKDL0wiztnEr_rMkX8ZomQ  0.834016     5\n",
       "5   --ujyvoQlwVoBgMYtADiLA  JzB7NITHQ7gVHGVZ1ntgIQ  0.830173     6\n",
       "6   --ujyvoQlwVoBgMYtADiLA  z1nFepEOkn_Bp5aopscf9w  0.827484     7\n",
       "7   --ujyvoQlwVoBgMYtADiLA  FB33W3bwg3ADcIJOcLLz0w  0.824463     8\n",
       "8   --ujyvoQlwVoBgMYtADiLA  WXd7r6Yvjxhyo1L6R3lQMA  0.823049     9\n",
       "9   --ujyvoQlwVoBgMYtADiLA  HFr3uQI9h8sTTvGn3xk5Zg  0.810444    10\n",
       "10  -1xCh7Cocn6IwFzhELyohA  7mU3l5VjH1IxsXcxBxUblg  0.847667     1\n",
       "11  -1xCh7Cocn6IwFzhELyohA  qME1CvFxSrhqE6-YGcp3Rw  0.843009     2\n",
       "12  -1xCh7Cocn6IwFzhELyohA  0r1Ow0HYAAjU7oM_2ePN6g  0.787646     3\n",
       "13  -1xCh7Cocn6IwFzhELyohA  WXd7r6Yvjxhyo1L6R3lQMA  0.773573     4\n",
       "14  -1xCh7Cocn6IwFzhELyohA  5VLwQAIheQwmpusFa-tC6w  0.769714     5\n",
       "15  -1xCh7Cocn6IwFzhELyohA  TTnUoYDCQoTfldLs3AuTDg  0.763700     6\n",
       "16  -1xCh7Cocn6IwFzhELyohA  zMPfZdODe82SL_zxnv7asg  0.763543     7\n",
       "17  -1xCh7Cocn6IwFzhELyohA  dCPyV8XCEyE7pyUgzOCDKA  0.760729     8\n",
       "18  -1xCh7Cocn6IwFzhELyohA  e6abKOxJ2CyEwXLq2tI-yQ  0.755735     9\n",
       "19  -1xCh7Cocn6IwFzhELyohA  V0DJ2gDXlKl11VJ75ZN0-A  0.751061    10\n",
       "20  -7H-oXvCxJzuT42ky6Db0g  XMNdO9lFw3lSPO4gCH_qvQ  0.921071     1\n",
       "21  -7H-oXvCxJzuT42ky6Db0g  mc5Ha4QyQZvU7fzr-ubhhw  0.910982     2\n",
       "22  -7H-oXvCxJzuT42ky6Db0g  nkDSE-yhvLX4ij5fSzvb5Q  0.908756     3\n",
       "23  -7H-oXvCxJzuT42ky6Db0g  3rf5VUEu1jlU2-EdiRmIBw  0.907160     4\n",
       "24  -7H-oXvCxJzuT42ky6Db0g  M5Dc39uXDsFzcAGl_ijDzw  0.865414     5\n",
       "25  -7H-oXvCxJzuT42ky6Db0g  lPcKVCwnnx54lJR5BXFbKQ  0.860042     6\n",
       "26  -7H-oXvCxJzuT42ky6Db0g  yednPCeCKT2eQWtv5wd7Lg  0.822713     7\n",
       "27  -7H-oXvCxJzuT42ky6Db0g  sCODuHnzNW_s4BuxtqTCBA  0.822691     8\n",
       "28  -7H-oXvCxJzuT42ky6Db0g  s5XqvAOIepm0Pw8mAf27lw  0.820996     9\n",
       "29  -7H-oXvCxJzuT42ky6Db0g  LNAI2hGXzAFq_9KFwpdshg  0.815106    10"
      ]
     },
     "execution_count": 44,
     "metadata": {},
     "output_type": "execute_result"
    }
   ],
   "source": [
    "# similar items per item\n",
    "\n",
    "similar_items_df = content_rec.get_similar_items().to_dataframe()\n",
    "similar_items_df.head(30)"
   ]
  },
  {
   "cell_type": "code",
   "execution_count": 45,
   "metadata": {
    "collapsed": false
   },
   "outputs": [
    {
     "name": "stderr",
     "output_type": "stream",
     "text": [
      "/Users/lipengyuan/anaconda3/envs/gl-env1/lib/python2.7/site-packages/ipykernel/__main__.py:7: FutureWarning: sort(columns=....) is deprecated, use sort_values(by=.....)\n"
     ]
    },
    {
     "data": {
      "text/plain": [
       "0    lKom12WnYEjH5FFemK3M1Q\n",
       "1    ABiwctEu-OZ8YsVc5lnLZQ\n",
       "2    WE7UsbkilPeI8nw9ODnD-g\n",
       "3    ehtDfDwcOBghAKAjgWlg4Q\n",
       "4    TKDL0wiztnEr_rMkX8ZomQ\n",
       "Name: similar, dtype: object"
      ]
     },
     "execution_count": 45,
     "metadata": {},
     "output_type": "execute_result"
    }
   ],
   "source": [
    "# make recommendation for a sample user\n",
    "df_favored = df_stars[df_stars.stars > 4] # select favored restuarants\n",
    "bid_favored = df_favored[df_favored.user_id == df_favored.user_id.iloc[0]]\n",
    "\n",
    "# first select favored restaurants' similar items\n",
    "# second sort those restaurants, then got top 5\n",
    "similar_items_df[similar_items_df['business_id'].isin(bid_favored.business_id)].sort('score',ascending=False).similar[:5]"
   ]
  },
  {
   "cell_type": "markdown",
   "metadata": {},
   "source": [
    "# 4. Popularity-based recommender"
   ]
  },
  {
   "cell_type": "code",
   "execution_count": 46,
   "metadata": {
    "collapsed": false
   },
   "outputs": [
    {
     "data": {
      "text/html": [
       "<div style=\"max-height:1000px;max-width:1500px;overflow:auto;\"><table frame=\"box\" rules=\"cols\">\n",
       "    <tr>\n",
       "        <th style=\"padding-left: 1em; padding-right: 1em; text-align: center\">business_id</th>\n",
       "        <th style=\"padding-left: 1em; padding-right: 1em; text-align: center\">user_id</th>\n",
       "        <th style=\"padding-left: 1em; padding-right: 1em; text-align: center\">stars</th>\n",
       "    </tr>\n",
       "    <tr>\n",
       "        <td style=\"padding-left: 1em; padding-right: 1em; text-align: center; vertical-align: top\">--ujyvoQlwVoBgMYtADiLA</td>\n",
       "        <td style=\"padding-left: 1em; padding-right: 1em; text-align: center; vertical-align: top\">D5_iQw0N9wO7kT7FrT7j6A</td>\n",
       "        <td style=\"padding-left: 1em; padding-right: 1em; text-align: center; vertical-align: top\">4</td>\n",
       "    </tr>\n",
       "    <tr>\n",
       "        <td style=\"padding-left: 1em; padding-right: 1em; text-align: center; vertical-align: top\">--ujyvoQlwVoBgMYtADiLA</td>\n",
       "        <td style=\"padding-left: 1em; padding-right: 1em; text-align: center; vertical-align: top\">nyzncOg3goSAMK15IijIqA</td>\n",
       "        <td style=\"padding-left: 1em; padding-right: 1em; text-align: center; vertical-align: top\">5</td>\n",
       "    </tr>\n",
       "    <tr>\n",
       "        <td style=\"padding-left: 1em; padding-right: 1em; text-align: center; vertical-align: top\">--ujyvoQlwVoBgMYtADiLA</td>\n",
       "        <td style=\"padding-left: 1em; padding-right: 1em; text-align: center; vertical-align: top\">YFRp9i9sDuA1T5oMKq5cbg</td>\n",
       "        <td style=\"padding-left: 1em; padding-right: 1em; text-align: center; vertical-align: top\">4</td>\n",
       "    </tr>\n",
       "    <tr>\n",
       "        <td style=\"padding-left: 1em; padding-right: 1em; text-align: center; vertical-align: top\">--ujyvoQlwVoBgMYtADiLA</td>\n",
       "        <td style=\"padding-left: 1em; padding-right: 1em; text-align: center; vertical-align: top\">QqdHAP9tSwjteG7b9q7sAw</td>\n",
       "        <td style=\"padding-left: 1em; padding-right: 1em; text-align: center; vertical-align: top\">3</td>\n",
       "    </tr>\n",
       "    <tr>\n",
       "        <td style=\"padding-left: 1em; padding-right: 1em; text-align: center; vertical-align: top\">--ujyvoQlwVoBgMYtADiLA</td>\n",
       "        <td style=\"padding-left: 1em; padding-right: 1em; text-align: center; vertical-align: top\">4qfMMlGtme2RNFqDgxYLxg</td>\n",
       "        <td style=\"padding-left: 1em; padding-right: 1em; text-align: center; vertical-align: top\">5</td>\n",
       "    </tr>\n",
       "    <tr>\n",
       "        <td style=\"padding-left: 1em; padding-right: 1em; text-align: center; vertical-align: top\">--ujyvoQlwVoBgMYtADiLA</td>\n",
       "        <td style=\"padding-left: 1em; padding-right: 1em; text-align: center; vertical-align: top\">65GY-LY1Y9OLQ24bk05VYg</td>\n",
       "        <td style=\"padding-left: 1em; padding-right: 1em; text-align: center; vertical-align: top\">4</td>\n",
       "    </tr>\n",
       "    <tr>\n",
       "        <td style=\"padding-left: 1em; padding-right: 1em; text-align: center; vertical-align: top\">--ujyvoQlwVoBgMYtADiLA</td>\n",
       "        <td style=\"padding-left: 1em; padding-right: 1em; text-align: center; vertical-align: top\">ynQWcEUSahZ9uegM9kE9Qw</td>\n",
       "        <td style=\"padding-left: 1em; padding-right: 1em; text-align: center; vertical-align: top\">2</td>\n",
       "    </tr>\n",
       "    <tr>\n",
       "        <td style=\"padding-left: 1em; padding-right: 1em; text-align: center; vertical-align: top\">--ujyvoQlwVoBgMYtADiLA</td>\n",
       "        <td style=\"padding-left: 1em; padding-right: 1em; text-align: center; vertical-align: top\">qmO1jsUwOSSIE9eAOryuZw</td>\n",
       "        <td style=\"padding-left: 1em; padding-right: 1em; text-align: center; vertical-align: top\">5</td>\n",
       "    </tr>\n",
       "    <tr>\n",
       "        <td style=\"padding-left: 1em; padding-right: 1em; text-align: center; vertical-align: top\">--ujyvoQlwVoBgMYtADiLA</td>\n",
       "        <td style=\"padding-left: 1em; padding-right: 1em; text-align: center; vertical-align: top\">0Amd1mZAzHhHMbgKd2RuOg</td>\n",
       "        <td style=\"padding-left: 1em; padding-right: 1em; text-align: center; vertical-align: top\">2</td>\n",
       "    </tr>\n",
       "    <tr>\n",
       "        <td style=\"padding-left: 1em; padding-right: 1em; text-align: center; vertical-align: top\">--ujyvoQlwVoBgMYtADiLA</td>\n",
       "        <td style=\"padding-left: 1em; padding-right: 1em; text-align: center; vertical-align: top\">uHyE6oz8dXTYCQ087JQYEA</td>\n",
       "        <td style=\"padding-left: 1em; padding-right: 1em; text-align: center; vertical-align: top\">1</td>\n",
       "    </tr>\n",
       "</table>\n",
       "[49142 rows x 3 columns]<br/>Note: Only the head of the SFrame is printed.<br/>You can use print_rows(num_rows=m, num_columns=n) to print more rows and columns.\n",
       "</div>"
      ],
      "text/plain": [
       "Columns:\n",
       "\tbusiness_id\tstr\n",
       "\tuser_id\tstr\n",
       "\tstars\tint\n",
       "\n",
       "Rows: 49142\n",
       "\n",
       "Data:\n",
       "+------------------------+------------------------+-------+\n",
       "|      business_id       |        user_id         | stars |\n",
       "+------------------------+------------------------+-------+\n",
       "| --ujyvoQlwVoBgMYtADiLA | D5_iQw0N9wO7kT7FrT7j6A |   4   |\n",
       "| --ujyvoQlwVoBgMYtADiLA | nyzncOg3goSAMK15IijIqA |   5   |\n",
       "| --ujyvoQlwVoBgMYtADiLA | YFRp9i9sDuA1T5oMKq5cbg |   4   |\n",
       "| --ujyvoQlwVoBgMYtADiLA | QqdHAP9tSwjteG7b9q7sAw |   3   |\n",
       "| --ujyvoQlwVoBgMYtADiLA | 4qfMMlGtme2RNFqDgxYLxg |   5   |\n",
       "| --ujyvoQlwVoBgMYtADiLA | 65GY-LY1Y9OLQ24bk05VYg |   4   |\n",
       "| --ujyvoQlwVoBgMYtADiLA | ynQWcEUSahZ9uegM9kE9Qw |   2   |\n",
       "| --ujyvoQlwVoBgMYtADiLA | qmO1jsUwOSSIE9eAOryuZw |   5   |\n",
       "| --ujyvoQlwVoBgMYtADiLA | 0Amd1mZAzHhHMbgKd2RuOg |   2   |\n",
       "| --ujyvoQlwVoBgMYtADiLA | uHyE6oz8dXTYCQ087JQYEA |   1   |\n",
       "+------------------------+------------------------+-------+\n",
       "[49142 rows x 3 columns]\n",
       "Note: Only the head of the SFrame is printed.\n",
       "You can use print_rows(num_rows=m, num_columns=n) to print more rows and columns."
      ]
     },
     "execution_count": 46,
     "metadata": {},
     "output_type": "execute_result"
    }
   ],
   "source": [
    "sf_stars"
   ]
  },
  {
   "cell_type": "code",
   "execution_count": 47,
   "metadata": {
    "collapsed": false
   },
   "outputs": [
    {
     "data": {
      "text/html": [
       "<pre>Recsys training: model = popularity</pre>"
      ],
      "text/plain": [
       "Recsys training: model = popularity"
      ]
     },
     "metadata": {},
     "output_type": "display_data"
    },
    {
     "data": {
      "text/html": [
       "<pre>Preparing data set.</pre>"
      ],
      "text/plain": [
       "Preparing data set."
      ]
     },
     "metadata": {},
     "output_type": "display_data"
    },
    {
     "data": {
      "text/html": [
       "<pre>    Data has 49142 observations with 21520 users and 1769 items.</pre>"
      ],
      "text/plain": [
       "    Data has 49142 observations with 21520 users and 1769 items."
      ]
     },
     "metadata": {},
     "output_type": "display_data"
    },
    {
     "data": {
      "text/html": [
       "<pre>    Data prepared in: 0.109843s</pre>"
      ],
      "text/plain": [
       "    Data prepared in: 0.109843s"
      ]
     },
     "metadata": {},
     "output_type": "display_data"
    },
    {
     "data": {
      "text/html": [
       "<pre>49142 observations to process; with 1769 unique items.</pre>"
      ],
      "text/plain": [
       "49142 observations to process; with 1769 unique items."
      ]
     },
     "metadata": {},
     "output_type": "display_data"
    }
   ],
   "source": [
    "# build recommendation system\n",
    "pop_rec = graphlab.popularity_recommender.create(sf_stars, \n",
    "                                                 user_id = 'user_id', \n",
    "                                                 item_id = 'business_id',\n",
    "                                                 target = 'stars')"
   ]
  },
  {
   "cell_type": "code",
   "execution_count": 48,
   "metadata": {
    "collapsed": false
   },
   "outputs": [
    {
     "data": {
      "text/html": [
       "<pre>recommendations finished on 1000/21520 queries. users per second: 89214</pre>"
      ],
      "text/plain": [
       "recommendations finished on 1000/21520 queries. users per second: 89214"
      ]
     },
     "metadata": {},
     "output_type": "display_data"
    },
    {
     "data": {
      "text/html": [
       "<pre>recommendations finished on 2000/21520 queries. users per second: 92267.9</pre>"
      ],
      "text/plain": [
       "recommendations finished on 2000/21520 queries. users per second: 92267.9"
      ]
     },
     "metadata": {},
     "output_type": "display_data"
    },
    {
     "data": {
      "text/html": [
       "<pre>recommendations finished on 3000/21520 queries. users per second: 95280.4</pre>"
      ],
      "text/plain": [
       "recommendations finished on 3000/21520 queries. users per second: 95280.4"
      ]
     },
     "metadata": {},
     "output_type": "display_data"
    },
    {
     "data": {
      "text/html": [
       "<pre>recommendations finished on 4000/21520 queries. users per second: 101559</pre>"
      ],
      "text/plain": [
       "recommendations finished on 4000/21520 queries. users per second: 101559"
      ]
     },
     "metadata": {},
     "output_type": "display_data"
    },
    {
     "data": {
      "text/html": [
       "<pre>recommendations finished on 5000/21520 queries. users per second: 101562</pre>"
      ],
      "text/plain": [
       "recommendations finished on 5000/21520 queries. users per second: 101562"
      ]
     },
     "metadata": {},
     "output_type": "display_data"
    },
    {
     "data": {
      "text/html": [
       "<pre>recommendations finished on 6000/21520 queries. users per second: 104335</pre>"
      ],
      "text/plain": [
       "recommendations finished on 6000/21520 queries. users per second: 104335"
      ]
     },
     "metadata": {},
     "output_type": "display_data"
    },
    {
     "data": {
      "text/html": [
       "<pre>recommendations finished on 7000/21520 queries. users per second: 104778</pre>"
      ],
      "text/plain": [
       "recommendations finished on 7000/21520 queries. users per second: 104778"
      ]
     },
     "metadata": {},
     "output_type": "display_data"
    },
    {
     "data": {
      "text/html": [
       "<pre>recommendations finished on 8000/21520 queries. users per second: 104653</pre>"
      ],
      "text/plain": [
       "recommendations finished on 8000/21520 queries. users per second: 104653"
      ]
     },
     "metadata": {},
     "output_type": "display_data"
    },
    {
     "data": {
      "text/html": [
       "<pre>recommendations finished on 9000/21520 queries. users per second: 105834</pre>"
      ],
      "text/plain": [
       "recommendations finished on 9000/21520 queries. users per second: 105834"
      ]
     },
     "metadata": {},
     "output_type": "display_data"
    },
    {
     "data": {
      "text/html": [
       "<pre>recommendations finished on 10000/21520 queries. users per second: 104392</pre>"
      ],
      "text/plain": [
       "recommendations finished on 10000/21520 queries. users per second: 104392"
      ]
     },
     "metadata": {},
     "output_type": "display_data"
    },
    {
     "data": {
      "text/html": [
       "<pre>recommendations finished on 11000/21520 queries. users per second: 104865</pre>"
      ],
      "text/plain": [
       "recommendations finished on 11000/21520 queries. users per second: 104865"
      ]
     },
     "metadata": {},
     "output_type": "display_data"
    },
    {
     "data": {
      "text/html": [
       "<pre>recommendations finished on 12000/21520 queries. users per second: 105227</pre>"
      ],
      "text/plain": [
       "recommendations finished on 12000/21520 queries. users per second: 105227"
      ]
     },
     "metadata": {},
     "output_type": "display_data"
    },
    {
     "data": {
      "text/html": [
       "<pre>recommendations finished on 13000/21520 queries. users per second: 106909</pre>"
      ],
      "text/plain": [
       "recommendations finished on 13000/21520 queries. users per second: 106909"
      ]
     },
     "metadata": {},
     "output_type": "display_data"
    },
    {
     "data": {
      "text/html": [
       "<pre>recommendations finished on 14000/21520 queries. users per second: 104770</pre>"
      ],
      "text/plain": [
       "recommendations finished on 14000/21520 queries. users per second: 104770"
      ]
     },
     "metadata": {},
     "output_type": "display_data"
    },
    {
     "data": {
      "text/html": [
       "<pre>recommendations finished on 15000/21520 queries. users per second: 105398</pre>"
      ],
      "text/plain": [
       "recommendations finished on 15000/21520 queries. users per second: 105398"
      ]
     },
     "metadata": {},
     "output_type": "display_data"
    },
    {
     "data": {
      "text/html": [
       "<pre>recommendations finished on 16000/21520 queries. users per second: 105623</pre>"
      ],
      "text/plain": [
       "recommendations finished on 16000/21520 queries. users per second: 105623"
      ]
     },
     "metadata": {},
     "output_type": "display_data"
    },
    {
     "data": {
      "text/html": [
       "<pre>recommendations finished on 17000/21520 queries. users per second: 106204</pre>"
      ],
      "text/plain": [
       "recommendations finished on 17000/21520 queries. users per second: 106204"
      ]
     },
     "metadata": {},
     "output_type": "display_data"
    },
    {
     "data": {
      "text/html": [
       "<pre>recommendations finished on 18000/21520 queries. users per second: 91607.2</pre>"
      ],
      "text/plain": [
       "recommendations finished on 18000/21520 queries. users per second: 91607.2"
      ]
     },
     "metadata": {},
     "output_type": "display_data"
    },
    {
     "data": {
      "text/html": [
       "<pre>recommendations finished on 19000/21520 queries. users per second: 87108.8</pre>"
      ],
      "text/plain": [
       "recommendations finished on 19000/21520 queries. users per second: 87108.8"
      ]
     },
     "metadata": {},
     "output_type": "display_data"
    },
    {
     "data": {
      "text/html": [
       "<pre>recommendations finished on 20000/21520 queries. users per second: 84629.6</pre>"
      ],
      "text/plain": [
       "recommendations finished on 20000/21520 queries. users per second: 84629.6"
      ]
     },
     "metadata": {},
     "output_type": "display_data"
    },
    {
     "data": {
      "text/html": [
       "<pre>recommendations finished on 21000/21520 queries. users per second: 82584.5</pre>"
      ],
      "text/plain": [
       "recommendations finished on 21000/21520 queries. users per second: 82584.5"
      ]
     },
     "metadata": {},
     "output_type": "display_data"
    }
   ],
   "source": [
    "# get recommendation\n",
    "pop_result = pop_rec.recommend()"
   ]
  },
  {
   "cell_type": "code",
   "execution_count": 49,
   "metadata": {
    "collapsed": false
   },
   "outputs": [
    {
     "name": "stdout",
     "output_type": "stream",
     "text": [
      "+------------------------+------------------------+-------+-----+\n",
      "|        user_id         |      business_id       | score | ... |\n",
      "+------------------------+------------------------+-------+-----+\n",
      "| D5_iQw0N9wO7kT7FrT7j6A | 56worzbzO-fnU-0WDuabQg |  5.0  | ... |\n",
      "| D5_iQw0N9wO7kT7FrT7j6A | 3ybsKWA03f16v4OPC0jApg |  5.0  | ... |\n",
      "| D5_iQw0N9wO7kT7FrT7j6A | 3ed7T7HvUJUnPf6jDmys9A |  5.0  | ... |\n",
      "| D5_iQw0N9wO7kT7FrT7j6A | 2NLyAZne2fH5zTHSBin92A |  5.0  | ... |\n",
      "| D5_iQw0N9wO7kT7FrT7j6A | 1yQvJ-By1zO7HzSYhSlz1w |  5.0  | ... |\n",
      "| D5_iQw0N9wO7kT7FrT7j6A | 1n8bvxpBoUOAJsC5csuV3Q |  5.0  | ... |\n",
      "| D5_iQw0N9wO7kT7FrT7j6A | 0aT7sqTIIv5zMApt4p4VWQ |  5.0  | ... |\n",
      "| D5_iQw0N9wO7kT7FrT7j6A | 0OkfU0vDBprsIEd5hWuhAQ |  5.0  | ... |\n",
      "| D5_iQw0N9wO7kT7FrT7j6A | 0IfrcGbFzQvn9w8bl9GKDg |  5.0  | ... |\n",
      "| D5_iQw0N9wO7kT7FrT7j6A | -7teXSpi9nqy58WUd-8yfw |  5.0  | ... |\n",
      "| nyzncOg3goSAMK15IijIqA | 56worzbzO-fnU-0WDuabQg |  5.0  | ... |\n",
      "| nyzncOg3goSAMK15IijIqA | 3ybsKWA03f16v4OPC0jApg |  5.0  | ... |\n",
      "| nyzncOg3goSAMK15IijIqA | 3ed7T7HvUJUnPf6jDmys9A |  5.0  | ... |\n",
      "| nyzncOg3goSAMK15IijIqA | 2NLyAZne2fH5zTHSBin92A |  5.0  | ... |\n",
      "| nyzncOg3goSAMK15IijIqA | 1yQvJ-By1zO7HzSYhSlz1w |  5.0  | ... |\n",
      "| nyzncOg3goSAMK15IijIqA | 1n8bvxpBoUOAJsC5csuV3Q |  5.0  | ... |\n",
      "| nyzncOg3goSAMK15IijIqA | 0aT7sqTIIv5zMApt4p4VWQ |  5.0  | ... |\n",
      "| nyzncOg3goSAMK15IijIqA | 0OkfU0vDBprsIEd5hWuhAQ |  5.0  | ... |\n",
      "| nyzncOg3goSAMK15IijIqA | 0IfrcGbFzQvn9w8bl9GKDg |  5.0  | ... |\n",
      "| nyzncOg3goSAMK15IijIqA | -7teXSpi9nqy58WUd-8yfw |  5.0  | ... |\n",
      "| YFRp9i9sDuA1T5oMKq5cbg | 56worzbzO-fnU-0WDuabQg |  5.0  | ... |\n",
      "| YFRp9i9sDuA1T5oMKq5cbg | 3ybsKWA03f16v4OPC0jApg |  5.0  | ... |\n",
      "| YFRp9i9sDuA1T5oMKq5cbg | 3ed7T7HvUJUnPf6jDmys9A |  5.0  | ... |\n",
      "| YFRp9i9sDuA1T5oMKq5cbg | 2NLyAZne2fH5zTHSBin92A |  5.0  | ... |\n",
      "| YFRp9i9sDuA1T5oMKq5cbg | 1yQvJ-By1zO7HzSYhSlz1w |  5.0  | ... |\n",
      "| YFRp9i9sDuA1T5oMKq5cbg | 1n8bvxpBoUOAJsC5csuV3Q |  5.0  | ... |\n",
      "| YFRp9i9sDuA1T5oMKq5cbg | 0aT7sqTIIv5zMApt4p4VWQ |  5.0  | ... |\n",
      "| YFRp9i9sDuA1T5oMKq5cbg | 0OkfU0vDBprsIEd5hWuhAQ |  5.0  | ... |\n",
      "| YFRp9i9sDuA1T5oMKq5cbg | 0IfrcGbFzQvn9w8bl9GKDg |  5.0  | ... |\n",
      "| YFRp9i9sDuA1T5oMKq5cbg | -7teXSpi9nqy58WUd-8yfw |  5.0  | ... |\n",
      "+------------------------+------------------------+-------+-----+\n",
      "[215200 rows x 4 columns]\n",
      "\n"
     ]
    }
   ],
   "source": [
    "pop_result.print_rows(num_rows=30, num_columns=3)"
   ]
  },
  {
   "cell_type": "code",
   "execution_count": null,
   "metadata": {
    "collapsed": true
   },
   "outputs": [],
   "source": []
  }
 ],
 "metadata": {
  "kernelspec": {
   "display_name": "Python 2",
   "language": "python",
   "name": "python2"
  },
  "language_info": {
   "codemirror_mode": {
    "name": "ipython",
    "version": 2
   },
   "file_extension": ".py",
   "mimetype": "text/x-python",
   "name": "python",
   "nbconvert_exporter": "python",
   "pygments_lexer": "ipython2",
   "version": "2.7.11"
  }
 },
 "nbformat": 4,
 "nbformat_minor": 2
}
