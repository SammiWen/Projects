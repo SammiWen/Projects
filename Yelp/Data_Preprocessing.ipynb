{
 "cells": [
  {
   "cell_type": "markdown",
   "metadata": {},
   "source": [
    "# Yelp Data Challenge - Data Preprocessing 1\n",
    "\n",
    "\n",
    "##### Patrick(Pengyuan) Li 🌰\n"
   ]
  },
  {
   "cell_type": "markdown",
   "metadata": {},
   "source": [
    "## Read data from Jason file and load to Pandas DataFrame\n",
    "\n",
    "##### Our personal machins' memory are not enough to handle all the 9 GB data, so I built a computation machine in Google Cloud."
   ]
  },
  {
   "cell_type": "code",
   "execution_count": 1,
   "metadata": {},
   "outputs": [],
   "source": [
    "import json\n",
    "import pandas as pd\n"
   ]
  },
  {
   "cell_type": "code",
   "execution_count": 2,
   "metadata": {},
   "outputs": [],
   "source": [
    "file_business, file_checkin, file_review, file_tip, file_user,file_photo = [\n",
    "    'Dataset/business.json',\n",
    "    'Dataset/checkin.json',\n",
    "    'Dataset/review.json',\n",
    "    'Dataset/tip.json',\n",
    "    'Dataset/user.json',\n",
    "    'Dataset/photo.json'\n",
    "]"
   ]
  },
  {
   "cell_type": "markdown",
   "metadata": {},
   "source": [
    "#### Business Data"
   ]
  },
  {
   "cell_type": "code",
   "execution_count": 3,
   "metadata": {},
   "outputs": [],
   "source": [
    "with open(file_business) as f:\n",
    "    df_business = pd.DataFrame(json.loads(line) for line in f)"
   ]
  },
  {
   "cell_type": "code",
   "execution_count": 4,
   "metadata": {},
   "outputs": [
    {
     "data": {
      "text/html": [
       "<div>\n",
       "<style scoped>\n",
       "    .dataframe tbody tr th:only-of-type {\n",
       "        vertical-align: middle;\n",
       "    }\n",
       "\n",
       "    .dataframe tbody tr th {\n",
       "        vertical-align: top;\n",
       "    }\n",
       "\n",
       "    .dataframe thead th {\n",
       "        text-align: right;\n",
       "    }\n",
       "</style>\n",
       "<table border=\"1\" class=\"dataframe\">\n",
       "  <thead>\n",
       "    <tr style=\"text-align: right;\">\n",
       "      <th></th>\n",
       "      <th>address</th>\n",
       "      <th>attributes</th>\n",
       "      <th>business_id</th>\n",
       "      <th>categories</th>\n",
       "      <th>city</th>\n",
       "      <th>hours</th>\n",
       "      <th>is_open</th>\n",
       "      <th>latitude</th>\n",
       "      <th>longitude</th>\n",
       "      <th>name</th>\n",
       "      <th>neighborhood</th>\n",
       "      <th>postal_code</th>\n",
       "      <th>review_count</th>\n",
       "      <th>stars</th>\n",
       "      <th>state</th>\n",
       "    </tr>\n",
       "  </thead>\n",
       "  <tbody>\n",
       "    <tr>\n",
       "      <th>0</th>\n",
       "      <td>1314 44 Avenue NE</td>\n",
       "      <td>{'BikeParking': 'False', 'BusinessAcceptsCredi...</td>\n",
       "      <td>Apn5Q_b6Nz61Tq4XzPdf9A</td>\n",
       "      <td>Tours, Breweries, Pizza, Restaurants, Food, Ho...</td>\n",
       "      <td>Calgary</td>\n",
       "      <td>{'Monday': '8:30-17:0', 'Tuesday': '11:0-21:0'...</td>\n",
       "      <td>1</td>\n",
       "      <td>51.091813</td>\n",
       "      <td>-114.031675</td>\n",
       "      <td>Minhas Micro Brewery</td>\n",
       "      <td></td>\n",
       "      <td>T2E 6L6</td>\n",
       "      <td>24</td>\n",
       "      <td>4.0</td>\n",
       "      <td>AB</td>\n",
       "    </tr>\n",
       "    <tr>\n",
       "      <th>1</th>\n",
       "      <td></td>\n",
       "      <td>{'Alcohol': 'none', 'BikeParking': 'False', 'B...</td>\n",
       "      <td>AjEbIBw6ZFfln7ePHha9PA</td>\n",
       "      <td>Chicken Wings, Burgers, Caterers, Street Vendo...</td>\n",
       "      <td>Henderson</td>\n",
       "      <td>{'Friday': '17:0-23:0', 'Saturday': '17:0-23:0...</td>\n",
       "      <td>0</td>\n",
       "      <td>35.960734</td>\n",
       "      <td>-114.939821</td>\n",
       "      <td>CK'S BBQ &amp; Catering</td>\n",
       "      <td></td>\n",
       "      <td>89002</td>\n",
       "      <td>3</td>\n",
       "      <td>4.5</td>\n",
       "      <td>NV</td>\n",
       "    </tr>\n",
       "  </tbody>\n",
       "</table>\n",
       "</div>"
      ],
      "text/plain": [
       "             address                                         attributes  \\\n",
       "0  1314 44 Avenue NE  {'BikeParking': 'False', 'BusinessAcceptsCredi...   \n",
       "1                     {'Alcohol': 'none', 'BikeParking': 'False', 'B...   \n",
       "\n",
       "              business_id                                         categories  \\\n",
       "0  Apn5Q_b6Nz61Tq4XzPdf9A  Tours, Breweries, Pizza, Restaurants, Food, Ho...   \n",
       "1  AjEbIBw6ZFfln7ePHha9PA  Chicken Wings, Burgers, Caterers, Street Vendo...   \n",
       "\n",
       "        city                                              hours  is_open  \\\n",
       "0    Calgary  {'Monday': '8:30-17:0', 'Tuesday': '11:0-21:0'...        1   \n",
       "1  Henderson  {'Friday': '17:0-23:0', 'Saturday': '17:0-23:0...        0   \n",
       "\n",
       "    latitude   longitude                  name neighborhood postal_code  \\\n",
       "0  51.091813 -114.031675  Minhas Micro Brewery                  T2E 6L6   \n",
       "1  35.960734 -114.939821   CK'S BBQ & Catering                    89002   \n",
       "\n",
       "   review_count  stars state  \n",
       "0            24    4.0    AB  \n",
       "1             3    4.5    NV  "
      ]
     },
     "execution_count": 4,
     "metadata": {},
     "output_type": "execute_result"
    }
   ],
   "source": [
    "# print(df_business.head())\n",
    "df_business.head(2)"
   ]
  },
  {
   "cell_type": "code",
   "execution_count": 5,
   "metadata": {},
   "outputs": [
    {
     "name": "stdout",
     "output_type": "stream",
     "text": [
      "<class 'pandas.core.frame.DataFrame'>\n",
      "RangeIndex: 188593 entries, 0 to 188592\n",
      "Data columns (total 15 columns):\n",
      "address         188593 non-null object\n",
      "attributes      162807 non-null object\n",
      "business_id     188593 non-null object\n",
      "categories      188052 non-null object\n",
      "city            188593 non-null object\n",
      "hours           143791 non-null object\n",
      "is_open         188593 non-null int64\n",
      "latitude        188587 non-null float64\n",
      "longitude       188587 non-null float64\n",
      "name            188593 non-null object\n",
      "neighborhood    188593 non-null object\n",
      "postal_code     188593 non-null object\n",
      "review_count    188593 non-null int64\n",
      "stars           188593 non-null float64\n",
      "state           188593 non-null object\n",
      "dtypes: float64(3), int64(2), object(10)\n",
      "memory usage: 21.6+ MB\n"
     ]
    }
   ],
   "source": [
    "df_business.info()"
   ]
  },
  {
   "cell_type": "code",
   "execution_count": 6,
   "metadata": {},
   "outputs": [
    {
     "data": {
      "text/html": [
       "<div>\n",
       "<style scoped>\n",
       "    .dataframe tbody tr th:only-of-type {\n",
       "        vertical-align: middle;\n",
       "    }\n",
       "\n",
       "    .dataframe tbody tr th {\n",
       "        vertical-align: top;\n",
       "    }\n",
       "\n",
       "    .dataframe thead th {\n",
       "        text-align: right;\n",
       "    }\n",
       "</style>\n",
       "<table border=\"1\" class=\"dataframe\">\n",
       "  <thead>\n",
       "    <tr style=\"text-align: right;\">\n",
       "      <th></th>\n",
       "      <th>is_open</th>\n",
       "      <th>latitude</th>\n",
       "      <th>longitude</th>\n",
       "      <th>review_count</th>\n",
       "      <th>stars</th>\n",
       "    </tr>\n",
       "  </thead>\n",
       "  <tbody>\n",
       "    <tr>\n",
       "      <th>count</th>\n",
       "      <td>188593.000000</td>\n",
       "      <td>188587.000000</td>\n",
       "      <td>188587.000000</td>\n",
       "      <td>188593.000000</td>\n",
       "      <td>188593.000000</td>\n",
       "    </tr>\n",
       "    <tr>\n",
       "      <th>mean</th>\n",
       "      <td>0.830391</td>\n",
       "      <td>38.506793</td>\n",
       "      <td>-97.490873</td>\n",
       "      <td>31.797310</td>\n",
       "      <td>3.631550</td>\n",
       "    </tr>\n",
       "    <tr>\n",
       "      <th>std</th>\n",
       "      <td>0.375290</td>\n",
       "      <td>5.122684</td>\n",
       "      <td>17.693360</td>\n",
       "      <td>104.124212</td>\n",
       "      <td>1.016783</td>\n",
       "    </tr>\n",
       "    <tr>\n",
       "      <th>min</th>\n",
       "      <td>0.000000</td>\n",
       "      <td>-71.753941</td>\n",
       "      <td>-180.000000</td>\n",
       "      <td>3.000000</td>\n",
       "      <td>1.000000</td>\n",
       "    </tr>\n",
       "    <tr>\n",
       "      <th>25%</th>\n",
       "      <td>1.000000</td>\n",
       "      <td>33.630878</td>\n",
       "      <td>-112.279276</td>\n",
       "      <td>4.000000</td>\n",
       "      <td>3.000000</td>\n",
       "    </tr>\n",
       "    <tr>\n",
       "      <th>50%</th>\n",
       "      <td>1.000000</td>\n",
       "      <td>36.143595</td>\n",
       "      <td>-111.777460</td>\n",
       "      <td>9.000000</td>\n",
       "      <td>3.500000</td>\n",
       "    </tr>\n",
       "    <tr>\n",
       "      <th>75%</th>\n",
       "      <td>1.000000</td>\n",
       "      <td>43.593106</td>\n",
       "      <td>-79.982958</td>\n",
       "      <td>24.000000</td>\n",
       "      <td>4.500000</td>\n",
       "    </tr>\n",
       "    <tr>\n",
       "      <th>max</th>\n",
       "      <td>1.000000</td>\n",
       "      <td>85.051129</td>\n",
       "      <td>115.086769</td>\n",
       "      <td>7968.000000</td>\n",
       "      <td>5.000000</td>\n",
       "    </tr>\n",
       "  </tbody>\n",
       "</table>\n",
       "</div>"
      ],
      "text/plain": [
       "             is_open       latitude      longitude   review_count  \\\n",
       "count  188593.000000  188587.000000  188587.000000  188593.000000   \n",
       "mean        0.830391      38.506793     -97.490873      31.797310   \n",
       "std         0.375290       5.122684      17.693360     104.124212   \n",
       "min         0.000000     -71.753941    -180.000000       3.000000   \n",
       "25%         1.000000      33.630878    -112.279276       4.000000   \n",
       "50%         1.000000      36.143595    -111.777460       9.000000   \n",
       "75%         1.000000      43.593106     -79.982958      24.000000   \n",
       "max         1.000000      85.051129     115.086769    7968.000000   \n",
       "\n",
       "               stars  \n",
       "count  188593.000000  \n",
       "mean        3.631550  \n",
       "std         1.016783  \n",
       "min         1.000000  \n",
       "25%         3.000000  \n",
       "50%         3.500000  \n",
       "75%         4.500000  \n",
       "max         5.000000  "
      ]
     },
     "execution_count": 6,
     "metadata": {},
     "output_type": "execute_result"
    }
   ],
   "source": [
    "df_business.describe()"
   ]
  },
  {
   "cell_type": "code",
   "execution_count": 7,
   "metadata": {},
   "outputs": [],
   "source": [
    "df_business.to_csv('Dataset/business.csv')"
   ]
  },
  {
   "cell_type": "markdown",
   "metadata": {},
   "source": [
    "#### Checkin Data"
   ]
  },
  {
   "cell_type": "code",
   "execution_count": 8,
   "metadata": {},
   "outputs": [],
   "source": [
    "with open(file_checkin) as f:\n",
    "    df_checkin = pd.DataFrame(json.loads(line) for line in f)"
   ]
  },
  {
   "cell_type": "code",
   "execution_count": 9,
   "metadata": {},
   "outputs": [
    {
     "name": "stdout",
     "output_type": "stream",
     "text": [
      "              business_id                                               time\n",
      "0  7KPBkxAOEtb3QeIL9PEErg  {'Fri-0': 2, 'Sat-0': 1, 'Sun-0': 1, 'Wed-0': ...\n",
      "1  kREVIrSBbtqBhIYkTccQUg  {'Mon-13': 1, 'Thu-13': 1, 'Sat-16': 1, 'Wed-1...\n",
      "2  tJRDll5yqpZwehenzE2cSg  {'Thu-0': 1, 'Mon-1': 1, 'Mon-12': 1, 'Sat-16'...\n",
      "3  tZccfdl6JNw-j5BKnCTIQQ            {'Sun-14': 1, 'Fri-18': 1, 'Mon-20': 1}\n",
      "4  r1p7RAMzCV_6NPF0dNoR3g  {'Sat-3': 1, 'Sun-18': 1, 'Sat-21': 1, 'Sat-23...\n"
     ]
    }
   ],
   "source": [
    "print(df_checkin.head())"
   ]
  },
  {
   "cell_type": "code",
   "execution_count": 10,
   "metadata": {},
   "outputs": [
    {
     "name": "stdout",
     "output_type": "stream",
     "text": [
      "<class 'pandas.core.frame.DataFrame'>\n",
      "RangeIndex: 157075 entries, 0 to 157074\n",
      "Data columns (total 2 columns):\n",
      "business_id    157075 non-null object\n",
      "time           157075 non-null object\n",
      "dtypes: object(2)\n",
      "memory usage: 2.4+ MB\n"
     ]
    }
   ],
   "source": [
    "df_checkin.info()"
   ]
  },
  {
   "cell_type": "code",
   "execution_count": 11,
   "metadata": {},
   "outputs": [],
   "source": [
    "df_checkin.to_csv('Dataset/checkin.csv')"
   ]
  },
  {
   "cell_type": "markdown",
   "metadata": {},
   "source": [
    "#### Review Data"
   ]
  },
  {
   "cell_type": "code",
   "execution_count": 12,
   "metadata": {},
   "outputs": [],
   "source": [
    "with open(file_review) as f:\n",
    "    df_review = pd.DataFrame(json.loads(line) for line in f)\n"
   ]
  },
  {
   "cell_type": "code",
   "execution_count": 13,
   "metadata": {},
   "outputs": [
    {
     "data": {
      "text/html": [
       "<div>\n",
       "<style scoped>\n",
       "    .dataframe tbody tr th:only-of-type {\n",
       "        vertical-align: middle;\n",
       "    }\n",
       "\n",
       "    .dataframe tbody tr th {\n",
       "        vertical-align: top;\n",
       "    }\n",
       "\n",
       "    .dataframe thead th {\n",
       "        text-align: right;\n",
       "    }\n",
       "</style>\n",
       "<table border=\"1\" class=\"dataframe\">\n",
       "  <thead>\n",
       "    <tr style=\"text-align: right;\">\n",
       "      <th></th>\n",
       "      <th>business_id</th>\n",
       "      <th>cool</th>\n",
       "      <th>date</th>\n",
       "      <th>funny</th>\n",
       "      <th>review_id</th>\n",
       "      <th>stars</th>\n",
       "      <th>text</th>\n",
       "      <th>useful</th>\n",
       "      <th>user_id</th>\n",
       "    </tr>\n",
       "  </thead>\n",
       "  <tbody>\n",
       "    <tr>\n",
       "      <th>0</th>\n",
       "      <td>iCQpiavjjPzJ5_3gPD5Ebg</td>\n",
       "      <td>0</td>\n",
       "      <td>2011-02-25</td>\n",
       "      <td>0</td>\n",
       "      <td>x7mDIiDB3jEiPGPHOmDzyw</td>\n",
       "      <td>2</td>\n",
       "      <td>The pizza was okay. Not the best I've had. I p...</td>\n",
       "      <td>0</td>\n",
       "      <td>msQe1u7Z_XuqjGoqhB0J5g</td>\n",
       "    </tr>\n",
       "    <tr>\n",
       "      <th>1</th>\n",
       "      <td>pomGBqfbxcqPv14c3XH-ZQ</td>\n",
       "      <td>0</td>\n",
       "      <td>2012-11-13</td>\n",
       "      <td>0</td>\n",
       "      <td>dDl8zu1vWPdKGihJrwQbpw</td>\n",
       "      <td>5</td>\n",
       "      <td>I love this place! My fiance And I go here atl...</td>\n",
       "      <td>0</td>\n",
       "      <td>msQe1u7Z_XuqjGoqhB0J5g</td>\n",
       "    </tr>\n",
       "    <tr>\n",
       "      <th>2</th>\n",
       "      <td>jtQARsP6P-LbkyjbO1qNGg</td>\n",
       "      <td>1</td>\n",
       "      <td>2014-10-23</td>\n",
       "      <td>1</td>\n",
       "      <td>LZp4UX5zK3e-c5ZGSeo3kA</td>\n",
       "      <td>1</td>\n",
       "      <td>Terrible. Dry corn bread. Rib tips were all fa...</td>\n",
       "      <td>3</td>\n",
       "      <td>msQe1u7Z_XuqjGoqhB0J5g</td>\n",
       "    </tr>\n",
       "    <tr>\n",
       "      <th>3</th>\n",
       "      <td>elqbBhBfElMNSrjFqW3now</td>\n",
       "      <td>0</td>\n",
       "      <td>2011-02-25</td>\n",
       "      <td>0</td>\n",
       "      <td>Er4NBWCmCD4nM8_p1GRdow</td>\n",
       "      <td>2</td>\n",
       "      <td>Back in 2005-2007 this place was my FAVORITE t...</td>\n",
       "      <td>2</td>\n",
       "      <td>msQe1u7Z_XuqjGoqhB0J5g</td>\n",
       "    </tr>\n",
       "    <tr>\n",
       "      <th>4</th>\n",
       "      <td>Ums3gaP2qM3W1XcA5r6SsQ</td>\n",
       "      <td>0</td>\n",
       "      <td>2014-09-05</td>\n",
       "      <td>0</td>\n",
       "      <td>jsDu6QEJHbwP2Blom1PLCA</td>\n",
       "      <td>5</td>\n",
       "      <td>Delicious healthy food. The steak is amazing. ...</td>\n",
       "      <td>0</td>\n",
       "      <td>msQe1u7Z_XuqjGoqhB0J5g</td>\n",
       "    </tr>\n",
       "  </tbody>\n",
       "</table>\n",
       "</div>"
      ],
      "text/plain": [
       "              business_id  cool        date  funny               review_id  \\\n",
       "0  iCQpiavjjPzJ5_3gPD5Ebg     0  2011-02-25      0  x7mDIiDB3jEiPGPHOmDzyw   \n",
       "1  pomGBqfbxcqPv14c3XH-ZQ     0  2012-11-13      0  dDl8zu1vWPdKGihJrwQbpw   \n",
       "2  jtQARsP6P-LbkyjbO1qNGg     1  2014-10-23      1  LZp4UX5zK3e-c5ZGSeo3kA   \n",
       "3  elqbBhBfElMNSrjFqW3now     0  2011-02-25      0  Er4NBWCmCD4nM8_p1GRdow   \n",
       "4  Ums3gaP2qM3W1XcA5r6SsQ     0  2014-09-05      0  jsDu6QEJHbwP2Blom1PLCA   \n",
       "\n",
       "   stars                                               text  useful  \\\n",
       "0      2  The pizza was okay. Not the best I've had. I p...       0   \n",
       "1      5  I love this place! My fiance And I go here atl...       0   \n",
       "2      1  Terrible. Dry corn bread. Rib tips were all fa...       3   \n",
       "3      2  Back in 2005-2007 this place was my FAVORITE t...       2   \n",
       "4      5  Delicious healthy food. The steak is amazing. ...       0   \n",
       "\n",
       "                  user_id  \n",
       "0  msQe1u7Z_XuqjGoqhB0J5g  \n",
       "1  msQe1u7Z_XuqjGoqhB0J5g  \n",
       "2  msQe1u7Z_XuqjGoqhB0J5g  \n",
       "3  msQe1u7Z_XuqjGoqhB0J5g  \n",
       "4  msQe1u7Z_XuqjGoqhB0J5g  "
      ]
     },
     "execution_count": 13,
     "metadata": {},
     "output_type": "execute_result"
    }
   ],
   "source": [
    "df_review.head(5)\n",
    "# df_review.head()"
   ]
  },
  {
   "cell_type": "code",
   "execution_count": 14,
   "metadata": {},
   "outputs": [
    {
     "name": "stdout",
     "output_type": "stream",
     "text": [
      "<class 'pandas.core.frame.DataFrame'>\n",
      "RangeIndex: 5996996 entries, 0 to 5996995\n",
      "Data columns (total 9 columns):\n",
      "business_id    object\n",
      "cool           int64\n",
      "date           object\n",
      "funny          int64\n",
      "review_id      object\n",
      "stars          int64\n",
      "text           object\n",
      "useful         int64\n",
      "user_id        object\n",
      "dtypes: int64(4), object(5)\n",
      "memory usage: 411.8+ MB\n"
     ]
    }
   ],
   "source": [
    "df_review.info()"
   ]
  },
  {
   "cell_type": "code",
   "execution_count": 15,
   "metadata": {},
   "outputs": [
    {
     "data": {
      "text/html": [
       "<div>\n",
       "<style scoped>\n",
       "    .dataframe tbody tr th:only-of-type {\n",
       "        vertical-align: middle;\n",
       "    }\n",
       "\n",
       "    .dataframe tbody tr th {\n",
       "        vertical-align: top;\n",
       "    }\n",
       "\n",
       "    .dataframe thead th {\n",
       "        text-align: right;\n",
       "    }\n",
       "</style>\n",
       "<table border=\"1\" class=\"dataframe\">\n",
       "  <thead>\n",
       "    <tr style=\"text-align: right;\">\n",
       "      <th></th>\n",
       "      <th>cool</th>\n",
       "      <th>funny</th>\n",
       "      <th>stars</th>\n",
       "      <th>useful</th>\n",
       "    </tr>\n",
       "  </thead>\n",
       "  <tbody>\n",
       "    <tr>\n",
       "      <th>count</th>\n",
       "      <td>5.996996e+06</td>\n",
       "      <td>5.996996e+06</td>\n",
       "      <td>5.996996e+06</td>\n",
       "      <td>5.996996e+06</td>\n",
       "    </tr>\n",
       "    <tr>\n",
       "      <th>mean</th>\n",
       "      <td>5.816597e-01</td>\n",
       "      <td>4.911249e-01</td>\n",
       "      <td>3.736306e+00</td>\n",
       "      <td>1.368465e+00</td>\n",
       "    </tr>\n",
       "    <tr>\n",
       "      <th>std</th>\n",
       "      <td>2.316354e+00</td>\n",
       "      <td>2.406411e+00</td>\n",
       "      <td>1.447924e+00</td>\n",
       "      <td>3.713469e+00</td>\n",
       "    </tr>\n",
       "    <tr>\n",
       "      <th>min</th>\n",
       "      <td>-1.000000e+00</td>\n",
       "      <td>0.000000e+00</td>\n",
       "      <td>0.000000e+00</td>\n",
       "      <td>-1.000000e+00</td>\n",
       "    </tr>\n",
       "    <tr>\n",
       "      <th>25%</th>\n",
       "      <td>0.000000e+00</td>\n",
       "      <td>0.000000e+00</td>\n",
       "      <td>3.000000e+00</td>\n",
       "      <td>0.000000e+00</td>\n",
       "    </tr>\n",
       "    <tr>\n",
       "      <th>50%</th>\n",
       "      <td>0.000000e+00</td>\n",
       "      <td>0.000000e+00</td>\n",
       "      <td>4.000000e+00</td>\n",
       "      <td>0.000000e+00</td>\n",
       "    </tr>\n",
       "    <tr>\n",
       "      <th>75%</th>\n",
       "      <td>1.000000e+00</td>\n",
       "      <td>0.000000e+00</td>\n",
       "      <td>5.000000e+00</td>\n",
       "      <td>2.000000e+00</td>\n",
       "    </tr>\n",
       "    <tr>\n",
       "      <th>max</th>\n",
       "      <td>5.050000e+02</td>\n",
       "      <td>9.910000e+02</td>\n",
       "      <td>5.000000e+00</td>\n",
       "      <td>1.234000e+03</td>\n",
       "    </tr>\n",
       "  </tbody>\n",
       "</table>\n",
       "</div>"
      ],
      "text/plain": [
       "               cool         funny         stars        useful\n",
       "count  5.996996e+06  5.996996e+06  5.996996e+06  5.996996e+06\n",
       "mean   5.816597e-01  4.911249e-01  3.736306e+00  1.368465e+00\n",
       "std    2.316354e+00  2.406411e+00  1.447924e+00  3.713469e+00\n",
       "min   -1.000000e+00  0.000000e+00  0.000000e+00 -1.000000e+00\n",
       "25%    0.000000e+00  0.000000e+00  3.000000e+00  0.000000e+00\n",
       "50%    0.000000e+00  0.000000e+00  4.000000e+00  0.000000e+00\n",
       "75%    1.000000e+00  0.000000e+00  5.000000e+00  2.000000e+00\n",
       "max    5.050000e+02  9.910000e+02  5.000000e+00  1.234000e+03"
      ]
     },
     "execution_count": 15,
     "metadata": {},
     "output_type": "execute_result"
    }
   ],
   "source": [
    "df_review.describe()"
   ]
  },
  {
   "cell_type": "code",
   "execution_count": 16,
   "metadata": {},
   "outputs": [],
   "source": [
    "df_review.to_csv('Dataset/review.csv')"
   ]
  },
  {
   "cell_type": "markdown",
   "metadata": {},
   "source": [
    "#### Tip Data"
   ]
  },
  {
   "cell_type": "code",
   "execution_count": 17,
   "metadata": {},
   "outputs": [],
   "source": [
    "with open(file_tip) as f:\n",
    "    df_tip = pd.DataFrame(json.loads(line) for line in f)\n"
   ]
  },
  {
   "cell_type": "code",
   "execution_count": 18,
   "metadata": {},
   "outputs": [
    {
     "name": "stdout",
     "output_type": "stream",
     "text": [
      "              business_id        date  likes  \\\n",
      "0  tJRDll5yqpZwehenzE2cSg  2012-07-15      0   \n",
      "1  2ThtBbeDqFkVi6LugUOcVA  2012-11-25      0   \n",
      "2  jH19V2I9fIslnNhDzPmdkA  2015-08-12      0   \n",
      "3  dAa0hB2yrnHzVmsCkN4YvQ  2014-06-20      0   \n",
      "4  dAa0hB2yrnHzVmsCkN4YvQ  2016-10-12      0   \n",
      "\n",
      "                                                text                 user_id  \n",
      "0              Get here early enough to have dinner.  zcTZk7OG8ovAmh_fenH21g  \n",
      "1  Don't use them! Double charged my boyfriend an...  M5n8mMFoeXjnJEV2gxyGGA  \n",
      "2  Great breakfast large portions and friendly wa...  ZcLKXikTHYOnYt5VYRO5sg  \n",
      "3  Nice place. Great staff.  A fixture in the tow...  oaYhjqBbh18ZhU0bpyzSuw  \n",
      "4                     Happy hour 5-7 Monday - Friday  ulQ8Nyj7jCUR8M83SUMoRQ  \n"
     ]
    }
   ],
   "source": [
    "print(df_tip.head())"
   ]
  },
  {
   "cell_type": "code",
   "execution_count": 19,
   "metadata": {},
   "outputs": [
    {
     "name": "stdout",
     "output_type": "stream",
     "text": [
      "<class 'pandas.core.frame.DataFrame'>\n",
      "RangeIndex: 1185348 entries, 0 to 1185347\n",
      "Data columns (total 5 columns):\n",
      "business_id    1185348 non-null object\n",
      "date           1185348 non-null object\n",
      "likes          1185348 non-null int64\n",
      "text           1185348 non-null object\n",
      "user_id        1185348 non-null object\n",
      "dtypes: int64(1), object(4)\n",
      "memory usage: 45.2+ MB\n"
     ]
    }
   ],
   "source": [
    "df_tip.info()"
   ]
  },
  {
   "cell_type": "code",
   "execution_count": 20,
   "metadata": {},
   "outputs": [
    {
     "data": {
      "text/html": [
       "<div>\n",
       "<style scoped>\n",
       "    .dataframe tbody tr th:only-of-type {\n",
       "        vertical-align: middle;\n",
       "    }\n",
       "\n",
       "    .dataframe tbody tr th {\n",
       "        vertical-align: top;\n",
       "    }\n",
       "\n",
       "    .dataframe thead th {\n",
       "        text-align: right;\n",
       "    }\n",
       "</style>\n",
       "<table border=\"1\" class=\"dataframe\">\n",
       "  <thead>\n",
       "    <tr style=\"text-align: right;\">\n",
       "      <th></th>\n",
       "      <th>likes</th>\n",
       "    </tr>\n",
       "  </thead>\n",
       "  <tbody>\n",
       "    <tr>\n",
       "      <th>count</th>\n",
       "      <td>1.185348e+06</td>\n",
       "    </tr>\n",
       "    <tr>\n",
       "      <th>mean</th>\n",
       "      <td>1.660609e-02</td>\n",
       "    </tr>\n",
       "    <tr>\n",
       "      <th>std</th>\n",
       "      <td>1.463528e-01</td>\n",
       "    </tr>\n",
       "    <tr>\n",
       "      <th>min</th>\n",
       "      <td>0.000000e+00</td>\n",
       "    </tr>\n",
       "    <tr>\n",
       "      <th>25%</th>\n",
       "      <td>0.000000e+00</td>\n",
       "    </tr>\n",
       "    <tr>\n",
       "      <th>50%</th>\n",
       "      <td>0.000000e+00</td>\n",
       "    </tr>\n",
       "    <tr>\n",
       "      <th>75%</th>\n",
       "      <td>0.000000e+00</td>\n",
       "    </tr>\n",
       "    <tr>\n",
       "      <th>max</th>\n",
       "      <td>1.500000e+01</td>\n",
       "    </tr>\n",
       "  </tbody>\n",
       "</table>\n",
       "</div>"
      ],
      "text/plain": [
       "              likes\n",
       "count  1.185348e+06\n",
       "mean   1.660609e-02\n",
       "std    1.463528e-01\n",
       "min    0.000000e+00\n",
       "25%    0.000000e+00\n",
       "50%    0.000000e+00\n",
       "75%    0.000000e+00\n",
       "max    1.500000e+01"
      ]
     },
     "execution_count": 20,
     "metadata": {},
     "output_type": "execute_result"
    }
   ],
   "source": [
    "df_tip.describe()"
   ]
  },
  {
   "cell_type": "code",
   "execution_count": 21,
   "metadata": {},
   "outputs": [],
   "source": [
    "df_tip.to_csv('Dataset/tip.csv')"
   ]
  },
  {
   "cell_type": "markdown",
   "metadata": {},
   "source": [
    "#### User Data"
   ]
  },
  {
   "cell_type": "code",
   "execution_count": 22,
   "metadata": {},
   "outputs": [],
   "source": [
    "with open(file_user) as f:\n",
    "    df_user = pd.DataFrame(json.loads(line) for line in f)\n"
   ]
  },
  {
   "cell_type": "code",
   "execution_count": 23,
   "metadata": {},
   "outputs": [
    {
     "name": "stdout",
     "output_type": "stream",
     "text": [
      "   average_stars  compliment_cool  compliment_cute  compliment_funny  \\\n",
      "0           2.00                0                0                 0   \n",
      "1           5.00                0                0                 0   \n",
      "2           4.00                0                0                 0   \n",
      "3           4.05                0                0                 0   \n",
      "4           3.00                0                0                 0   \n",
      "\n",
      "   compliment_hot  compliment_list  compliment_more  compliment_note  \\\n",
      "0               0                0                0                0   \n",
      "1               0                0                0                0   \n",
      "2               0                0                0                0   \n",
      "3               0                0                0                0   \n",
      "4               0                0                0                0   \n",
      "\n",
      "   compliment_photos  compliment_plain      ...        cool  elite  fans  \\\n",
      "0                  0                 0      ...           0   None     0   \n",
      "1                  0                 0      ...           0   None     0   \n",
      "2                  0                 0      ...           0   None     0   \n",
      "3                  0                 0      ...           0   None     0   \n",
      "4                  0                 0      ...           0   None     0   \n",
      "\n",
      "  friends  funny      name  review_count useful                 user_id  \\\n",
      "0    None      0     Susan             1      0  lzlZwIpuSWXEnNS91wxjHw   \n",
      "1    None      0  Daipayan             2      0  XvLBr-9smbI0m_a7dXtB7w   \n",
      "2    None      0      Andy             1      0  QPT4Ud4H5sJVr68yXhoWFw   \n",
      "3    None      0  Jonathan            19      0  i5YitlHZpf0B3R0s_8NVuw   \n",
      "4    None      0  Shashank             3      0  s4FoIXE_LSGviTHBe8dmcg   \n",
      "\n",
      "   yelping_since  \n",
      "0     2015-09-28  \n",
      "1     2015-09-05  \n",
      "2     2016-07-21  \n",
      "3     2014-08-04  \n",
      "4     2017-06-18  \n",
      "\n",
      "[5 rows x 22 columns]\n"
     ]
    }
   ],
   "source": [
    "print(df_user.head())"
   ]
  },
  {
   "cell_type": "code",
   "execution_count": 24,
   "metadata": {},
   "outputs": [
    {
     "name": "stdout",
     "output_type": "stream",
     "text": [
      "<class 'pandas.core.frame.DataFrame'>\n",
      "RangeIndex: 1518169 entries, 0 to 1518168\n",
      "Data columns (total 22 columns):\n",
      "average_stars         1518169 non-null float64\n",
      "compliment_cool       1518169 non-null int64\n",
      "compliment_cute       1518169 non-null int64\n",
      "compliment_funny      1518169 non-null int64\n",
      "compliment_hot        1518169 non-null int64\n",
      "compliment_list       1518169 non-null int64\n",
      "compliment_more       1518169 non-null int64\n",
      "compliment_note       1518169 non-null int64\n",
      "compliment_photos     1518169 non-null int64\n",
      "compliment_plain      1518169 non-null int64\n",
      "compliment_profile    1518169 non-null int64\n",
      "compliment_writer     1518169 non-null int64\n",
      "cool                  1518169 non-null int64\n",
      "elite                 1518169 non-null object\n",
      "fans                  1518169 non-null int64\n",
      "friends               1518169 non-null object\n",
      "funny                 1518169 non-null int64\n",
      "name                  1518169 non-null object\n",
      "review_count          1518169 non-null int64\n",
      "useful                1518169 non-null int64\n",
      "user_id               1518169 non-null object\n",
      "yelping_since         1518169 non-null object\n",
      "dtypes: float64(1), int64(16), object(5)\n",
      "memory usage: 254.8+ MB\n"
     ]
    }
   ],
   "source": [
    "df_user.info()"
   ]
  },
  {
   "cell_type": "code",
   "execution_count": 25,
   "metadata": {},
   "outputs": [
    {
     "data": {
      "text/html": [
       "<div>\n",
       "<style scoped>\n",
       "    .dataframe tbody tr th:only-of-type {\n",
       "        vertical-align: middle;\n",
       "    }\n",
       "\n",
       "    .dataframe tbody tr th {\n",
       "        vertical-align: top;\n",
       "    }\n",
       "\n",
       "    .dataframe thead th {\n",
       "        text-align: right;\n",
       "    }\n",
       "</style>\n",
       "<table border=\"1\" class=\"dataframe\">\n",
       "  <thead>\n",
       "    <tr style=\"text-align: right;\">\n",
       "      <th></th>\n",
       "      <th>average_stars</th>\n",
       "      <th>compliment_cool</th>\n",
       "      <th>compliment_cute</th>\n",
       "      <th>compliment_funny</th>\n",
       "      <th>compliment_hot</th>\n",
       "      <th>compliment_list</th>\n",
       "      <th>compliment_more</th>\n",
       "      <th>compliment_note</th>\n",
       "      <th>compliment_photos</th>\n",
       "      <th>compliment_plain</th>\n",
       "      <th>compliment_profile</th>\n",
       "      <th>compliment_writer</th>\n",
       "      <th>cool</th>\n",
       "      <th>fans</th>\n",
       "      <th>funny</th>\n",
       "      <th>review_count</th>\n",
       "      <th>useful</th>\n",
       "    </tr>\n",
       "  </thead>\n",
       "  <tbody>\n",
       "    <tr>\n",
       "      <th>count</th>\n",
       "      <td>1.518169e+06</td>\n",
       "      <td>1.518169e+06</td>\n",
       "      <td>1.518169e+06</td>\n",
       "      <td>1.518169e+06</td>\n",
       "      <td>1.518169e+06</td>\n",
       "      <td>1.518169e+06</td>\n",
       "      <td>1.518169e+06</td>\n",
       "      <td>1.518169e+06</td>\n",
       "      <td>1.518169e+06</td>\n",
       "      <td>1.518169e+06</td>\n",
       "      <td>1.518169e+06</td>\n",
       "      <td>1.518169e+06</td>\n",
       "      <td>1.518169e+06</td>\n",
       "      <td>1.518169e+06</td>\n",
       "      <td>1.518169e+06</td>\n",
       "      <td>1.518169e+06</td>\n",
       "      <td>1.518169e+06</td>\n",
       "    </tr>\n",
       "    <tr>\n",
       "      <th>mean</th>\n",
       "      <td>3.716941e+00</td>\n",
       "      <td>3.257744e+00</td>\n",
       "      <td>2.030696e-01</td>\n",
       "      <td>3.257744e+00</td>\n",
       "      <td>2.351439e+00</td>\n",
       "      <td>8.959674e-02</td>\n",
       "      <td>3.496482e-01</td>\n",
       "      <td>1.550980e+00</td>\n",
       "      <td>1.161873e+00</td>\n",
       "      <td>3.239886e+00</td>\n",
       "      <td>2.257515e-01</td>\n",
       "      <td>1.225092e+00</td>\n",
       "      <td>1.912421e+01</td>\n",
       "      <td>1.453618e+00</td>\n",
       "      <td>1.399221e+01</td>\n",
       "      <td>2.243219e+01</td>\n",
       "      <td>2.866694e+01</td>\n",
       "    </tr>\n",
       "    <tr>\n",
       "      <th>std</th>\n",
       "      <td>1.133998e+00</td>\n",
       "      <td>8.910309e+01</td>\n",
       "      <td>1.315116e+01</td>\n",
       "      <td>8.910309e+01</td>\n",
       "      <td>7.944780e+01</td>\n",
       "      <td>1.129681e+01</td>\n",
       "      <td>1.411544e+01</td>\n",
       "      <td>5.734051e+01</td>\n",
       "      <td>9.679741e+01</td>\n",
       "      <td>9.271578e+01</td>\n",
       "      <td>1.676400e+01</td>\n",
       "      <td>3.325393e+01</td>\n",
       "      <td>6.978946e+02</td>\n",
       "      <td>1.519258e+01</td>\n",
       "      <td>5.225402e+02</td>\n",
       "      <td>7.750849e+01</td>\n",
       "      <td>7.301740e+02</td>\n",
       "    </tr>\n",
       "    <tr>\n",
       "      <th>min</th>\n",
       "      <td>0.000000e+00</td>\n",
       "      <td>0.000000e+00</td>\n",
       "      <td>0.000000e+00</td>\n",
       "      <td>0.000000e+00</td>\n",
       "      <td>0.000000e+00</td>\n",
       "      <td>0.000000e+00</td>\n",
       "      <td>0.000000e+00</td>\n",
       "      <td>0.000000e+00</td>\n",
       "      <td>0.000000e+00</td>\n",
       "      <td>0.000000e+00</td>\n",
       "      <td>0.000000e+00</td>\n",
       "      <td>0.000000e+00</td>\n",
       "      <td>0.000000e+00</td>\n",
       "      <td>0.000000e+00</td>\n",
       "      <td>0.000000e+00</td>\n",
       "      <td>0.000000e+00</td>\n",
       "      <td>0.000000e+00</td>\n",
       "    </tr>\n",
       "    <tr>\n",
       "      <th>25%</th>\n",
       "      <td>3.070000e+00</td>\n",
       "      <td>0.000000e+00</td>\n",
       "      <td>0.000000e+00</td>\n",
       "      <td>0.000000e+00</td>\n",
       "      <td>0.000000e+00</td>\n",
       "      <td>0.000000e+00</td>\n",
       "      <td>0.000000e+00</td>\n",
       "      <td>0.000000e+00</td>\n",
       "      <td>0.000000e+00</td>\n",
       "      <td>0.000000e+00</td>\n",
       "      <td>0.000000e+00</td>\n",
       "      <td>0.000000e+00</td>\n",
       "      <td>0.000000e+00</td>\n",
       "      <td>0.000000e+00</td>\n",
       "      <td>0.000000e+00</td>\n",
       "      <td>2.000000e+00</td>\n",
       "      <td>0.000000e+00</td>\n",
       "    </tr>\n",
       "    <tr>\n",
       "      <th>50%</th>\n",
       "      <td>3.920000e+00</td>\n",
       "      <td>0.000000e+00</td>\n",
       "      <td>0.000000e+00</td>\n",
       "      <td>0.000000e+00</td>\n",
       "      <td>0.000000e+00</td>\n",
       "      <td>0.000000e+00</td>\n",
       "      <td>0.000000e+00</td>\n",
       "      <td>0.000000e+00</td>\n",
       "      <td>0.000000e+00</td>\n",
       "      <td>0.000000e+00</td>\n",
       "      <td>0.000000e+00</td>\n",
       "      <td>0.000000e+00</td>\n",
       "      <td>0.000000e+00</td>\n",
       "      <td>0.000000e+00</td>\n",
       "      <td>0.000000e+00</td>\n",
       "      <td>5.000000e+00</td>\n",
       "      <td>0.000000e+00</td>\n",
       "    </tr>\n",
       "    <tr>\n",
       "      <th>75%</th>\n",
       "      <td>4.670000e+00</td>\n",
       "      <td>0.000000e+00</td>\n",
       "      <td>0.000000e+00</td>\n",
       "      <td>0.000000e+00</td>\n",
       "      <td>0.000000e+00</td>\n",
       "      <td>0.000000e+00</td>\n",
       "      <td>0.000000e+00</td>\n",
       "      <td>0.000000e+00</td>\n",
       "      <td>0.000000e+00</td>\n",
       "      <td>0.000000e+00</td>\n",
       "      <td>0.000000e+00</td>\n",
       "      <td>0.000000e+00</td>\n",
       "      <td>0.000000e+00</td>\n",
       "      <td>0.000000e+00</td>\n",
       "      <td>0.000000e+00</td>\n",
       "      <td>1.500000e+01</td>\n",
       "      <td>3.000000e+00</td>\n",
       "    </tr>\n",
       "    <tr>\n",
       "      <th>max</th>\n",
       "      <td>5.000000e+00</td>\n",
       "      <td>3.069900e+04</td>\n",
       "      <td>1.364800e+04</td>\n",
       "      <td>3.069900e+04</td>\n",
       "      <td>3.353400e+04</td>\n",
       "      <td>1.266300e+04</td>\n",
       "      <td>1.349400e+04</td>\n",
       "      <td>5.747500e+04</td>\n",
       "      <td>8.259300e+04</td>\n",
       "      <td>4.862800e+04</td>\n",
       "      <td>1.416500e+04</td>\n",
       "      <td>1.543300e+04</td>\n",
       "      <td>2.559090e+05</td>\n",
       "      <td>8.665000e+03</td>\n",
       "      <td>2.421200e+05</td>\n",
       "      <td>1.272300e+04</td>\n",
       "      <td>2.584790e+05</td>\n",
       "    </tr>\n",
       "  </tbody>\n",
       "</table>\n",
       "</div>"
      ],
      "text/plain": [
       "       average_stars  compliment_cool  compliment_cute  compliment_funny  \\\n",
       "count   1.518169e+06     1.518169e+06     1.518169e+06      1.518169e+06   \n",
       "mean    3.716941e+00     3.257744e+00     2.030696e-01      3.257744e+00   \n",
       "std     1.133998e+00     8.910309e+01     1.315116e+01      8.910309e+01   \n",
       "min     0.000000e+00     0.000000e+00     0.000000e+00      0.000000e+00   \n",
       "25%     3.070000e+00     0.000000e+00     0.000000e+00      0.000000e+00   \n",
       "50%     3.920000e+00     0.000000e+00     0.000000e+00      0.000000e+00   \n",
       "75%     4.670000e+00     0.000000e+00     0.000000e+00      0.000000e+00   \n",
       "max     5.000000e+00     3.069900e+04     1.364800e+04      3.069900e+04   \n",
       "\n",
       "       compliment_hot  compliment_list  compliment_more  compliment_note  \\\n",
       "count    1.518169e+06     1.518169e+06     1.518169e+06     1.518169e+06   \n",
       "mean     2.351439e+00     8.959674e-02     3.496482e-01     1.550980e+00   \n",
       "std      7.944780e+01     1.129681e+01     1.411544e+01     5.734051e+01   \n",
       "min      0.000000e+00     0.000000e+00     0.000000e+00     0.000000e+00   \n",
       "25%      0.000000e+00     0.000000e+00     0.000000e+00     0.000000e+00   \n",
       "50%      0.000000e+00     0.000000e+00     0.000000e+00     0.000000e+00   \n",
       "75%      0.000000e+00     0.000000e+00     0.000000e+00     0.000000e+00   \n",
       "max      3.353400e+04     1.266300e+04     1.349400e+04     5.747500e+04   \n",
       "\n",
       "       compliment_photos  compliment_plain  compliment_profile  \\\n",
       "count       1.518169e+06      1.518169e+06        1.518169e+06   \n",
       "mean        1.161873e+00      3.239886e+00        2.257515e-01   \n",
       "std         9.679741e+01      9.271578e+01        1.676400e+01   \n",
       "min         0.000000e+00      0.000000e+00        0.000000e+00   \n",
       "25%         0.000000e+00      0.000000e+00        0.000000e+00   \n",
       "50%         0.000000e+00      0.000000e+00        0.000000e+00   \n",
       "75%         0.000000e+00      0.000000e+00        0.000000e+00   \n",
       "max         8.259300e+04      4.862800e+04        1.416500e+04   \n",
       "\n",
       "       compliment_writer          cool          fans         funny  \\\n",
       "count       1.518169e+06  1.518169e+06  1.518169e+06  1.518169e+06   \n",
       "mean        1.225092e+00  1.912421e+01  1.453618e+00  1.399221e+01   \n",
       "std         3.325393e+01  6.978946e+02  1.519258e+01  5.225402e+02   \n",
       "min         0.000000e+00  0.000000e+00  0.000000e+00  0.000000e+00   \n",
       "25%         0.000000e+00  0.000000e+00  0.000000e+00  0.000000e+00   \n",
       "50%         0.000000e+00  0.000000e+00  0.000000e+00  0.000000e+00   \n",
       "75%         0.000000e+00  0.000000e+00  0.000000e+00  0.000000e+00   \n",
       "max         1.543300e+04  2.559090e+05  8.665000e+03  2.421200e+05   \n",
       "\n",
       "       review_count        useful  \n",
       "count  1.518169e+06  1.518169e+06  \n",
       "mean   2.243219e+01  2.866694e+01  \n",
       "std    7.750849e+01  7.301740e+02  \n",
       "min    0.000000e+00  0.000000e+00  \n",
       "25%    2.000000e+00  0.000000e+00  \n",
       "50%    5.000000e+00  0.000000e+00  \n",
       "75%    1.500000e+01  3.000000e+00  \n",
       "max    1.272300e+04  2.584790e+05  "
      ]
     },
     "execution_count": 25,
     "metadata": {},
     "output_type": "execute_result"
    }
   ],
   "source": [
    "df_user.describe()"
   ]
  },
  {
   "cell_type": "code",
   "execution_count": 26,
   "metadata": {},
   "outputs": [],
   "source": [
    "df_user.to_csv('Dataset/user.csv')"
   ]
  },
  {
   "cell_type": "markdown",
   "metadata": {},
   "source": [
    "#### Photo data"
   ]
  },
  {
   "cell_type": "code",
   "execution_count": 27,
   "metadata": {},
   "outputs": [],
   "source": [
    "with open(file_photo) as f:\n",
    "    df_photo = pd.DataFrame(json.loads(line) for line in f)"
   ]
  },
  {
   "cell_type": "code",
   "execution_count": 28,
   "metadata": {},
   "outputs": [
    {
     "data": {
      "text/html": [
       "<div>\n",
       "<style scoped>\n",
       "    .dataframe tbody tr th:only-of-type {\n",
       "        vertical-align: middle;\n",
       "    }\n",
       "\n",
       "    .dataframe tbody tr th {\n",
       "        vertical-align: top;\n",
       "    }\n",
       "\n",
       "    .dataframe thead th {\n",
       "        text-align: right;\n",
       "    }\n",
       "</style>\n",
       "<table border=\"1\" class=\"dataframe\">\n",
       "  <thead>\n",
       "    <tr style=\"text-align: right;\">\n",
       "      <th></th>\n",
       "      <th>business_id</th>\n",
       "      <th>caption</th>\n",
       "      <th>label</th>\n",
       "      <th>photo_id</th>\n",
       "    </tr>\n",
       "  </thead>\n",
       "  <tbody>\n",
       "    <tr>\n",
       "      <th>0</th>\n",
       "      <td>wRKYaVXTks43GVSI2awTQA</td>\n",
       "      <td></td>\n",
       "      <td>food</td>\n",
       "      <td>IuXwafFH3fZlTyXA-poz0w</td>\n",
       "    </tr>\n",
       "    <tr>\n",
       "      <th>1</th>\n",
       "      <td>wRKYaVXTks43GVSI2awTQA</td>\n",
       "      <td></td>\n",
       "      <td>food</td>\n",
       "      <td>vhnZ58_1shy9HNVdZgtMLw</td>\n",
       "    </tr>\n",
       "    <tr>\n",
       "      <th>2</th>\n",
       "      <td>wRKYaVXTks43GVSI2awTQA</td>\n",
       "      <td></td>\n",
       "      <td>food</td>\n",
       "      <td>j9ad7H2IBEzhfNCuJu4ukg</td>\n",
       "    </tr>\n",
       "    <tr>\n",
       "      <th>3</th>\n",
       "      <td>wRKYaVXTks43GVSI2awTQA</td>\n",
       "      <td></td>\n",
       "      <td>food</td>\n",
       "      <td>du-5X44HccQ9Zo3pQPiFgQ</td>\n",
       "    </tr>\n",
       "    <tr>\n",
       "      <th>4</th>\n",
       "      <td>wRKYaVXTks43GVSI2awTQA</td>\n",
       "      <td>The classic Farmer's Choice Breakfast has a li...</td>\n",
       "      <td>food</td>\n",
       "      <td>u7Tt1nvclYNoq3UOToP-GA</td>\n",
       "    </tr>\n",
       "  </tbody>\n",
       "</table>\n",
       "</div>"
      ],
      "text/plain": [
       "              business_id                                            caption  \\\n",
       "0  wRKYaVXTks43GVSI2awTQA                                                      \n",
       "1  wRKYaVXTks43GVSI2awTQA                                                      \n",
       "2  wRKYaVXTks43GVSI2awTQA                                                      \n",
       "3  wRKYaVXTks43GVSI2awTQA                                                      \n",
       "4  wRKYaVXTks43GVSI2awTQA  The classic Farmer's Choice Breakfast has a li...   \n",
       "\n",
       "  label                photo_id  \n",
       "0  food  IuXwafFH3fZlTyXA-poz0w  \n",
       "1  food  vhnZ58_1shy9HNVdZgtMLw  \n",
       "2  food  j9ad7H2IBEzhfNCuJu4ukg  \n",
       "3  food  du-5X44HccQ9Zo3pQPiFgQ  \n",
       "4  food  u7Tt1nvclYNoq3UOToP-GA  "
      ]
     },
     "execution_count": 28,
     "metadata": {},
     "output_type": "execute_result"
    }
   ],
   "source": [
    "df_photo.head()"
   ]
  },
  {
   "cell_type": "code",
   "execution_count": 29,
   "metadata": {},
   "outputs": [],
   "source": [
    "df_photo.to_csv('Dataset/photo.csv')"
   ]
  },
  {
   "cell_type": "markdown",
   "metadata": {},
   "source": [
    "# Filter data by city and category"
   ]
  },
  {
   "cell_type": "markdown",
   "metadata": {},
   "source": [
    "#### Create filters/masks 1\n",
    "\n",
    "* create filters that selects business \n",
    "    * that are located in \"Las Vegas\"\n",
    "    * that contains \"Restaurants\" in their category (You may need to filter null categories first)"
   ]
  },
  {
   "cell_type": "code",
   "execution_count": 50,
   "metadata": {},
   "outputs": [],
   "source": [
    "lasvegasbusiness = df_business.query('city ==\"Las Vegas\" ')"
   ]
  },
  {
   "cell_type": "code",
   "execution_count": 51,
   "metadata": {},
   "outputs": [],
   "source": [
    "lasvegasrest = lasvegasbusiness[lasvegasbusiness['categories'].apply(str).str.contains(\"Restaurants\")]"
   ]
  },
  {
   "cell_type": "code",
   "execution_count": 68,
   "metadata": {},
   "outputs": [],
   "source": [
    "lasvegasrest = lasvegasrest[lasvegasrest.categories.isnull() == False]\n",
    "# lasvegasrest.to_csv('Dataset/lasvegasrest.csv')"
   ]
  },
  {
   "cell_type": "markdown",
   "metadata": {},
   "source": [
    "#### Create filters/masks 2\n",
    "\n",
    "* create filters that selects business \n",
    "    * that are located in \"Pittsburgh\"\n",
    "    * that contains \"Restaurants\" in their category (You may need to filter null categories first)"
   ]
  },
  {
   "cell_type": "code",
   "execution_count": 91,
   "metadata": {},
   "outputs": [],
   "source": [
    "pittsbusiness = df_business.query('city ==\"Pittsburgh\" ')\n",
    "pittsrest = pittsbusiness[pittsbusiness['categories'].apply(str).str.contains(\"Restaurants\")]\n",
    "pittsrest = pittsrest[pittsrest.categories.isnull() == False]\n",
    "# pittsrest.to_csv('Dataset/pittsrest.csv')"
   ]
  },
  {
   "cell_type": "code",
   "execution_count": null,
   "metadata": {},
   "outputs": [],
   "source": []
  },
  {
   "cell_type": "code",
   "execution_count": null,
   "metadata": {},
   "outputs": [],
   "source": []
  },
  {
   "cell_type": "markdown",
   "metadata": {},
   "source": [
    "#### Keep relevant columns\n",
    "\n",
    "* only keep some useful columns\n",
    "    * business_id\n",
    "    * name\n",
    "    * categories\n",
    "    * stars"
   ]
  },
  {
   "cell_type": "code",
   "execution_count": null,
   "metadata": {},
   "outputs": [],
   "source": []
  },
  {
   "cell_type": "code",
   "execution_count": 95,
   "metadata": {},
   "outputs": [],
   "source": [
    "keepcol = ['business_id','name','categories','stars']\n",
    "lasvegasrest = lasvegasrest[keepcol]\n",
    "pittsrest = pittsrest[keepcol]"
   ]
  },
  {
   "cell_type": "code",
   "execution_count": 75,
   "metadata": {},
   "outputs": [
    {
     "name": "stdout",
     "output_type": "stream",
     "text": [
      "<class 'pandas.core.frame.DataFrame'>\n",
      "Int64Index: 6148 entries, 19 to 188567\n",
      "Data columns (total 4 columns):\n",
      "business_id    6148 non-null object\n",
      "name           6148 non-null object\n",
      "categories     6148 non-null object\n",
      "stars          6148 non-null float64\n",
      "dtypes: float64(1), object(3)\n",
      "memory usage: 240.2+ KB\n"
     ]
    }
   ],
   "source": [
    "lasvegasrest.info()"
   ]
  },
  {
   "cell_type": "code",
   "execution_count": 96,
   "metadata": {},
   "outputs": [
    {
     "name": "stdout",
     "output_type": "stream",
     "text": [
      "<class 'pandas.core.frame.DataFrame'>\n",
      "Int64Index: 2305 entries, 73 to 188523\n",
      "Data columns (total 4 columns):\n",
      "business_id    2305 non-null object\n",
      "name           2305 non-null object\n",
      "categories     2305 non-null object\n",
      "stars          2305 non-null float64\n",
      "dtypes: float64(1), object(3)\n",
      "memory usage: 90.0+ KB\n"
     ]
    }
   ],
   "source": [
    "pittsrest.info()"
   ]
  },
  {
   "cell_type": "code",
   "execution_count": 97,
   "metadata": {},
   "outputs": [],
   "source": [
    "# Rename the column name \"stars\" to \"avg_stars\" to avoid naming conflicts with review dataset\n",
    "lasvegasrest = lasvegasrest.rename( columns={\"stars\": \"avg_stars\"})\n",
    "pittsrest = pittsrest.rename(columns = {\"stars\":\"avg_stars\"})"
   ]
  },
  {
   "cell_type": "code",
   "execution_count": 98,
   "metadata": {},
   "outputs": [],
   "source": [
    "lasvegasrest.to_csv('Dataset/lasvegasrest.csv',index=False, encoding=\"utf-8\")\n",
    "pittsrest.to_csv('Dataset/pittsrest.csv',index=False, encoding=\"utf-8\")"
   ]
  },
  {
   "cell_type": "markdown",
   "metadata": {},
   "source": [
    "### Use the \"business_id\" column to filter review data"
   ]
  },
  {
   "cell_type": "markdown",
   "metadata": {},
   "source": [
    "We want to make a DataFrame that contain and only contain the reviews about the business entities we just obtained."
   ]
  },
  {
   "cell_type": "markdown",
   "metadata": {},
   "source": [
    "#### Prepare dataframes to be joined --- on business_id"
   ]
  },
  {
   "cell_type": "code",
   "execution_count": 99,
   "metadata": {},
   "outputs": [],
   "source": [
    "# Prepare the business dataframe and set index to column \"business_id\",\n",
    "# and name it as df_left = df_selected_business.set_index('business_id')\n",
    "df_left1 = lasvegasrest.set_index('business_id')\n",
    "df_left2 = pittsrest.set_index('business_id')\n",
    "# Prepare the review dataframe and set index to column \"business_id\", and name it as df_right\n",
    "df_right = df_review.set_index(\"business_id\")"
   ]
  },
  {
   "cell_type": "markdown",
   "metadata": {},
   "source": [
    "#### Join and reset index"
   ]
  },
  {
   "cell_type": "code",
   "execution_count": 100,
   "metadata": {},
   "outputs": [],
   "source": [
    "df_lasvegasrestfinal = df_left1.join(df_right,how='inner')\n",
    "df_pittsrestfinal = df_left2.join(df_right, how = 'inner')\n",
    "df_lasvegasrestfinal = df_lasvegasrestfinal.reset_index()\n",
    "df_pittsrestfinal = df_pittsrestfinal.reset_index()"
   ]
  },
  {
   "cell_type": "markdown",
   "metadata": {},
   "source": [
    "#### We further filter data by date, e.g. keep comments from last 2 years\n",
    "\n",
    "* Purposefully ignoring the reviews made too long time ago\n",
    "\n",
    "is it useful to select the user who would like to give review below the ave_stars ????"
   ]
  },
  {
   "cell_type": "code",
   "execution_count": 101,
   "metadata": {},
   "outputs": [
    {
     "data": {
      "text/html": [
       "<div>\n",
       "<style scoped>\n",
       "    .dataframe tbody tr th:only-of-type {\n",
       "        vertical-align: middle;\n",
       "    }\n",
       "\n",
       "    .dataframe tbody tr th {\n",
       "        vertical-align: top;\n",
       "    }\n",
       "\n",
       "    .dataframe thead th {\n",
       "        text-align: right;\n",
       "    }\n",
       "</style>\n",
       "<table border=\"1\" class=\"dataframe\">\n",
       "  <thead>\n",
       "    <tr style=\"text-align: right;\">\n",
       "      <th></th>\n",
       "      <th>business_id</th>\n",
       "      <th>name</th>\n",
       "      <th>categories</th>\n",
       "      <th>avg_stars</th>\n",
       "      <th>cool</th>\n",
       "      <th>date</th>\n",
       "      <th>funny</th>\n",
       "      <th>review_id</th>\n",
       "      <th>stars</th>\n",
       "      <th>text</th>\n",
       "      <th>useful</th>\n",
       "      <th>user_id</th>\n",
       "    </tr>\n",
       "  </thead>\n",
       "  <tbody>\n",
       "    <tr>\n",
       "      <th>1</th>\n",
       "      <td>--9e1ONYQuAa-CB_Rrw7Tw</td>\n",
       "      <td>Delmonico Steakhouse</td>\n",
       "      <td>Steakhouses, Restaurants, Cajun/Creole</td>\n",
       "      <td>4.0</td>\n",
       "      <td>0</td>\n",
       "      <td>2017-02-14</td>\n",
       "      <td>0</td>\n",
       "      <td>VETXTwMw6qxzOVDlXfe6Tg</td>\n",
       "      <td>5</td>\n",
       "      <td>went for dinner tonight. Amazing my husband ha...</td>\n",
       "      <td>0</td>\n",
       "      <td>ymlnR8UeFvB4FZL56tCZsA</td>\n",
       "    </tr>\n",
       "    <tr>\n",
       "      <th>6</th>\n",
       "      <td>--9e1ONYQuAa-CB_Rrw7Tw</td>\n",
       "      <td>Delmonico Steakhouse</td>\n",
       "      <td>Steakhouses, Restaurants, Cajun/Creole</td>\n",
       "      <td>4.0</td>\n",
       "      <td>0</td>\n",
       "      <td>2017-12-04</td>\n",
       "      <td>0</td>\n",
       "      <td>S8-8uZ7fa5YbjnEtaW15ng</td>\n",
       "      <td>5</td>\n",
       "      <td>This was an amazing dinning experience! ORDER ...</td>\n",
       "      <td>0</td>\n",
       "      <td>9pSSL6X6lFpY3FCRLEH3og</td>\n",
       "    </tr>\n",
       "  </tbody>\n",
       "</table>\n",
       "</div>"
      ],
      "text/plain": [
       "              business_id                  name  \\\n",
       "1  --9e1ONYQuAa-CB_Rrw7Tw  Delmonico Steakhouse   \n",
       "6  --9e1ONYQuAa-CB_Rrw7Tw  Delmonico Steakhouse   \n",
       "\n",
       "                               categories  avg_stars  cool        date  funny  \\\n",
       "1  Steakhouses, Restaurants, Cajun/Creole        4.0     0  2017-02-14      0   \n",
       "6  Steakhouses, Restaurants, Cajun/Creole        4.0     0  2017-12-04      0   \n",
       "\n",
       "                review_id  stars  \\\n",
       "1  VETXTwMw6qxzOVDlXfe6Tg      5   \n",
       "6  S8-8uZ7fa5YbjnEtaW15ng      5   \n",
       "\n",
       "                                                text  useful  \\\n",
       "1  went for dinner tonight. Amazing my husband ha...       0   \n",
       "6  This was an amazing dinning experience! ORDER ...       0   \n",
       "\n",
       "                  user_id  \n",
       "1  ymlnR8UeFvB4FZL56tCZsA  \n",
       "6  9pSSL6X6lFpY3FCRLEH3og  "
      ]
     },
     "execution_count": 101,
     "metadata": {},
     "output_type": "execute_result"
    }
   ],
   "source": [
    "cond_last_years = df_lasvegasrestfinal['date'] > u'2016-09-01'\n",
    "df_lasvegasrestfinal = df_lasvegasrestfinal[cond_last_years]\n",
    "df_lasvegasrestfinal.head(2)"
   ]
  },
  {
   "cell_type": "code",
   "execution_count": 102,
   "metadata": {},
   "outputs": [
    {
     "data": {
      "text/html": [
       "<div>\n",
       "<style scoped>\n",
       "    .dataframe tbody tr th:only-of-type {\n",
       "        vertical-align: middle;\n",
       "    }\n",
       "\n",
       "    .dataframe tbody tr th {\n",
       "        vertical-align: top;\n",
       "    }\n",
       "\n",
       "    .dataframe thead th {\n",
       "        text-align: right;\n",
       "    }\n",
       "</style>\n",
       "<table border=\"1\" class=\"dataframe\">\n",
       "  <thead>\n",
       "    <tr style=\"text-align: right;\">\n",
       "      <th></th>\n",
       "      <th>business_id</th>\n",
       "      <th>name</th>\n",
       "      <th>categories</th>\n",
       "      <th>avg_stars</th>\n",
       "      <th>cool</th>\n",
       "      <th>date</th>\n",
       "      <th>funny</th>\n",
       "      <th>review_id</th>\n",
       "      <th>stars</th>\n",
       "      <th>text</th>\n",
       "      <th>useful</th>\n",
       "      <th>user_id</th>\n",
       "    </tr>\n",
       "  </thead>\n",
       "  <tbody>\n",
       "    <tr>\n",
       "      <th>2</th>\n",
       "      <td>--ujyvoQlwVoBgMYtADiLA</td>\n",
       "      <td>Primanti Bros</td>\n",
       "      <td>Sandwiches, Sports Bars, Restaurants, Nightlif...</td>\n",
       "      <td>3.5</td>\n",
       "      <td>0</td>\n",
       "      <td>2016-10-05</td>\n",
       "      <td>0</td>\n",
       "      <td>isswD5jO3GwCYIkDNK9AEA</td>\n",
       "      <td>4</td>\n",
       "      <td>I love the white pizza and the Monongahela (bl...</td>\n",
       "      <td>0</td>\n",
       "      <td>D5_iQw0N9wO7kT7FrT7j6A</td>\n",
       "    </tr>\n",
       "    <tr>\n",
       "      <th>11</th>\n",
       "      <td>--ujyvoQlwVoBgMYtADiLA</td>\n",
       "      <td>Primanti Bros</td>\n",
       "      <td>Sandwiches, Sports Bars, Restaurants, Nightlif...</td>\n",
       "      <td>3.5</td>\n",
       "      <td>0</td>\n",
       "      <td>2017-07-31</td>\n",
       "      <td>0</td>\n",
       "      <td>CRMppAp7f0GF5pa8sNkV4g</td>\n",
       "      <td>5</td>\n",
       "      <td>love Primanti bros.great food. good service. f...</td>\n",
       "      <td>0</td>\n",
       "      <td>nyzncOg3goSAMK15IijIqA</td>\n",
       "    </tr>\n",
       "  </tbody>\n",
       "</table>\n",
       "</div>"
      ],
      "text/plain": [
       "               business_id           name  \\\n",
       "2   --ujyvoQlwVoBgMYtADiLA  Primanti Bros   \n",
       "11  --ujyvoQlwVoBgMYtADiLA  Primanti Bros   \n",
       "\n",
       "                                           categories  avg_stars  cool  \\\n",
       "2   Sandwiches, Sports Bars, Restaurants, Nightlif...        3.5     0   \n",
       "11  Sandwiches, Sports Bars, Restaurants, Nightlif...        3.5     0   \n",
       "\n",
       "          date  funny               review_id  stars  \\\n",
       "2   2016-10-05      0  isswD5jO3GwCYIkDNK9AEA      4   \n",
       "11  2017-07-31      0  CRMppAp7f0GF5pa8sNkV4g      5   \n",
       "\n",
       "                                                 text  useful  \\\n",
       "2   I love the white pizza and the Monongahela (bl...       0   \n",
       "11  love Primanti bros.great food. good service. f...       0   \n",
       "\n",
       "                   user_id  \n",
       "2   D5_iQw0N9wO7kT7FrT7j6A  \n",
       "11  nyzncOg3goSAMK15IijIqA  "
      ]
     },
     "execution_count": 102,
     "metadata": {},
     "output_type": "execute_result"
    }
   ],
   "source": [
    "cond_last_years2 = df_pittsrestfinal['date'] > u'2016-09-01'\n",
    "df_pittsrestfinal = df_pittsrestfinal[cond_last_years2]\n",
    "df_pittsrestfinal.head(2)"
   ]
  },
  {
   "cell_type": "code",
   "execution_count": 103,
   "metadata": {},
   "outputs": [],
   "source": [
    "import matplotlib.pyplot as plt\n",
    "\n",
    "% matplotlib inline"
   ]
  },
  {
   "cell_type": "code",
   "execution_count": 105,
   "metadata": {},
   "outputs": [
    {
     "data": {
      "text/plain": [
       "<matplotlib.axes._subplots.AxesSubplot at 0x7f01af600828>"
      ]
     },
     "execution_count": 105,
     "metadata": {},
     "output_type": "execute_result"
    },
    {
     "data": {
      "image/png": "[encoded data removed]",
      "text/plain": [
       "<Figure size 432x288 with 1 Axes>"
      ]
     },
     "metadata": {
      "needs_background": "light"
     },
     "output_type": "display_data"
    }
   ],
   "source": [
    "# e.g. calculate counts of reviews per business entity, and plot it\n",
    "# group by business entity name, count and sort\n",
    "review_counts_by_business_entity_pitts = df_pittsrestfinal.groupby('name').size().sort_values()\n",
    "\n",
    "# filter the top 10 business with the most reviews\n",
    "review_counts_by_business_entity_top_10_names_pitts = review_counts_by_business_entity_pitts[-10:].index\n",
    "\n",
    "# we try to plot the review received by the top 10 business entities in 22016.09.01 till now\n",
    "review_counts_top_10_pitts = df_pittsrestfinal[df_pittsrestfinal['name'].isin(review_counts_by_business_entity_top_10_names_pitts)]\n",
    "review_counts_top_10_pitts = review_counts_top_10_pitts.groupby('name').size().sort_values()\n",
    "review_counts_top_10_pitts.plot.bar(title='Pittsburgh Top 10 Business Entities with most comments in 2016.09.1 till now')"
   ]
  },
  {
   "cell_type": "code",
   "execution_count": 106,
   "metadata": {},
   "outputs": [
    {
     "data": {
      "text/plain": [
       "<matplotlib.axes._subplots.AxesSubplot at 0x7f01af648a58>"
      ]
     },
     "execution_count": 106,
     "metadata": {},
     "output_type": "execute_result"
    },
    {
     "data": {
      "image/png": "[encoded data removed]",
      "text/plain": [
       "<Figure size 432x288 with 1 Axes>"
      ]
     },
     "metadata": {
      "needs_background": "light"
     },
     "output_type": "display_data"
    }
   ],
   "source": [
    "# e.g. calculate counts of reviews per business entity, and plot it\n",
    "# group by business entity name, count and sort\n",
    "review_counts_by_business_entity_las = df_lasvegasrestfinal.groupby('name').size().sort_values()\n",
    "\n",
    "# filter the top 10 business with the most reviews\n",
    "review_counts_by_business_entity_top_10_names_las = review_counts_by_business_entity_las[-10:].index\n",
    "\n",
    "# we try to plot the review received by the top 10 business entities in 22016.09.01 till now\n",
    "review_counts_top_10_las = df_lasvegasrestfinal[df_lasvegasrestfinal['name'].isin(review_counts_by_business_entity_top_10_names_las)]\n",
    "review_counts_top_10_las = review_counts_top_10_las.groupby('name').size().sort_values()\n",
    "review_counts_top_10_las.plot.bar(title='Las Vegas Top 10 Business Entities with most comments in 2016.09.1 till now')"
   ]
  },
  {
   "cell_type": "code",
   "execution_count": 107,
   "metadata": {},
   "outputs": [],
   "source": [
    "df_lasvegasrestfinal.to_csv('Dataset/lasvegasrestfinallast2year.csv')\n",
    "df_pittsrestfinal.to_csv('Dataset/pittsrestfinallast2year.csv')"
   ]
  },
  {
   "cell_type": "code",
   "execution_count": null,
   "metadata": {},
   "outputs": [],
   "source": []
  }
 ],
 "metadata": {
  "kernelspec": {
   "display_name": "Python 3",
   "language": "python",
   "name": "python3"
  },
  "language_info": {
   "codemirror_mode": {
    "name": "ipython",
    "version": 3
   },
   "file_extension": ".py",
   "mimetype": "text/x-python",
   "name": "python",
   "nbconvert_exporter": "python",
   "pygments_lexer": "ipython3",
   "version": "3.6.8"
  }
 },
 "nbformat": 4,
 "nbformat_minor": 2
}
