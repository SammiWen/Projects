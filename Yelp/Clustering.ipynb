{
 "cells": [
  {
   "cell_type": "markdown",
   "metadata": {},
   "source": [
    "# Yelp Data Challenge - Clustering and PCA\n",
    "\n"
   ]
  },
  {
   "cell_type": "code",
   "execution_count": 1,
   "metadata": {},
   "outputs": [],
   "source": [
    "import pandas as pd\n",
    "import numpy as np\n",
    "import matplotlib.pyplot as plt\n",
    "% matplotlib inline\n",
    "plt.style.use(\"ggplot\")"
   ]
  },
  {
   "cell_type": "code",
   "execution_count": 2,
   "metadata": {},
   "outputs": [],
   "source": [
    "df = pd.read_csv('Dataset/pittsrestfinallast2year.csv')"
   ]
  },
  {
   "cell_type": "code",
   "execution_count": 3,
   "metadata": {},
   "outputs": [
    {
     "name": "stdout",
     "output_type": "stream",
     "text": [
      "<class 'pandas.core.frame.DataFrame'>\n",
      "RangeIndex: 49142 entries, 0 to 49141\n",
      "Data columns (total 13 columns):\n",
      "Unnamed: 0     49142 non-null int64\n",
      "business_id    49142 non-null object\n",
      "name           49142 non-null object\n",
      "categories     49142 non-null object\n",
      "avg_stars      49142 non-null float64\n",
      "cool           49142 non-null int64\n",
      "date           49142 non-null object\n",
      "funny          49142 non-null int64\n",
      "review_id      49142 non-null object\n",
      "stars          49142 non-null int64\n",
      "text           49142 non-null object\n",
      "useful         49142 non-null int64\n",
      "user_id        49142 non-null object\n",
      "dtypes: float64(1), int64(5), object(7)\n",
      "memory usage: 4.9+ MB\n"
     ]
    }
   ],
   "source": [
    "df.info()"
   ]
  },
  {
   "cell_type": "code",
   "execution_count": 4,
   "metadata": {},
   "outputs": [
    {
     "data": {
      "text/html": [
       "<div>\n",
       "<style scoped>\n",
       "    .dataframe tbody tr th:only-of-type {\n",
       "        vertical-align: middle;\n",
       "    }\n",
       "\n",
       "    .dataframe tbody tr th {\n",
       "        vertical-align: top;\n",
       "    }\n",
       "\n",
       "    .dataframe thead th {\n",
       "        text-align: right;\n",
       "    }\n",
       "</style>\n",
       "<table border=\"1\" class=\"dataframe\">\n",
       "  <thead>\n",
       "    <tr style=\"text-align: right;\">\n",
       "      <th></th>\n",
       "      <th>Unnamed: 0</th>\n",
       "      <th>business_id</th>\n",
       "      <th>name</th>\n",
       "      <th>categories</th>\n",
       "      <th>avg_stars</th>\n",
       "      <th>cool</th>\n",
       "      <th>date</th>\n",
       "      <th>funny</th>\n",
       "      <th>review_id</th>\n",
       "      <th>stars</th>\n",
       "      <th>text</th>\n",
       "      <th>useful</th>\n",
       "      <th>user_id</th>\n",
       "    </tr>\n",
       "  </thead>\n",
       "  <tbody>\n",
       "    <tr>\n",
       "      <th>0</th>\n",
       "      <td>2</td>\n",
       "      <td>--ujyvoQlwVoBgMYtADiLA</td>\n",
       "      <td>Primanti Bros</td>\n",
       "      <td>Sandwiches, Sports Bars, Restaurants, Nightlif...</td>\n",
       "      <td>3.5</td>\n",
       "      <td>0</td>\n",
       "      <td>2016-10-05</td>\n",
       "      <td>0</td>\n",
       "      <td>isswD5jO3GwCYIkDNK9AEA</td>\n",
       "      <td>4</td>\n",
       "      <td>I love the white pizza and the Monongahela (bl...</td>\n",
       "      <td>0</td>\n",
       "      <td>D5_iQw0N9wO7kT7FrT7j6A</td>\n",
       "    </tr>\n",
       "    <tr>\n",
       "      <th>1</th>\n",
       "      <td>11</td>\n",
       "      <td>--ujyvoQlwVoBgMYtADiLA</td>\n",
       "      <td>Primanti Bros</td>\n",
       "      <td>Sandwiches, Sports Bars, Restaurants, Nightlif...</td>\n",
       "      <td>3.5</td>\n",
       "      <td>0</td>\n",
       "      <td>2017-07-31</td>\n",
       "      <td>0</td>\n",
       "      <td>CRMppAp7f0GF5pa8sNkV4g</td>\n",
       "      <td>5</td>\n",
       "      <td>love Primanti bros.great food. good service. f...</td>\n",
       "      <td>0</td>\n",
       "      <td>nyzncOg3goSAMK15IijIqA</td>\n",
       "    </tr>\n",
       "    <tr>\n",
       "      <th>2</th>\n",
       "      <td>12</td>\n",
       "      <td>--ujyvoQlwVoBgMYtADiLA</td>\n",
       "      <td>Primanti Bros</td>\n",
       "      <td>Sandwiches, Sports Bars, Restaurants, Nightlif...</td>\n",
       "      <td>3.5</td>\n",
       "      <td>0</td>\n",
       "      <td>2017-03-25</td>\n",
       "      <td>0</td>\n",
       "      <td>BdGR_xduQ2CLkEIgtR2eCQ</td>\n",
       "      <td>4</td>\n",
       "      <td>Great food and very convenient location. The p...</td>\n",
       "      <td>0</td>\n",
       "      <td>YFRp9i9sDuA1T5oMKq5cbg</td>\n",
       "    </tr>\n",
       "    <tr>\n",
       "      <th>3</th>\n",
       "      <td>18</td>\n",
       "      <td>--ujyvoQlwVoBgMYtADiLA</td>\n",
       "      <td>Primanti Bros</td>\n",
       "      <td>Sandwiches, Sports Bars, Restaurants, Nightlif...</td>\n",
       "      <td>3.5</td>\n",
       "      <td>0</td>\n",
       "      <td>2017-12-31</td>\n",
       "      <td>0</td>\n",
       "      <td>Jt2iThRe8Fu6GAG-moAIPQ</td>\n",
       "      <td>3</td>\n",
       "      <td>I love visiting Primanti Bros every time we co...</td>\n",
       "      <td>0</td>\n",
       "      <td>QqdHAP9tSwjteG7b9q7sAw</td>\n",
       "    </tr>\n",
       "    <tr>\n",
       "      <th>4</th>\n",
       "      <td>20</td>\n",
       "      <td>--ujyvoQlwVoBgMYtADiLA</td>\n",
       "      <td>Primanti Bros</td>\n",
       "      <td>Sandwiches, Sports Bars, Restaurants, Nightlif...</td>\n",
       "      <td>3.5</td>\n",
       "      <td>0</td>\n",
       "      <td>2016-09-27</td>\n",
       "      <td>0</td>\n",
       "      <td>1mi5-2nKgRQ0u6KoWXA3vQ</td>\n",
       "      <td>5</td>\n",
       "      <td>You can't beat their happy hour! Great sandwic...</td>\n",
       "      <td>0</td>\n",
       "      <td>4qfMMlGtme2RNFqDgxYLxg</td>\n",
       "    </tr>\n",
       "  </tbody>\n",
       "</table>\n",
       "</div>"
      ],
      "text/plain": [
       "   Unnamed: 0             business_id           name  \\\n",
       "0           2  --ujyvoQlwVoBgMYtADiLA  Primanti Bros   \n",
       "1          11  --ujyvoQlwVoBgMYtADiLA  Primanti Bros   \n",
       "2          12  --ujyvoQlwVoBgMYtADiLA  Primanti Bros   \n",
       "3          18  --ujyvoQlwVoBgMYtADiLA  Primanti Bros   \n",
       "4          20  --ujyvoQlwVoBgMYtADiLA  Primanti Bros   \n",
       "\n",
       "                                          categories  avg_stars  cool  \\\n",
       "0  Sandwiches, Sports Bars, Restaurants, Nightlif...        3.5     0   \n",
       "1  Sandwiches, Sports Bars, Restaurants, Nightlif...        3.5     0   \n",
       "2  Sandwiches, Sports Bars, Restaurants, Nightlif...        3.5     0   \n",
       "3  Sandwiches, Sports Bars, Restaurants, Nightlif...        3.5     0   \n",
       "4  Sandwiches, Sports Bars, Restaurants, Nightlif...        3.5     0   \n",
       "\n",
       "         date  funny               review_id  stars  \\\n",
       "0  2016-10-05      0  isswD5jO3GwCYIkDNK9AEA      4   \n",
       "1  2017-07-31      0  CRMppAp7f0GF5pa8sNkV4g      5   \n",
       "2  2017-03-25      0  BdGR_xduQ2CLkEIgtR2eCQ      4   \n",
       "3  2017-12-31      0  Jt2iThRe8Fu6GAG-moAIPQ      3   \n",
       "4  2016-09-27      0  1mi5-2nKgRQ0u6KoWXA3vQ      5   \n",
       "\n",
       "                                                text  useful  \\\n",
       "0  I love the white pizza and the Monongahela (bl...       0   \n",
       "1  love Primanti bros.great food. good service. f...       0   \n",
       "2  Great food and very convenient location. The p...       0   \n",
       "3  I love visiting Primanti Bros every time we co...       0   \n",
       "4  You can't beat their happy hour! Great sandwic...       0   \n",
       "\n",
       "                  user_id  \n",
       "0  D5_iQw0N9wO7kT7FrT7j6A  \n",
       "1  nyzncOg3goSAMK15IijIqA  \n",
       "2  YFRp9i9sDuA1T5oMKq5cbg  \n",
       "3  QqdHAP9tSwjteG7b9q7sAw  \n",
       "4  4qfMMlGtme2RNFqDgxYLxg  "
      ]
     },
     "execution_count": 4,
     "metadata": {},
     "output_type": "execute_result"
    }
   ],
   "source": [
    "df.head()"
   ]
  },
  {
   "cell_type": "markdown",
   "metadata": {},
   "source": [
    "## 1. Cluster the review text data for all the restaurants in Pittsbrugh"
   ]
  },
  {
   "cell_type": "markdown",
   "metadata": {},
   "source": [
    "### Define feature variables -- the text of the review"
   ]
  },
  {
   "cell_type": "code",
   "execution_count": 5,
   "metadata": {},
   "outputs": [],
   "source": [
    "# Take the values of the column that contains review text data, save to a variable named \"documents\"\n",
    "documents= df['text'].values"
   ]
  },
  {
   "cell_type": "markdown",
   "metadata": {},
   "source": [
    "### Define your target variable (any categorical variable that may be meaningful)"
   ]
  },
  {
   "cell_type": "markdown",
   "metadata": {},
   "source": [
    "#### We are interested in perfect (5 stars) and imperfect (1-4 stars) rating"
   ]
  },
  {
   "cell_type": "code",
   "execution_count": 6,
   "metadata": {},
   "outputs": [],
   "source": [
    "# Make a column and take the values, save to a variable named \"target\"\n",
    "df['target'] = df['stars'] == 5\n",
    "target = df['target'].values"
   ]
  },
  {
   "cell_type": "markdown",
   "metadata": {},
   "source": [
    "#### Look at the statistic of the target variable"
   ]
  },
  {
   "cell_type": "code",
   "execution_count": 7,
   "metadata": {},
   "outputs": [
    {
     "data": {
      "text/plain": [
       "(0.43235928533637213, 49142, 0.49540360689017365)"
      ]
     },
     "execution_count": 7,
     "metadata": {},
     "output_type": "execute_result"
    }
   ],
   "source": [
    "# To be implemented\n",
    "target.mean(), target.size, target.std()"
   ]
  },
  {
   "cell_type": "markdown",
   "metadata": {},
   "source": [
    "### Create training dataset and test dataset"
   ]
  },
  {
   "cell_type": "code",
   "execution_count": 8,
   "metadata": {},
   "outputs": [
    {
     "name": "stderr",
     "output_type": "stream",
     "text": [
      "/home/cs7532018fall/anaconda3/lib/python3.6/site-packages/sklearn/cross_validation.py:41: DeprecationWarning: This module was deprecated in version 0.18 in favor of the model_selection module into which all the refactored classes and functions are moved. Also note that the interface of the new CV iterators are different from that of this module. This module will be removed in 0.20.\n",
      "  \"This module will be removed in 0.20.\", DeprecationWarning)\n"
     ]
    }
   ],
   "source": [
    "from sklearn.cross_validation import train_test_split"
   ]
  },
  {
   "cell_type": "code",
   "execution_count": 9,
   "metadata": {},
   "outputs": [],
   "source": [
    "# Now split the data to training set and test set\n",
    "documents_train, documents_test, target_train, target_test = train_test_split(\n",
    "documents, target, test_size = 0.3, random_state = 42)"
   ]
  },
  {
   "cell_type": "markdown",
   "metadata": {},
   "source": [
    "### Get NLP representation of the documents\n",
    "\n",
    "#### Fit TfidfVectorizer with training data only, then tranform all the data to tf-idf"
   ]
  },
  {
   "cell_type": "code",
   "execution_count": 10,
   "metadata": {},
   "outputs": [],
   "source": [
    "from sklearn.feature_extraction.text import TfidfVectorizer"
   ]
  },
  {
   "cell_type": "code",
   "execution_count": 11,
   "metadata": {},
   "outputs": [],
   "source": [
    "# Create TfidfVectorizer, and name it vectorizer, choose a reasonable max_features, 1000\n",
    "vectorizer = TfidfVectorizer(stop_words = 'english', max_features = 2000)"
   ]
  },
  {
   "cell_type": "code",
   "execution_count": 12,
   "metadata": {},
   "outputs": [],
   "source": [
    "# Train the model with your training data\n",
    "vectors_train = vectorizer.fit_transform(documents_train).toarray()"
   ]
  },
  {
   "cell_type": "code",
   "execution_count": 13,
   "metadata": {},
   "outputs": [
    {
     "data": {
      "text/plain": [
       "(34399, 2000)"
      ]
     },
     "execution_count": 13,
     "metadata": {},
     "output_type": "execute_result"
    }
   ],
   "source": [
    "vectors_train.shape"
   ]
  },
  {
   "cell_type": "code",
   "execution_count": 14,
   "metadata": {},
   "outputs": [
    {
     "data": {
      "text/plain": [
       "array([[0., 0., 0., ..., 0., 0., 0.],\n",
       "       [0., 0., 0., ..., 0., 0., 0.],\n",
       "       [0., 0., 0., ..., 0., 0., 0.],\n",
       "       ...,\n",
       "       [0., 0., 0., ..., 0., 0., 0.],\n",
       "       [0., 0., 0., ..., 0., 0., 0.],\n",
       "       [0., 0., 0., ..., 0., 0., 0.]])"
      ]
     },
     "execution_count": 14,
     "metadata": {},
     "output_type": "execute_result"
    }
   ],
   "source": [
    "vectors_train"
   ]
  },
  {
   "cell_type": "code",
   "execution_count": 15,
   "metadata": {},
   "outputs": [],
   "source": [
    "# Get the vocab of tfidf\n",
    "words = vectorizer.get_feature_names()"
   ]
  },
  {
   "cell_type": "code",
   "execution_count": 16,
   "metadata": {},
   "outputs": [
    {
     "data": {
      "text/plain": [
       "2000"
      ]
     },
     "execution_count": 16,
     "metadata": {},
     "output_type": "execute_result"
    }
   ],
   "source": [
    "len(words)"
   ]
  },
  {
   "cell_type": "code",
   "execution_count": 17,
   "metadata": {},
   "outputs": [],
   "source": [
    "# Use the trained model to transform all the reviews\n",
    "vectors_documents = vectorizer.transform(documents).toarray()"
   ]
  },
  {
   "cell_type": "code",
   "execution_count": 18,
   "metadata": {},
   "outputs": [
    {
     "data": {
      "text/plain": [
       "49142"
      ]
     },
     "execution_count": 18,
     "metadata": {},
     "output_type": "execute_result"
    }
   ],
   "source": [
    "len(vectors_documents)"
   ]
  },
  {
   "cell_type": "markdown",
   "metadata": {},
   "source": [
    "### Cluster reviews with KMeans"
   ]
  },
  {
   "cell_type": "markdown",
   "metadata": {},
   "source": [
    "#### Fit k-means clustering with the training vectors and apply it on all the data"
   ]
  },
  {
   "cell_type": "code",
   "execution_count": 19,
   "metadata": {},
   "outputs": [
    {
     "name": "stdout",
     "output_type": "stream",
     "text": [
      "KMeans(algorithm='auto', copy_x=True, init='k-means++', max_iter=300,\n",
      "    n_clusters=8, n_init=10, n_jobs=1, precompute_distances='auto',\n",
      "    random_state=None, tol=0.0001, verbose=0)\n",
      "4.363171168168386\n"
     ]
    }
   ],
   "source": [
    "from time import time\n",
    "begin = time()\n",
    "\n",
    "from sklearn.cluster import KMeans\n",
    "kmeans = KMeans()\n",
    "kmeans.fit(vectors_train)\n",
    "\n",
    "end = time()\n",
    "print(kmeans)\n",
    "print((end - begin)/60)"
   ]
  },
  {
   "cell_type": "code",
   "execution_count": null,
   "metadata": {},
   "outputs": [],
   "source": []
  },
  {
   "cell_type": "markdown",
   "metadata": {},
   "source": [
    "#### Make predictions on all your data"
   ]
  },
  {
   "cell_type": "code",
   "execution_count": 20,
   "metadata": {},
   "outputs": [],
   "source": [
    "assigned_cluster = kmeans.predict(vectors_documents)"
   ]
  },
  {
   "cell_type": "markdown",
   "metadata": {},
   "source": [
    "#### Inspect the centroids\n",
    "To find out what \"topics\" Kmeans has discovered we must inspect the centroids. Print out the centroids of the Kmeans clustering.\n",
    "\n",
    "   These centroids are simply a bunch of vectors.  To make any sense of them we need to map these vectors back into our 'word space'.  Think of each feature/dimension of the centroid vector as representing the \"average\" review or the average occurances of words for that cluster."
   ]
  },
  {
   "cell_type": "code",
   "execution_count": 21,
   "metadata": {},
   "outputs": [
    {
     "name": "stdout",
     "output_type": "stream",
     "text": [
      "cluster centers:\n",
      "[[0.0027098  0.00687865 0.00127969 ... 0.00464514 0.00097103 0.00249641]\n",
      " [0.00157161 0.00492177 0.0015517  ... 0.00396457 0.00077666 0.00075782]\n",
      " [0.00330819 0.00642253 0.0010948  ... 0.00310172 0.00066101 0.00063042]\n",
      " ...\n",
      " [0.00137662 0.00584649 0.00177428 ... 0.00345359 0.0007005  0.00169444]\n",
      " [0.00405851 0.01983362 0.00136472 ... 0.00093462 0.00343309 0.0002059 ]\n",
      " [0.00196515 0.00595776 0.00205189 ... 0.00465512 0.00021143 0.00049395]]\n"
     ]
    }
   ],
   "source": [
    "\n",
    "print(\"cluster centers:\")\n",
    "print(kmeans.cluster_centers_)"
   ]
  },
  {
   "cell_type": "markdown",
   "metadata": {},
   "source": [
    "#### Find the top 10 features for each cluster.\n",
    "For topics we are only really interested in the most present words, i.e. features/dimensions with the greatest representation in the centroid.  Print out the top ten words for each centroid.\n",
    "\n",
    "* Sort each centroid vector to find the top 10 features\n",
    "* Go back to your vectorizer object to find out what words each of these features corresponds to.\n"
   ]
  },
  {
   "cell_type": "code",
   "execution_count": 22,
   "metadata": {},
   "outputs": [
    {
     "name": "stdout",
     "output_type": "stream",
     "text": [
      "top 10 features for each cluster:\n",
      "0: chicken, good, ordered, sauce, got, food, salad, really, like, just\n",
      "1: food, place, good, service, best, ve, pittsburgh, like, delicious, love\n",
      "2: burger, fries, sandwich, good, cheese, place, burgers, great, food, got\n",
      "3: great, food, service, place, good, atmosphere, beer, amazing, staff, friendly\n",
      "4: thai, pad, curry, food, noodles, good, spicy, place, chicken, best\n",
      "5: pizza, crust, good, cheese, sauce, place, great, delivery, best, like\n",
      "6: minutes, food, order, table, service, time, came, asked, just, wait\n",
      "7: tacos, taco, good, great, place, salsa, chips, queso, guacamole, food\n"
     ]
    }
   ],
   "source": [
    "\n",
    "top_centroids = kmeans.cluster_centers_.argsort()[:, -1:-11:-1]\n",
    "print(\"top 10 features for each cluster:\")\n",
    "for num, centroid in enumerate(top_centroids):\n",
    "    print(\"%d: %s\" % (num, \", \".join(words[i] for i in centroid)))"
   ]
  },
  {
   "cell_type": "markdown",
   "metadata": {},
   "source": [
    "#### Try different k\n",
    "If you set k == to a different number, how does the top features change?"
   ]
  },
  {
   "cell_type": "code",
   "execution_count": 23,
   "metadata": {},
   "outputs": [
    {
     "name": "stdout",
     "output_type": "stream",
     "text": [
      "top 10 features for each cluster:\n",
      "0: tacos,taco,good,great,place,salsa,chips,queso,guacamole,really\n",
      "1: great,food,service,place,good,atmosphere,friendly,staff,amazing,love\n",
      "2: food,order,minutes,time,service,table,just,came,bar,wait\n",
      "3: pizza,crust,good,cheese,sauce,place,great,delivery,best,like\n",
      "4: good,place,food,chicken,like,really,delicious,just,ordered,ve\n"
     ]
    }
   ],
   "source": [
    "kmeansn5 = KMeans(n_clusters = 5)\n",
    "kmeansn5.fit(vectors_train)\n",
    "assigned_cluster = kmeansn5.predict(vectors_documents)\n",
    "\n",
    "top_centroids = kmeansn5.cluster_centers_.argsort()[:, -1:-11:-1]\n",
    "print(\"top 10 features for each cluster:\")\n",
    "for num, centroid in enumerate(top_centroids):\n",
    "    print(\"%d: %s\" % (num, \",\".join(words[i] for i in centroid)))"
   ]
  },
  {
   "cell_type": "markdown",
   "metadata": {},
   "source": [
    "#### Print out the rating and review of a random sample of the reviews assigned to each cluster to get a sense of the cluster."
   ]
  },
  {
   "cell_type": "code",
   "execution_count": 24,
   "metadata": {},
   "outputs": [
    {
     "name": "stdout",
     "output_type": "stream",
     "text": [
      "cluster 0:\n",
      "    Hands down Bakersfield has the best guac in the city. Their queso and drinks are also really good. Past this their food In my opinion isn't good enough. Get a salad or a sandwich style dinner here but don't waste your time with the tacos. They're really unimpressive\n",
      "cluster 1:\n",
      "    Great and polite staff! The food was overall very good. This was my 2nd time eating breakfast here. Great options as far as food choices and I must say the breakfast burrito looks awesome. The only negative thing I didn't like is they used canned mushrooms in their omelets which didn't taste good nor blend well with the other fresh vegetables in the omelet. Other than that,  I would definitely return. Small spacing and usually crowded on Sunday.\n",
      "cluster 2:\n",
      "    Industry is a really unique place in Lawrenceville, known for its wide variety of available whiskey's. I have been on multiple occasions for both drinks and food and have been pleased each time.\n",
      "\n",
      "The space itself is quite large, but it fills up quickly in the evenings and especially on weekends. Recently, we went to celebrate my birthday and had to leave as the wait to be seated for dinner was over one hour at 7pm. Not ideal, but understandable. For a night out, the bar can become very crowded very quickly and it can be difficult to find seating. \n",
      "\n",
      "The food is excellent and their apps are filling. Nachos are the way to go for something that pleases everyone.  I visited for lunch as well and was not disappointed in their Bloody Mary's! The drink selection is unique and not your typical mixed beverage. It can be a bit pricey but worth it to try a few of them.\n",
      "cluster 3:\n",
      "    We went to the pizza making class.  It was amazing! There was so much food that we could hardly even eat our pizzas, which was not a problem because they had boxes to take yours home. Wonderful history lesson, delicious food, a very intimate setting, and some fun characters. All in all well worth it!\n",
      "cluster 4:\n",
      "    Great new concept from Richard DeShantz and Co. Myself and three others went during opening week and the staff were spot on! The draft list is impressive and you can also order 40's complete with the brown paper bag. We tried the pork rinds and dirty fries. Both were good, however, the fries were a little underdone. We ordered the signature pork and beans entrée. The server brought the can of pork and beans out and opened it in front of us and poured it over the toast on the dish. The only complaint is that the temperature was a bit too room temperature for my liking. The choice of four saues were my absolute favorite part. The seasonal sauce is to die for! For desert, we shared a Leona's ice cream sandwich. Looking forward to trying more from Pork and Beans!\n"
     ]
    },
    {
     "ename": "ValueError",
     "evalue": "a must be non-empty",
     "output_type": "error",
     "traceback": [
      "\u001b[0;31m---------------------------------------------------------------------------\u001b[0m",
      "\u001b[0;31mValueError\u001b[0m                                Traceback (most recent call last)",
      "\u001b[0;32m<ipython-input-24-12a356aae44d>\u001b[0m in \u001b[0;36m<module>\u001b[0;34m()\u001b[0m\n\u001b[1;32m      1\u001b[0m \u001b[0;32mfor\u001b[0m \u001b[0mi\u001b[0m \u001b[0;32min\u001b[0m \u001b[0mrange\u001b[0m\u001b[0;34m(\u001b[0m\u001b[0mkmeans\u001b[0m\u001b[0;34m.\u001b[0m\u001b[0mn_clusters\u001b[0m\u001b[0;34m)\u001b[0m\u001b[0;34m:\u001b[0m\u001b[0;34m\u001b[0m\u001b[0m\n\u001b[1;32m      2\u001b[0m     \u001b[0mcluster\u001b[0m \u001b[0;34m=\u001b[0m \u001b[0mnp\u001b[0m\u001b[0;34m.\u001b[0m\u001b[0marange\u001b[0m\u001b[0;34m(\u001b[0m\u001b[0;36m0\u001b[0m\u001b[0;34m,\u001b[0m \u001b[0mvectors_documents\u001b[0m\u001b[0;34m.\u001b[0m\u001b[0mshape\u001b[0m\u001b[0;34m[\u001b[0m\u001b[0;36m0\u001b[0m\u001b[0;34m]\u001b[0m\u001b[0;34m)\u001b[0m\u001b[0;34m[\u001b[0m\u001b[0massigned_cluster\u001b[0m\u001b[0;34m==\u001b[0m\u001b[0mi\u001b[0m\u001b[0;34m]\u001b[0m\u001b[0;34m\u001b[0m\u001b[0m\n\u001b[0;32m----> 3\u001b[0;31m     \u001b[0msample_reviews\u001b[0m \u001b[0;34m=\u001b[0m \u001b[0mnp\u001b[0m\u001b[0;34m.\u001b[0m\u001b[0mrandom\u001b[0m\u001b[0;34m.\u001b[0m\u001b[0mchoice\u001b[0m\u001b[0;34m(\u001b[0m\u001b[0mcluster\u001b[0m\u001b[0;34m,\u001b[0m \u001b[0;36m1\u001b[0m\u001b[0;34m,\u001b[0m \u001b[0mreplace\u001b[0m\u001b[0;34m=\u001b[0m\u001b[0;32mFalse\u001b[0m\u001b[0;34m)\u001b[0m\u001b[0;34m\u001b[0m\u001b[0m\n\u001b[0m\u001b[1;32m      4\u001b[0m     \u001b[0mprint\u001b[0m\u001b[0;34m(\u001b[0m\u001b[0;34m\"cluster %d:\"\u001b[0m \u001b[0;34m%\u001b[0m \u001b[0mi\u001b[0m\u001b[0;34m)\u001b[0m\u001b[0;34m\u001b[0m\u001b[0m\n\u001b[1;32m      5\u001b[0m     \u001b[0;32mfor\u001b[0m \u001b[0mreview\u001b[0m \u001b[0;32min\u001b[0m \u001b[0msample_reviews\u001b[0m\u001b[0;34m:\u001b[0m\u001b[0;34m\u001b[0m\u001b[0m\n",
      "\u001b[0;32mmtrand.pyx\u001b[0m in \u001b[0;36mmtrand.RandomState.choice\u001b[0;34m()\u001b[0m\n",
      "\u001b[0;31mValueError\u001b[0m: a must be non-empty"
     ]
    }
   ],
   "source": [
    "for i in range(kmeans.n_clusters):\n",
    "    cluster = np.arange(0, vectors_documents.shape[0])[assigned_cluster==i]\n",
    "    sample_reviews = np.random.choice(cluster, 1, replace=False)\n",
    "    print(\"cluster %d:\" % i)\n",
    "    for review in sample_reviews:\n",
    "        print(\"    %s\" % df.loc[review]['text'])"
   ]
  },
  {
   "cell_type": "code",
   "execution_count": null,
   "metadata": {},
   "outputs": [],
   "source": []
  },
  {
   "cell_type": "markdown",
   "metadata": {},
   "source": [
    "## 2. Cluster all the reviews of the most reviewed restaurant\n",
    "Let's find the most reviewed restaurant and analyze its reviews"
   ]
  },
  {
   "cell_type": "code",
   "execution_count": 25,
   "metadata": {},
   "outputs": [
    {
     "data": {
      "text/plain": [
       "'Primanti Bros'"
      ]
     },
     "execution_count": 25,
     "metadata": {},
     "output_type": "execute_result"
    }
   ],
   "source": [
    "# Find the business who got most reviews, get your filtered df, name it df_top_restaurant\n",
    "df_top_restaurant = df['name'].value_counts().index[0]\n",
    "df_top_restaurant"
   ]
  },
  {
   "cell_type": "markdown",
   "metadata": {},
   "source": [
    "We can also load restaurant profile information from the business dataset (optional)"
   ]
  },
  {
   "cell_type": "code",
   "execution_count": 26,
   "metadata": {},
   "outputs": [
    {
     "data": {
      "text/html": [
       "<div>\n",
       "<style scoped>\n",
       "    .dataframe tbody tr th:only-of-type {\n",
       "        vertical-align: middle;\n",
       "    }\n",
       "\n",
       "    .dataframe tbody tr th {\n",
       "        vertical-align: top;\n",
       "    }\n",
       "\n",
       "    .dataframe thead th {\n",
       "        text-align: right;\n",
       "    }\n",
       "</style>\n",
       "<table border=\"1\" class=\"dataframe\">\n",
       "  <thead>\n",
       "    <tr style=\"text-align: right;\">\n",
       "      <th></th>\n",
       "      <th>index</th>\n",
       "      <th>Unnamed: 0</th>\n",
       "      <th>business_id</th>\n",
       "      <th>name</th>\n",
       "      <th>categories</th>\n",
       "      <th>avg_stars</th>\n",
       "      <th>cool</th>\n",
       "      <th>date</th>\n",
       "      <th>funny</th>\n",
       "      <th>review_id</th>\n",
       "      <th>stars</th>\n",
       "      <th>text</th>\n",
       "      <th>useful</th>\n",
       "      <th>user_id</th>\n",
       "      <th>target</th>\n",
       "    </tr>\n",
       "  </thead>\n",
       "  <tbody>\n",
       "    <tr>\n",
       "      <th>0</th>\n",
       "      <td>0</td>\n",
       "      <td>2</td>\n",
       "      <td>--ujyvoQlwVoBgMYtADiLA</td>\n",
       "      <td>Primanti Bros</td>\n",
       "      <td>Sandwiches, Sports Bars, Restaurants, Nightlif...</td>\n",
       "      <td>3.5</td>\n",
       "      <td>0</td>\n",
       "      <td>2016-10-05</td>\n",
       "      <td>0</td>\n",
       "      <td>isswD5jO3GwCYIkDNK9AEA</td>\n",
       "      <td>4</td>\n",
       "      <td>I love the white pizza and the Monongahela (bl...</td>\n",
       "      <td>0</td>\n",
       "      <td>D5_iQw0N9wO7kT7FrT7j6A</td>\n",
       "      <td>False</td>\n",
       "    </tr>\n",
       "    <tr>\n",
       "      <th>1</th>\n",
       "      <td>1</td>\n",
       "      <td>11</td>\n",
       "      <td>--ujyvoQlwVoBgMYtADiLA</td>\n",
       "      <td>Primanti Bros</td>\n",
       "      <td>Sandwiches, Sports Bars, Restaurants, Nightlif...</td>\n",
       "      <td>3.5</td>\n",
       "      <td>0</td>\n",
       "      <td>2017-07-31</td>\n",
       "      <td>0</td>\n",
       "      <td>CRMppAp7f0GF5pa8sNkV4g</td>\n",
       "      <td>5</td>\n",
       "      <td>love Primanti bros.great food. good service. f...</td>\n",
       "      <td>0</td>\n",
       "      <td>nyzncOg3goSAMK15IijIqA</td>\n",
       "      <td>True</td>\n",
       "    </tr>\n",
       "    <tr>\n",
       "      <th>2</th>\n",
       "      <td>2</td>\n",
       "      <td>12</td>\n",
       "      <td>--ujyvoQlwVoBgMYtADiLA</td>\n",
       "      <td>Primanti Bros</td>\n",
       "      <td>Sandwiches, Sports Bars, Restaurants, Nightlif...</td>\n",
       "      <td>3.5</td>\n",
       "      <td>0</td>\n",
       "      <td>2017-03-25</td>\n",
       "      <td>0</td>\n",
       "      <td>BdGR_xduQ2CLkEIgtR2eCQ</td>\n",
       "      <td>4</td>\n",
       "      <td>Great food and very convenient location. The p...</td>\n",
       "      <td>0</td>\n",
       "      <td>YFRp9i9sDuA1T5oMKq5cbg</td>\n",
       "      <td>False</td>\n",
       "    </tr>\n",
       "    <tr>\n",
       "      <th>3</th>\n",
       "      <td>3</td>\n",
       "      <td>18</td>\n",
       "      <td>--ujyvoQlwVoBgMYtADiLA</td>\n",
       "      <td>Primanti Bros</td>\n",
       "      <td>Sandwiches, Sports Bars, Restaurants, Nightlif...</td>\n",
       "      <td>3.5</td>\n",
       "      <td>0</td>\n",
       "      <td>2017-12-31</td>\n",
       "      <td>0</td>\n",
       "      <td>Jt2iThRe8Fu6GAG-moAIPQ</td>\n",
       "      <td>3</td>\n",
       "      <td>I love visiting Primanti Bros every time we co...</td>\n",
       "      <td>0</td>\n",
       "      <td>QqdHAP9tSwjteG7b9q7sAw</td>\n",
       "      <td>False</td>\n",
       "    </tr>\n",
       "    <tr>\n",
       "      <th>4</th>\n",
       "      <td>4</td>\n",
       "      <td>20</td>\n",
       "      <td>--ujyvoQlwVoBgMYtADiLA</td>\n",
       "      <td>Primanti Bros</td>\n",
       "      <td>Sandwiches, Sports Bars, Restaurants, Nightlif...</td>\n",
       "      <td>3.5</td>\n",
       "      <td>0</td>\n",
       "      <td>2016-09-27</td>\n",
       "      <td>0</td>\n",
       "      <td>1mi5-2nKgRQ0u6KoWXA3vQ</td>\n",
       "      <td>5</td>\n",
       "      <td>You can't beat their happy hour! Great sandwic...</td>\n",
       "      <td>0</td>\n",
       "      <td>4qfMMlGtme2RNFqDgxYLxg</td>\n",
       "      <td>True</td>\n",
       "    </tr>\n",
       "    <tr>\n",
       "      <th>5</th>\n",
       "      <td>5</td>\n",
       "      <td>23</td>\n",
       "      <td>--ujyvoQlwVoBgMYtADiLA</td>\n",
       "      <td>Primanti Bros</td>\n",
       "      <td>Sandwiches, Sports Bars, Restaurants, Nightlif...</td>\n",
       "      <td>3.5</td>\n",
       "      <td>1</td>\n",
       "      <td>2016-10-27</td>\n",
       "      <td>1</td>\n",
       "      <td>6prhTqu7nAf2g0JZjPM-AQ</td>\n",
       "      <td>4</td>\n",
       "      <td>Whoa! What a sandwich! This spot was recommend...</td>\n",
       "      <td>1</td>\n",
       "      <td>65GY-LY1Y9OLQ24bk05VYg</td>\n",
       "      <td>False</td>\n",
       "    </tr>\n",
       "    <tr>\n",
       "      <th>6</th>\n",
       "      <td>6</td>\n",
       "      <td>25</td>\n",
       "      <td>--ujyvoQlwVoBgMYtADiLA</td>\n",
       "      <td>Primanti Bros</td>\n",
       "      <td>Sandwiches, Sports Bars, Restaurants, Nightlif...</td>\n",
       "      <td>3.5</td>\n",
       "      <td>0</td>\n",
       "      <td>2017-05-10</td>\n",
       "      <td>1</td>\n",
       "      <td>ahlonBc-iMSNbmRF85S6Tw</td>\n",
       "      <td>2</td>\n",
       "      <td>Oh, what can I say about Primanti Bros. \\nMy h...</td>\n",
       "      <td>0</td>\n",
       "      <td>ynQWcEUSahZ9uegM9kE9Qw</td>\n",
       "      <td>False</td>\n",
       "    </tr>\n",
       "    <tr>\n",
       "      <th>7</th>\n",
       "      <td>7</td>\n",
       "      <td>26</td>\n",
       "      <td>--ujyvoQlwVoBgMYtADiLA</td>\n",
       "      <td>Primanti Bros</td>\n",
       "      <td>Sandwiches, Sports Bars, Restaurants, Nightlif...</td>\n",
       "      <td>3.5</td>\n",
       "      <td>0</td>\n",
       "      <td>2017-12-09</td>\n",
       "      <td>0</td>\n",
       "      <td>-nx4S8G5HUkI-h-z-T60oQ</td>\n",
       "      <td>5</td>\n",
       "      <td>This place was really good. We went based on a...</td>\n",
       "      <td>1</td>\n",
       "      <td>qmO1jsUwOSSIE9eAOryuZw</td>\n",
       "      <td>True</td>\n",
       "    </tr>\n",
       "    <tr>\n",
       "      <th>8</th>\n",
       "      <td>8</td>\n",
       "      <td>32</td>\n",
       "      <td>--ujyvoQlwVoBgMYtADiLA</td>\n",
       "      <td>Primanti Bros</td>\n",
       "      <td>Sandwiches, Sports Bars, Restaurants, Nightlif...</td>\n",
       "      <td>3.5</td>\n",
       "      <td>0</td>\n",
       "      <td>2016-11-08</td>\n",
       "      <td>0</td>\n",
       "      <td>f54ybPsxQD6bTEOjra31RQ</td>\n",
       "      <td>2</td>\n",
       "      <td>I used to love primanti's bros, but I wish the...</td>\n",
       "      <td>0</td>\n",
       "      <td>0Amd1mZAzHhHMbgKd2RuOg</td>\n",
       "      <td>False</td>\n",
       "    </tr>\n",
       "    <tr>\n",
       "      <th>9</th>\n",
       "      <td>9</td>\n",
       "      <td>36</td>\n",
       "      <td>--ujyvoQlwVoBgMYtADiLA</td>\n",
       "      <td>Primanti Bros</td>\n",
       "      <td>Sandwiches, Sports Bars, Restaurants, Nightlif...</td>\n",
       "      <td>3.5</td>\n",
       "      <td>0</td>\n",
       "      <td>2016-10-11</td>\n",
       "      <td>0</td>\n",
       "      <td>JpIa-KOKBV1HpdcaI7v_3Q</td>\n",
       "      <td>1</td>\n",
       "      <td>I just moved to the Pittsburgh area and could ...</td>\n",
       "      <td>1</td>\n",
       "      <td>uHyE6oz8dXTYCQ087JQYEA</td>\n",
       "      <td>False</td>\n",
       "    </tr>\n",
       "    <tr>\n",
       "      <th>10</th>\n",
       "      <td>10</td>\n",
       "      <td>38</td>\n",
       "      <td>--ujyvoQlwVoBgMYtADiLA</td>\n",
       "      <td>Primanti Bros</td>\n",
       "      <td>Sandwiches, Sports Bars, Restaurants, Nightlif...</td>\n",
       "      <td>3.5</td>\n",
       "      <td>0</td>\n",
       "      <td>2017-06-20</td>\n",
       "      <td>0</td>\n",
       "      <td>wWMoe-smld6v0YNxYdwEag</td>\n",
       "      <td>4</td>\n",
       "      <td>Service was the best.pizza is delish Always ge...</td>\n",
       "      <td>0</td>\n",
       "      <td>MG0Pc-T_KhoFk3Oc82Hv_A</td>\n",
       "      <td>False</td>\n",
       "    </tr>\n",
       "    <tr>\n",
       "      <th>11</th>\n",
       "      <td>11</td>\n",
       "      <td>44</td>\n",
       "      <td>--ujyvoQlwVoBgMYtADiLA</td>\n",
       "      <td>Primanti Bros</td>\n",
       "      <td>Sandwiches, Sports Bars, Restaurants, Nightlif...</td>\n",
       "      <td>3.5</td>\n",
       "      <td>0</td>\n",
       "      <td>2017-05-04</td>\n",
       "      <td>1</td>\n",
       "      <td>4zd6iLQRe4H4iAoQSJbDcQ</td>\n",
       "      <td>5</td>\n",
       "      <td>Primanti's always provides a great experience....</td>\n",
       "      <td>1</td>\n",
       "      <td>1u80DXuswfp7hFW2NN9B-Q</td>\n",
       "      <td>True</td>\n",
       "    </tr>\n",
       "    <tr>\n",
       "      <th>12</th>\n",
       "      <td>12</td>\n",
       "      <td>48</td>\n",
       "      <td>--ujyvoQlwVoBgMYtADiLA</td>\n",
       "      <td>Primanti Bros</td>\n",
       "      <td>Sandwiches, Sports Bars, Restaurants, Nightlif...</td>\n",
       "      <td>3.5</td>\n",
       "      <td>0</td>\n",
       "      <td>2017-06-23</td>\n",
       "      <td>0</td>\n",
       "      <td>Ljw2io3g6bhfXppzjhZnSA</td>\n",
       "      <td>3</td>\n",
       "      <td>I normally stop in this location when out with...</td>\n",
       "      <td>0</td>\n",
       "      <td>V2QFgQcbpUQltfwLnoESCg</td>\n",
       "      <td>False</td>\n",
       "    </tr>\n",
       "    <tr>\n",
       "      <th>13</th>\n",
       "      <td>13</td>\n",
       "      <td>56</td>\n",
       "      <td>--ujyvoQlwVoBgMYtADiLA</td>\n",
       "      <td>Primanti Bros</td>\n",
       "      <td>Sandwiches, Sports Bars, Restaurants, Nightlif...</td>\n",
       "      <td>3.5</td>\n",
       "      <td>0</td>\n",
       "      <td>2018-06-07</td>\n",
       "      <td>0</td>\n",
       "      <td>AOJkOOWoQy6iKn-D6V2wfg</td>\n",
       "      <td>1</td>\n",
       "      <td>Are these bartenders even serious???? Waited o...</td>\n",
       "      <td>0</td>\n",
       "      <td>RspAYDz3QlBEFBp5BVm3pw</td>\n",
       "      <td>False</td>\n",
       "    </tr>\n",
       "    <tr>\n",
       "      <th>14</th>\n",
       "      <td>14</td>\n",
       "      <td>57</td>\n",
       "      <td>--ujyvoQlwVoBgMYtADiLA</td>\n",
       "      <td>Primanti Bros</td>\n",
       "      <td>Sandwiches, Sports Bars, Restaurants, Nightlif...</td>\n",
       "      <td>3.5</td>\n",
       "      <td>2</td>\n",
       "      <td>2017-01-15</td>\n",
       "      <td>0</td>\n",
       "      <td>DjhEOT-p2QQAjOLAlJg1Tg</td>\n",
       "      <td>4</td>\n",
       "      <td>The sandwiches are often raved about, and they...</td>\n",
       "      <td>4</td>\n",
       "      <td>QYKexxaOJQlseGWmc6soRg</td>\n",
       "      <td>False</td>\n",
       "    </tr>\n",
       "    <tr>\n",
       "      <th>15</th>\n",
       "      <td>15</td>\n",
       "      <td>58</td>\n",
       "      <td>--ujyvoQlwVoBgMYtADiLA</td>\n",
       "      <td>Primanti Bros</td>\n",
       "      <td>Sandwiches, Sports Bars, Restaurants, Nightlif...</td>\n",
       "      <td>3.5</td>\n",
       "      <td>0</td>\n",
       "      <td>2018-03-02</td>\n",
       "      <td>0</td>\n",
       "      <td>cTMm3SMl-HjM02zACru5Zw</td>\n",
       "      <td>3</td>\n",
       "      <td>Inconsistent.  Sometimes the service and food ...</td>\n",
       "      <td>0</td>\n",
       "      <td>58tVksIIkoYTHpUbTwZb3Q</td>\n",
       "      <td>False</td>\n",
       "    </tr>\n",
       "    <tr>\n",
       "      <th>16</th>\n",
       "      <td>16</td>\n",
       "      <td>60</td>\n",
       "      <td>--ujyvoQlwVoBgMYtADiLA</td>\n",
       "      <td>Primanti Bros</td>\n",
       "      <td>Sandwiches, Sports Bars, Restaurants, Nightlif...</td>\n",
       "      <td>3.5</td>\n",
       "      <td>0</td>\n",
       "      <td>2017-01-02</td>\n",
       "      <td>0</td>\n",
       "      <td>2EnQFpwyu98e-S9HCzugeA</td>\n",
       "      <td>4</td>\n",
       "      <td>Primanti Bros. is never a bad choice. Great fo...</td>\n",
       "      <td>0</td>\n",
       "      <td>wrsj5oMHsRzouMNuZlatbg</td>\n",
       "      <td>False</td>\n",
       "    </tr>\n",
       "    <tr>\n",
       "      <th>17</th>\n",
       "      <td>17</td>\n",
       "      <td>67</td>\n",
       "      <td>--ujyvoQlwVoBgMYtADiLA</td>\n",
       "      <td>Primanti Bros</td>\n",
       "      <td>Sandwiches, Sports Bars, Restaurants, Nightlif...</td>\n",
       "      <td>3.5</td>\n",
       "      <td>0</td>\n",
       "      <td>2017-09-20</td>\n",
       "      <td>0</td>\n",
       "      <td>DsdFW3JGPvnNnMtva1PyYQ</td>\n",
       "      <td>5</td>\n",
       "      <td>Great, attentive service with great local Pitt...</td>\n",
       "      <td>3</td>\n",
       "      <td>ICtC3GL1ssRWDkOA5tt4iQ</td>\n",
       "      <td>True</td>\n",
       "    </tr>\n",
       "    <tr>\n",
       "      <th>18</th>\n",
       "      <td>18</td>\n",
       "      <td>68</td>\n",
       "      <td>--ujyvoQlwVoBgMYtADiLA</td>\n",
       "      <td>Primanti Bros</td>\n",
       "      <td>Sandwiches, Sports Bars, Restaurants, Nightlif...</td>\n",
       "      <td>3.5</td>\n",
       "      <td>0</td>\n",
       "      <td>2018-04-05</td>\n",
       "      <td>0</td>\n",
       "      <td>Nawnqwny8zN6W-FOmbI2bQ</td>\n",
       "      <td>1</td>\n",
       "      <td>The service was decent but my sandwich was ter...</td>\n",
       "      <td>0</td>\n",
       "      <td>cL0Nj40PkWO5e67pfCWJYw</td>\n",
       "      <td>False</td>\n",
       "    </tr>\n",
       "    <tr>\n",
       "      <th>19</th>\n",
       "      <td>729</td>\n",
       "      <td>2600</td>\n",
       "      <td>09pf_DnQV5Y5y2reoIPXlw</td>\n",
       "      <td>Primanti Bros</td>\n",
       "      <td>Nightlife, Sports Bars, Sandwiches, American (...</td>\n",
       "      <td>3.5</td>\n",
       "      <td>0</td>\n",
       "      <td>2017-03-28</td>\n",
       "      <td>0</td>\n",
       "      <td>VlxFei0LOpt4dcYWqP5N2g</td>\n",
       "      <td>5</td>\n",
       "      <td>Great new location! Neighborhood bar feel and ...</td>\n",
       "      <td>0</td>\n",
       "      <td>Chm89d6MUzDl6j0SDicgXg</td>\n",
       "      <td>True</td>\n",
       "    </tr>\n",
       "    <tr>\n",
       "      <th>20</th>\n",
       "      <td>730</td>\n",
       "      <td>2601</td>\n",
       "      <td>09pf_DnQV5Y5y2reoIPXlw</td>\n",
       "      <td>Primanti Bros</td>\n",
       "      <td>Nightlife, Sports Bars, Sandwiches, American (...</td>\n",
       "      <td>3.5</td>\n",
       "      <td>1</td>\n",
       "      <td>2017-05-13</td>\n",
       "      <td>0</td>\n",
       "      <td>Gb6-aqrOJ_Bb1D-JJS7wow</td>\n",
       "      <td>4</td>\n",
       "      <td>This was my first Primanti's experience and it...</td>\n",
       "      <td>1</td>\n",
       "      <td>OFlH5NDvsSneAFqimufMeg</td>\n",
       "      <td>False</td>\n",
       "    </tr>\n",
       "    <tr>\n",
       "      <th>21</th>\n",
       "      <td>731</td>\n",
       "      <td>2602</td>\n",
       "      <td>09pf_DnQV5Y5y2reoIPXlw</td>\n",
       "      <td>Primanti Bros</td>\n",
       "      <td>Nightlife, Sports Bars, Sandwiches, American (...</td>\n",
       "      <td>3.5</td>\n",
       "      <td>0</td>\n",
       "      <td>2017-09-22</td>\n",
       "      <td>0</td>\n",
       "      <td>q5GYgZfpyWSz6-tuQ5Ax5Q</td>\n",
       "      <td>5</td>\n",
       "      <td>I've ordered here twice so far. Once for picku...</td>\n",
       "      <td>2</td>\n",
       "      <td>mkIt8BaYxqGGhaVHt6BxQA</td>\n",
       "      <td>True</td>\n",
       "    </tr>\n",
       "    <tr>\n",
       "      <th>22</th>\n",
       "      <td>732</td>\n",
       "      <td>2603</td>\n",
       "      <td>09pf_DnQV5Y5y2reoIPXlw</td>\n",
       "      <td>Primanti Bros</td>\n",
       "      <td>Nightlife, Sports Bars, Sandwiches, American (...</td>\n",
       "      <td>3.5</td>\n",
       "      <td>0</td>\n",
       "      <td>2017-08-25</td>\n",
       "      <td>0</td>\n",
       "      <td>PIyp61A76dqc--dNB_ZBOg</td>\n",
       "      <td>2</td>\n",
       "      <td>Fried pickles are amazing. Fries are fantastic...</td>\n",
       "      <td>0</td>\n",
       "      <td>a7jq39vgrg4XJoXd1eMwWA</td>\n",
       "      <td>False</td>\n",
       "    </tr>\n",
       "    <tr>\n",
       "      <th>23</th>\n",
       "      <td>733</td>\n",
       "      <td>2604</td>\n",
       "      <td>09pf_DnQV5Y5y2reoIPXlw</td>\n",
       "      <td>Primanti Bros</td>\n",
       "      <td>Nightlife, Sports Bars, Sandwiches, American (...</td>\n",
       "      <td>3.5</td>\n",
       "      <td>0</td>\n",
       "      <td>2017-05-24</td>\n",
       "      <td>0</td>\n",
       "      <td>cYC04kowFaISFCf33_smmw</td>\n",
       "      <td>5</td>\n",
       "      <td>We had a great first time. Bartender was good ...</td>\n",
       "      <td>0</td>\n",
       "      <td>s5lHqtSNeUHxOezWzqs41Q</td>\n",
       "      <td>True</td>\n",
       "    </tr>\n",
       "    <tr>\n",
       "      <th>24</th>\n",
       "      <td>734</td>\n",
       "      <td>2605</td>\n",
       "      <td>09pf_DnQV5Y5y2reoIPXlw</td>\n",
       "      <td>Primanti Bros</td>\n",
       "      <td>Nightlife, Sports Bars, Sandwiches, American (...</td>\n",
       "      <td>3.5</td>\n",
       "      <td>3</td>\n",
       "      <td>2017-04-04</td>\n",
       "      <td>1</td>\n",
       "      <td>WivAFXOfPFZlu-5CfAha-A</td>\n",
       "      <td>4</td>\n",
       "      <td>I had a good time here.\\n\\nIt sort of stands o...</td>\n",
       "      <td>3</td>\n",
       "      <td>cWXO0DOduMJSTBJvnpD93w</td>\n",
       "      <td>False</td>\n",
       "    </tr>\n",
       "    <tr>\n",
       "      <th>25</th>\n",
       "      <td>735</td>\n",
       "      <td>2606</td>\n",
       "      <td>09pf_DnQV5Y5y2reoIPXlw</td>\n",
       "      <td>Primanti Bros</td>\n",
       "      <td>Nightlife, Sports Bars, Sandwiches, American (...</td>\n",
       "      <td>3.5</td>\n",
       "      <td>0</td>\n",
       "      <td>2017-05-04</td>\n",
       "      <td>1</td>\n",
       "      <td>-dWuyAZ6vodGQ363PV3Rsw</td>\n",
       "      <td>1</td>\n",
       "      <td>Of the Primanti's I've been to, this is the wo...</td>\n",
       "      <td>0</td>\n",
       "      <td>fjUpH8gvdm4gqOMrzxy94g</td>\n",
       "      <td>False</td>\n",
       "    </tr>\n",
       "    <tr>\n",
       "      <th>26</th>\n",
       "      <td>736</td>\n",
       "      <td>2607</td>\n",
       "      <td>09pf_DnQV5Y5y2reoIPXlw</td>\n",
       "      <td>Primanti Bros</td>\n",
       "      <td>Nightlife, Sports Bars, Sandwiches, American (...</td>\n",
       "      <td>3.5</td>\n",
       "      <td>9</td>\n",
       "      <td>2017-01-17</td>\n",
       "      <td>3</td>\n",
       "      <td>csI2_Hu3gqGxq_kuH2E2Kw</td>\n",
       "      <td>3</td>\n",
       "      <td>My family and I were invited to check out the ...</td>\n",
       "      <td>10</td>\n",
       "      <td>BjtJ3VkMOxV2Lan037AFuw</td>\n",
       "      <td>False</td>\n",
       "    </tr>\n",
       "    <tr>\n",
       "      <th>27</th>\n",
       "      <td>737</td>\n",
       "      <td>2608</td>\n",
       "      <td>09pf_DnQV5Y5y2reoIPXlw</td>\n",
       "      <td>Primanti Bros</td>\n",
       "      <td>Nightlife, Sports Bars, Sandwiches, American (...</td>\n",
       "      <td>3.5</td>\n",
       "      <td>0</td>\n",
       "      <td>2017-09-12</td>\n",
       "      <td>0</td>\n",
       "      <td>aoHQglpOBiDfyEWlqFNShw</td>\n",
       "      <td>3</td>\n",
       "      <td>I had the pastrami sandwich because it was the...</td>\n",
       "      <td>0</td>\n",
       "      <td>JEJfNbrkxnPAu-UFYUp4JQ</td>\n",
       "      <td>False</td>\n",
       "    </tr>\n",
       "    <tr>\n",
       "      <th>28</th>\n",
       "      <td>738</td>\n",
       "      <td>2609</td>\n",
       "      <td>09pf_DnQV5Y5y2reoIPXlw</td>\n",
       "      <td>Primanti Bros</td>\n",
       "      <td>Nightlife, Sports Bars, Sandwiches, American (...</td>\n",
       "      <td>3.5</td>\n",
       "      <td>0</td>\n",
       "      <td>2017-12-15</td>\n",
       "      <td>0</td>\n",
       "      <td>aw1XOM-pxTR0EtjrLWtYiQ</td>\n",
       "      <td>1</td>\n",
       "      <td>I am still here at Primanti Bros. writing this...</td>\n",
       "      <td>0</td>\n",
       "      <td>vFD33nF4TZtaJ57y8XMBoA</td>\n",
       "      <td>False</td>\n",
       "    </tr>\n",
       "    <tr>\n",
       "      <th>29</th>\n",
       "      <td>739</td>\n",
       "      <td>2610</td>\n",
       "      <td>09pf_DnQV5Y5y2reoIPXlw</td>\n",
       "      <td>Primanti Bros</td>\n",
       "      <td>Nightlife, Sports Bars, Sandwiches, American (...</td>\n",
       "      <td>3.5</td>\n",
       "      <td>5</td>\n",
       "      <td>2017-03-31</td>\n",
       "      <td>1</td>\n",
       "      <td>YFWddVTXy8ZW-jJXA58Jeg</td>\n",
       "      <td>4</td>\n",
       "      <td>OK, if you know me, you know I enjoy a good sa...</td>\n",
       "      <td>7</td>\n",
       "      <td>ACwBMSJzgW6vOvV7vOrk8Q</td>\n",
       "      <td>False</td>\n",
       "    </tr>\n",
       "    <tr>\n",
       "      <th>...</th>\n",
       "      <td>...</td>\n",
       "      <td>...</td>\n",
       "      <td>...</td>\n",
       "      <td>...</td>\n",
       "      <td>...</td>\n",
       "      <td>...</td>\n",
       "      <td>...</td>\n",
       "      <td>...</td>\n",
       "      <td>...</td>\n",
       "      <td>...</td>\n",
       "      <td>...</td>\n",
       "      <td>...</td>\n",
       "      <td>...</td>\n",
       "      <td>...</td>\n",
       "      <td>...</td>\n",
       "    </tr>\n",
       "    <tr>\n",
       "      <th>597</th>\n",
       "      <td>45875</td>\n",
       "      <td>133185</td>\n",
       "      <td>w_UCGMgok7N9p0XdYBx1VQ</td>\n",
       "      <td>Primanti Bros</td>\n",
       "      <td>Chicken Wings, Sports Bars, Sandwiches, Americ...</td>\n",
       "      <td>3.5</td>\n",
       "      <td>0</td>\n",
       "      <td>2017-08-29</td>\n",
       "      <td>0</td>\n",
       "      <td>H9Pq_MJ6_nhKHK8Zb7OtpA</td>\n",
       "      <td>4</td>\n",
       "      <td>This place was recommended to me as a \"Pittsbu...</td>\n",
       "      <td>0</td>\n",
       "      <td>Nts66VewUuOTyL9YBL7wUQ</td>\n",
       "      <td>False</td>\n",
       "    </tr>\n",
       "    <tr>\n",
       "      <th>598</th>\n",
       "      <td>45876</td>\n",
       "      <td>133191</td>\n",
       "      <td>w_UCGMgok7N9p0XdYBx1VQ</td>\n",
       "      <td>Primanti Bros</td>\n",
       "      <td>Chicken Wings, Sports Bars, Sandwiches, Americ...</td>\n",
       "      <td>3.5</td>\n",
       "      <td>0</td>\n",
       "      <td>2016-12-06</td>\n",
       "      <td>0</td>\n",
       "      <td>D-tDqnIpRoieJHzDqH9yMw</td>\n",
       "      <td>3</td>\n",
       "      <td>Is cold french fries on a sandwich a thing? Th...</td>\n",
       "      <td>0</td>\n",
       "      <td>NuEaBvhTv82kYAxk8jxySw</td>\n",
       "      <td>False</td>\n",
       "    </tr>\n",
       "    <tr>\n",
       "      <th>599</th>\n",
       "      <td>45877</td>\n",
       "      <td>133192</td>\n",
       "      <td>w_UCGMgok7N9p0XdYBx1VQ</td>\n",
       "      <td>Primanti Bros</td>\n",
       "      <td>Chicken Wings, Sports Bars, Sandwiches, Americ...</td>\n",
       "      <td>3.5</td>\n",
       "      <td>0</td>\n",
       "      <td>2018-06-29</td>\n",
       "      <td>0</td>\n",
       "      <td>LqdvqZ-YR51EGt7QvvF_vQ</td>\n",
       "      <td>2</td>\n",
       "      <td>I wanted to like it but just didn`t do it for ...</td>\n",
       "      <td>0</td>\n",
       "      <td>2u32ZWhSsioczBt-r9pdqA</td>\n",
       "      <td>False</td>\n",
       "    </tr>\n",
       "    <tr>\n",
       "      <th>600</th>\n",
       "      <td>45878</td>\n",
       "      <td>133194</td>\n",
       "      <td>w_UCGMgok7N9p0XdYBx1VQ</td>\n",
       "      <td>Primanti Bros</td>\n",
       "      <td>Chicken Wings, Sports Bars, Sandwiches, Americ...</td>\n",
       "      <td>3.5</td>\n",
       "      <td>0</td>\n",
       "      <td>2017-11-26</td>\n",
       "      <td>0</td>\n",
       "      <td>CAgWN5FZrDs1vvH7EmquAA</td>\n",
       "      <td>4</td>\n",
       "      <td>The only reason why this location, specificall...</td>\n",
       "      <td>1</td>\n",
       "      <td>UODjr8awvrzO3C4QGEAMvw</td>\n",
       "      <td>False</td>\n",
       "    </tr>\n",
       "    <tr>\n",
       "      <th>601</th>\n",
       "      <td>45879</td>\n",
       "      <td>133197</td>\n",
       "      <td>w_UCGMgok7N9p0XdYBx1VQ</td>\n",
       "      <td>Primanti Bros</td>\n",
       "      <td>Chicken Wings, Sports Bars, Sandwiches, Americ...</td>\n",
       "      <td>3.5</td>\n",
       "      <td>0</td>\n",
       "      <td>2017-08-08</td>\n",
       "      <td>0</td>\n",
       "      <td>dRuApuZYc8AyA602shyM9A</td>\n",
       "      <td>2</td>\n",
       "      <td>I was looking forward to trying Pittsburgh's i...</td>\n",
       "      <td>0</td>\n",
       "      <td>oerw70Uc1dQl8t-86fOUsg</td>\n",
       "      <td>False</td>\n",
       "    </tr>\n",
       "    <tr>\n",
       "      <th>602</th>\n",
       "      <td>45880</td>\n",
       "      <td>133199</td>\n",
       "      <td>w_UCGMgok7N9p0XdYBx1VQ</td>\n",
       "      <td>Primanti Bros</td>\n",
       "      <td>Chicken Wings, Sports Bars, Sandwiches, Americ...</td>\n",
       "      <td>3.5</td>\n",
       "      <td>0</td>\n",
       "      <td>2017-04-02</td>\n",
       "      <td>0</td>\n",
       "      <td>1INyAH75d3-doMFHWKbW6w</td>\n",
       "      <td>5</td>\n",
       "      <td>I know it's just sandwiches but they are AWESO...</td>\n",
       "      <td>0</td>\n",
       "      <td>-r4l6--AYCw1tb6Ag-nz5g</td>\n",
       "      <td>True</td>\n",
       "    </tr>\n",
       "    <tr>\n",
       "      <th>603</th>\n",
       "      <td>45881</td>\n",
       "      <td>133201</td>\n",
       "      <td>w_UCGMgok7N9p0XdYBx1VQ</td>\n",
       "      <td>Primanti Bros</td>\n",
       "      <td>Chicken Wings, Sports Bars, Sandwiches, Americ...</td>\n",
       "      <td>3.5</td>\n",
       "      <td>0</td>\n",
       "      <td>2018-02-04</td>\n",
       "      <td>0</td>\n",
       "      <td>fJRLL0hfnWfVmIMyiJdqYw</td>\n",
       "      <td>2</td>\n",
       "      <td>Overrated. The sandwiches were not as BIG as I...</td>\n",
       "      <td>1</td>\n",
       "      <td>2vpHdrrqife6eIk7DxdxKA</td>\n",
       "      <td>False</td>\n",
       "    </tr>\n",
       "    <tr>\n",
       "      <th>604</th>\n",
       "      <td>45882</td>\n",
       "      <td>133202</td>\n",
       "      <td>w_UCGMgok7N9p0XdYBx1VQ</td>\n",
       "      <td>Primanti Bros</td>\n",
       "      <td>Chicken Wings, Sports Bars, Sandwiches, Americ...</td>\n",
       "      <td>3.5</td>\n",
       "      <td>0</td>\n",
       "      <td>2017-02-28</td>\n",
       "      <td>0</td>\n",
       "      <td>gJ07HEl8WSYbHUkeHqIS6A</td>\n",
       "      <td>4</td>\n",
       "      <td>I'll be honest, not being from Pittsburgh, all...</td>\n",
       "      <td>1</td>\n",
       "      <td>QNRv9nSSydXfHGmGmsb_dQ</td>\n",
       "      <td>False</td>\n",
       "    </tr>\n",
       "    <tr>\n",
       "      <th>605</th>\n",
       "      <td>45883</td>\n",
       "      <td>133203</td>\n",
       "      <td>w_UCGMgok7N9p0XdYBx1VQ</td>\n",
       "      <td>Primanti Bros</td>\n",
       "      <td>Chicken Wings, Sports Bars, Sandwiches, Americ...</td>\n",
       "      <td>3.5</td>\n",
       "      <td>0</td>\n",
       "      <td>2018-04-01</td>\n",
       "      <td>0</td>\n",
       "      <td>P5jVpaEEfjpux8yM_CTwlA</td>\n",
       "      <td>4</td>\n",
       "      <td>How far is heard about this place on Diners Dr...</td>\n",
       "      <td>0</td>\n",
       "      <td>PlkcpVx74F5bcjTznVoTEg</td>\n",
       "      <td>False</td>\n",
       "    </tr>\n",
       "    <tr>\n",
       "      <th>606</th>\n",
       "      <td>45884</td>\n",
       "      <td>133204</td>\n",
       "      <td>w_UCGMgok7N9p0XdYBx1VQ</td>\n",
       "      <td>Primanti Bros</td>\n",
       "      <td>Chicken Wings, Sports Bars, Sandwiches, Americ...</td>\n",
       "      <td>3.5</td>\n",
       "      <td>0</td>\n",
       "      <td>2017-05-01</td>\n",
       "      <td>0</td>\n",
       "      <td>Z6MN0OjLnvtg7-0tYI0WZw</td>\n",
       "      <td>4</td>\n",
       "      <td>This is a must go if you are in the Pittsburg ...</td>\n",
       "      <td>1</td>\n",
       "      <td>zPZZuEU9_2iXeAHu6UkTRQ</td>\n",
       "      <td>False</td>\n",
       "    </tr>\n",
       "    <tr>\n",
       "      <th>607</th>\n",
       "      <td>45885</td>\n",
       "      <td>133205</td>\n",
       "      <td>w_UCGMgok7N9p0XdYBx1VQ</td>\n",
       "      <td>Primanti Bros</td>\n",
       "      <td>Chicken Wings, Sports Bars, Sandwiches, Americ...</td>\n",
       "      <td>3.5</td>\n",
       "      <td>4</td>\n",
       "      <td>2017-07-03</td>\n",
       "      <td>1</td>\n",
       "      <td>NAiXwl5595-RyjGsThMIBA</td>\n",
       "      <td>5</td>\n",
       "      <td>Good Lord.\\n\\nWhen it comes to tourist spots, ...</td>\n",
       "      <td>4</td>\n",
       "      <td>OffzzT2HDiiHTknbcVUQeg</td>\n",
       "      <td>True</td>\n",
       "    </tr>\n",
       "    <tr>\n",
       "      <th>608</th>\n",
       "      <td>45886</td>\n",
       "      <td>133211</td>\n",
       "      <td>w_UCGMgok7N9p0XdYBx1VQ</td>\n",
       "      <td>Primanti Bros</td>\n",
       "      <td>Chicken Wings, Sports Bars, Sandwiches, Americ...</td>\n",
       "      <td>3.5</td>\n",
       "      <td>0</td>\n",
       "      <td>2016-09-09</td>\n",
       "      <td>0</td>\n",
       "      <td>JSjywYfm6NiL9hROMnNGog</td>\n",
       "      <td>3</td>\n",
       "      <td>Deep fried with cheese. Pretty uninspiring men...</td>\n",
       "      <td>0</td>\n",
       "      <td>5l-HPzEGEXfI2Vko_c5onw</td>\n",
       "      <td>False</td>\n",
       "    </tr>\n",
       "    <tr>\n",
       "      <th>609</th>\n",
       "      <td>45887</td>\n",
       "      <td>133218</td>\n",
       "      <td>w_UCGMgok7N9p0XdYBx1VQ</td>\n",
       "      <td>Primanti Bros</td>\n",
       "      <td>Chicken Wings, Sports Bars, Sandwiches, Americ...</td>\n",
       "      <td>3.5</td>\n",
       "      <td>0</td>\n",
       "      <td>2018-04-06</td>\n",
       "      <td>0</td>\n",
       "      <td>BwGIiz1e0G_MvLbjUvWBvA</td>\n",
       "      <td>4</td>\n",
       "      <td>Great local fair in Pittsburg!  The Pittsburge...</td>\n",
       "      <td>0</td>\n",
       "      <td>tRVTEZPG6apo6cwucskh7Q</td>\n",
       "      <td>False</td>\n",
       "    </tr>\n",
       "    <tr>\n",
       "      <th>610</th>\n",
       "      <td>45888</td>\n",
       "      <td>133219</td>\n",
       "      <td>w_UCGMgok7N9p0XdYBx1VQ</td>\n",
       "      <td>Primanti Bros</td>\n",
       "      <td>Chicken Wings, Sports Bars, Sandwiches, Americ...</td>\n",
       "      <td>3.5</td>\n",
       "      <td>2</td>\n",
       "      <td>2017-04-04</td>\n",
       "      <td>1</td>\n",
       "      <td>mKUoCXwuSgyMC8J6PYNHlA</td>\n",
       "      <td>3</td>\n",
       "      <td>What can ya say about this local/regional now ...</td>\n",
       "      <td>1</td>\n",
       "      <td>6Ki3bAL0wx9ymbdJqbSWMA</td>\n",
       "      <td>False</td>\n",
       "    </tr>\n",
       "    <tr>\n",
       "      <th>611</th>\n",
       "      <td>45889</td>\n",
       "      <td>133220</td>\n",
       "      <td>w_UCGMgok7N9p0XdYBx1VQ</td>\n",
       "      <td>Primanti Bros</td>\n",
       "      <td>Chicken Wings, Sports Bars, Sandwiches, Americ...</td>\n",
       "      <td>3.5</td>\n",
       "      <td>0</td>\n",
       "      <td>2016-10-31</td>\n",
       "      <td>0</td>\n",
       "      <td>QzCEiD7X4sXxTBnwDZhMBA</td>\n",
       "      <td>4</td>\n",
       "      <td>I am a Pittsburgh native and never had a Prima...</td>\n",
       "      <td>1</td>\n",
       "      <td>uvxzBQSPJlMKcOCgyzYY2w</td>\n",
       "      <td>False</td>\n",
       "    </tr>\n",
       "    <tr>\n",
       "      <th>612</th>\n",
       "      <td>45890</td>\n",
       "      <td>133226</td>\n",
       "      <td>w_UCGMgok7N9p0XdYBx1VQ</td>\n",
       "      <td>Primanti Bros</td>\n",
       "      <td>Chicken Wings, Sports Bars, Sandwiches, Americ...</td>\n",
       "      <td>3.5</td>\n",
       "      <td>0</td>\n",
       "      <td>2017-12-09</td>\n",
       "      <td>0</td>\n",
       "      <td>3QpZVs4TBe17x8R-ZDFcxA</td>\n",
       "      <td>5</td>\n",
       "      <td>Kentucky Mule was one of the best drinks I've ...</td>\n",
       "      <td>0</td>\n",
       "      <td>LzY5jEXaSKhtZO-6Yu_QPw</td>\n",
       "      <td>True</td>\n",
       "    </tr>\n",
       "    <tr>\n",
       "      <th>613</th>\n",
       "      <td>45891</td>\n",
       "      <td>133228</td>\n",
       "      <td>w_UCGMgok7N9p0XdYBx1VQ</td>\n",
       "      <td>Primanti Bros</td>\n",
       "      <td>Chicken Wings, Sports Bars, Sandwiches, Americ...</td>\n",
       "      <td>3.5</td>\n",
       "      <td>0</td>\n",
       "      <td>2018-04-14</td>\n",
       "      <td>0</td>\n",
       "      <td>UwSeu9S0RuofN4Os7gJHwg</td>\n",
       "      <td>5</td>\n",
       "      <td>Awesome beer and food. Visiting Pittsburgh and...</td>\n",
       "      <td>0</td>\n",
       "      <td>hkbdFon8SH0SfAYMwNQvZQ</td>\n",
       "      <td>True</td>\n",
       "    </tr>\n",
       "    <tr>\n",
       "      <th>614</th>\n",
       "      <td>45892</td>\n",
       "      <td>133234</td>\n",
       "      <td>w_UCGMgok7N9p0XdYBx1VQ</td>\n",
       "      <td>Primanti Bros</td>\n",
       "      <td>Chicken Wings, Sports Bars, Sandwiches, Americ...</td>\n",
       "      <td>3.5</td>\n",
       "      <td>0</td>\n",
       "      <td>2018-04-17</td>\n",
       "      <td>1</td>\n",
       "      <td>3fGVr3-iQqwja8nGW8FPJg</td>\n",
       "      <td>1</td>\n",
       "      <td>I can't believe this was recommended to out-of...</td>\n",
       "      <td>1</td>\n",
       "      <td>6A-VKaa_WIipUIcVqEh51Q</td>\n",
       "      <td>False</td>\n",
       "    </tr>\n",
       "    <tr>\n",
       "      <th>615</th>\n",
       "      <td>45893</td>\n",
       "      <td>133235</td>\n",
       "      <td>w_UCGMgok7N9p0XdYBx1VQ</td>\n",
       "      <td>Primanti Bros</td>\n",
       "      <td>Chicken Wings, Sports Bars, Sandwiches, Americ...</td>\n",
       "      <td>3.5</td>\n",
       "      <td>0</td>\n",
       "      <td>2016-09-05</td>\n",
       "      <td>0</td>\n",
       "      <td>D9PsXrawzZYFYiKIUTqTnw</td>\n",
       "      <td>1</td>\n",
       "      <td>Terrible staff! Walked out after guy seating p...</td>\n",
       "      <td>1</td>\n",
       "      <td>-k3d8blOSIhJyVRttpjEGw</td>\n",
       "      <td>False</td>\n",
       "    </tr>\n",
       "    <tr>\n",
       "      <th>616</th>\n",
       "      <td>45894</td>\n",
       "      <td>133236</td>\n",
       "      <td>w_UCGMgok7N9p0XdYBx1VQ</td>\n",
       "      <td>Primanti Bros</td>\n",
       "      <td>Chicken Wings, Sports Bars, Sandwiches, Americ...</td>\n",
       "      <td>3.5</td>\n",
       "      <td>0</td>\n",
       "      <td>2018-06-03</td>\n",
       "      <td>0</td>\n",
       "      <td>O3S5P6Q7dElP-EiN5wVNOQ</td>\n",
       "      <td>1</td>\n",
       "      <td>My husband and I just arrived in town. I am or...</td>\n",
       "      <td>0</td>\n",
       "      <td>QtH3bgxvQitrex7i5vhjTA</td>\n",
       "      <td>False</td>\n",
       "    </tr>\n",
       "    <tr>\n",
       "      <th>617</th>\n",
       "      <td>45895</td>\n",
       "      <td>133238</td>\n",
       "      <td>w_UCGMgok7N9p0XdYBx1VQ</td>\n",
       "      <td>Primanti Bros</td>\n",
       "      <td>Chicken Wings, Sports Bars, Sandwiches, Americ...</td>\n",
       "      <td>3.5</td>\n",
       "      <td>0</td>\n",
       "      <td>2017-05-13</td>\n",
       "      <td>1</td>\n",
       "      <td>QiCbyLM6G3ILtK46ADnZZA</td>\n",
       "      <td>1</td>\n",
       "      <td>MEMO:DEAR WHITE PEOPLE,Yesterday Downtown mark...</td>\n",
       "      <td>0</td>\n",
       "      <td>w1YqrwFaZeckCQFxjnZCsg</td>\n",
       "      <td>False</td>\n",
       "    </tr>\n",
       "    <tr>\n",
       "      <th>618</th>\n",
       "      <td>45896</td>\n",
       "      <td>133242</td>\n",
       "      <td>w_UCGMgok7N9p0XdYBx1VQ</td>\n",
       "      <td>Primanti Bros</td>\n",
       "      <td>Chicken Wings, Sports Bars, Sandwiches, Americ...</td>\n",
       "      <td>3.5</td>\n",
       "      <td>0</td>\n",
       "      <td>2017-09-16</td>\n",
       "      <td>0</td>\n",
       "      <td>SoR10VTw_1nyzpbimoeVnQ</td>\n",
       "      <td>5</td>\n",
       "      <td>This was a recommendation by our Lyft driver. ...</td>\n",
       "      <td>0</td>\n",
       "      <td>uQY03sjjoHSBGb0bIUR9Vw</td>\n",
       "      <td>True</td>\n",
       "    </tr>\n",
       "    <tr>\n",
       "      <th>619</th>\n",
       "      <td>45897</td>\n",
       "      <td>133243</td>\n",
       "      <td>w_UCGMgok7N9p0XdYBx1VQ</td>\n",
       "      <td>Primanti Bros</td>\n",
       "      <td>Chicken Wings, Sports Bars, Sandwiches, Americ...</td>\n",
       "      <td>3.5</td>\n",
       "      <td>0</td>\n",
       "      <td>2017-06-11</td>\n",
       "      <td>0</td>\n",
       "      <td>ZitkobUf3LarNTXae6jdtA</td>\n",
       "      <td>3</td>\n",
       "      <td>Visiting from out of town and heard this was t...</td>\n",
       "      <td>0</td>\n",
       "      <td>uOIcEYTpr9DXGYkBx7QG3g</td>\n",
       "      <td>False</td>\n",
       "    </tr>\n",
       "    <tr>\n",
       "      <th>620</th>\n",
       "      <td>45898</td>\n",
       "      <td>133244</td>\n",
       "      <td>w_UCGMgok7N9p0XdYBx1VQ</td>\n",
       "      <td>Primanti Bros</td>\n",
       "      <td>Chicken Wings, Sports Bars, Sandwiches, Americ...</td>\n",
       "      <td>3.5</td>\n",
       "      <td>0</td>\n",
       "      <td>2017-12-09</td>\n",
       "      <td>0</td>\n",
       "      <td>Yghu5O9zxeH5Uqz_YjUCTw</td>\n",
       "      <td>4</td>\n",
       "      <td>I was with a local Pittsburgh friend and he in...</td>\n",
       "      <td>1</td>\n",
       "      <td>SceADw4QFy7oCmToRS5W_A</td>\n",
       "      <td>False</td>\n",
       "    </tr>\n",
       "    <tr>\n",
       "      <th>621</th>\n",
       "      <td>45899</td>\n",
       "      <td>133248</td>\n",
       "      <td>w_UCGMgok7N9p0XdYBx1VQ</td>\n",
       "      <td>Primanti Bros</td>\n",
       "      <td>Chicken Wings, Sports Bars, Sandwiches, Americ...</td>\n",
       "      <td>3.5</td>\n",
       "      <td>0</td>\n",
       "      <td>2017-07-16</td>\n",
       "      <td>0</td>\n",
       "      <td>VI_XhiQpMfjFaPh4R56eQg</td>\n",
       "      <td>4</td>\n",
       "      <td>I knew I had to make a stop at Primanti Bros a...</td>\n",
       "      <td>0</td>\n",
       "      <td>B_-ZN03P7XW-U4_H2X_mXw</td>\n",
       "      <td>False</td>\n",
       "    </tr>\n",
       "    <tr>\n",
       "      <th>622</th>\n",
       "      <td>45900</td>\n",
       "      <td>133255</td>\n",
       "      <td>w_UCGMgok7N9p0XdYBx1VQ</td>\n",
       "      <td>Primanti Bros</td>\n",
       "      <td>Chicken Wings, Sports Bars, Sandwiches, Americ...</td>\n",
       "      <td>3.5</td>\n",
       "      <td>0</td>\n",
       "      <td>2017-12-22</td>\n",
       "      <td>0</td>\n",
       "      <td>Bw-t9NKbPfNxsb7ggQkt5A</td>\n",
       "      <td>4</td>\n",
       "      <td>The one constant recommendation on our trip to...</td>\n",
       "      <td>1</td>\n",
       "      <td>qy8DP0GZ4KIsNdnepjSLZQ</td>\n",
       "      <td>False</td>\n",
       "    </tr>\n",
       "    <tr>\n",
       "      <th>623</th>\n",
       "      <td>48269</td>\n",
       "      <td>139806</td>\n",
       "      <td>z1nFepEOkn_Bp5aopscf9w</td>\n",
       "      <td>Primanti Bros</td>\n",
       "      <td>Sandwiches, Restaurants, Bars, American (New),...</td>\n",
       "      <td>3.0</td>\n",
       "      <td>0</td>\n",
       "      <td>2016-10-05</td>\n",
       "      <td>0</td>\n",
       "      <td>Tx-sxm54njyb_Q2b70DVTA</td>\n",
       "      <td>5</td>\n",
       "      <td>I Loved this place. The server was attentive a...</td>\n",
       "      <td>0</td>\n",
       "      <td>YTu0c-1I9ECeksIgoHXFPA</td>\n",
       "      <td>True</td>\n",
       "    </tr>\n",
       "    <tr>\n",
       "      <th>624</th>\n",
       "      <td>48270</td>\n",
       "      <td>139807</td>\n",
       "      <td>z1nFepEOkn_Bp5aopscf9w</td>\n",
       "      <td>Primanti Bros</td>\n",
       "      <td>Sandwiches, Restaurants, Bars, American (New),...</td>\n",
       "      <td>3.0</td>\n",
       "      <td>0</td>\n",
       "      <td>2018-03-18</td>\n",
       "      <td>0</td>\n",
       "      <td>TiaVC50t3oHD6WZLOnxn9A</td>\n",
       "      <td>1</td>\n",
       "      <td>For this to be called a staple of Pittsburgh i...</td>\n",
       "      <td>0</td>\n",
       "      <td>DzyH5e6TcannADSb0YNy1A</td>\n",
       "      <td>False</td>\n",
       "    </tr>\n",
       "    <tr>\n",
       "      <th>625</th>\n",
       "      <td>48271</td>\n",
       "      <td>139808</td>\n",
       "      <td>z1nFepEOkn_Bp5aopscf9w</td>\n",
       "      <td>Primanti Bros</td>\n",
       "      <td>Sandwiches, Restaurants, Bars, American (New),...</td>\n",
       "      <td>3.0</td>\n",
       "      <td>0</td>\n",
       "      <td>2018-03-16</td>\n",
       "      <td>0</td>\n",
       "      <td>Cx9mo1MR5u9RrY3lDWDC8w</td>\n",
       "      <td>1</td>\n",
       "      <td>I know it's a Pittsburgh thing, and I've reall...</td>\n",
       "      <td>0</td>\n",
       "      <td>njp-VIKNIAnoUT1oqjJgHw</td>\n",
       "      <td>False</td>\n",
       "    </tr>\n",
       "    <tr>\n",
       "      <th>626</th>\n",
       "      <td>48272</td>\n",
       "      <td>139810</td>\n",
       "      <td>z1nFepEOkn_Bp5aopscf9w</td>\n",
       "      <td>Primanti Bros</td>\n",
       "      <td>Sandwiches, Restaurants, Bars, American (New),...</td>\n",
       "      <td>3.0</td>\n",
       "      <td>0</td>\n",
       "      <td>2016-11-19</td>\n",
       "      <td>0</td>\n",
       "      <td>Nz4w0z2l2pgJM93-5O5NMg</td>\n",
       "      <td>4</td>\n",
       "      <td>We accidentally went to a Primanti Bros that w...</td>\n",
       "      <td>0</td>\n",
       "      <td>IMD57wrCtAPbvBSAlI2nkA</td>\n",
       "      <td>False</td>\n",
       "    </tr>\n",
       "  </tbody>\n",
       "</table>\n",
       "<p>627 rows × 15 columns</p>\n",
       "</div>"
      ],
      "text/plain": [
       "     index  Unnamed: 0             business_id           name  \\\n",
       "0        0           2  --ujyvoQlwVoBgMYtADiLA  Primanti Bros   \n",
       "1        1          11  --ujyvoQlwVoBgMYtADiLA  Primanti Bros   \n",
       "2        2          12  --ujyvoQlwVoBgMYtADiLA  Primanti Bros   \n",
       "3        3          18  --ujyvoQlwVoBgMYtADiLA  Primanti Bros   \n",
       "4        4          20  --ujyvoQlwVoBgMYtADiLA  Primanti Bros   \n",
       "5        5          23  --ujyvoQlwVoBgMYtADiLA  Primanti Bros   \n",
       "6        6          25  --ujyvoQlwVoBgMYtADiLA  Primanti Bros   \n",
       "7        7          26  --ujyvoQlwVoBgMYtADiLA  Primanti Bros   \n",
       "8        8          32  --ujyvoQlwVoBgMYtADiLA  Primanti Bros   \n",
       "9        9          36  --ujyvoQlwVoBgMYtADiLA  Primanti Bros   \n",
       "10      10          38  --ujyvoQlwVoBgMYtADiLA  Primanti Bros   \n",
       "11      11          44  --ujyvoQlwVoBgMYtADiLA  Primanti Bros   \n",
       "12      12          48  --ujyvoQlwVoBgMYtADiLA  Primanti Bros   \n",
       "13      13          56  --ujyvoQlwVoBgMYtADiLA  Primanti Bros   \n",
       "14      14          57  --ujyvoQlwVoBgMYtADiLA  Primanti Bros   \n",
       "15      15          58  --ujyvoQlwVoBgMYtADiLA  Primanti Bros   \n",
       "16      16          60  --ujyvoQlwVoBgMYtADiLA  Primanti Bros   \n",
       "17      17          67  --ujyvoQlwVoBgMYtADiLA  Primanti Bros   \n",
       "18      18          68  --ujyvoQlwVoBgMYtADiLA  Primanti Bros   \n",
       "19     729        2600  09pf_DnQV5Y5y2reoIPXlw  Primanti Bros   \n",
       "20     730        2601  09pf_DnQV5Y5y2reoIPXlw  Primanti Bros   \n",
       "21     731        2602  09pf_DnQV5Y5y2reoIPXlw  Primanti Bros   \n",
       "22     732        2603  09pf_DnQV5Y5y2reoIPXlw  Primanti Bros   \n",
       "23     733        2604  09pf_DnQV5Y5y2reoIPXlw  Primanti Bros   \n",
       "24     734        2605  09pf_DnQV5Y5y2reoIPXlw  Primanti Bros   \n",
       "25     735        2606  09pf_DnQV5Y5y2reoIPXlw  Primanti Bros   \n",
       "26     736        2607  09pf_DnQV5Y5y2reoIPXlw  Primanti Bros   \n",
       "27     737        2608  09pf_DnQV5Y5y2reoIPXlw  Primanti Bros   \n",
       "28     738        2609  09pf_DnQV5Y5y2reoIPXlw  Primanti Bros   \n",
       "29     739        2610  09pf_DnQV5Y5y2reoIPXlw  Primanti Bros   \n",
       "..     ...         ...                     ...            ...   \n",
       "597  45875      133185  w_UCGMgok7N9p0XdYBx1VQ  Primanti Bros   \n",
       "598  45876      133191  w_UCGMgok7N9p0XdYBx1VQ  Primanti Bros   \n",
       "599  45877      133192  w_UCGMgok7N9p0XdYBx1VQ  Primanti Bros   \n",
       "600  45878      133194  w_UCGMgok7N9p0XdYBx1VQ  Primanti Bros   \n",
       "601  45879      133197  w_UCGMgok7N9p0XdYBx1VQ  Primanti Bros   \n",
       "602  45880      133199  w_UCGMgok7N9p0XdYBx1VQ  Primanti Bros   \n",
       "603  45881      133201  w_UCGMgok7N9p0XdYBx1VQ  Primanti Bros   \n",
       "604  45882      133202  w_UCGMgok7N9p0XdYBx1VQ  Primanti Bros   \n",
       "605  45883      133203  w_UCGMgok7N9p0XdYBx1VQ  Primanti Bros   \n",
       "606  45884      133204  w_UCGMgok7N9p0XdYBx1VQ  Primanti Bros   \n",
       "607  45885      133205  w_UCGMgok7N9p0XdYBx1VQ  Primanti Bros   \n",
       "608  45886      133211  w_UCGMgok7N9p0XdYBx1VQ  Primanti Bros   \n",
       "609  45887      133218  w_UCGMgok7N9p0XdYBx1VQ  Primanti Bros   \n",
       "610  45888      133219  w_UCGMgok7N9p0XdYBx1VQ  Primanti Bros   \n",
       "611  45889      133220  w_UCGMgok7N9p0XdYBx1VQ  Primanti Bros   \n",
       "612  45890      133226  w_UCGMgok7N9p0XdYBx1VQ  Primanti Bros   \n",
       "613  45891      133228  w_UCGMgok7N9p0XdYBx1VQ  Primanti Bros   \n",
       "614  45892      133234  w_UCGMgok7N9p0XdYBx1VQ  Primanti Bros   \n",
       "615  45893      133235  w_UCGMgok7N9p0XdYBx1VQ  Primanti Bros   \n",
       "616  45894      133236  w_UCGMgok7N9p0XdYBx1VQ  Primanti Bros   \n",
       "617  45895      133238  w_UCGMgok7N9p0XdYBx1VQ  Primanti Bros   \n",
       "618  45896      133242  w_UCGMgok7N9p0XdYBx1VQ  Primanti Bros   \n",
       "619  45897      133243  w_UCGMgok7N9p0XdYBx1VQ  Primanti Bros   \n",
       "620  45898      133244  w_UCGMgok7N9p0XdYBx1VQ  Primanti Bros   \n",
       "621  45899      133248  w_UCGMgok7N9p0XdYBx1VQ  Primanti Bros   \n",
       "622  45900      133255  w_UCGMgok7N9p0XdYBx1VQ  Primanti Bros   \n",
       "623  48269      139806  z1nFepEOkn_Bp5aopscf9w  Primanti Bros   \n",
       "624  48270      139807  z1nFepEOkn_Bp5aopscf9w  Primanti Bros   \n",
       "625  48271      139808  z1nFepEOkn_Bp5aopscf9w  Primanti Bros   \n",
       "626  48272      139810  z1nFepEOkn_Bp5aopscf9w  Primanti Bros   \n",
       "\n",
       "                                            categories  avg_stars  cool  \\\n",
       "0    Sandwiches, Sports Bars, Restaurants, Nightlif...        3.5     0   \n",
       "1    Sandwiches, Sports Bars, Restaurants, Nightlif...        3.5     0   \n",
       "2    Sandwiches, Sports Bars, Restaurants, Nightlif...        3.5     0   \n",
       "3    Sandwiches, Sports Bars, Restaurants, Nightlif...        3.5     0   \n",
       "4    Sandwiches, Sports Bars, Restaurants, Nightlif...        3.5     0   \n",
       "5    Sandwiches, Sports Bars, Restaurants, Nightlif...        3.5     1   \n",
       "6    Sandwiches, Sports Bars, Restaurants, Nightlif...        3.5     0   \n",
       "7    Sandwiches, Sports Bars, Restaurants, Nightlif...        3.5     0   \n",
       "8    Sandwiches, Sports Bars, Restaurants, Nightlif...        3.5     0   \n",
       "9    Sandwiches, Sports Bars, Restaurants, Nightlif...        3.5     0   \n",
       "10   Sandwiches, Sports Bars, Restaurants, Nightlif...        3.5     0   \n",
       "11   Sandwiches, Sports Bars, Restaurants, Nightlif...        3.5     0   \n",
       "12   Sandwiches, Sports Bars, Restaurants, Nightlif...        3.5     0   \n",
       "13   Sandwiches, Sports Bars, Restaurants, Nightlif...        3.5     0   \n",
       "14   Sandwiches, Sports Bars, Restaurants, Nightlif...        3.5     2   \n",
       "15   Sandwiches, Sports Bars, Restaurants, Nightlif...        3.5     0   \n",
       "16   Sandwiches, Sports Bars, Restaurants, Nightlif...        3.5     0   \n",
       "17   Sandwiches, Sports Bars, Restaurants, Nightlif...        3.5     0   \n",
       "18   Sandwiches, Sports Bars, Restaurants, Nightlif...        3.5     0   \n",
       "19   Nightlife, Sports Bars, Sandwiches, American (...        3.5     0   \n",
       "20   Nightlife, Sports Bars, Sandwiches, American (...        3.5     1   \n",
       "21   Nightlife, Sports Bars, Sandwiches, American (...        3.5     0   \n",
       "22   Nightlife, Sports Bars, Sandwiches, American (...        3.5     0   \n",
       "23   Nightlife, Sports Bars, Sandwiches, American (...        3.5     0   \n",
       "24   Nightlife, Sports Bars, Sandwiches, American (...        3.5     3   \n",
       "25   Nightlife, Sports Bars, Sandwiches, American (...        3.5     0   \n",
       "26   Nightlife, Sports Bars, Sandwiches, American (...        3.5     9   \n",
       "27   Nightlife, Sports Bars, Sandwiches, American (...        3.5     0   \n",
       "28   Nightlife, Sports Bars, Sandwiches, American (...        3.5     0   \n",
       "29   Nightlife, Sports Bars, Sandwiches, American (...        3.5     5   \n",
       "..                                                 ...        ...   ...   \n",
       "597  Chicken Wings, Sports Bars, Sandwiches, Americ...        3.5     0   \n",
       "598  Chicken Wings, Sports Bars, Sandwiches, Americ...        3.5     0   \n",
       "599  Chicken Wings, Sports Bars, Sandwiches, Americ...        3.5     0   \n",
       "600  Chicken Wings, Sports Bars, Sandwiches, Americ...        3.5     0   \n",
       "601  Chicken Wings, Sports Bars, Sandwiches, Americ...        3.5     0   \n",
       "602  Chicken Wings, Sports Bars, Sandwiches, Americ...        3.5     0   \n",
       "603  Chicken Wings, Sports Bars, Sandwiches, Americ...        3.5     0   \n",
       "604  Chicken Wings, Sports Bars, Sandwiches, Americ...        3.5     0   \n",
       "605  Chicken Wings, Sports Bars, Sandwiches, Americ...        3.5     0   \n",
       "606  Chicken Wings, Sports Bars, Sandwiches, Americ...        3.5     0   \n",
       "607  Chicken Wings, Sports Bars, Sandwiches, Americ...        3.5     4   \n",
       "608  Chicken Wings, Sports Bars, Sandwiches, Americ...        3.5     0   \n",
       "609  Chicken Wings, Sports Bars, Sandwiches, Americ...        3.5     0   \n",
       "610  Chicken Wings, Sports Bars, Sandwiches, Americ...        3.5     2   \n",
       "611  Chicken Wings, Sports Bars, Sandwiches, Americ...        3.5     0   \n",
       "612  Chicken Wings, Sports Bars, Sandwiches, Americ...        3.5     0   \n",
       "613  Chicken Wings, Sports Bars, Sandwiches, Americ...        3.5     0   \n",
       "614  Chicken Wings, Sports Bars, Sandwiches, Americ...        3.5     0   \n",
       "615  Chicken Wings, Sports Bars, Sandwiches, Americ...        3.5     0   \n",
       "616  Chicken Wings, Sports Bars, Sandwiches, Americ...        3.5     0   \n",
       "617  Chicken Wings, Sports Bars, Sandwiches, Americ...        3.5     0   \n",
       "618  Chicken Wings, Sports Bars, Sandwiches, Americ...        3.5     0   \n",
       "619  Chicken Wings, Sports Bars, Sandwiches, Americ...        3.5     0   \n",
       "620  Chicken Wings, Sports Bars, Sandwiches, Americ...        3.5     0   \n",
       "621  Chicken Wings, Sports Bars, Sandwiches, Americ...        3.5     0   \n",
       "622  Chicken Wings, Sports Bars, Sandwiches, Americ...        3.5     0   \n",
       "623  Sandwiches, Restaurants, Bars, American (New),...        3.0     0   \n",
       "624  Sandwiches, Restaurants, Bars, American (New),...        3.0     0   \n",
       "625  Sandwiches, Restaurants, Bars, American (New),...        3.0     0   \n",
       "626  Sandwiches, Restaurants, Bars, American (New),...        3.0     0   \n",
       "\n",
       "           date  funny               review_id  stars  \\\n",
       "0    2016-10-05      0  isswD5jO3GwCYIkDNK9AEA      4   \n",
       "1    2017-07-31      0  CRMppAp7f0GF5pa8sNkV4g      5   \n",
       "2    2017-03-25      0  BdGR_xduQ2CLkEIgtR2eCQ      4   \n",
       "3    2017-12-31      0  Jt2iThRe8Fu6GAG-moAIPQ      3   \n",
       "4    2016-09-27      0  1mi5-2nKgRQ0u6KoWXA3vQ      5   \n",
       "5    2016-10-27      1  6prhTqu7nAf2g0JZjPM-AQ      4   \n",
       "6    2017-05-10      1  ahlonBc-iMSNbmRF85S6Tw      2   \n",
       "7    2017-12-09      0  -nx4S8G5HUkI-h-z-T60oQ      5   \n",
       "8    2016-11-08      0  f54ybPsxQD6bTEOjra31RQ      2   \n",
       "9    2016-10-11      0  JpIa-KOKBV1HpdcaI7v_3Q      1   \n",
       "10   2017-06-20      0  wWMoe-smld6v0YNxYdwEag      4   \n",
       "11   2017-05-04      1  4zd6iLQRe4H4iAoQSJbDcQ      5   \n",
       "12   2017-06-23      0  Ljw2io3g6bhfXppzjhZnSA      3   \n",
       "13   2018-06-07      0  AOJkOOWoQy6iKn-D6V2wfg      1   \n",
       "14   2017-01-15      0  DjhEOT-p2QQAjOLAlJg1Tg      4   \n",
       "15   2018-03-02      0  cTMm3SMl-HjM02zACru5Zw      3   \n",
       "16   2017-01-02      0  2EnQFpwyu98e-S9HCzugeA      4   \n",
       "17   2017-09-20      0  DsdFW3JGPvnNnMtva1PyYQ      5   \n",
       "18   2018-04-05      0  Nawnqwny8zN6W-FOmbI2bQ      1   \n",
       "19   2017-03-28      0  VlxFei0LOpt4dcYWqP5N2g      5   \n",
       "20   2017-05-13      0  Gb6-aqrOJ_Bb1D-JJS7wow      4   \n",
       "21   2017-09-22      0  q5GYgZfpyWSz6-tuQ5Ax5Q      5   \n",
       "22   2017-08-25      0  PIyp61A76dqc--dNB_ZBOg      2   \n",
       "23   2017-05-24      0  cYC04kowFaISFCf33_smmw      5   \n",
       "24   2017-04-04      1  WivAFXOfPFZlu-5CfAha-A      4   \n",
       "25   2017-05-04      1  -dWuyAZ6vodGQ363PV3Rsw      1   \n",
       "26   2017-01-17      3  csI2_Hu3gqGxq_kuH2E2Kw      3   \n",
       "27   2017-09-12      0  aoHQglpOBiDfyEWlqFNShw      3   \n",
       "28   2017-12-15      0  aw1XOM-pxTR0EtjrLWtYiQ      1   \n",
       "29   2017-03-31      1  YFWddVTXy8ZW-jJXA58Jeg      4   \n",
       "..          ...    ...                     ...    ...   \n",
       "597  2017-08-29      0  H9Pq_MJ6_nhKHK8Zb7OtpA      4   \n",
       "598  2016-12-06      0  D-tDqnIpRoieJHzDqH9yMw      3   \n",
       "599  2018-06-29      0  LqdvqZ-YR51EGt7QvvF_vQ      2   \n",
       "600  2017-11-26      0  CAgWN5FZrDs1vvH7EmquAA      4   \n",
       "601  2017-08-08      0  dRuApuZYc8AyA602shyM9A      2   \n",
       "602  2017-04-02      0  1INyAH75d3-doMFHWKbW6w      5   \n",
       "603  2018-02-04      0  fJRLL0hfnWfVmIMyiJdqYw      2   \n",
       "604  2017-02-28      0  gJ07HEl8WSYbHUkeHqIS6A      4   \n",
       "605  2018-04-01      0  P5jVpaEEfjpux8yM_CTwlA      4   \n",
       "606  2017-05-01      0  Z6MN0OjLnvtg7-0tYI0WZw      4   \n",
       "607  2017-07-03      1  NAiXwl5595-RyjGsThMIBA      5   \n",
       "608  2016-09-09      0  JSjywYfm6NiL9hROMnNGog      3   \n",
       "609  2018-04-06      0  BwGIiz1e0G_MvLbjUvWBvA      4   \n",
       "610  2017-04-04      1  mKUoCXwuSgyMC8J6PYNHlA      3   \n",
       "611  2016-10-31      0  QzCEiD7X4sXxTBnwDZhMBA      4   \n",
       "612  2017-12-09      0  3QpZVs4TBe17x8R-ZDFcxA      5   \n",
       "613  2018-04-14      0  UwSeu9S0RuofN4Os7gJHwg      5   \n",
       "614  2018-04-17      1  3fGVr3-iQqwja8nGW8FPJg      1   \n",
       "615  2016-09-05      0  D9PsXrawzZYFYiKIUTqTnw      1   \n",
       "616  2018-06-03      0  O3S5P6Q7dElP-EiN5wVNOQ      1   \n",
       "617  2017-05-13      1  QiCbyLM6G3ILtK46ADnZZA      1   \n",
       "618  2017-09-16      0  SoR10VTw_1nyzpbimoeVnQ      5   \n",
       "619  2017-06-11      0  ZitkobUf3LarNTXae6jdtA      3   \n",
       "620  2017-12-09      0  Yghu5O9zxeH5Uqz_YjUCTw      4   \n",
       "621  2017-07-16      0  VI_XhiQpMfjFaPh4R56eQg      4   \n",
       "622  2017-12-22      0  Bw-t9NKbPfNxsb7ggQkt5A      4   \n",
       "623  2016-10-05      0  Tx-sxm54njyb_Q2b70DVTA      5   \n",
       "624  2018-03-18      0  TiaVC50t3oHD6WZLOnxn9A      1   \n",
       "625  2018-03-16      0  Cx9mo1MR5u9RrY3lDWDC8w      1   \n",
       "626  2016-11-19      0  Nz4w0z2l2pgJM93-5O5NMg      4   \n",
       "\n",
       "                                                  text  useful  \\\n",
       "0    I love the white pizza and the Monongahela (bl...       0   \n",
       "1    love Primanti bros.great food. good service. f...       0   \n",
       "2    Great food and very convenient location. The p...       0   \n",
       "3    I love visiting Primanti Bros every time we co...       0   \n",
       "4    You can't beat their happy hour! Great sandwic...       0   \n",
       "5    Whoa! What a sandwich! This spot was recommend...       1   \n",
       "6    Oh, what can I say about Primanti Bros. \\nMy h...       0   \n",
       "7    This place was really good. We went based on a...       1   \n",
       "8    I used to love primanti's bros, but I wish the...       0   \n",
       "9    I just moved to the Pittsburgh area and could ...       1   \n",
       "10   Service was the best.pizza is delish Always ge...       0   \n",
       "11   Primanti's always provides a great experience....       1   \n",
       "12   I normally stop in this location when out with...       0   \n",
       "13   Are these bartenders even serious???? Waited o...       0   \n",
       "14   The sandwiches are often raved about, and they...       4   \n",
       "15   Inconsistent.  Sometimes the service and food ...       0   \n",
       "16   Primanti Bros. is never a bad choice. Great fo...       0   \n",
       "17   Great, attentive service with great local Pitt...       3   \n",
       "18   The service was decent but my sandwich was ter...       0   \n",
       "19   Great new location! Neighborhood bar feel and ...       0   \n",
       "20   This was my first Primanti's experience and it...       1   \n",
       "21   I've ordered here twice so far. Once for picku...       2   \n",
       "22   Fried pickles are amazing. Fries are fantastic...       0   \n",
       "23   We had a great first time. Bartender was good ...       0   \n",
       "24   I had a good time here.\\n\\nIt sort of stands o...       3   \n",
       "25   Of the Primanti's I've been to, this is the wo...       0   \n",
       "26   My family and I were invited to check out the ...      10   \n",
       "27   I had the pastrami sandwich because it was the...       0   \n",
       "28   I am still here at Primanti Bros. writing this...       0   \n",
       "29   OK, if you know me, you know I enjoy a good sa...       7   \n",
       "..                                                 ...     ...   \n",
       "597  This place was recommended to me as a \"Pittsbu...       0   \n",
       "598  Is cold french fries on a sandwich a thing? Th...       0   \n",
       "599  I wanted to like it but just didn`t do it for ...       0   \n",
       "600  The only reason why this location, specificall...       1   \n",
       "601  I was looking forward to trying Pittsburgh's i...       0   \n",
       "602  I know it's just sandwiches but they are AWESO...       0   \n",
       "603  Overrated. The sandwiches were not as BIG as I...       1   \n",
       "604  I'll be honest, not being from Pittsburgh, all...       1   \n",
       "605  How far is heard about this place on Diners Dr...       0   \n",
       "606  This is a must go if you are in the Pittsburg ...       1   \n",
       "607  Good Lord.\\n\\nWhen it comes to tourist spots, ...       4   \n",
       "608  Deep fried with cheese. Pretty uninspiring men...       0   \n",
       "609  Great local fair in Pittsburg!  The Pittsburge...       0   \n",
       "610  What can ya say about this local/regional now ...       1   \n",
       "611  I am a Pittsburgh native and never had a Prima...       1   \n",
       "612  Kentucky Mule was one of the best drinks I've ...       0   \n",
       "613  Awesome beer and food. Visiting Pittsburgh and...       0   \n",
       "614  I can't believe this was recommended to out-of...       1   \n",
       "615  Terrible staff! Walked out after guy seating p...       1   \n",
       "616  My husband and I just arrived in town. I am or...       0   \n",
       "617  MEMO:DEAR WHITE PEOPLE,Yesterday Downtown mark...       0   \n",
       "618  This was a recommendation by our Lyft driver. ...       0   \n",
       "619  Visiting from out of town and heard this was t...       0   \n",
       "620  I was with a local Pittsburgh friend and he in...       1   \n",
       "621  I knew I had to make a stop at Primanti Bros a...       0   \n",
       "622  The one constant recommendation on our trip to...       1   \n",
       "623  I Loved this place. The server was attentive a...       0   \n",
       "624  For this to be called a staple of Pittsburgh i...       0   \n",
       "625  I know it's a Pittsburgh thing, and I've reall...       0   \n",
       "626  We accidentally went to a Primanti Bros that w...       0   \n",
       "\n",
       "                    user_id  target  \n",
       "0    D5_iQw0N9wO7kT7FrT7j6A   False  \n",
       "1    nyzncOg3goSAMK15IijIqA    True  \n",
       "2    YFRp9i9sDuA1T5oMKq5cbg   False  \n",
       "3    QqdHAP9tSwjteG7b9q7sAw   False  \n",
       "4    4qfMMlGtme2RNFqDgxYLxg    True  \n",
       "5    65GY-LY1Y9OLQ24bk05VYg   False  \n",
       "6    ynQWcEUSahZ9uegM9kE9Qw   False  \n",
       "7    qmO1jsUwOSSIE9eAOryuZw    True  \n",
       "8    0Amd1mZAzHhHMbgKd2RuOg   False  \n",
       "9    uHyE6oz8dXTYCQ087JQYEA   False  \n",
       "10   MG0Pc-T_KhoFk3Oc82Hv_A   False  \n",
       "11   1u80DXuswfp7hFW2NN9B-Q    True  \n",
       "12   V2QFgQcbpUQltfwLnoESCg   False  \n",
       "13   RspAYDz3QlBEFBp5BVm3pw   False  \n",
       "14   QYKexxaOJQlseGWmc6soRg   False  \n",
       "15   58tVksIIkoYTHpUbTwZb3Q   False  \n",
       "16   wrsj5oMHsRzouMNuZlatbg   False  \n",
       "17   ICtC3GL1ssRWDkOA5tt4iQ    True  \n",
       "18   cL0Nj40PkWO5e67pfCWJYw   False  \n",
       "19   Chm89d6MUzDl6j0SDicgXg    True  \n",
       "20   OFlH5NDvsSneAFqimufMeg   False  \n",
       "21   mkIt8BaYxqGGhaVHt6BxQA    True  \n",
       "22   a7jq39vgrg4XJoXd1eMwWA   False  \n",
       "23   s5lHqtSNeUHxOezWzqs41Q    True  \n",
       "24   cWXO0DOduMJSTBJvnpD93w   False  \n",
       "25   fjUpH8gvdm4gqOMrzxy94g   False  \n",
       "26   BjtJ3VkMOxV2Lan037AFuw   False  \n",
       "27   JEJfNbrkxnPAu-UFYUp4JQ   False  \n",
       "28   vFD33nF4TZtaJ57y8XMBoA   False  \n",
       "29   ACwBMSJzgW6vOvV7vOrk8Q   False  \n",
       "..                      ...     ...  \n",
       "597  Nts66VewUuOTyL9YBL7wUQ   False  \n",
       "598  NuEaBvhTv82kYAxk8jxySw   False  \n",
       "599  2u32ZWhSsioczBt-r9pdqA   False  \n",
       "600  UODjr8awvrzO3C4QGEAMvw   False  \n",
       "601  oerw70Uc1dQl8t-86fOUsg   False  \n",
       "602  -r4l6--AYCw1tb6Ag-nz5g    True  \n",
       "603  2vpHdrrqife6eIk7DxdxKA   False  \n",
       "604  QNRv9nSSydXfHGmGmsb_dQ   False  \n",
       "605  PlkcpVx74F5bcjTznVoTEg   False  \n",
       "606  zPZZuEU9_2iXeAHu6UkTRQ   False  \n",
       "607  OffzzT2HDiiHTknbcVUQeg    True  \n",
       "608  5l-HPzEGEXfI2Vko_c5onw   False  \n",
       "609  tRVTEZPG6apo6cwucskh7Q   False  \n",
       "610  6Ki3bAL0wx9ymbdJqbSWMA   False  \n",
       "611  uvxzBQSPJlMKcOCgyzYY2w   False  \n",
       "612  LzY5jEXaSKhtZO-6Yu_QPw    True  \n",
       "613  hkbdFon8SH0SfAYMwNQvZQ    True  \n",
       "614  6A-VKaa_WIipUIcVqEh51Q   False  \n",
       "615  -k3d8blOSIhJyVRttpjEGw   False  \n",
       "616  QtH3bgxvQitrex7i5vhjTA   False  \n",
       "617  w1YqrwFaZeckCQFxjnZCsg   False  \n",
       "618  uQY03sjjoHSBGb0bIUR9Vw    True  \n",
       "619  uOIcEYTpr9DXGYkBx7QG3g   False  \n",
       "620  SceADw4QFy7oCmToRS5W_A   False  \n",
       "621  B_-ZN03P7XW-U4_H2X_mXw   False  \n",
       "622  qy8DP0GZ4KIsNdnepjSLZQ   False  \n",
       "623  YTu0c-1I9ECeksIgoHXFPA    True  \n",
       "624  DzyH5e6TcannADSb0YNy1A   False  \n",
       "625  njp-VIKNIAnoUT1oqjJgHw   False  \n",
       "626  IMD57wrCtAPbvBSAlI2nkA   False  \n",
       "\n",
       "[627 rows x 15 columns]"
      ]
     },
     "execution_count": 26,
     "metadata": {},
     "output_type": "execute_result"
    }
   ],
   "source": [
    "# Load business dataset (optional)\n",
    "# Take a look at the most reviewed restaurant's profile\n",
    "df_top_restaurant = df[df['name'] == df_top_restaurant].copy().reset_index()\n",
    "df_top_restaurant"
   ]
  },
  {
   "cell_type": "markdown",
   "metadata": {},
   "source": [
    "### Vectorize the text feature"
   ]
  },
  {
   "cell_type": "code",
   "execution_count": 27,
   "metadata": {},
   "outputs": [
    {
     "data": {
      "text/plain": [
       "(627,)"
      ]
     },
     "execution_count": 27,
     "metadata": {},
     "output_type": "execute_result"
    }
   ],
   "source": [
    "# Take the values of the column that contains review text data, save to a variable named \"documents_top_restaurant\"\n",
    "documents_top_restaurant = df_top_restaurant['text'].values\n",
    "documents_top_restaurant.shape"
   ]
  },
  {
   "cell_type": "markdown",
   "metadata": {},
   "source": [
    "### Define your target variable (for later classification use)"
   ]
  },
  {
   "cell_type": "markdown",
   "metadata": {},
   "source": [
    "#### Again, we look at perfect (5 stars) and imperfect (1-4 stars) rating"
   ]
  },
  {
   "cell_type": "code",
   "execution_count": 28,
   "metadata": {},
   "outputs": [
    {
     "data": {
      "text/plain": [
       "array([False,  True, False, False,  True])"
      ]
     },
     "execution_count": 28,
     "metadata": {},
     "output_type": "execute_result"
    }
   ],
   "source": [
    "df_top_restaurant['target'] = df_top_restaurant['stars'] == 5\n",
    "target_top_restaurant = df_top_restaurant['target'].values\n",
    "target_top_restaurant[:5]"
   ]
  },
  {
   "cell_type": "markdown",
   "metadata": {},
   "source": [
    "#### Check the statistic of the target variable"
   ]
  },
  {
   "cell_type": "code",
   "execution_count": 29,
   "metadata": {},
   "outputs": [
    {
     "data": {
      "text/plain": [
       "(627, 0.3237639553429027, 0.4679111631107145)"
      ]
     },
     "execution_count": 29,
     "metadata": {},
     "output_type": "execute_result"
    }
   ],
   "source": [
    "# To be implemented\n",
    "len(target_top_restaurant), target_top_restaurant.mean(), target_top_restaurant.std()"
   ]
  },
  {
   "cell_type": "markdown",
   "metadata": {},
   "source": [
    "### Create training dataset and test dataset"
   ]
  },
  {
   "cell_type": "code",
   "execution_count": 30,
   "metadata": {},
   "outputs": [],
   "source": [
    "from sklearn.cross_validation import train_test_split"
   ]
  },
  {
   "cell_type": "code",
   "execution_count": 31,
   "metadata": {},
   "outputs": [],
   "source": [
    "# documents_top_restaurant is your X, target_top_restaurant is your y\n",
    "# Now split the data to training set and test set\n",
    "# Now data is smaller, use a typical \"test_size\", e.g. 0.3-0.7\n",
    "X_train, X_test, y_train, y_test = train_test_split(\n",
    "    documents_top_restaurant,\n",
    "    target_top_restaurant,\n",
    "test_size = 0.3, random_state = 42) "
   ]
  },
  {
   "cell_type": "markdown",
   "metadata": {},
   "source": [
    "### Get NLP representation of the documents"
   ]
  },
  {
   "cell_type": "code",
   "execution_count": 32,
   "metadata": {},
   "outputs": [],
   "source": [
    "from sklearn.feature_extraction.text import TfidfVectorizer"
   ]
  },
  {
   "cell_type": "code",
   "execution_count": 33,
   "metadata": {},
   "outputs": [],
   "source": [
    "# Create TfidfVectorizer, and name it vectorizer\n",
    "vectorizer = TfidfVectorizer(stop_words = 'english', max_features = 2000)"
   ]
  },
  {
   "cell_type": "code",
   "execution_count": 34,
   "metadata": {},
   "outputs": [],
   "source": [
    "# Train the model with your training data\n",
    "vector_train = vectorizer.fit_transform(X_train).toarray()"
   ]
  },
  {
   "cell_type": "code",
   "execution_count": 35,
   "metadata": {},
   "outputs": [],
   "source": [
    "# Get the vocab of tfidf\n",
    "words = vectorizer.get_feature_names()"
   ]
  },
  {
   "cell_type": "code",
   "execution_count": 36,
   "metadata": {},
   "outputs": [],
   "source": [
    "# Use the trained model to transform the test data\n",
    "vector_test = vectorizer.transform(X_test).toarray()"
   ]
  },
  {
   "cell_type": "code",
   "execution_count": 37,
   "metadata": {},
   "outputs": [],
   "source": [
    "# Use the trained model to transform all the data\n",
    "vector_documents_top_restaurant = vectorizer.transform(documents_top_restaurant).toarray()"
   ]
  },
  {
   "cell_type": "markdown",
   "metadata": {},
   "source": [
    "### Cluster reviews with KMeans"
   ]
  },
  {
   "cell_type": "markdown",
   "metadata": {},
   "source": [
    "#### Fit k-means clustering on the training vectors and make predictions on all data"
   ]
  },
  {
   "cell_type": "code",
   "execution_count": 38,
   "metadata": {},
   "outputs": [
    {
     "data": {
      "text/plain": [
       "KMeans(algorithm='auto', copy_x=True, init='k-means++', max_iter=300,\n",
       "    n_clusters=8, n_init=10, n_jobs=1, precompute_distances='auto',\n",
       "    random_state=None, tol=0.0001, verbose=0)"
      ]
     },
     "execution_count": 38,
     "metadata": {},
     "output_type": "execute_result"
    }
   ],
   "source": [
    "\n",
    "kmeans = KMeans()\n",
    "\n",
    "kmeans.fit(vector_train)"
   ]
  },
  {
   "cell_type": "markdown",
   "metadata": {},
   "source": [
    "#### Make predictions on all data"
   ]
  },
  {
   "cell_type": "code",
   "execution_count": 39,
   "metadata": {},
   "outputs": [],
   "source": [
    "assigned_cluster = kmeans.predict(vector_documents_top_restaurant)"
   ]
  },
  {
   "cell_type": "markdown",
   "metadata": {},
   "source": [
    "#### Inspect the centroids"
   ]
  },
  {
   "cell_type": "code",
   "execution_count": 40,
   "metadata": {},
   "outputs": [
    {
     "name": "stdout",
     "output_type": "stream",
     "text": [
      "cluster centers:\n",
      "[[ 0.00000000e+00  2.60208521e-18  3.25260652e-19 ...  4.33680869e-19\n",
      "   1.22610389e-02  1.62630326e-19]\n",
      " [ 3.69999246e-03  8.78040922e-03  1.08420217e-19 ... -5.42101086e-19\n",
      "   2.10285683e-03 -4.87890978e-19]\n",
      " [ 4.33680869e-18  5.13605440e-03  0.00000000e+00 ... -5.42101086e-19\n",
      "   3.67818338e-03 -5.42101086e-19]\n",
      " ...\n",
      " [ 3.94736382e-03  5.94739668e-04  0.00000000e+00 ...  2.25680749e-03\n",
      "  -1.30104261e-18  2.48351405e-03]\n",
      " [ 3.03576608e-18 -1.73472348e-18  3.25260652e-19 ...  3.25260652e-19\n",
      "   1.30104261e-18 -1.08420217e-19]\n",
      " [ 3.62827725e-03  5.89220470e-03  2.52406138e-03 ...  1.72048542e-03\n",
      "   3.01603673e-03 -3.79470760e-19]]\n"
     ]
    }
   ],
   "source": [
    "print(\"cluster centers:\")\n",
    "print(kmeans.cluster_centers_)"
   ]
  },
  {
   "cell_type": "markdown",
   "metadata": {},
   "source": [
    "#### Find the top 10 features for each cluster."
   ]
  },
  {
   "cell_type": "code",
   "execution_count": 41,
   "metadata": {},
   "outputs": [
    {
     "name": "stdout",
     "output_type": "stream",
     "text": [
      "top 10 features for each cluster:\n",
      "0: great, food, service, buffalo, good, vibe, bar, town, time, chicken\n",
      "1: location, food, great, ve, love, service, primanti, primantis, minutes, good\n",
      "2: primanti, like, fries, sandwiches, pittsburgh, bros, sandwich, food, just, eat\n",
      "3: happy, hour, great, beat, specials, sandwiches, work, popular, pizza, good\n",
      "4: food, service, good, recommend, delicious, highly, fast, sandwich, night, egg\n",
      "5: sandwich, fries, good, pittsburgh, coleslaw, meat, place, cheese, really, bread\n",
      "6: burger, fries, chili, pitts, sandwich, slaw, good, definitely, like, tasty\n",
      "7: sandwich, pittsburgh, good, fries, best, bread, sandwiches, pastrami, place, slaw\n"
     ]
    }
   ],
   "source": [
    "top_centroids = kmeans.cluster_centers_.argsort()[:, -1:-11:-1]\n",
    "print(\"top 10 features for each cluster:\")\n",
    "for num, centroid in enumerate(top_centroids):\n",
    "    print(\"%d: %s\" % (num, \", \".join(words[i] for i in centroid)))"
   ]
  },
  {
   "cell_type": "markdown",
   "metadata": {},
   "source": [
    "#### Print out the rating and review of a random sample of the reviews assigned to each cluster to get a sense of the cluster."
   ]
  },
  {
   "cell_type": "code",
   "execution_count": 42,
   "metadata": {},
   "outputs": [
    {
     "name": "stdout",
     "output_type": "stream",
     "text": [
      "cluster 0:\n",
      "    Place is great. Kind of small though. Food is great but the bread to meat ratio is janked.\n",
      "cluster 1:\n",
      "    I've been here more times than the Steelers have won AFC Championships and Super Bowls. I love this Primanti's the best because it has the most nostalgia and the sandwiches here always seem to taste better. It's a great environment and the employees rock. Stop by and grab a Pittsburgher Cheese Steak with egg and a Iron City beer the next time you're in the Steel City. Yinz Rock!!!\n",
      "cluster 2:\n",
      "    The one constant recommendation on our trip to Pittsburgh was to make a stop at Primanti Bros. Before they opened at 10am, a line was already starting to form. They've got a great selection of sandwiches, service was quick, and prices were reasonable. The restaurant quickly became over-run with Steelers fans and the big screen televisions hyping the games were everywhere. Portions are huge and while not your healthiest option, this is certainly a Pittsburgh staple worth checking out.\n",
      "cluster 3:\n",
      "    This was a real treat.  Watch the visits on TV from that one Travel Chanel guy who's name will be not said, but you know who I am talking about.  It was good and the ladies working the place made the place.  So happy I finally got to go there.\n",
      "cluster 4:\n",
      "    This place was delicious. I am glad that me and my husband decided to drive a different route home to stop in and try the food.\n",
      "cluster 5:\n",
      "    I was sucked in by the hype. I had a day in Pittsburgh and HAD to give it a try. I got the turkey sandwich, bland, boring, and no bang! I tried to add hot sauce (at the suggestion of my server) to make it more flavorful but it did little to help. Overall don't do it! There are many other places to try downtown Pittsburgh. \n",
      "\n",
      "**Side note** the servers were great!\n",
      "cluster 6:\n",
      "    If I could give this review a little lower then 1* I would. Who ever tells you this spiceless place is good has lost there mind. That place has the most bland food I think I have ever had in my life and I have been to a handful of countries outside of the USA.  Seriously, we watched the fries being cooking nonstop and not ONCE.... I mean ONCE did they put salt on the fries... Nor did they ever do that to any food they cooked, the most the did was put egg on top of steak and cheese without any spice at all.  Like who the hell does that besides this place. I would give it a true - 3* of I could\n",
      "cluster 7:\n",
      "    I kept reading about Primanti Brothers on suggested places to eat when visiting Pittsburgh so I had to try it out. I got the kielbasa and cheese sandwich which was very good. My only suggestion is less coleslaw on the sandwich which isn't a big deal because I can easily just remove some. My husband got the Pittsburger, and he loved it. He was in Pittsburgh last month on a business trip and went to two other locations which he didn't care for. He said that the location in the strip district area (surrounded by warehouses) makes the sandwiches the best! Next time I visit Pittsburgh, I will be returning to this location to try another sandwich!\n"
     ]
    }
   ],
   "source": [
    "for i in range(kmeans.n_clusters):\n",
    "    cluster = np.arange(0, vector_documents_top_restaurant.shape[0])[assigned_cluster==i]\n",
    "    sample_reviews = np.random.choice(cluster, 1, replace=False)\n",
    "    print(\"cluster %d:\" % i)\n",
    "    for review in sample_reviews:\n",
    "        print(\"    %s\" % df_top_restaurant.loc[review]['text'])"
   ]
  },
  {
   "cell_type": "markdown",
   "metadata": {},
   "source": [
    "## 3. Use PCA to reduce dimensionality"
   ]
  },
  {
   "cell_type": "markdown",
   "metadata": {},
   "source": [
    "### Stardardize features\n",
    "Your X_train and X_test"
   ]
  },
  {
   "cell_type": "code",
   "execution_count": 43,
   "metadata": {},
   "outputs": [],
   "source": [
    "from sklearn.preprocessing import StandardScaler\n",
    "\n",
    "scaler = StandardScaler()\n",
    "\n",
    "X_train_scaled = scaler.fit_transform(vector_train)\n",
    "X_test_scaled = scaler.transform(vector_test)"
   ]
  },
  {
   "cell_type": "markdown",
   "metadata": {},
   "source": [
    "### Use PCA to transform data (train and test) and get princial components"
   ]
  },
  {
   "cell_type": "code",
   "execution_count": 44,
   "metadata": {},
   "outputs": [],
   "source": [
    "from sklearn.decomposition import PCA\n",
    "\n",
    "# Let's pick a n_components\n",
    "n_components = 50\n",
    "\n",
    "pca = PCA(n_components = n_components)\n",
    "\n",
    "X_train_pca = pca.fit_transform(X_train_scaled)\n",
    "\n",
    "X_test_pca = pca.transform(X_test_scaled)\n"
   ]
  },
  {
   "cell_type": "code",
   "execution_count": 45,
   "metadata": {},
   "outputs": [
    {
     "data": {
      "text/plain": [
       "((438, 50), (189, 50), (50, 2000))"
      ]
     },
     "execution_count": 45,
     "metadata": {},
     "output_type": "execute_result"
    }
   ],
   "source": [
    "X_train_pca.shape, X_test_pca.shape, pca.components_.shape"
   ]
  },
  {
   "cell_type": "markdown",
   "metadata": {},
   "source": [
    "### See how much (and how much percentage of) variance the principal components explain"
   ]
  },
  {
   "cell_type": "code",
   "execution_count": 46,
   "metadata": {},
   "outputs": [
    {
     "name": "stdout",
     "output_type": "stream",
     "text": [
      "[18.71776482 17.67600882 16.60924957 15.89760474 14.46254874 14.22297832\n",
      " 14.12248212 13.79889475 13.20067533 12.88783315 12.64627501 12.52120676\n",
      " 12.29199537 11.83792616 11.56300308 11.11361493 11.04183058 10.75581169\n",
      " 10.65987661 10.46491749]\n"
     ]
    }
   ],
   "source": [
    "print (pca.explained_variance_[:20])"
   ]
  },
  {
   "cell_type": "code",
   "execution_count": 47,
   "metadata": {},
   "outputs": [
    {
     "name": "stdout",
     "output_type": "stream",
     "text": [
      "[0.00933752 0.00881783 0.00828566 0.00793065 0.00721476 0.00709525\n",
      " 0.00704512 0.0068837  0.00658527 0.0064292  0.0063087  0.00624631\n",
      " 0.00613197 0.00590545 0.0057683  0.00554412 0.00550831 0.00536563\n",
      " 0.00531777 0.00522051]\n"
     ]
    }
   ],
   "source": [
    "print (pca.explained_variance_ratio_[:20])"
   ]
  },
  {
   "cell_type": "markdown",
   "metadata": {},
   "source": [
    "### Viz: plot proportion of variance explained with top principal components\n",
    "\n",
    "For clear display, start with plotting <=20 principal components"
   ]
  },
  {
   "cell_type": "code",
   "execution_count": 48,
   "metadata": {},
   "outputs": [
    {
     "data": {
      "text/plain": [
       "Text(0,0.5,'plot proportion of variance explained')"
      ]
     },
     "execution_count": 48,
     "metadata": {},
     "output_type": "execute_result"
    },
    {
     "data": {
      "image/png": "[encoded data removed]",
      "text/plain": [
       "<Figure size 720x576 with 1 Axes>"
      ]
     },
     "metadata": {
      "needs_background": "light"
     },
     "output_type": "display_data"
    }
   ],
   "source": [
    "n_col_to_display = 20\n",
    "\n",
    "pca_range = np.arange(n_col_to_display) + 1\n",
    "pca_name = ['PCA_%s' % i for i in pca_range]\n",
    "\n",
    "plt.figure(figsize = (10, 8))\n",
    "plt.bar(pca_range, pca.explained_variance_ratio_[:n_col_to_display])\n",
    "xticks = plt.xticks(pca_range, pca_name, rotation = 90)\n",
    "plt.ylabel('plot proportion of variance explained')\n"
   ]
  },
  {
   "cell_type": "markdown",
   "metadata": {},
   "source": [
    "## Classifying positive/negative review with PCA preprocessing"
   ]
  },
  {
   "cell_type": "markdown",
   "metadata": {},
   "source": [
    "### Logistic Regression Classifier\n",
    "#### Use standardized tf-idf vectors as features"
   ]
  },
  {
   "cell_type": "code",
   "execution_count": 49,
   "metadata": {},
   "outputs": [
    {
     "data": {
      "text/plain": [
       "LogisticRegression(C=1.0, class_weight=None, dual=False, fit_intercept=True,\n",
       "          intercept_scaling=1, max_iter=100, multi_class='ovr', n_jobs=1,\n",
       "          penalty='l2', random_state=None, solver='liblinear', tol=0.0001,\n",
       "          verbose=0, warm_start=False)"
      ]
     },
     "execution_count": 49,
     "metadata": {},
     "output_type": "execute_result"
    }
   ],
   "source": [
    "# Build a Logistic Regression Classifier, train with standardized tf-idf vectors\n",
    "\n",
    "from sklearn.linear_model import LogisticRegression\n",
    "\n",
    "model_lrc = LogisticRegression()\n",
    "\n",
    "model_lrc.fit(X_train_scaled, y_train)"
   ]
  },
  {
   "cell_type": "code",
   "execution_count": 50,
   "metadata": {},
   "outputs": [
    {
     "data": {
      "text/plain": [
       "1.0"
      ]
     },
     "execution_count": 50,
     "metadata": {},
     "output_type": "execute_result"
    }
   ],
   "source": [
    "model_lrc.score(X_train_scaled, y_train)"
   ]
  },
  {
   "cell_type": "code",
   "execution_count": 51,
   "metadata": {
    "scrolled": true
   },
   "outputs": [
    {
     "data": {
      "text/plain": [
       "0.7142857142857143"
      ]
     },
     "execution_count": 51,
     "metadata": {},
     "output_type": "execute_result"
    }
   ],
   "source": [
    "model_lrc.score(X_test_scaled, y_test)"
   ]
  },
  {
   "cell_type": "markdown",
   "metadata": {},
   "source": [
    "#### Use (Stardardized + PCA) tf-idf vectors as features"
   ]
  },
  {
   "cell_type": "code",
   "execution_count": 52,
   "metadata": {},
   "outputs": [
    {
     "data": {
      "text/plain": [
       "LogisticRegression(C=1.0, class_weight=None, dual=False, fit_intercept=True,\n",
       "          intercept_scaling=1, max_iter=100, multi_class='ovr', n_jobs=1,\n",
       "          penalty='l2', random_state=None, solver='liblinear', tol=0.0001,\n",
       "          verbose=0, warm_start=False)"
      ]
     },
     "execution_count": 52,
     "metadata": {},
     "output_type": "execute_result"
    }
   ],
   "source": [
    "# Build a Logistic Regression Classifier, train with PCA tranformed X\n",
    "\n",
    "from sklearn.linear_model import LogisticRegression\n",
    "\n",
    "model_lrc = LogisticRegression()\n",
    "\n",
    "model_lrc.fit(X_train_pca, y_train)"
   ]
  },
  {
   "cell_type": "code",
   "execution_count": 53,
   "metadata": {},
   "outputs": [
    {
     "data": {
      "text/plain": [
       "0.7351598173515982"
      ]
     },
     "execution_count": 53,
     "metadata": {},
     "output_type": "execute_result"
    }
   ],
   "source": [
    "model_lrc.score(X_train_pca, y_train)"
   ]
  },
  {
   "cell_type": "code",
   "execution_count": 54,
   "metadata": {},
   "outputs": [
    {
     "data": {
      "text/plain": [
       "0.6825396825396826"
      ]
     },
     "execution_count": 54,
     "metadata": {},
     "output_type": "execute_result"
    }
   ],
   "source": [
    "model_lrc.score(X_test_pca, y_test)"
   ]
  },
  {
   "cell_type": "markdown",
   "metadata": {},
   "source": [
    "#### Q: What do you see from the training score and the test score? How do you compare the results from PCA and non-PCA preprocessing?"
   ]
  },
  {
   "cell_type": "markdown",
   "metadata": {},
   "source": [
    "After PCA preprocessing, training score decrease and test score increase.\n",
    "\n",
    "Training score decrease because that without PCA preprocessing, the model is overfitting so that have a high training score and low test score. PCA reduce the number of features to reduce the negative impact of overfitting, thus reduce the training score while increase the test score."
   ]
  },
  {
   "cell_type": "markdown",
   "metadata": {},
   "source": [
    "#### You can plot the coefficients against principal components\n"
   ]
  },
  {
   "cell_type": "code",
   "execution_count": null,
   "metadata": {},
   "outputs": [],
   "source": []
  },
  {
   "cell_type": "code",
   "execution_count": 55,
   "metadata": {},
   "outputs": [
    {
     "data": {
      "text/html": [
       "<div>\n",
       "<style scoped>\n",
       "    .dataframe tbody tr th:only-of-type {\n",
       "        vertical-align: middle;\n",
       "    }\n",
       "\n",
       "    .dataframe tbody tr th {\n",
       "        vertical-align: top;\n",
       "    }\n",
       "\n",
       "    .dataframe thead th {\n",
       "        text-align: right;\n",
       "    }\n",
       "</style>\n",
       "<table border=\"1\" class=\"dataframe\">\n",
       "  <thead>\n",
       "    <tr style=\"text-align: right;\">\n",
       "      <th></th>\n",
       "      <th>PCAs</th>\n",
       "      <th>coef</th>\n",
       "    </tr>\n",
       "  </thead>\n",
       "  <tbody>\n",
       "    <tr>\n",
       "      <th>10</th>\n",
       "      <td>PCA_11</td>\n",
       "      <td>0.144853</td>\n",
       "    </tr>\n",
       "    <tr>\n",
       "      <th>38</th>\n",
       "      <td>PCA_39</td>\n",
       "      <td>0.139541</td>\n",
       "    </tr>\n",
       "    <tr>\n",
       "      <th>22</th>\n",
       "      <td>PCA_23</td>\n",
       "      <td>0.131113</td>\n",
       "    </tr>\n",
       "    <tr>\n",
       "      <th>3</th>\n",
       "      <td>PCA_4</td>\n",
       "      <td>0.119876</td>\n",
       "    </tr>\n",
       "    <tr>\n",
       "      <th>41</th>\n",
       "      <td>PCA_42</td>\n",
       "      <td>0.117055</td>\n",
       "    </tr>\n",
       "  </tbody>\n",
       "</table>\n",
       "</div>"
      ],
      "text/plain": [
       "      PCAs      coef\n",
       "10  PCA_11  0.144853\n",
       "38  PCA_39  0.139541\n",
       "22  PCA_23  0.131113\n",
       "3    PCA_4  0.119876\n",
       "41  PCA_42  0.117055"
      ]
     },
     "execution_count": 55,
     "metadata": {},
     "output_type": "execute_result"
    }
   ],
   "source": [
    "pca_range = np.arange(pca.n_components_) + 1\n",
    "pca_names = ['PCA_%s' % i for i in pca_range]\n",
    "df_coefs = pd.DataFrame(list(zip(pca_names, model_lrc.coef_.flatten()))).sort_values(by = [1], ascending = False)\n",
    "df_coefs.columns = [\"PCAs\", \"coef\"]\n",
    "df_coefs[:5]"
   ]
  },
  {
   "cell_type": "code",
   "execution_count": 56,
   "metadata": {},
   "outputs": [
    {
     "data": {
      "image/png": "[encoded data removed]",
      "text/plain": [
       "<Figure size 720x720 with 1 Axes>"
      ]
     },
     "metadata": {
      "needs_background": "light"
     },
     "output_type": "display_data"
    }
   ],
   "source": [
    "ax = df_coefs.plot.barh(figsize = (10, 10))\n",
    "t= np.arange(pca.n_components_)\n",
    "ax.set_yticks(t)\n",
    "ax.set_yticklabels(df_coefs['PCAs'])\n",
    "plt.show()"
   ]
  },
  {
   "cell_type": "markdown",
   "metadata": {},
   "source": [
    "### Random Forest Classifier\n",
    "#### Use standardized tf-idf vectors as features"
   ]
  },
  {
   "cell_type": "code",
   "execution_count": 57,
   "metadata": {},
   "outputs": [
    {
     "name": "stderr",
     "output_type": "stream",
     "text": [
      "/home/cs7532018fall/anaconda3/lib/python3.6/site-packages/sklearn/ensemble/weight_boosting.py:29: DeprecationWarning: numpy.core.umath_tests is an internal NumPy module and should not be imported. It will be removed in a future NumPy release.\n",
      "  from numpy.core.umath_tests import inner1d\n"
     ]
    },
    {
     "data": {
      "text/plain": [
       "RandomForestClassifier(bootstrap=True, class_weight=None, criterion='gini',\n",
       "            max_depth=25, max_features='auto', max_leaf_nodes=None,\n",
       "            min_impurity_decrease=0.0, min_impurity_split=None,\n",
       "            min_samples_leaf=1, min_samples_split=2,\n",
       "            min_weight_fraction_leaf=0.0, n_estimators=200, n_jobs=1,\n",
       "            oob_score=False, random_state=42, verbose=0, warm_start=False)"
      ]
     },
     "execution_count": 57,
     "metadata": {},
     "output_type": "execute_result"
    }
   ],
   "source": [
    "# Build a Random Forest Classifier\n",
    "from sklearn.ensemble import RandomForestClassifier\n",
    "\n",
    "model_rfc = RandomForestClassifier(max_depth = 25, n_estimators = 200, random_state = 42)\n",
    "\n",
    "model_rfc.fit(X_train_scaled, y_train)"
   ]
  },
  {
   "cell_type": "code",
   "execution_count": 58,
   "metadata": {},
   "outputs": [
    {
     "data": {
      "text/plain": [
       "0.9863013698630136"
      ]
     },
     "execution_count": 58,
     "metadata": {},
     "output_type": "execute_result"
    }
   ],
   "source": [
    "# Get score for training set\n",
    "model_rfc.score(X_train_scaled, y_train)"
   ]
  },
  {
   "cell_type": "code",
   "execution_count": 59,
   "metadata": {
    "scrolled": true
   },
   "outputs": [
    {
     "data": {
      "text/plain": [
       "0.708994708994709"
      ]
     },
     "execution_count": 59,
     "metadata": {},
     "output_type": "execute_result"
    }
   ],
   "source": [
    "# Get score for test set\n",
    "model_rfc.score(X_test_scaled, y_test)"
   ]
  },
  {
   "cell_type": "markdown",
   "metadata": {},
   "source": [
    "#### Use (Stardardized + PCA) tf-idf vectors as features"
   ]
  },
  {
   "cell_type": "code",
   "execution_count": 60,
   "metadata": {},
   "outputs": [
    {
     "data": {
      "text/plain": [
       "RandomForestClassifier(bootstrap=True, class_weight=None, criterion='gini',\n",
       "            max_depth=25, max_features='auto', max_leaf_nodes=None,\n",
       "            min_impurity_decrease=0.0, min_impurity_split=None,\n",
       "            min_samples_leaf=1, min_samples_split=2,\n",
       "            min_weight_fraction_leaf=0.0, n_estimators=200, n_jobs=1,\n",
       "            oob_score=False, random_state=42, verbose=0, warm_start=False)"
      ]
     },
     "execution_count": 60,
     "metadata": {},
     "output_type": "execute_result"
    }
   ],
   "source": [
    "# Build a Random Forest Classifier\n",
    "from sklearn.ensemble import RandomForestClassifier\n",
    "\n",
    "model_rfc = RandomForestClassifier(max_depth = 25, n_estimators = 200, random_state = 42)\n",
    "\n",
    "model_rfc.fit(X_train_pca, y_train)"
   ]
  },
  {
   "cell_type": "code",
   "execution_count": 61,
   "metadata": {},
   "outputs": [
    {
     "data": {
      "text/plain": [
       "1.0"
      ]
     },
     "execution_count": 61,
     "metadata": {},
     "output_type": "execute_result"
    }
   ],
   "source": [
    "# Get score for training set\n",
    "model_rfc.score(X_train_pca, y_train)"
   ]
  },
  {
   "cell_type": "code",
   "execution_count": 62,
   "metadata": {},
   "outputs": [
    {
     "data": {
      "text/plain": [
       "0.6772486772486772"
      ]
     },
     "execution_count": 62,
     "metadata": {},
     "output_type": "execute_result"
    }
   ],
   "source": [
    "# Get score for test set, REMEMBER to use PCA-transformed X!\n",
    "model_rfc.score(X_test_pca, y_test)"
   ]
  },
  {
   "cell_type": "markdown",
   "metadata": {},
   "source": [
    "#### Q: What do you see from the training result and the test result?"
   ]
  },
  {
   "cell_type": "markdown",
   "metadata": {},
   "source": [
    "After PCA preprocessing, training score increase and test score decrease.\n",
    "\n",
    "It's a odd because in common way, the negative impact of overfitting should be reduce after we perform PCA which reduces the dimension of features and get rid of collinear features, while negative impact of overfitting become stronger here.\n",
    "\n",
    "I really dont know why? becasue of the sample size is too small?"
   ]
  },
  {
   "cell_type": "markdown",
   "metadata": {},
   "source": [
    "#### You can plot the feature importances against principal components\n"
   ]
  },
  {
   "cell_type": "code",
   "execution_count": 63,
   "metadata": {},
   "outputs": [
    {
     "data": {
      "text/html": [
       "<div>\n",
       "<style scoped>\n",
       "    .dataframe tbody tr th:only-of-type {\n",
       "        vertical-align: middle;\n",
       "    }\n",
       "\n",
       "    .dataframe tbody tr th {\n",
       "        vertical-align: top;\n",
       "    }\n",
       "\n",
       "    .dataframe thead th {\n",
       "        text-align: right;\n",
       "    }\n",
       "</style>\n",
       "<table border=\"1\" class=\"dataframe\">\n",
       "  <thead>\n",
       "    <tr style=\"text-align: right;\">\n",
       "      <th></th>\n",
       "      <th>PCAs</th>\n",
       "      <th>coef</th>\n",
       "    </tr>\n",
       "  </thead>\n",
       "  <tbody>\n",
       "    <tr>\n",
       "      <th>46</th>\n",
       "      <td>PCA_47</td>\n",
       "      <td>0.013118</td>\n",
       "    </tr>\n",
       "    <tr>\n",
       "      <th>20</th>\n",
       "      <td>PCA_21</td>\n",
       "      <td>0.013931</td>\n",
       "    </tr>\n",
       "    <tr>\n",
       "      <th>41</th>\n",
       "      <td>PCA_42</td>\n",
       "      <td>0.014550</td>\n",
       "    </tr>\n",
       "    <tr>\n",
       "      <th>39</th>\n",
       "      <td>PCA_40</td>\n",
       "      <td>0.014745</td>\n",
       "    </tr>\n",
       "    <tr>\n",
       "      <th>4</th>\n",
       "      <td>PCA_5</td>\n",
       "      <td>0.014912</td>\n",
       "    </tr>\n",
       "  </tbody>\n",
       "</table>\n",
       "</div>"
      ],
      "text/plain": [
       "      PCAs      coef\n",
       "46  PCA_47  0.013118\n",
       "20  PCA_21  0.013931\n",
       "41  PCA_42  0.014550\n",
       "39  PCA_40  0.014745\n",
       "4    PCA_5  0.014912"
      ]
     },
     "execution_count": 63,
     "metadata": {},
     "output_type": "execute_result"
    }
   ],
   "source": [
    "pca_range = np.arange(pca.n_components_) + 1\n",
    "pca_names = ['PCA_%s' % i for i in pca_range]\n",
    "df_coefs = pd.DataFrame(list(zip(pca_names, model_rfc.feature_importances_))).sort_values(by = [1], ascending = True)\n",
    "df_coefs.columns = [\"PCAs\", \"coef\"]\n",
    "df_coefs[:5]"
   ]
  },
  {
   "cell_type": "code",
   "execution_count": 64,
   "metadata": {},
   "outputs": [
    {
     "data": {
      "image/png": "[encoded data removed]",
      "text/plain": [
       "<Figure size 720x720 with 1 Axes>"
      ]
     },
     "metadata": {
      "needs_background": "light"
     },
     "output_type": "display_data"
    }
   ],
   "source": [
    "ax = df_coefs.plot.barh(figsize = (10, 10))\n",
    "t= np.arange(pca.n_components_)\n",
    "ax.set_yticks(t)\n",
    "ax.set_yticklabels(df_coefs['PCAs'])\n",
    "plt.show()"
   ]
  },
  {
   "cell_type": "code",
   "execution_count": null,
   "metadata": {},
   "outputs": [],
   "source": []
  },
  {
   "cell_type": "markdown",
   "metadata": {},
   "source": [
    "## Cluster restaurants from their category information\n",
    "A business may have mutiple categories, e.g. a restaurant can have both \"Restaurants\" and \"Korean\""
   ]
  },
  {
   "cell_type": "code",
   "execution_count": 65,
   "metadata": {},
   "outputs": [
    {
     "data": {
      "text/plain": [
       "((49142,), dtype('O'))"
      ]
     },
     "execution_count": 65,
     "metadata": {},
     "output_type": "execute_result"
    }
   ],
   "source": [
    "documents = df['categories'].values\n",
    "documents.shape, documents.dtype"
   ]
  },
  {
   "cell_type": "code",
   "execution_count": 66,
   "metadata": {},
   "outputs": [],
   "source": [
    "# Now split the data to training set and test set\n",
    "# Now your data is smaller, you can use a typical \"test_size\", e.g. 0.3-0.7\n",
    "documents_train, documents_test = train_test_split(\n",
    "    documents,\n",
    "test_size = 0.7, random_state = 42)"
   ]
  },
  {
   "cell_type": "code",
   "execution_count": 67,
   "metadata": {},
   "outputs": [],
   "source": [
    "# Create TfidfVectorizer, and name it vectorizer, choose a reasonable max_features, e.g. 1000\n",
    "vectorizer = TfidfVectorizer(stop_words = 'english', max_features = 500)\n",
    "\n",
    "# Train the model with your training data\n",
    "vectors_train = vectorizer.fit_transform(documents_train).toarray()\n",
    "\n",
    "# Get the vocab of your tfidf\n",
    "words = vectorizer.get_feature_names()\n",
    "\n",
    "# Use the trained model to transform all the reviews\n",
    "vectors_documents = vectorizer.transform(documents).toarray()"
   ]
  },
  {
   "cell_type": "code",
   "execution_count": 68,
   "metadata": {},
   "outputs": [
    {
     "data": {
      "text/plain": [
       "KMeans(algorithm='auto', copy_x=True, init='k-means++', max_iter=300,\n",
       "    n_clusters=8, n_init=10, n_jobs=1, precompute_distances='auto',\n",
       "    random_state=None, tol=0.0001, verbose=0)"
      ]
     },
     "execution_count": 68,
     "metadata": {},
     "output_type": "execute_result"
    }
   ],
   "source": [
    "# Fit k-means clustering on the training vectors and make predictions on all data\n",
    "\n",
    "kmeans = KMeans()\n",
    "\n",
    "kmeans.fit(vectors_train)"
   ]
  },
  {
   "cell_type": "code",
   "execution_count": 69,
   "metadata": {},
   "outputs": [],
   "source": [
    "assigned_cluster = kmeans.predict(vectors_documents)"
   ]
  },
  {
   "cell_type": "code",
   "execution_count": 70,
   "metadata": {},
   "outputs": [
    {
     "name": "stdout",
     "output_type": "stream",
     "text": [
      "top 10 features for each cluster:\n",
      "0: food, tea, coffee, restaurants, cafes, fast, breakfast, brunch, trucks, event\n",
      "1: american, new, traditional, restaurants, burgers, mexican, seafood, sandwiches, steakhouses, gastropubs\n",
      "2: bars, nightlife, american, cocktail, restaurants, new, traditional, sports, beer, pubs\n",
      "3: breakfast, brunch, diners, american, traditional, restaurants, new, sandwiches, bars, nightlife\n",
      "4: thai, noodles, restaurants, seafood, vegan, desserts, taiwanese, food, soup, salad\n",
      "5: pizza, italian, restaurants, sandwiches, salad, delis, food, bars, nightlife, wine\n",
      "6: restaurants, mexican, chinese, seafood, indian, burgers, mediterranean, latin, sandwiches, argentine\n",
      "7: japanese, sushi, bars, asian, fusion, chinese, restaurants, ramen, korean, poke\n"
     ]
    }
   ],
   "source": [
    "top_centroids = kmeans.cluster_centers_.argsort()[:, -1:-11:-1]\n",
    "print(\"top 10 features for each cluster:\")\n",
    "for num, centroid in enumerate(top_centroids):\n",
    "    print(\"%d: %s\" % (num, \", \".join(words[i] for i in centroid)))"
   ]
  },
  {
   "cell_type": "markdown",
   "metadata": {},
   "source": []
  },
  {
   "cell_type": "code",
   "execution_count": 71,
   "metadata": {},
   "outputs": [],
   "source": [
    "# To be implemented"
   ]
  },
  {
   "cell_type": "markdown",
   "metadata": {},
   "source": [
    "## Cluster categories from business entities. What does it mean by a cluster?\n"
   ]
  },
  {
   "cell_type": "code",
   "execution_count": 72,
   "metadata": {},
   "outputs": [
    {
     "data": {
      "text/plain": [
       "((49142,), dtype('O'))"
      ]
     },
     "execution_count": 72,
     "metadata": {},
     "output_type": "execute_result"
    }
   ],
   "source": [
    "# Take the values of the column that contains review text data, save to a variable named \"documents\"\n",
    "documents_name = df['name'].values\n",
    "documents_name.shape, documents_name.dtype"
   ]
  },
  {
   "cell_type": "code",
   "execution_count": 73,
   "metadata": {},
   "outputs": [],
   "source": [
    "# Now split the data to training set and test set\n",
    "# Now data is smaller, use a typical \"test_size\", e.g. 0.3-0.7\n",
    "documents_name_train, documents_name_test = train_test_split(\n",
    "    documents_name,\n",
    "test_size = 0.3, random_state = 42) "
   ]
  },
  {
   "cell_type": "code",
   "execution_count": 74,
   "metadata": {},
   "outputs": [],
   "source": [
    "# Create TfidfVectorizer, and name it vectorizer, choose a reasonable max_features, e.g. 1000\n",
    "vectorizer_name = TfidfVectorizer(stop_words = 'english', max_features = 500)\n",
    "\n",
    "# Train the model with your training data\n",
    "vectors_train_name = vectorizer_name.fit_transform(documents_train).toarray()\n",
    "\n",
    "# Get the vocab of your tfidf\n",
    "words_name = vectorizer_name.get_feature_names()\n",
    "\n",
    "# Use the trained model to transform all the reviews\n",
    "vectors_documents_name = vectorizer_name.transform(documents).toarray()"
   ]
  },
  {
   "cell_type": "code",
   "execution_count": 75,
   "metadata": {},
   "outputs": [],
   "source": [
    "kmeans_name = KMeans()\n",
    "kmeans_name.fit(vectors_train_name)\n",
    "# Make predictions on all data\n",
    "assigned_cluster = kmeans_name.predict(vectors_documents_name)"
   ]
  },
  {
   "cell_type": "code",
   "execution_count": 76,
   "metadata": {},
   "outputs": [
    {
     "name": "stdout",
     "output_type": "stream",
     "text": [
      "top 10 features for each cluster:\n",
      "0: event, planning, services, caterers, food, bars, spaces, venues, beer, american\n",
      "1: bars, nightlife, american, restaurants, cocktail, new, traditional, pubs, sports, wine\n",
      "2: pizza, italian, restaurants, salad, sandwiches, food, wings, chicken, gluten, free\n",
      "3: restaurants, food, chinese, japanese, sushi, sandwiches, seafood, bars, mediterranean, indian\n",
      "4: mexican, tacos, restaurants, bars, new, american, nightlife, cocktail, mex, tex\n",
      "5: american, new, traditional, restaurants, burgers, steakhouses, gastropubs, sandwiches, food, seafood\n",
      "6: breakfast, brunch, tea, coffee, food, cafes, restaurants, diners, american, traditional\n",
      "7: thai, noodles, restaurants, desserts, seafood, vegan, sushi, fusion, asian, food\n"
     ]
    }
   ],
   "source": [
    "# Find the top 10 features for each cluster.\n",
    "# To be implemented\n",
    "top_n = 10\n",
    "top_centroids = kmeans_name.cluster_centers_.argsort()[:, -1:-(top_n+1):-1]\n",
    "print(\"top 10 features for each cluster:\")\n",
    "for num, centroid in enumerate(top_centroids):\n",
    "    print(\"%d: %s\" % (num, \", \".join(words_name[i] for i in centroid)))"
   ]
  },
  {
   "cell_type": "markdown",
   "metadata": {},
   "source": [
    "We notice the most used business names are very straight forword, telling the major business the entities are running.\n",
    "While I don't think these clusters are meaningful in distinguishing each other."
   ]
  },
  {
   "cell_type": "markdown",
   "metadata": {},
   "source": [
    "## What are the characteristics of each of the clustered  ? For each cluster, which restaurant can best represent (\"define\") its cluster?\n",
    "Hint: how to interpret \"best\"?"
   ]
  },
  {
   "cell_type": "code",
   "execution_count": 77,
   "metadata": {},
   "outputs": [
    {
     "name": "stdout",
     "output_type": "stream",
     "text": [
      "top 10 features for each cluster:\n",
      "0: food, tea, coffee, restaurants, cafes, fast, breakfast, brunch, trucks, event\n",
      "1: american, new, traditional, restaurants, burgers, mexican, seafood, sandwiches, steakhouses, gastropubs\n",
      "2: bars, nightlife, american, cocktail, restaurants, new, traditional, sports, beer, pubs\n",
      "3: breakfast, brunch, diners, american, traditional, restaurants, new, sandwiches, bars, nightlife\n",
      "4: thai, noodles, restaurants, seafood, vegan, desserts, taiwanese, food, soup, salad\n",
      "5: pizza, italian, restaurants, sandwiches, salad, delis, food, bars, nightlife, wine\n",
      "6: restaurants, mexican, chinese, seafood, indian, burgers, mediterranean, latin, sandwiches, argentine\n",
      "7: japanese, sushi, bars, asian, fusion, chinese, restaurants, ramen, korean, poke\n"
     ]
    }
   ],
   "source": [
    "# Find the top 10 features for each cluster.\n",
    "# To be implemented\n",
    "top_n = 10\n",
    "top_centroids = kmeans.cluster_centers_.argsort()[:, -1:-(top_n+1):-1]\n",
    "print(\"top 10 features for each cluster:\")\n",
    "for num, centroid in enumerate(top_centroids):\n",
    "    print(\"%d: %s\" % (num, \", \".join(words[i] for i in centroid)))"
   ]
  },
  {
   "cell_type": "code",
   "execution_count": 78,
   "metadata": {},
   "outputs": [
    {
     "name": "stdout",
     "output_type": "stream",
     "text": [
      "cluster 0 representative restaurant: Pork & Beans\n",
      "cluster 1 representative restaurant: Primanti Bros\n",
      "cluster 2 representative restaurant: Proper Brick Oven & Tap Room\n",
      "cluster 3 representative restaurant: Gaucho Parrilla Argentina\n",
      "cluster 4 representative restaurant: täkō\n",
      "cluster 5 representative restaurant: Meat & Potatoes\n",
      "cluster 6 representative restaurant: P&G's Pamela's Diner\n",
      "cluster 7 representative restaurant: Noodlehead\n"
     ]
    }
   ],
   "source": [
    "for i in range(kmeans.n_clusters):\n",
    "    cluster = df.iloc[assigned_cluster == i]\n",
    "    print(\"cluster %d representative restaurant: %s\" % (i, cluster['name'].value_counts().index[0]))"
   ]
  },
  {
   "cell_type": "code",
   "execution_count": null,
   "metadata": {},
   "outputs": [],
   "source": []
  },
  {
   "cell_type": "code",
   "execution_count": null,
   "metadata": {},
   "outputs": [],
   "source": []
  }
 ],
 "metadata": {
  "anaconda-cloud": {},
  "kernelspec": {
   "display_name": "Python 3",
   "language": "python",
   "name": "python3"
  },
  "language_info": {
   "codemirror_mode": {
    "name": "ipython",
    "version": 3
   },
   "file_extension": ".py",
   "mimetype": "text/x-python",
   "name": "python",
   "nbconvert_exporter": "python",
   "pygments_lexer": "ipython3",
   "version": "3.6.8"
  }
 },
 "nbformat": 4,
 "nbformat_minor": 2
}
