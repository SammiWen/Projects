{
 "cells": [
  {
   "cell_type": "markdown",
   "metadata": {},
   "source": [
    "# Yelp Data Challenge - NLP\n",
    "\n",
    "CS 753\n",
    "\n"
   ]
  },
  {
   "cell_type": "markdown",
   "metadata": {},
   "source": [
    "* Compare different model's performance for NLP (Bayes, Logistics,Random Forest)\n",
    "* Compare different model's performance between hand turn and grid search\n",
    "* Compare different NLP results between Pittsurgh and Las Vegas"
   ]
  },
  {
   "cell_type": "code",
   "execution_count": 1,
   "metadata": {},
   "outputs": [],
   "source": [
    "import pandas as pd\n",
    "import numpy as np"
   ]
  },
  {
   "cell_type": "code",
   "execution_count": 2,
   "metadata": {},
   "outputs": [],
   "source": [
    "dfpitts = pd.read_csv('Dataset/pittsrestfinallast2year.csv') "
   ]
  },
  {
   "cell_type": "code",
   "execution_count": 76,
   "metadata": {},
   "outputs": [],
   "source": [
    "dflas = pd.read_csv('Dataset/lasvegasrestfinallast2year.csv')"
   ]
  },
  {
   "cell_type": "code",
   "execution_count": 73,
   "metadata": {},
   "outputs": [
    {
     "data": {
      "text/html": [
       "<div>\n",
       "<style scoped>\n",
       "    .dataframe tbody tr th:only-of-type {\n",
       "        vertical-align: middle;\n",
       "    }\n",
       "\n",
       "    .dataframe tbody tr th {\n",
       "        vertical-align: top;\n",
       "    }\n",
       "\n",
       "    .dataframe thead th {\n",
       "        text-align: right;\n",
       "    }\n",
       "</style>\n",
       "<table border=\"1\" class=\"dataframe\">\n",
       "  <thead>\n",
       "    <tr style=\"text-align: right;\">\n",
       "      <th></th>\n",
       "      <th>Unnamed: 0</th>\n",
       "      <th>business_id</th>\n",
       "      <th>name</th>\n",
       "      <th>categories</th>\n",
       "      <th>avg_stars</th>\n",
       "      <th>cool</th>\n",
       "      <th>date</th>\n",
       "      <th>funny</th>\n",
       "      <th>review_id</th>\n",
       "      <th>stars</th>\n",
       "      <th>text</th>\n",
       "      <th>useful</th>\n",
       "      <th>user_id</th>\n",
       "      <th>target</th>\n",
       "    </tr>\n",
       "  </thead>\n",
       "  <tbody>\n",
       "    <tr>\n",
       "      <th>0</th>\n",
       "      <td>2</td>\n",
       "      <td>--ujyvoQlwVoBgMYtADiLA</td>\n",
       "      <td>Primanti Bros</td>\n",
       "      <td>Sandwiches, Sports Bars, Restaurants, Nightlif...</td>\n",
       "      <td>3.5</td>\n",
       "      <td>0</td>\n",
       "      <td>2016-10-05</td>\n",
       "      <td>0</td>\n",
       "      <td>isswD5jO3GwCYIkDNK9AEA</td>\n",
       "      <td>4</td>\n",
       "      <td>I love the white pizza and the Monongahela (bl...</td>\n",
       "      <td>0</td>\n",
       "      <td>D5_iQw0N9wO7kT7FrT7j6A</td>\n",
       "      <td>False</td>\n",
       "    </tr>\n",
       "    <tr>\n",
       "      <th>1</th>\n",
       "      <td>11</td>\n",
       "      <td>--ujyvoQlwVoBgMYtADiLA</td>\n",
       "      <td>Primanti Bros</td>\n",
       "      <td>Sandwiches, Sports Bars, Restaurants, Nightlif...</td>\n",
       "      <td>3.5</td>\n",
       "      <td>0</td>\n",
       "      <td>2017-07-31</td>\n",
       "      <td>0</td>\n",
       "      <td>CRMppAp7f0GF5pa8sNkV4g</td>\n",
       "      <td>5</td>\n",
       "      <td>love Primanti bros.great food. good service. f...</td>\n",
       "      <td>0</td>\n",
       "      <td>nyzncOg3goSAMK15IijIqA</td>\n",
       "      <td>True</td>\n",
       "    </tr>\n",
       "    <tr>\n",
       "      <th>2</th>\n",
       "      <td>12</td>\n",
       "      <td>--ujyvoQlwVoBgMYtADiLA</td>\n",
       "      <td>Primanti Bros</td>\n",
       "      <td>Sandwiches, Sports Bars, Restaurants, Nightlif...</td>\n",
       "      <td>3.5</td>\n",
       "      <td>0</td>\n",
       "      <td>2017-03-25</td>\n",
       "      <td>0</td>\n",
       "      <td>BdGR_xduQ2CLkEIgtR2eCQ</td>\n",
       "      <td>4</td>\n",
       "      <td>Great food and very convenient location. The p...</td>\n",
       "      <td>0</td>\n",
       "      <td>YFRp9i9sDuA1T5oMKq5cbg</td>\n",
       "      <td>False</td>\n",
       "    </tr>\n",
       "    <tr>\n",
       "      <th>3</th>\n",
       "      <td>18</td>\n",
       "      <td>--ujyvoQlwVoBgMYtADiLA</td>\n",
       "      <td>Primanti Bros</td>\n",
       "      <td>Sandwiches, Sports Bars, Restaurants, Nightlif...</td>\n",
       "      <td>3.5</td>\n",
       "      <td>0</td>\n",
       "      <td>2017-12-31</td>\n",
       "      <td>0</td>\n",
       "      <td>Jt2iThRe8Fu6GAG-moAIPQ</td>\n",
       "      <td>3</td>\n",
       "      <td>I love visiting Primanti Bros every time we co...</td>\n",
       "      <td>0</td>\n",
       "      <td>QqdHAP9tSwjteG7b9q7sAw</td>\n",
       "      <td>False</td>\n",
       "    </tr>\n",
       "    <tr>\n",
       "      <th>4</th>\n",
       "      <td>20</td>\n",
       "      <td>--ujyvoQlwVoBgMYtADiLA</td>\n",
       "      <td>Primanti Bros</td>\n",
       "      <td>Sandwiches, Sports Bars, Restaurants, Nightlif...</td>\n",
       "      <td>3.5</td>\n",
       "      <td>0</td>\n",
       "      <td>2016-09-27</td>\n",
       "      <td>0</td>\n",
       "      <td>1mi5-2nKgRQ0u6KoWXA3vQ</td>\n",
       "      <td>5</td>\n",
       "      <td>You can't beat their happy hour! Great sandwic...</td>\n",
       "      <td>0</td>\n",
       "      <td>4qfMMlGtme2RNFqDgxYLxg</td>\n",
       "      <td>True</td>\n",
       "    </tr>\n",
       "  </tbody>\n",
       "</table>\n",
       "</div>"
      ],
      "text/plain": [
       "   Unnamed: 0             business_id           name  \\\n",
       "0           2  --ujyvoQlwVoBgMYtADiLA  Primanti Bros   \n",
       "1          11  --ujyvoQlwVoBgMYtADiLA  Primanti Bros   \n",
       "2          12  --ujyvoQlwVoBgMYtADiLA  Primanti Bros   \n",
       "3          18  --ujyvoQlwVoBgMYtADiLA  Primanti Bros   \n",
       "4          20  --ujyvoQlwVoBgMYtADiLA  Primanti Bros   \n",
       "\n",
       "                                          categories  avg_stars  cool  \\\n",
       "0  Sandwiches, Sports Bars, Restaurants, Nightlif...        3.5     0   \n",
       "1  Sandwiches, Sports Bars, Restaurants, Nightlif...        3.5     0   \n",
       "2  Sandwiches, Sports Bars, Restaurants, Nightlif...        3.5     0   \n",
       "3  Sandwiches, Sports Bars, Restaurants, Nightlif...        3.5     0   \n",
       "4  Sandwiches, Sports Bars, Restaurants, Nightlif...        3.5     0   \n",
       "\n",
       "         date  funny               review_id  stars  \\\n",
       "0  2016-10-05      0  isswD5jO3GwCYIkDNK9AEA      4   \n",
       "1  2017-07-31      0  CRMppAp7f0GF5pa8sNkV4g      5   \n",
       "2  2017-03-25      0  BdGR_xduQ2CLkEIgtR2eCQ      4   \n",
       "3  2017-12-31      0  Jt2iThRe8Fu6GAG-moAIPQ      3   \n",
       "4  2016-09-27      0  1mi5-2nKgRQ0u6KoWXA3vQ      5   \n",
       "\n",
       "                                                text  useful  \\\n",
       "0  I love the white pizza and the Monongahela (bl...       0   \n",
       "1  love Primanti bros.great food. good service. f...       0   \n",
       "2  Great food and very convenient location. The p...       0   \n",
       "3  I love visiting Primanti Bros every time we co...       0   \n",
       "4  You can't beat their happy hour! Great sandwic...       0   \n",
       "\n",
       "                  user_id  target  \n",
       "0  D5_iQw0N9wO7kT7FrT7j6A   False  \n",
       "1  nyzncOg3goSAMK15IijIqA    True  \n",
       "2  YFRp9i9sDuA1T5oMKq5cbg   False  \n",
       "3  QqdHAP9tSwjteG7b9q7sAw   False  \n",
       "4  4qfMMlGtme2RNFqDgxYLxg    True  "
      ]
     },
     "execution_count": 73,
     "metadata": {},
     "output_type": "execute_result"
    }
   ],
   "source": [
    "# dflas.head(2)\n",
    "dfpitts.head(5)"
   ]
  },
  {
   "cell_type": "markdown",
   "metadata": {},
   "source": [
    "### Define your feature variables, here is the text of the review"
   ]
  },
  {
   "cell_type": "code",
   "execution_count": 4,
   "metadata": {},
   "outputs": [],
   "source": [
    "documentspitts = dfpitts['text'].values\n",
    "documentslas = dflas['text'].values"
   ]
  },
  {
   "cell_type": "code",
   "execution_count": 5,
   "metadata": {},
   "outputs": [
    {
     "name": "stdout",
     "output_type": "stream",
     "text": [
      "(49142,) object\n",
      "(365550,) object\n"
     ]
    }
   ],
   "source": [
    "print(documentspitts.shape, documentspitts.dtype)\n",
    "# print(documentslas.shape, documentspitts.dtype)"
   ]
  },
  {
   "cell_type": "markdown",
   "metadata": {},
   "source": [
    "### Define target variable "
   ]
  },
  {
   "cell_type": "markdown",
   "metadata": {},
   "source": [
    "### perfect (5 stars) and imperfect (1-4 stars) rating"
   ]
  },
  {
   "cell_type": "code",
   "execution_count": 11,
   "metadata": {},
   "outputs": [
    {
     "data": {
      "text/plain": [
       "array([False,  True, False, False,  True])"
      ]
     },
     "execution_count": 11,
     "metadata": {},
     "output_type": "execute_result"
    }
   ],
   "source": [
    "# Make a column and take the values, save to a variable named \"target\"\n",
    "# \n",
    "dfpitts['target'] = dfpitts['stars'] == 5\n",
    "targetpitts = dfpitts['target'].values\n",
    "targetpitts[:5]"
   ]
  },
  {
   "cell_type": "markdown",
   "metadata": {},
   "source": [
    "#### Look at the statistic of the target variable"
   ]
  },
  {
   "cell_type": "code",
   "execution_count": 12,
   "metadata": {},
   "outputs": [
    {
     "data": {
      "text/plain": [
       "0.43235928533637213"
      ]
     },
     "execution_count": 12,
     "metadata": {},
     "output_type": "execute_result"
    }
   ],
   "source": [
    "dfpitts.target.mean()"
   ]
  },
  {
   "cell_type": "markdown",
   "metadata": {},
   "source": [
    "## Let's create training dataset and test dataset"
   ]
  },
  {
   "cell_type": "code",
   "execution_count": 13,
   "metadata": {},
   "outputs": [
    {
     "name": "stderr",
     "output_type": "stream",
     "text": [
      "/home/cs7532018fall/anaconda3/lib/python3.6/site-packages/sklearn/cross_validation.py:41: DeprecationWarning: This module was deprecated in version 0.18 in favor of the model_selection module into which all the refactored classes and functions are moved. Also note that the interface of the new CV iterators are different from that of this module. This module will be removed in 0.20.\n",
      "  \"This module will be removed in 0.20.\", DeprecationWarning)\n"
     ]
    }
   ],
   "source": [
    "from sklearn.cross_validation import train_test_split"
   ]
  },
  {
   "cell_type": "code",
   "execution_count": 14,
   "metadata": {},
   "outputs": [],
   "source": [
    "# Documents is your X, target is your y\n",
    "# Now split the data to training set and test set\n",
    "documentspitts_train, documentspitts_test, targetpitts_train, targetpitts_test = train_test_split(\n",
    "    documentspitts, targetpitts, test_size = 0.7, random_state = 42)"
   ]
  },
  {
   "cell_type": "code",
   "execution_count": null,
   "metadata": {
    "collapsed": true
   },
   "outputs": [],
   "source": []
  },
  {
   "cell_type": "markdown",
   "metadata": {},
   "source": [
    "## Let's get NLP representation of the documents"
   ]
  },
  {
   "cell_type": "code",
   "execution_count": 15,
   "metadata": {},
   "outputs": [
    {
     "name": "stdout",
     "output_type": "stream",
     "text": [
      "[nltk_data] Downloading package stopwords to\n",
      "[nltk_data]     /home/cs7532018fall/nltk_data...\n",
      "[nltk_data]   Package stopwords is already up-to-date!\n"
     ]
    },
    {
     "data": {
      "text/plain": [
       "True"
      ]
     },
     "execution_count": 15,
     "metadata": {},
     "output_type": "execute_result"
    }
   ],
   "source": [
    "from sklearn.feature_extraction.text import TfidfVectorizer\n",
    "from nltk.corpus import stopwords\n",
    "import nltk\n",
    "nltk.download('stopwords')"
   ]
  },
  {
   "cell_type": "code",
   "execution_count": 16,
   "metadata": {},
   "outputs": [],
   "source": [
    "# Create TfidfVectorizer, and name it vectorizer\n",
    "tfidf_vectorizer = TfidfVectorizer(stop_words = stopwords.words('english'), max_features=2000)\n",
    "\n",
    "# Train the model with training data\n",
    "vectors_train = tfidf_vectorizer.fit_transform(documentspitts_train).toarray()\n",
    "\n",
    "# Get the vocab of tfidf\n",
    "wordspitts = tfidf_vectorizer.get_feature_names()\n",
    "\n",
    "# Use the trained model to transform test data\n",
    "vectors_test = tfidf_vectorizer.transform(documentspitts_test).toarray()"
   ]
  },
  {
   "cell_type": "code",
   "execution_count": 20,
   "metadata": {},
   "outputs": [
    {
     "data": {
      "text/plain": [
       "['00',\n",
       " '10',\n",
       " '100',\n",
       " '11',\n",
       " '12',\n",
       " '13',\n",
       " '14',\n",
       " '15',\n",
       " '16',\n",
       " '17',\n",
       " '18',\n",
       " '20',\n",
       " '25',\n",
       " '2nd',\n",
       " '30',\n",
       " '35',\n",
       " '40',\n",
       " '45',\n",
       " '50',\n",
       " '75',\n",
       " '90',\n",
       " '99',\n",
       " 'able',\n",
       " 'absolute',\n",
       " 'absolutely',\n",
       " 'accept',\n",
       " 'accommodate',\n",
       " 'accommodating',\n",
       " 'across',\n",
       " 'actual',\n",
       " 'actually',\n",
       " 'add',\n",
       " 'added',\n",
       " 'adding',\n",
       " 'addition',\n",
       " 'additional',\n",
       " 'admit',\n",
       " 'advance',\n",
       " 'affordable',\n",
       " 'afternoon',\n",
       " 'ago',\n",
       " 'agree',\n",
       " 'agreed',\n",
       " 'ahead',\n",
       " 'aioli',\n",
       " 'air',\n",
       " 'airport',\n",
       " 'al',\n",
       " 'alcohol',\n",
       " 'allow',\n",
       " 'allowed',\n",
       " 'almond',\n",
       " 'almost',\n",
       " 'alone',\n",
       " 'along',\n",
       " 'already',\n",
       " 'alright',\n",
       " 'also',\n",
       " 'although',\n",
       " 'always',\n",
       " 'amazing',\n",
       " 'ambiance',\n",
       " 'ambience',\n",
       " 'american',\n",
       " 'among',\n",
       " 'amount',\n",
       " 'ample',\n",
       " 'anniversary',\n",
       " 'annoyed',\n",
       " 'annoying',\n",
       " 'another',\n",
       " 'answer',\n",
       " 'answered',\n",
       " 'anymore',\n",
       " 'anyone',\n",
       " 'anything',\n",
       " 'anytime',\n",
       " 'anyway',\n",
       " 'anyways',\n",
       " 'anywhere',\n",
       " 'apart',\n",
       " 'apologized',\n",
       " 'apology',\n",
       " 'app',\n",
       " 'apparently',\n",
       " 'appeared',\n",
       " 'appetizer',\n",
       " 'appetizers',\n",
       " 'apple',\n",
       " 'appreciate',\n",
       " 'appreciated',\n",
       " 'appropriate',\n",
       " 'apps',\n",
       " 'area',\n",
       " 'around',\n",
       " 'arrival',\n",
       " 'arrive',\n",
       " 'arrived',\n",
       " 'art',\n",
       " 'arugula',\n",
       " 'asian',\n",
       " 'aside',\n",
       " 'ask',\n",
       " 'asked',\n",
       " 'asking',\n",
       " 'asparagus',\n",
       " 'assume',\n",
       " 'ate',\n",
       " 'atmosphere',\n",
       " 'attention',\n",
       " 'attentive',\n",
       " 'attitude',\n",
       " 'authentic',\n",
       " 'available',\n",
       " 'ave',\n",
       " 'average',\n",
       " 'avocado',\n",
       " 'avoid',\n",
       " 'aware',\n",
       " 'away',\n",
       " 'awesome',\n",
       " 'awful',\n",
       " 'awhile',\n",
       " 'awkward',\n",
       " 'baby',\n",
       " 'back',\n",
       " 'bacon',\n",
       " 'bad',\n",
       " 'bag',\n",
       " 'bagel',\n",
       " 'baked',\n",
       " 'bakersfield',\n",
       " 'bakery',\n",
       " 'balance',\n",
       " 'balanced',\n",
       " 'ball',\n",
       " 'balls',\n",
       " 'balsamic',\n",
       " 'banana',\n",
       " 'banh',\n",
       " 'bar',\n",
       " 'barbecue',\n",
       " 'barely',\n",
       " 'bars',\n",
       " 'bartender',\n",
       " 'bartenders',\n",
       " 'base',\n",
       " 'based',\n",
       " 'basic',\n",
       " 'basically',\n",
       " 'basil',\n",
       " 'basket',\n",
       " 'bathroom',\n",
       " 'bathrooms',\n",
       " 'bbq',\n",
       " 'bean',\n",
       " 'beans',\n",
       " 'beat',\n",
       " 'beautiful',\n",
       " 'beautifully',\n",
       " 'became',\n",
       " 'become',\n",
       " 'beef',\n",
       " 'beer',\n",
       " 'beers',\n",
       " 'beet',\n",
       " 'began',\n",
       " 'begin',\n",
       " 'behind',\n",
       " 'believe',\n",
       " 'bell',\n",
       " 'belly',\n",
       " 'benedict',\n",
       " 'besides',\n",
       " 'best',\n",
       " 'better',\n",
       " 'beverages',\n",
       " 'beyond',\n",
       " 'big',\n",
       " 'bigger',\n",
       " 'biggest',\n",
       " 'bill',\n",
       " 'birthday',\n",
       " 'biscuits',\n",
       " 'bisque',\n",
       " 'bistro',\n",
       " 'bit',\n",
       " 'bite',\n",
       " 'bites',\n",
       " 'black',\n",
       " 'bland',\n",
       " 'blend',\n",
       " 'block',\n",
       " 'bloody',\n",
       " 'blown',\n",
       " 'blue',\n",
       " 'blueberry',\n",
       " 'board',\n",
       " 'bomb',\n",
       " 'bone',\n",
       " 'bonus',\n",
       " 'book',\n",
       " 'booth',\n",
       " 'booths',\n",
       " 'boring',\n",
       " 'bother',\n",
       " 'bottle',\n",
       " 'bottles',\n",
       " 'bottom',\n",
       " 'bought',\n",
       " 'bourbon',\n",
       " 'bowl',\n",
       " 'bowls',\n",
       " 'box',\n",
       " 'boxes',\n",
       " 'boy',\n",
       " 'boyfriend',\n",
       " 'braised',\n",
       " 'bread',\n",
       " 'breaded',\n",
       " 'breading',\n",
       " 'break',\n",
       " 'breakfast',\n",
       " 'breast',\n",
       " 'brew',\n",
       " 'brewery',\n",
       " 'bright',\n",
       " 'bring',\n",
       " 'bringing',\n",
       " 'brisket',\n",
       " 'broccoli',\n",
       " 'broth',\n",
       " 'brother',\n",
       " 'brought',\n",
       " 'brown',\n",
       " 'brunch',\n",
       " 'brussel',\n",
       " 'brussels',\n",
       " 'bubble',\n",
       " 'bucks',\n",
       " 'buffalo',\n",
       " 'buffet',\n",
       " 'build',\n",
       " 'building',\n",
       " 'bun',\n",
       " 'bunch',\n",
       " 'buns',\n",
       " 'burgatory',\n",
       " 'burger',\n",
       " 'burgers',\n",
       " 'burgh',\n",
       " 'burnt',\n",
       " 'burrito',\n",
       " 'burritos',\n",
       " 'business',\n",
       " 'busy',\n",
       " 'butcher',\n",
       " 'butter',\n",
       " 'buttery',\n",
       " 'buy',\n",
       " 'byob',\n",
       " 'cabbage',\n",
       " 'caesar',\n",
       " 'cafe',\n",
       " 'cafeteria',\n",
       " 'cajun',\n",
       " 'cake',\n",
       " 'cakes',\n",
       " 'calamari',\n",
       " 'california',\n",
       " 'call',\n",
       " 'called',\n",
       " 'came',\n",
       " 'cannot',\n",
       " 'car',\n",
       " 'caramel',\n",
       " 'card',\n",
       " 'cards',\n",
       " 'care',\n",
       " 'carrot',\n",
       " 'carrots',\n",
       " 'carry',\n",
       " 'case',\n",
       " 'cash',\n",
       " 'cashier',\n",
       " 'casual',\n",
       " 'cat',\n",
       " 'catch',\n",
       " 'cats',\n",
       " 'caught',\n",
       " 'cauliflower',\n",
       " 'cause',\n",
       " 'celebrate',\n",
       " 'center',\n",
       " 'certain',\n",
       " 'certainly',\n",
       " 'chain',\n",
       " 'chairs',\n",
       " 'chance',\n",
       " 'change',\n",
       " 'changed',\n",
       " 'changes',\n",
       " 'changing',\n",
       " 'charcuterie',\n",
       " 'charge',\n",
       " 'charged',\n",
       " 'charming',\n",
       " 'chat',\n",
       " 'cheap',\n",
       " 'cheaper',\n",
       " 'check',\n",
       " 'checked',\n",
       " 'checking',\n",
       " 'checks',\n",
       " 'cheddar',\n",
       " 'cheese',\n",
       " 'cheesecake',\n",
       " 'cheeses',\n",
       " 'cheesesteak',\n",
       " 'cheesy',\n",
       " 'chef',\n",
       " 'chefs',\n",
       " 'chewy',\n",
       " 'chicago',\n",
       " 'chicken',\n",
       " 'children',\n",
       " 'chili',\n",
       " 'chill',\n",
       " 'chinese',\n",
       " 'chip',\n",
       " 'chipotle',\n",
       " 'chips',\n",
       " 'chocolate',\n",
       " 'choice',\n",
       " 'choices',\n",
       " 'choose',\n",
       " 'chop',\n",
       " 'chorizo',\n",
       " 'chose',\n",
       " 'christmas',\n",
       " 'chunks',\n",
       " 'church',\n",
       " 'cider',\n",
       " 'cilantro',\n",
       " 'cinnamon',\n",
       " 'city',\n",
       " 'class',\n",
       " 'classic',\n",
       " 'clean',\n",
       " 'cleaned',\n",
       " 'clear',\n",
       " 'clearly',\n",
       " 'close',\n",
       " 'closed',\n",
       " 'closer',\n",
       " 'closing',\n",
       " 'club',\n",
       " 'co',\n",
       " 'cocktail',\n",
       " 'cocktails',\n",
       " 'coconut',\n",
       " 'coffee',\n",
       " 'coke',\n",
       " 'cold',\n",
       " 'cole',\n",
       " 'coleslaw',\n",
       " 'college',\n",
       " 'color',\n",
       " 'combination',\n",
       " 'combinations',\n",
       " 'combo',\n",
       " 'come',\n",
       " 'comes',\n",
       " 'comfort',\n",
       " 'comfortable',\n",
       " 'coming',\n",
       " 'company',\n",
       " 'compared',\n",
       " 'complain',\n",
       " 'complaint',\n",
       " 'complaints',\n",
       " 'complete',\n",
       " 'completely',\n",
       " 'complimentary',\n",
       " 'concept',\n",
       " 'condado',\n",
       " 'confused',\n",
       " 'confusing',\n",
       " 'consider',\n",
       " 'considering',\n",
       " 'consistency',\n",
       " 'consistent',\n",
       " 'consistently',\n",
       " 'constantly',\n",
       " 'container',\n",
       " 'continue',\n",
       " 'convenient',\n",
       " 'conversation',\n",
       " 'cook',\n",
       " 'cooked',\n",
       " 'cookie',\n",
       " 'cookies',\n",
       " 'cooking',\n",
       " 'cooks',\n",
       " 'cool',\n",
       " 'corn',\n",
       " 'cornbread',\n",
       " 'corned',\n",
       " 'corner',\n",
       " 'correct',\n",
       " 'cost',\n",
       " 'could',\n",
       " 'counter',\n",
       " 'country',\n",
       " 'couple',\n",
       " 'coupon',\n",
       " 'course',\n",
       " 'courses',\n",
       " 'courteous',\n",
       " 'covered',\n",
       " 'cozy',\n",
       " 'crab',\n",
       " 'craft',\n",
       " 'cramped',\n",
       " 'craving',\n",
       " 'crazy',\n",
       " 'cream',\n",
       " 'creamy',\n",
       " 'create',\n",
       " 'creative',\n",
       " 'credit',\n",
       " 'creme',\n",
       " 'crepe',\n",
       " 'crepes',\n",
       " 'crisp',\n",
       " 'crispy',\n",
       " 'crowd',\n",
       " 'crowded',\n",
       " 'crunch',\n",
       " 'crunchy',\n",
       " 'crust',\n",
       " 'cucumber',\n",
       " 'cuisine',\n",
       " 'cup',\n",
       " 'cups',\n",
       " 'curry',\n",
       " 'customer',\n",
       " 'customers',\n",
       " 'cut',\n",
       " 'cute',\n",
       " 'dad',\n",
       " 'daily',\n",
       " 'damn',\n",
       " 'dark',\n",
       " 'date',\n",
       " 'daughter',\n",
       " 'day',\n",
       " 'days',\n",
       " 'de',\n",
       " 'dead',\n",
       " 'deal',\n",
       " 'deals',\n",
       " 'decent',\n",
       " 'decide',\n",
       " 'decided',\n",
       " 'decision',\n",
       " 'decor',\n",
       " 'decorated',\n",
       " 'deep',\n",
       " 'def',\n",
       " 'definitely',\n",
       " 'deli',\n",
       " 'delicious',\n",
       " 'delightful',\n",
       " 'delish',\n",
       " 'deliver',\n",
       " 'delivered',\n",
       " 'delivery',\n",
       " 'depending',\n",
       " 'describe',\n",
       " 'described',\n",
       " 'description',\n",
       " 'desert',\n",
       " 'design',\n",
       " 'desired',\n",
       " 'despite',\n",
       " 'dessert',\n",
       " 'desserts',\n",
       " 'die',\n",
       " 'diet',\n",
       " 'difference',\n",
       " 'different',\n",
       " 'difficult',\n",
       " 'dine',\n",
       " 'dined',\n",
       " 'diner',\n",
       " 'diners',\n",
       " 'dining',\n",
       " 'dinner',\n",
       " 'dinners',\n",
       " 'dip',\n",
       " 'dipping',\n",
       " 'directly',\n",
       " 'dirty',\n",
       " 'disappoint',\n",
       " 'disappointed',\n",
       " 'disappointing',\n",
       " 'disappointment',\n",
       " 'discount',\n",
       " 'disgusting',\n",
       " 'dish',\n",
       " 'dishes',\n",
       " 'district',\n",
       " 'dive',\n",
       " 'diverse',\n",
       " 'divine',\n",
       " 'dog',\n",
       " 'dogs',\n",
       " 'dollar',\n",
       " 'dollars',\n",
       " 'done',\n",
       " 'donut',\n",
       " 'donuts',\n",
       " 'door',\n",
       " 'doors',\n",
       " 'double',\n",
       " 'doubt',\n",
       " 'dough',\n",
       " 'downside',\n",
       " 'downstairs',\n",
       " 'downtown',\n",
       " 'dozen',\n",
       " 'draft',\n",
       " 'drafts',\n",
       " 'dressing',\n",
       " 'dried',\n",
       " 'drink',\n",
       " 'drinking',\n",
       " 'drinks',\n",
       " 'drive',\n",
       " 'driver',\n",
       " 'driving',\n",
       " 'dropped',\n",
       " 'drunken',\n",
       " 'dry',\n",
       " 'duck',\n",
       " 'due',\n",
       " 'dumplings',\n",
       " 'earlier',\n",
       " 'early',\n",
       " 'easily',\n",
       " 'east',\n",
       " 'eastern',\n",
       " 'easy',\n",
       " 'eat',\n",
       " 'eaten',\n",
       " 'eater',\n",
       " 'eating',\n",
       " 'eats',\n",
       " 'efficient',\n",
       " 'effort',\n",
       " 'egg',\n",
       " 'eggplant',\n",
       " 'eggs',\n",
       " 'either',\n",
       " 'el',\n",
       " 'else',\n",
       " 'elsewhere',\n",
       " 'empanada',\n",
       " 'empanadas',\n",
       " 'employee',\n",
       " 'employees',\n",
       " 'empty',\n",
       " 'end',\n",
       " 'ended',\n",
       " 'ends',\n",
       " 'enjoy',\n",
       " 'enjoyable',\n",
       " 'enjoyed',\n",
       " 'enjoying',\n",
       " 'enough',\n",
       " 'entire',\n",
       " 'entrance',\n",
       " 'entree',\n",
       " 'entrees',\n",
       " 'environment',\n",
       " 'equally',\n",
       " 'especially',\n",
       " 'espresso',\n",
       " 'establishment',\n",
       " 'etc',\n",
       " 'even',\n",
       " 'evening',\n",
       " 'event',\n",
       " 'events',\n",
       " 'eventually',\n",
       " 'ever',\n",
       " 'every',\n",
       " 'everyday',\n",
       " 'everyone',\n",
       " 'everything',\n",
       " 'everywhere',\n",
       " 'exactly',\n",
       " 'example',\n",
       " 'excellent',\n",
       " 'except',\n",
       " 'exceptional',\n",
       " 'excited',\n",
       " 'exciting',\n",
       " 'expect',\n",
       " 'expectations',\n",
       " 'expected',\n",
       " 'expecting',\n",
       " 'expensive',\n",
       " 'experience',\n",
       " 'experienced',\n",
       " 'experiences',\n",
       " 'explain',\n",
       " 'explained',\n",
       " 'extensive',\n",
       " 'extra',\n",
       " 'extremely',\n",
       " 'eye',\n",
       " 'eyes',\n",
       " 'fabulous',\n",
       " 'face',\n",
       " 'fact',\n",
       " 'fair',\n",
       " 'fairly',\n",
       " 'falafel',\n",
       " 'fall',\n",
       " 'familiar',\n",
       " 'family',\n",
       " 'famous',\n",
       " 'fan',\n",
       " 'fancy',\n",
       " 'fantastic',\n",
       " 'far',\n",
       " 'fare',\n",
       " 'fashioned',\n",
       " 'fast',\n",
       " 'fat',\n",
       " 'fatty',\n",
       " 'fault',\n",
       " 'favor',\n",
       " 'favorite',\n",
       " 'favorites',\n",
       " 'fee',\n",
       " 'feel',\n",
       " 'feeling',\n",
       " 'feels',\n",
       " 'fell',\n",
       " 'felt',\n",
       " 'fiancé',\n",
       " 'figure',\n",
       " 'figured',\n",
       " 'filet',\n",
       " 'fill',\n",
       " 'filled',\n",
       " 'filling',\n",
       " 'finally',\n",
       " 'find',\n",
       " 'finding',\n",
       " 'fine',\n",
       " 'finish',\n",
       " 'finished',\n",
       " 'fire',\n",
       " 'fired',\n",
       " 'first',\n",
       " 'fish',\n",
       " 'fit',\n",
       " 'five',\n",
       " 'fix',\n",
       " 'flat',\n",
       " 'flatbread',\n",
       " 'flavor',\n",
       " 'flavored',\n",
       " 'flavorful',\n",
       " 'flavorless',\n",
       " 'flavors',\n",
       " 'flight',\n",
       " 'floor',\n",
       " 'floors',\n",
       " 'fluffy',\n",
       " 'folks',\n",
       " 'followed',\n",
       " 'food',\n",
       " 'foods',\n",
       " 'forever',\n",
       " 'forget',\n",
       " 'forgot',\n",
       " 'fork',\n",
       " 'forward',\n",
       " 'found',\n",
       " 'four',\n",
       " 'free',\n",
       " 'french',\n",
       " 'frequent',\n",
       " 'frequently',\n",
       " 'fresh',\n",
       " 'freshly',\n",
       " 'friday',\n",
       " 'fried',\n",
       " 'friend',\n",
       " 'friendly',\n",
       " 'friends',\n",
       " 'fries',\n",
       " 'front',\n",
       " 'frozen',\n",
       " 'fruit',\n",
       " 'fry',\n",
       " 'full',\n",
       " 'fully',\n",
       " 'fun',\n",
       " 'funny',\n",
       " 'future',\n",
       " 'galley',\n",
       " 'game',\n",
       " 'games',\n",
       " 'garage',\n",
       " 'garden',\n",
       " 'garlic',\n",
       " 'gaucho',\n",
       " 'gave',\n",
       " 'gem',\n",
       " 'general',\n",
       " 'generally',\n",
       " 'generous',\n",
       " 'gentleman',\n",
       " 'german',\n",
       " 'get',\n",
       " 'gets',\n",
       " 'getting',\n",
       " 'giant',\n",
       " 'gift',\n",
       " 'ginger',\n",
       " 'girl',\n",
       " 'girlfriend',\n",
       " 'girls',\n",
       " 'give',\n",
       " 'given',\n",
       " 'gives',\n",
       " 'giving',\n",
       " 'glad',\n",
       " 'glass',\n",
       " 'glasses',\n",
       " 'gluten',\n",
       " 'gnocchi',\n",
       " 'go',\n",
       " 'goat',\n",
       " 'goes',\n",
       " 'going',\n",
       " 'gone',\n",
       " 'gonna',\n",
       " 'good',\n",
       " 'goodness',\n",
       " 'goods',\n",
       " 'got',\n",
       " 'gotta',\n",
       " 'gotten',\n",
       " 'gourmet',\n",
       " 'grab',\n",
       " 'grand',\n",
       " 'gravy',\n",
       " 'grease',\n",
       " 'greasy',\n",
       " 'great',\n",
       " 'greek',\n",
       " 'green',\n",
       " 'greens',\n",
       " 'greeted',\n",
       " 'grill',\n",
       " 'grilled',\n",
       " 'grits',\n",
       " 'grocery',\n",
       " 'gross',\n",
       " 'ground',\n",
       " 'group',\n",
       " 'groups',\n",
       " 'guac',\n",
       " 'guacamole',\n",
       " 'guess',\n",
       " 'guest',\n",
       " 'guests',\n",
       " 'guy',\n",
       " 'guys',\n",
       " 'gyro',\n",
       " 'gyros',\n",
       " 'hair',\n",
       " 'half',\n",
       " 'ham',\n",
       " 'hand',\n",
       " 'handle',\n",
       " 'hands',\n",
       " 'hang',\n",
       " 'hanging',\n",
       " 'happen',\n",
       " 'happened',\n",
       " 'happens',\n",
       " 'happy',\n",
       " 'hard',\n",
       " 'hash',\n",
       " 'hate',\n",
       " 'head',\n",
       " 'headed',\n",
       " 'heads',\n",
       " 'healthy',\n",
       " 'hear',\n",
       " 'heard',\n",
       " 'hearing',\n",
       " 'heart',\n",
       " 'hearty',\n",
       " 'heat',\n",
       " 'heaven',\n",
       " 'heavy',\n",
       " 'hell',\n",
       " 'hello',\n",
       " 'help',\n",
       " 'helped',\n",
       " 'helpful',\n",
       " 'helping',\n",
       " 'hey',\n",
       " 'hibachi',\n",
       " 'hidden',\n",
       " 'high',\n",
       " 'higher',\n",
       " 'highlight',\n",
       " 'highly',\n",
       " 'hill',\n",
       " 'hills',\n",
       " 'hint',\n",
       " 'hip',\n",
       " 'hipster',\n",
       " 'hit',\n",
       " 'hoagie',\n",
       " 'hoagies',\n",
       " 'hold',\n",
       " 'hole',\n",
       " 'holy',\n",
       " 'home',\n",
       " 'homemade',\n",
       " 'honest',\n",
       " 'honestly',\n",
       " 'honey',\n",
       " 'hope',\n",
       " 'hopefully',\n",
       " 'hoping',\n",
       " 'horrible',\n",
       " 'host',\n",
       " 'hostess',\n",
       " 'hot',\n",
       " 'hotel',\n",
       " 'hour',\n",
       " 'hours',\n",
       " 'house',\n",
       " 'however',\n",
       " 'hubby',\n",
       " 'huge',\n",
       " 'hummus',\n",
       " 'hungry',\n",
       " 'husband',\n",
       " 'hype',\n",
       " 'ice',\n",
       " 'iced',\n",
       " 'id',\n",
       " 'idea',\n",
       " 'imagine',\n",
       " 'immediately',\n",
       " 'important',\n",
       " 'impossible',\n",
       " 'impressed',\n",
       " 'impression',\n",
       " 'impressive',\n",
       " 'include',\n",
       " 'included',\n",
       " 'including',\n",
       " 'incredible',\n",
       " 'incredibly',\n",
       " 'indian',\n",
       " 'industry',\n",
       " 'inedible',\n",
       " 'inexpensive',\n",
       " 'informed',\n",
       " 'ingredients',\n",
       " 'inside',\n",
       " 'instead',\n",
       " 'interested',\n",
       " 'interesting',\n",
       " 'interior',\n",
       " 'intimate',\n",
       " 'inviting',\n",
       " 'ipa',\n",
       " 'iron',\n",
       " 'issue',\n",
       " 'issues',\n",
       " 'italian',\n",
       " 'item',\n",
       " 'items',\n",
       " 'jam',\n",
       " 'japanese',\n",
       " 'jerk',\n",
       " 'job',\n",
       " 'joe',\n",
       " 'joint',\n",
       " 'joke',\n",
       " 'juice',\n",
       " 'juicy',\n",
       " 'kale',\n",
       " 'kebab',\n",
       " 'keep',\n",
       " 'kept',\n",
       " 'ketchup',\n",
       " 'key',\n",
       " 'kick',\n",
       " 'kid',\n",
       " 'kids',\n",
       " 'kind',\n",
       " 'kinda',\n",
       " 'kinds',\n",
       " 'kitchen',\n",
       " 'knew',\n",
       " 'know',\n",
       " 'knowledgeable',\n",
       " 'known',\n",
       " 'knows',\n",
       " 'korean',\n",
       " 'la',\n",
       " 'lack',\n",
       " 'lacked',\n",
       " 'lacking',\n",
       " 'lady',\n",
       " 'laid',\n",
       " 'lamb',\n",
       " 'large',\n",
       " 'larger',\n",
       " 'last',\n",
       " 'lastly',\n",
       " 'late',\n",
       " 'later',\n",
       " 'latte',\n",
       " 'lawrenceville',\n",
       " 'learned',\n",
       " 'least',\n",
       " 'leave',\n",
       " 'leaves',\n",
       " 'leaving',\n",
       " 'left',\n",
       " 'leftovers',\n",
       " 'legit',\n",
       " 'lemon',\n",
       " 'lemonade',\n",
       " 'less',\n",
       " 'let',\n",
       " 'lettuce',\n",
       " 'level',\n",
       " 'levels',\n",
       " 'life',\n",
       " 'light',\n",
       " 'lighting',\n",
       " 'lights',\n",
       " 'like',\n",
       " 'liked',\n",
       " 'likely',\n",
       " 'liking',\n",
       " 'lime',\n",
       " 'limited',\n",
       " 'line',\n",
       " 'lines',\n",
       " 'liquor',\n",
       " 'list',\n",
       " 'listed',\n",
       " 'lit',\n",
       " 'literally',\n",
       " 'little',\n",
       " 'live',\n",
       " 'lived',\n",
       " 'living',\n",
       " 'loaded',\n",
       " 'lobster',\n",
       " 'local',\n",
       " 'locally',\n",
       " 'located',\n",
       " 'location',\n",
       " 'locations',\n",
       " 'lol',\n",
       " 'long',\n",
       " 'longer',\n",
       " 'look',\n",
       " 'looked',\n",
       " 'looking',\n",
       " 'looks',\n",
       " 'lost',\n",
       " 'lot',\n",
       " 'lots',\n",
       " 'loud',\n",
       " 'love',\n",
       " 'loved',\n",
       " 'lovely',\n",
       " 'lover',\n",
       " 'loves',\n",
       " ...]"
      ]
     },
     "execution_count": 20,
     "metadata": {},
     "output_type": "execute_result"
    }
   ],
   "source": [
    "wordspitts"
   ]
  },
  {
   "cell_type": "markdown",
   "metadata": {},
   "source": [
    "## Similar review search engine"
   ]
  },
  {
   "cell_type": "code",
   "execution_count": 46,
   "metadata": {},
   "outputs": [],
   "source": [
    "# We will need these helper methods pretty soon\n",
    "\n",
    "def get_top_values(lst, n, labels):\n",
    "    '''\n",
    "    INPUT: LIST, INTEGER, LIST\n",
    "    OUTPUT: LIST\n",
    "\n",
    "    Given a list of values, find the indices with the highest n values.\n",
    "    Return the labels for each of these indices.\n",
    "\n",
    "    e.g.\n",
    "    lst = [7, 3, 2, 4, 1]\n",
    "    n = 2\n",
    "    labels = [\"cat\", \"dog\", \"mouse\", \"pig\", \"rabbit\"]\n",
    "    output: [\"cat\", \"pig\"]\n",
    "    '''\n",
    "    return [labels[i] for i in np.argsort(lst)[::-1][:n]]  # np.argsort by default sorts values in ascending order\n",
    "\n",
    "def get_bottom_values(lst, n, labels):\n",
    "    '''\n",
    "    INPUT: LIST, INTEGER, LIST\n",
    "    OUTPUT: LIST\n",
    "\n",
    "    Given a list of values, find the indices with the lowest n values.\n",
    "    Return the labels for each of these indices.\n",
    "\n",
    "    e.g.\n",
    "    lst = [7, 3, 2, 4, 1]\n",
    "    n = 2\n",
    "    labels = [\"cat\", \"dog\", \"mouse\", \"pig\", \"rabbit\"]\n",
    "    output: [\"mouse\", \"rabbit\"]\n",
    "    '''\n",
    "    return [labels[i] for i in np.argsort(lst)[:n]]\n"
   ]
  },
  {
   "cell_type": "code",
   "execution_count": 22,
   "metadata": {},
   "outputs": [],
   "source": [
    "# Let's use cosine similarity\n",
    "from sklearn.metrics.pairwise import cosine_similarity"
   ]
  },
  {
   "cell_type": "code",
   "execution_count": 23,
   "metadata": {},
   "outputs": [
    {
     "name": "stdout",
     "output_type": "stream",
     "text": [
      "[\"My wife and I came here on a freezing cold late Saturday afternoon.  We found street parking and rushed to get inside.  It wasn't too busy when we first got here.  We were greeted by the hostess and sat right down at a two seater.\\n\\n We had looked over the menu a little bit before we came here so we sort of knew what we wanted.  Our waitress was nice and she came over to ask us if we had ever been here before and if we would like her to explain the menu.  We let her and she did a good job explaining everything to us.\\n\\n We ordered their Meat Bao bun that had Oyster in it to start us off.  For our main dish I ordered the Shoyu Ramen and my wife got the Inferno Ramen.\\n \\nOur Bao came out within 10 minutes.  It looked good. Our waitress said that if we were sharing it they would cut it in half for us but they didn't but  no big deal we cut it and shared the bun.  The actually bun was good but we felt that it needed more filling.  It was a lot more bun and less Oyster.  It was good but we have tasted better.\\n \\nOur Ramen came out about ten minutes later.  Our dishes looked really good and we were hungry.  My wife liked her dish and you can read her review on her Ramen.  My Ramen was good but not great.  The noodles were really good.  The broth warmed us up and was good but I felt it needed a little more salt or something to bring out more the flavors in my Ramen.  I'd give it a six out of ten.  I like the vegetable in my Ramen but the chicken looked a little funny to me and tasted funny too.  The Ramen filled me up and I was satisfied.  Not the best Ramen and maybe a little over priced but if your in the area and it's cold out this is a good spot to try out.\"]\n"
     ]
    }
   ],
   "source": [
    "# Draw an arbitrary review from test (unseen in training) documents\n",
    "random_number = 20\n",
    "search_query = [documentspitts_test[random_number]]\n",
    "print(search_query)"
   ]
  },
  {
   "cell_type": "code",
   "execution_count": 24,
   "metadata": {},
   "outputs": [],
   "source": [
    "# Transform the drawn resview(s) to vector(s)\n",
    "vector_search_query = tfidf_vectorizer.transform(search_query).toarray()\n",
    "\n",
    "# Calculate the similarity score(s) between vector(s) and training vectors\n",
    "similarity_scores = cosine_similarity(vector_search_query, vectors_train)"
   ]
  },
  {
   "cell_type": "code",
   "execution_count": 26,
   "metadata": {},
   "outputs": [
    {
     "data": {
      "text/plain": [
       "(14742, 2000)"
      ]
     },
     "execution_count": 26,
     "metadata": {},
     "output_type": "execute_result"
    }
   ],
   "source": [
    "vectors_train.shape"
   ]
  },
  {
   "cell_type": "code",
   "execution_count": 27,
   "metadata": {},
   "outputs": [
    {
     "data": {
      "text/plain": [
       "(34400, 2000)"
      ]
     },
     "execution_count": 27,
     "metadata": {},
     "output_type": "execute_result"
    }
   ],
   "source": [
    "vectors_test.shape"
   ]
  },
  {
   "cell_type": "code",
   "execution_count": 28,
   "metadata": {},
   "outputs": [
    {
     "data": {
      "text/plain": [
       "(1, 14742)"
      ]
     },
     "execution_count": 28,
     "metadata": {},
     "output_type": "execute_result"
    }
   ],
   "source": [
    "similarity_scores.shape "
   ]
  },
  {
   "cell_type": "code",
   "execution_count": 29,
   "metadata": {},
   "outputs": [],
   "source": [
    "# Let's find top 10 similar reviews\n",
    "n = 10\n",
    "top_similar_reviews = get_top_values(similarity_scores[0], n, documentspitts_train)"
   ]
  },
  {
   "cell_type": "code",
   "execution_count": null,
   "metadata": {},
   "outputs": [],
   "source": []
  },
  {
   "cell_type": "code",
   "execution_count": 30,
   "metadata": {},
   "outputs": [
    {
     "name": "stdout",
     "output_type": "stream",
     "text": [
      "Our search query:\n",
      "My wife and I came here on a freezing cold late Saturday afternoon.  We found street parking and rushed to get inside.  It wasn't too busy when we first got here.  We were greeted by the hostess and sat right down at a two seater.\n",
      "\n",
      " We had looked over the menu a little bit before we came here so we sort of knew what we wanted.  Our waitress was nice and she came over to ask us if we had ever been here before and if we would like her to explain the menu.  We let her and she did a good job explaining everything to us.\n",
      "\n",
      " We ordered their Meat Bao bun that had Oyster in it to start us off.  For our main dish I ordered the Shoyu Ramen and my wife got the Inferno Ramen.\n",
      " \n",
      "Our Bao came out within 10 minutes.  It looked good. Our waitress said that if we were sharing it they would cut it in half for us but they didn't but  no big deal we cut it and shared the bun.  The actually bun was good but we felt that it needed more filling.  It was a lot more bun and less Oyster.  It was good but we have tasted better.\n",
      " \n",
      "Our Ramen came out about ten minutes later.  Our dishes looked really good and we were hungry.  My wife liked her dish and you can read her review on her Ramen.  My Ramen was good but not great.  The noodles were really good.  The broth warmed us up and was good but I felt it needed a little more salt or something to bring out more the flavors in my Ramen.  I'd give it a six out of ten.  I like the vegetable in my Ramen but the chicken looked a little funny to me and tasted funny too.  The Ramen filled me up and I was satisfied.  Not the best Ramen and maybe a little over priced but if your in the area and it's cold out this is a good spot to try out.\n"
     ]
    }
   ],
   "source": [
    "print('Our search query:')\n",
    "print(search_query[0]) "
   ]
  },
  {
   "cell_type": "code",
   "execution_count": 31,
   "metadata": {},
   "outputs": [
    {
     "name": "stdout",
     "output_type": "stream",
     "text": [
      "query\n",
      "[\"My wife and I came here on a freezing cold late Saturday afternoon.  We found street parking and rushed to get inside.  It wasn't too busy when we first got here.  We were greeted by the hostess and sat right down at a two seater.\\n\\n We had looked over the menu a little bit before we came here so we sort of knew what we wanted.  Our waitress was nice and she came over to ask us if we had ever been here before and if we would like her to explain the menu.  We let her and she did a good job explaining everything to us.\\n\\n We ordered their Meat Bao bun that had Oyster in it to start us off.  For our main dish I ordered the Shoyu Ramen and my wife got the Inferno Ramen.\\n \\nOur Bao came out within 10 minutes.  It looked good. Our waitress said that if we were sharing it they would cut it in half for us but they didn't but  no big deal we cut it and shared the bun.  The actually bun was good but we felt that it needed more filling.  It was a lot more bun and less Oyster.  It was good but we have tasted better.\\n \\nOur Ramen came out about ten minutes later.  Our dishes looked really good and we were hungry.  My wife liked her dish and you can read her review on her Ramen.  My Ramen was good but not great.  The noodles were really good.  The broth warmed us up and was good but I felt it needed a little more salt or something to bring out more the flavors in my Ramen.  I'd give it a six out of ten.  I like the vegetable in my Ramen but the chicken looked a little funny to me and tasted funny too.  The Ramen filled me up and I was satisfied.  Not the best Ramen and maybe a little over priced but if your in the area and it's cold out this is a good spot to try out.\"]\n",
      "\n",
      "\n",
      "Most 10 similar reviews:\n",
      "#0:\n",
      "A great new ramen place in Pitt! The spicy miso ramen I got was delicious and had the depth of flavor in the broth that a ramen should have. The yakitori skewers were also really good!!\n",
      "#1:\n",
      "I read mixed reviews of Ki Ramen, but decided I had to try it out for myself.  We went in at lunch time and placed an order to go.  The staff were extremely friendly and helpful.  Our order was ready extraordinarily quickly. I ordered the Dan Dan ramen with the butter bomb and the vegetarian bao bun.  My partner had the inferno ramen and the meat bao bun.  He ordered a butter bomb in his ramen too but we were pretty sure they forgot to give it to him.  He also felt that the inferno ramen could be slightly spicier as the name leads you to believe.  Overall though we really really liked the food.  The house-made noodles were wonderful.  We really appreciated the thoughtful packaging of the to go order (broth separate from noodles and toppings) so that our food did not get soggy before we got a chance to eat it!  We will definitely be coming back to Ki Ramen!\n",
      "#2:\n",
      "I was extremely excited to take my family to get good ramen. Having lived in Korea and visited many parts of Japan, I was pretty disappointed with the quality of the ramen and ingredients used in our meal. First, the chasu wasn't real chasu. It was just steamed or boiled pork. Second, the noodles which should be the most important part of the ramen was sub quality and something they would never serve in Japan, not even at the $2 ramen stands.  Lastly, my wife's ramen lacked enough broth to cover the noodles, so we asked for more. Little did we know until the check had arrived, we were charged for the broth although it should have been part of the ramen in the first place. \n",
      "\n",
      "It isn't that I have high standards, I don't think many costumers coming to Ki Ramen has any idea what they should expect.\n",
      "#3:\n",
      "I am newly crowning Fujiya as the KING of RAMEN in Pittsburgh. I've been to every other ramen place in Pittsburgh, and the others just don't compare. Having lived in DC, NYC, and eaten ramen in Philly and Tokyo, as well as being Japanese-American, I know a thing or two when it comes to ramen. The ramen here is nearly up there among the best, which is saying a lot. The broth is so rich and the noodles are good. I tried the spicy miso ramen. Some criticism tho: the Chiar shu is TOO SMALL and TOO FEW. It's a tiny single slice. Also, couldn't hurt to have a bit more noodle for the price point. Otherwise, this place is definitely going to be my new go-to ramen joint.\n",
      "#4:\n",
      "Ramen can be the best to warm your insides on a cold, bitter day. There's certainly a lot of those days in Pittsburgh.\n",
      "\n",
      "I was pretty excited to find out about the Ramen Bar, and was recommended to come here by a few others. While the portions of noodles and broth, there was a lack of vegetables and meats. My Ramen Ramen dish had only a few bean sprouts a single slice of pork. It was great for flavoring the broth, but the meat itself was terribly overcooked.\n",
      "\n",
      "My partner ordered the seafood ramen, which for $4 more than my dish, and included only two shrimp and and two mussels. \n",
      "\n",
      "I also wish a spoon had been offered. I struggled to eat my ramen with chopsticks. While we were getting ready to leave, I saw everyone at the table next to ours ask for spoons and forks. I felt kinda silly not asking at that point, but a soupy dish is not easy to eat using chopsticks.\n",
      "\n",
      "I do applaud the quick service and the hot meal, but I'm curious if I could find a better local ramen place.\n",
      "#5:\n",
      "Funny, I have not actually gotten the frozen yogurt here, but I've been here multiple times for their ramen.  This review is for their ramen, and not their desserts.\n",
      "\n",
      "That said - this is probably the best ramen option in Pittsburgh right now.  I'd rank the ramen at i Tea Cafe a close #2 (if they remember to salt the broth), Grit and Grace #3, and Tan Izakaya and Ramen Bar a distant #4 or #5, depending on whether you consider not actually having ramen noodles in your ramen to be a greater sin than excessively MSG'ed broth.  All things considered it's a rather low bar to be the best ramen in Pittsburgh, but this yogurt place does a decent enough job of it and the prices are reasonable enough that I keep coming back.\n",
      "\n",
      "The noodles are fresh and come out with the right amount of springiness.  The toppings available to build your bowl are plentiful.  The pork belly is flavorful and tender.  The broth is well salted but their tonkotsu broth is lacking in richness.\n",
      "\n",
      "Service is relatively quick and informal, so it makes for a great lunch place.\n",
      "#6:\n",
      "After literally several years in development, this place is finally open! And not even as what it was originally advertised to be, which was Lanzhou noodles. This restaurant is now a solid Japanese ramen restaurant, which miscellaneous offerings of donburi, yakisoba, and apps. Somewhat interesting that it finally opens now, when ramen places are seemingly popping up all over Pittsburgh. From the price point and feel of the restaurant though, it seems more accurate to group it with the older places like Ramen Bar and Love Ramen (formerly Love Yogurt). The ramen bowls are priced at $10/11 and the ambience is quite casual, fitting in with most of the other Oakland restaurants nearby. For comparison, others like Ki Ramen or Yuzu Kitchen are more formal settings with more extensive menus and ramen bowls costing up to 50% more.\n",
      "\n",
      "The ramen selections here encompass the usual shio, shoyu, and miso varieties, where each item has different combinations of ingredients. They also have curry ramens as well as tan tan, kimchi, and seafood ones. When we came in it was late at night and no other customers were here (perhaps also because they just recently opened), so our ramens came out soon after ordering. It looked quite authentic--it contained all the ingredients promised on the menu, and the size was large enough to be quite filling. The broth was immediately impressive--very savory and decently thick, giving you a warm feeling in your whole body. The noodles were cooked just right and not too firm nor too soft. The chashu was extremely tender, with maybe just a bit more fat than I would've liked, but it was not a dealbreaker in any way. The runny egg was also cooked to perfection with the right consistency. In all these factors, this ramen solidly beats out Love Ramen and Ramen Bar, and is at the same time cheaper than some of the other places that I mentioned. The other ingredients in my bowl were the standard accompaniments and made the bowl delightful to finish.\n",
      "\n",
      "This is a great addition to Oakland, and I definitely look forward to coming back and trying more of their ramens and maybe non-noodle dishes as well.\n",
      "#7:\n",
      "Ki Ramen is awesome. I can't say enough about their ramen bowels. \n",
      "And my almost 3 year old is obsessed with \"stop to eat the big soup bowl of noodles\" place. Or just saying hello and waving to their diners at the open bar window down stairs who are slurping and/or cheering for them for their good taste in food. Or waving through the glass on Butler Street at the diners inside. My three year old is a character. He really loves soup. And people who choose to eat soup. We love Ki Ramen. \n",
      "\n",
      "Personally, I love the ramen bowl customized w a butter bomb, some extra chicken, and my egg held. Ki Ramen like all good Ramen places has you season your own bowl. Seasoning is on the table. It's the diners choice to decide how bland or spicy they prefer their experience. I love a good Ramen place that knows how to follow tradition. \n",
      "\n",
      "I am also OBSESSED with their buns. My only \"complaint\" is that their isn't multiple flavors of bins daily or that their best buns aren't on the menu each day. They're awesome. If I had a better idea what was expected, I'd plan around the bun to choose when to eat at Ki Ramen. As someone who eats very little meat, and mostly just chicken a couple times a month not knowing the Bun schedule makes choosing Ki Ramen buns for a meal difficult.  \n",
      "\n",
      "\n",
      "BUT- I only mentioned it because those little buns filled with goodies are so delicious and I just crave them all the time. I can't get enough!\n",
      "#8:\n",
      "Hmmm.... maybe I had an off night but was incredibly disappointed.\n",
      "\n",
      "Myself and 2 friends sat at the bar on a Thursday night.  We ordered drinks first, they were fine.\n",
      "\n",
      "Ordered the deviled eggs and the pancake.  Both were good, interesting flavors,  close to 4 stars.  \n",
      "\n",
      "I ordered the udon and my both ordered the tonkatsu ramen, add chili.  The udon was pretty good, 3 stars.  Knife cuts on the veg were very small so difficult to eat with a chopstick with the thick/heavier udon noodle.  One of my friends got the unagi hand roll and thought that was the best hung we ate (\"bomb.com\").\n",
      "\n",
      "The ramen deserves its own paragraph.  To levelset, we just got back from Japan and that is my standard. Regardless, I am beyond confused why some think this ramen is the best ramen in Pittsburgh.  The ramen broth was inedible. Basically drinking ocean water.  I guess some are considering that flavor? The meat on the bone is difficult to incorporate into the ramen with chopsticks.  It is nothing like the tonkatsu ramen we had in Tokyo and I will never be back for it.  Negative stars.  \n",
      "\n",
      "Overall giving 3 stars because appetizers were ok and our bartender did end up taking the ramen off of the menu.\n",
      "#9:\n",
      "Despite all of the attention lavished on the Pittsburgh food scene recently, we still can't get a decent bowl of ramen in this town. In the case of Tan Izakaya, the situation is worse because they don't even seem to know what proper ramen is.\n",
      "\n",
      "If you want ramen, don't eat here. We were served lukewarm spaghetti in a tasteless broth and were treated like idiots when we asked why they didn't use real ramen noodles. Soba and Udon are not used in any version of ramen. Period. Full stop. Their insistence that they're serving authentic ramen is as confusing as it is sad. \n",
      "\n",
      "In addition to the fact that it wasn't actually what anyone would consider ramen, it wasn't even a very good version of noodle soup. Bland broth with no depth of flavor served over slimy pasta. The pork seemed ok, but there was so little of it that if it had been bad, I'm not sure I would have been able to tell. \n",
      "\n",
      "I would--without hesitation--rather eat top ramen than what we were served. It was gross and hurt my feelings.\n"
     ]
    }
   ],
   "source": [
    "print('query')\n",
    "print(search_query)  \n",
    "\n",
    "print('\\n\\nMost %s similar reviews:' % n)\n",
    "for i, review in enumerate(top_similar_reviews):\n",
    "    print('#%s:' % i)\n",
    "    print(review)"
   ]
  },
  {
   "cell_type": "markdown",
   "metadata": {},
   "source": []
  },
  {
   "cell_type": "markdown",
   "metadata": {},
   "source": []
  },
  {
   "cell_type": "markdown",
   "metadata": {},
   "source": [
    "## Classifying positive/negative review"
   ]
  },
  {
   "cell_type": "markdown",
   "metadata": {},
   "source": [
    "#### Naive-Bayes Classifier"
   ]
  },
  {
   "cell_type": "code",
   "execution_count": 32,
   "metadata": {},
   "outputs": [
    {
     "data": {
      "text/plain": [
       "MultinomialNB(alpha=1.0, class_prior=None, fit_prior=True)"
      ]
     },
     "execution_count": 32,
     "metadata": {},
     "output_type": "execute_result"
    }
   ],
   "source": [
    "# Build a Naive-Bayes Classifier\n",
    "from sklearn.naive_bayes import MultinomialNB\n",
    "\n",
    "model_nb = MultinomialNB()\n",
    "\n",
    "model_nb.fit(vectors_train, targetpitts_train)"
   ]
  },
  {
   "cell_type": "code",
   "execution_count": 33,
   "metadata": {},
   "outputs": [
    {
     "data": {
      "text/plain": [
       "0.8036901370234704"
      ]
     },
     "execution_count": 33,
     "metadata": {},
     "output_type": "execute_result"
    }
   ],
   "source": [
    "# Get score for training set\n",
    "model_nb.score(vectors_train, targetpitts_train)"
   ]
  },
  {
   "cell_type": "code",
   "execution_count": 34,
   "metadata": {},
   "outputs": [
    {
     "data": {
      "text/plain": [
       "0.778546511627907"
      ]
     },
     "execution_count": 34,
     "metadata": {},
     "output_type": "execute_result"
    }
   ],
   "source": [
    "# Get score for test set\n",
    "model_nb.score(vectors_test, targetpitts_test)"
   ]
  },
  {
   "cell_type": "markdown",
   "metadata": {},
   "source": [
    "#### Logistic Regression Classifier"
   ]
  },
  {
   "cell_type": "code",
   "execution_count": 35,
   "metadata": {},
   "outputs": [
    {
     "data": {
      "text/plain": [
       "(14742,)"
      ]
     },
     "execution_count": 35,
     "metadata": {},
     "output_type": "execute_result"
    }
   ],
   "source": [
    "targetpitts_train.shape"
   ]
  },
  {
   "cell_type": "code",
   "execution_count": 36,
   "metadata": {},
   "outputs": [
    {
     "data": {
      "text/plain": [
       "LogisticRegression(C=1.0, class_weight=None, dual=False, fit_intercept=True,\n",
       "          intercept_scaling=1, max_iter=100, multi_class='ovr', n_jobs=1,\n",
       "          penalty='l2', random_state=None, solver='liblinear', tol=0.0001,\n",
       "          verbose=0, warm_start=False)"
      ]
     },
     "execution_count": 36,
     "metadata": {},
     "output_type": "execute_result"
    }
   ],
   "source": [
    "# Build a Logistic Regression Classifier\n",
    "\n",
    "from sklearn.linear_model import LogisticRegression\n",
    "\n",
    "model_lrc = LogisticRegression()\n",
    "model_lrc.fit(vectors_train, targetpitts_train)"
   ]
  },
  {
   "cell_type": "code",
   "execution_count": 38,
   "metadata": {},
   "outputs": [
    {
     "data": {
      "text/plain": [
       "0.8355718355718356"
      ]
     },
     "execution_count": 38,
     "metadata": {},
     "output_type": "execute_result"
    }
   ],
   "source": [
    "# Get score for training set\n",
    "model_lrc.score(vectors_train, targetpitts_train)"
   ]
  },
  {
   "cell_type": "code",
   "execution_count": 39,
   "metadata": {
    "scrolled": true
   },
   "outputs": [
    {
     "data": {
      "text/plain": [
       "0.7970639534883721"
      ]
     },
     "execution_count": 39,
     "metadata": {},
     "output_type": "execute_result"
    }
   ],
   "source": [
    "# Get score for test set\n",
    "model_lrc.score(vectors_test, targetpitts_test)"
   ]
  },
  {
   "cell_type": "markdown",
   "metadata": {},
   "source": [
    "#### Q: What are the key features(words) that make the positive prediction?"
   ]
  },
  {
   "cell_type": "code",
   "execution_count": 42,
   "metadata": {},
   "outputs": [
    {
     "data": {
      "text/plain": [
       "['amazing',\n",
       " 'best',\n",
       " 'delicious',\n",
       " 'great',\n",
       " 'incredible',\n",
       " 'awesome',\n",
       " 'excellent',\n",
       " 'fantastic',\n",
       " 'wonderful',\n",
       " 'perfect',\n",
       " 'everything',\n",
       " 'favorite',\n",
       " 'perfection',\n",
       " 'recommend',\n",
       " 'pittsburgh',\n",
       " 'absolutely',\n",
       " 'perfectly',\n",
       " 'thank',\n",
       " 'highly',\n",
       " 'must',\n",
       " 'gem',\n",
       " 'phenomenal',\n",
       " 'omg',\n",
       " 'every',\n",
       " 'everyone',\n",
       " 'love',\n",
       " 'outstanding',\n",
       " 'definitely',\n",
       " 'glad',\n",
       " 'life',\n",
       " 'loved',\n",
       " 'knowledgeable',\n",
       " 'pgh',\n",
       " 'world',\n",
       " 'vegan',\n",
       " 'owner',\n",
       " 'die',\n",
       " 'fabulous',\n",
       " 'bomb',\n",
       " 'heaven',\n",
       " 'oysters',\n",
       " 'notch',\n",
       " 'top',\n",
       " 'divine',\n",
       " 'ever',\n",
       " 'taiwanese',\n",
       " 'welcoming',\n",
       " 'chef',\n",
       " 'stuff',\n",
       " 'place']"
      ]
     },
     "execution_count": 42,
     "metadata": {},
     "output_type": "execute_result"
    }
   ],
   "source": [
    "# Let's find it out by ranking\n",
    "n = 50\n",
    "get_top_values(model_lrc.coef_[0], n, wordspitts)"
   ]
  },
  {
   "cell_type": "markdown",
   "metadata": {},
   "source": []
  },
  {
   "cell_type": "markdown",
   "metadata": {},
   "source": [
    "#### Q: What are the key features(words) that make the negative prediction?"
   ]
  },
  {
   "cell_type": "code",
   "execution_count": 48,
   "metadata": {},
   "outputs": [
    {
     "data": {
      "text/plain": [
       "['ok',\n",
       " 'however',\n",
       " 'okay',\n",
       " 'bland',\n",
       " 'average',\n",
       " 'worst',\n",
       " 'horrible',\n",
       " 'rude',\n",
       " 'dry',\n",
       " 'unfortunately',\n",
       " 'mediocre',\n",
       " 'terrible',\n",
       " 'disappointing',\n",
       " 'slow',\n",
       " 'pretty',\n",
       " 'would',\n",
       " 'overpriced',\n",
       " 'awful',\n",
       " 'though',\n",
       " 'nothing',\n",
       " 'used',\n",
       " 'reason',\n",
       " 'seemed',\n",
       " 'decent',\n",
       " 'said',\n",
       " 'bad',\n",
       " 'star',\n",
       " 'overall',\n",
       " 'told',\n",
       " 'lacking']"
      ]
     },
     "execution_count": 48,
     "metadata": {},
     "output_type": "execute_result"
    }
   ],
   "source": [
    "# Let's find it out by ranking\n",
    "n = 30\n",
    "get_bottom_values(model_lrc.coef_[0], n, wordspitts)\n"
   ]
  },
  {
   "cell_type": "markdown",
   "metadata": {},
   "source": []
  },
  {
   "cell_type": "markdown",
   "metadata": {},
   "source": [
    "#### Random Forest Classifier"
   ]
  },
  {
   "cell_type": "code",
   "execution_count": 50,
   "metadata": {},
   "outputs": [
    {
     "data": {
      "text/plain": [
       "RandomForestClassifier(bootstrap=True, class_weight=None, criterion='gini',\n",
       "            max_depth=25, max_features='auto', max_leaf_nodes=None,\n",
       "            min_impurity_decrease=0.0, min_impurity_split=None,\n",
       "            min_samples_leaf=1, min_samples_split=2,\n",
       "            min_weight_fraction_leaf=0.0, n_estimators=200, n_jobs=1,\n",
       "            oob_score=False, random_state=42, verbose=0, warm_start=False)"
      ]
     },
     "execution_count": 50,
     "metadata": {},
     "output_type": "execute_result"
    }
   ],
   "source": [
    "# Build a Random Forest Classifier\n",
    "\n",
    "from sklearn.ensemble import RandomForestClassifier\n",
    "model_rfc = RandomForestClassifier(max_depth = 25, n_estimators = 200, random_state = 42)\n",
    "\n",
    "model_rfc.fit(vectors_train, targetpitts_train)"
   ]
  },
  {
   "cell_type": "code",
   "execution_count": 51,
   "metadata": {},
   "outputs": [
    {
     "data": {
      "text/plain": [
       "0.9221950888617555"
      ]
     },
     "execution_count": 51,
     "metadata": {},
     "output_type": "execute_result"
    }
   ],
   "source": [
    "# Get score for training set\n",
    "model_rfc.score(vectors_train, targetpitts_train)"
   ]
  },
  {
   "cell_type": "code",
   "execution_count": 52,
   "metadata": {},
   "outputs": [
    {
     "data": {
      "text/plain": [
       "0.7656395348837209"
      ]
     },
     "execution_count": 52,
     "metadata": {},
     "output_type": "execute_result"
    }
   ],
   "source": [
    "# Get score for test set\n",
    "model_rfc.score(vectors_test, targetpitts_test)"
   ]
  },
  {
   "cell_type": "markdown",
   "metadata": {},
   "source": [
    "#### Q: What do you see from the training score and the test score?"
   ]
  },
  {
   "cell_type": "markdown",
   "metadata": {},
   "source": [
    "\n",
    "The trainng score and the test score are comparable, seems no negative impact of overfitting. \n",
    "\n",
    "And the scores fo Random forest are slightly better than Logistic regression. If the data size is larger, the advantage fo Random forest may be more obvious."
   ]
  },
  {
   "cell_type": "markdown",
   "metadata": {},
   "source": [
    "#### Q: Can you tell what features (words) are important by inspecting the RFC model?"
   ]
  },
  {
   "cell_type": "code",
   "execution_count": 54,
   "metadata": {},
   "outputs": [
    {
     "data": {
      "text/plain": [
       "['amazing',\n",
       " 'best',\n",
       " 'great',\n",
       " 'delicious',\n",
       " 'pittsburgh',\n",
       " 'ok',\n",
       " 'excellent',\n",
       " 'would',\n",
       " 'fantastic',\n",
       " 'good',\n",
       " 'awesome',\n",
       " 'pretty',\n",
       " 'highly',\n",
       " 'ordered',\n",
       " 'love',\n",
       " 'however',\n",
       " 'favorite',\n",
       " 'recommend',\n",
       " 'bad',\n",
       " 'minutes',\n",
       " 'told',\n",
       " 'perfect',\n",
       " 'nothing',\n",
       " 'everything',\n",
       " 'definitely',\n",
       " 'like',\n",
       " 'asked',\n",
       " 'bland',\n",
       " 'average',\n",
       " 'worst',\n",
       " 'terrible',\n",
       " 'friendly',\n",
       " 'decent',\n",
       " 'wonderful',\n",
       " 'always',\n",
       " 'place',\n",
       " 'said',\n",
       " 'fresh',\n",
       " 'slow',\n",
       " 'seemed',\n",
       " 'horrible',\n",
       " 'dry',\n",
       " 'okay',\n",
       " 'disappointing',\n",
       " 'though',\n",
       " 'rude',\n",
       " 'bit',\n",
       " 'order',\n",
       " 'incredible',\n",
       " 'food']"
      ]
     },
     "execution_count": 54,
     "metadata": {},
     "output_type": "execute_result"
    }
   ],
   "source": [
    "n = 50\n",
    "get_top_values(model_rfc.feature_importances_, n, wordspitts)"
   ]
  },
  {
   "cell_type": "markdown",
   "metadata": {},
   "source": [
    "##  Use cross validation to evaluate your classifiers\n",
    "\n",
    "[sklearn cross validation](http://scikit-learn.org/stable/modules/cross_validation.html)"
   ]
  },
  {
   "cell_type": "code",
   "execution_count": 55,
   "metadata": {},
   "outputs": [],
   "source": [
    "# Import metrics functions from sklearn\n",
    "from sklearn.metrics import precision_score, accuracy_score, recall_score, f1_score, roc_auc_score"
   ]
  },
  {
   "cell_type": "code",
   "execution_count": 56,
   "metadata": {},
   "outputs": [],
   "source": [
    "# define function to perform train, test, and get model performance\n",
    "def train_test_model(clf, X_train, y_train, X_test, y_test):\n",
    "    # Fit a model by providing X and y from training set\n",
    "#    clf.fit(X_train, y_train)\n",
    "# fitted outside already\n",
    "\n",
    "    # Make prediction on the training data\n",
    "    y_train_pred = clf.predict(X_train)\n",
    "    p_train_pred = clf.predict_proba(X_train)[:,1]\n",
    "\n",
    "    # Make predictions on test data\n",
    "    y_test_pred = clf.predict(X_test)\n",
    "    p_test_pred = clf.predict_proba(X_test)[:,1]\n",
    "\n",
    "    # print model results\n",
    "    get_performance_metrics(y_train, p_train_pred, y_test, p_test_pred)\n",
    "    plot_roc_curve(y_train, p_train_pred, y_test, p_test_pred)"
   ]
  },
  {
   "cell_type": "code",
   "execution_count": 57,
   "metadata": {},
   "outputs": [],
   "source": [
    "import pandas as pd\n",
    "# Helper method to print metric scores    \n",
    "def get_performance_metrics(y_train, y_train_pred, y_test, y_test_pred, threshold=0.5):\n",
    "    metric_names = ['AUC','Accuracy','Precision','Recall','f1-score']\n",
    "    metric_values_train = [roc_auc_score(y_train, y_train_pred),\n",
    "                    accuracy_score(y_train, y_train_pred>threshold),\n",
    "                    precision_score(y_train, y_train_pred>threshold),\n",
    "                    recall_score(y_train, y_train_pred>threshold),\n",
    "                    f1_score(y_train, y_train_pred>threshold)\n",
    "                   ]\n",
    "    metric_values_test = [roc_auc_score(y_test, y_test_pred),\n",
    "                    accuracy_score(y_test, y_test_pred>threshold),\n",
    "                    precision_score(y_test, y_test_pred>threshold),\n",
    "                    recall_score(y_test, y_test_pred>threshold),\n",
    "                    f1_score(y_test, y_test_pred>threshold)\n",
    "                   ]\n",
    "    all_metrics = pd.DataFrame({'metrics':metric_names,\n",
    "                                'train':metric_values_train,\n",
    "                                'test':metric_values_test},columns=['metrics','train','test']).set_index('metrics')\n",
    "    print(all_metrics)"
   ]
  },
  {
   "cell_type": "code",
   "execution_count": 58,
   "metadata": {},
   "outputs": [],
   "source": [
    "%matplotlib inline\n",
    "import matplotlib.pyplot as plt\n",
    "from sklearn.metrics import roc_curve, auc\n",
    "\n",
    "def plot_roc_curve(y_train, y_train_pred, y_test, y_test_pred):\n",
    "    roc_auc_train = roc_auc_score(y_train, y_train_pred)\n",
    "    fpr_train, tpr_train, _ = roc_curve(y_train, y_train_pred)\n",
    "\n",
    "    roc_auc_test = roc_auc_score(y_test, y_test_pred)\n",
    "    fpr_test, tpr_test, _ = roc_curve(y_test, y_test_pred)\n",
    "    plt.figure()\n",
    "    lw = 2\n",
    "    plt.plot(fpr_train, tpr_train, color='green',\n",
    "             lw=lw, label='ROC Train (AUC = %0.4f)' % roc_auc_train)\n",
    "    plt.plot(fpr_test, tpr_test, color='darkorange',\n",
    "             lw=lw, label='ROC Test (AUC = %0.4f)' % roc_auc_test)\n",
    "    plt.plot([0, 1], [0, 1], color='navy', lw=lw, linestyle='--')\n",
    "    plt.xlim([0.0, 1.0])\n",
    "    plt.ylim([0.0, 1.05])\n",
    "    plt.xlabel('False Positive Rate')\n",
    "    plt.ylabel('True Positive Rate')\n",
    "    plt.title('Receiver operating characteristic example')\n",
    "    plt.legend(loc=\"lower right\")\n",
    "    plt.show()"
   ]
  },
  {
   "cell_type": "markdown",
   "metadata": {},
   "source": [
    "#### cross validation for Logistic Regression "
   ]
  },
  {
   "cell_type": "code",
   "execution_count": 59,
   "metadata": {},
   "outputs": [
    {
     "data": {
      "text/plain": [
       "LogisticRegressionCV(Cs=10, class_weight=None, cv=None, dual=False,\n",
       "           fit_intercept=True, intercept_scaling=1.0, max_iter=100,\n",
       "           multi_class='ovr', n_jobs=1, penalty='l2', random_state=None,\n",
       "           refit=True, scoring=None, solver='lbfgs', tol=0.0001, verbose=0)"
      ]
     },
     "execution_count": 59,
     "metadata": {},
     "output_type": "execute_result"
    }
   ],
   "source": [
    "from sklearn.linear_model import LogisticRegressionCV\n",
    "\n",
    "model_lrc_cv = LogisticRegressionCV(10)\n",
    "\n",
    "model_lrc_cv.fit(vectors_train, targetpitts_train)"
   ]
  },
  {
   "cell_type": "code",
   "execution_count": 60,
   "metadata": {},
   "outputs": [
    {
     "name": "stdout",
     "output_type": "stream",
     "text": [
      "              train      test\n",
      "metrics                      \n",
      "AUC        0.926935  0.878283\n",
      "Accuracy   0.845204  0.792878\n",
      "Precision  0.822777  0.764301\n",
      "Recall     0.817868  0.753461\n",
      "f1-score   0.820315  0.758842\n"
     ]
    },
    {
     "data": {
      "image/png": "[encoded data removed]",
      "text/plain": [
       "<Figure size 432x288 with 1 Axes>"
      ]
     },
     "metadata": {
      "needs_background": "light"
     },
     "output_type": "display_data"
    }
   ],
   "source": [
    "# Train test model\n",
    "train_test_model(model_lrc_cv, vectors_train, targetpitts_train, vectors_test, targetpitts_test)\n"
   ]
  },
  {
   "cell_type": "markdown",
   "metadata": {},
   "source": [
    "#### Random Forest has no need to do cross-validation, we use build-in out-of-bag scores"
   ]
  },
  {
   "cell_type": "code",
   "execution_count": 62,
   "metadata": {},
   "outputs": [
    {
     "data": {
      "text/plain": [
       "RandomForestClassifier(bootstrap=True, class_weight=None, criterion='gini',\n",
       "            max_depth=25, max_features='auto', max_leaf_nodes=None,\n",
       "            min_impurity_decrease=0.0, min_impurity_split=None,\n",
       "            min_samples_leaf=1, min_samples_split=2,\n",
       "            min_weight_fraction_leaf=0.0, n_estimators=40, n_jobs=1,\n",
       "            oob_score=True, random_state=42, verbose=0, warm_start=False)"
      ]
     },
     "execution_count": 62,
     "metadata": {},
     "output_type": "execute_result"
    }
   ],
   "source": [
    "# Build a Random Forest Classifier with oob_score\n",
    "\n",
    "model_rfc_oob = RandomForestClassifier(oob_score = True, max_depth = 25, n_estimators = 40, random_state = 42)\n",
    "\n",
    "model_rfc_oob.fit(vectors_train, targetpitts_train)"
   ]
  },
  {
   "cell_type": "code",
   "execution_count": 64,
   "metadata": {},
   "outputs": [
    {
     "name": "stdout",
     "output_type": "stream",
     "text": [
      "              train      test\n",
      "metrics                      \n",
      "AUC        0.977830  0.844752\n",
      "Accuracy   0.914801  0.760407\n",
      "Precision  0.917388  0.764088\n",
      "Recall     0.882242  0.645248\n",
      "f1-score   0.899472  0.699657\n"
     ]
    },
    {
     "data": {
      "image/png": "[encoded data removed]",
      "text/plain": [
       "<Figure size 432x288 with 1 Axes>"
      ]
     },
     "metadata": {
      "needs_background": "light"
     },
     "output_type": "display_data"
    }
   ],
   "source": [
    "# Train test model\n",
    "train_test_model(model_rfc_oob, vectors_train, targetpitts_train, vectors_test, targetpitts_test)"
   ]
  },
  {
   "cell_type": "markdown",
   "metadata": {},
   "source": [
    "## Use grid search to find best predictable classifier\n",
    "\n",
    "\n",
    "[sklearn grid search tutorial (with cross validation)](http://scikit-learn.org/stable/modules/grid_search.html#grid-search)\n",
    "\n",
    "[sklearn grid search documentation (with cross validation)](http://scikit-learn.org/stable/modules/generated/sklearn.model_selection.GridSearchCV.html#sklearn.model_selection.GridSearchCV)"
   ]
  },
  {
   "cell_type": "markdown",
   "metadata": {},
   "source": [
    "### Calculate the metric scores for the model"
   ]
  },
  {
   "cell_type": "markdown",
   "metadata": {},
   "source": [
    "###  Use grid search to find best Logistic Regression classifier"
   ]
  },
  {
   "cell_type": "code",
   "execution_count": 66,
   "metadata": {},
   "outputs": [
    {
     "data": {
      "text/plain": [
       "LogisticRegression(C=1.0, class_weight=None, dual=False, fit_intercept=True,\n",
       "          intercept_scaling=1, max_iter=100, multi_class='ovr', n_jobs=1,\n",
       "          penalty='l2', random_state=None, solver='liblinear', tol=0.0001,\n",
       "          verbose=0, warm_start=False)"
      ]
     },
     "execution_count": 66,
     "metadata": {},
     "output_type": "execute_result"
    }
   ],
   "source": [
    "from sklearn.metrics import make_scorer, roc_auc_score, accuracy_score\n",
    "from sklearn.model_selection import GridSearchCV\n",
    "\n",
    "# Choose the type of classifier. \n",
    "model_lrc_grid = LogisticRegression()\n",
    "\n",
    "# Choose some parameter combinations to try\n",
    "param_grid_lrc = {\n",
    "                 'penalty': ['l1', 'l2']\n",
    "             }\n",
    "\n",
    "# Type of scoring used to compare parameter combinations\n",
    "acc_scorer = make_scorer(roc_auc_score)\n",
    "\n",
    "# Run the grid search\n",
    "# read theory\n",
    "grid_lrc = GridSearchCV(model_lrc_grid, param_grid_lrc, cv=5, scoring=acc_scorer)\n",
    "grid_lrc = grid_lrc.fit(vectors_train, targetpitts_train)\n",
    "\n",
    "# Set the model_lrc_grid to the best combination of parameters\n",
    "model_lrc_grid = grid_lrc.best_estimator_\n",
    "\n",
    "# Fit the best algorithm to the data. \n",
    "model_lrc_grid.fit(vectors_train, targetpitts_train)"
   ]
  },
  {
   "cell_type": "code",
   "execution_count": 67,
   "metadata": {},
   "outputs": [
    {
     "name": "stdout",
     "output_type": "stream",
     "text": [
      "              train      test\n",
      "metrics                      \n",
      "AUC        0.918081  0.881900\n",
      "Accuracy   0.835572  0.797064\n",
      "Precision  0.816461  0.775176\n",
      "Recall     0.799027  0.747614\n",
      "f1-score   0.807650  0.761146\n"
     ]
    },
    {
     "data": {
      "image/png": "[encoded data removed]",
      "text/plain": [
       "<Figure size 432x288 with 1 Axes>"
      ]
     },
     "metadata": {
      "needs_background": "light"
     },
     "output_type": "display_data"
    }
   ],
   "source": [
    "# Train test model\n",
    "train_test_model(model_lrc_grid, vectors_train, targetpitts_train, vectors_test, targetpitts_test)"
   ]
  },
  {
   "cell_type": "markdown",
   "metadata": {},
   "source": [
    "#### The performance of the best logistic regression with grid search is close to those of logistic regression without grid research and logistic regression with cross validation."
   ]
  },
  {
   "cell_type": "markdown",
   "metadata": {},
   "source": [
    "###  Use grid search to find best Random Forest classifier"
   ]
  },
  {
   "cell_type": "code",
   "execution_count": 69,
   "metadata": {},
   "outputs": [
    {
     "data": {
      "text/plain": [
       "RandomForestClassifier(bootstrap=True, class_weight=None, criterion='gini',\n",
       "            max_depth=25, max_features='auto', max_leaf_nodes=None,\n",
       "            min_impurity_decrease=0.0, min_impurity_split=None,\n",
       "            min_samples_leaf=10, min_samples_split=2,\n",
       "            min_weight_fraction_leaf=0.0, n_estimators=40, n_jobs=-1,\n",
       "            oob_score=False, random_state=None, verbose=0,\n",
       "            warm_start=False)"
      ]
     },
     "execution_count": 69,
     "metadata": {},
     "output_type": "execute_result"
    }
   ],
   "source": [
    "# Choose the type of classifier. \n",
    "model_rfc_grid = RandomForestClassifier()\n",
    "\n",
    "# Choose some parameter combinations to try\n",
    "param_grid_rfc = {'n_estimators': [20, 40], \n",
    "              'max_features': ['auto'], \n",
    "              'criterion': ['gini'],\n",
    "              'max_depth': [20,25], \n",
    "              'min_samples_split': [2],\n",
    "              'min_samples_leaf': [10,20],\n",
    "              'n_jobs':[-1]\n",
    "             }\n",
    "\n",
    "# Type of scoring used to compare parameter combinations\n",
    "acc_scorer = make_scorer(roc_auc_score)\n",
    "\n",
    "# Run the grid search\n",
    "# read theory\n",
    "grid_obj_rfc = GridSearchCV(model_rfc_grid, param_grid_rfc, cv=5, scoring=acc_scorer)\n",
    "grid_obj_rfc = grid_obj_rfc.fit(vectors_train, targetpitts_train)\n",
    "\n",
    "# Set the model_rfc_grid to the best combination of parameters\n",
    "model_rfc_grid = grid_obj_rfc.best_estimator_\n",
    "\n",
    "# Fit the best algorithm to the data. \n",
    "model_rfc_grid.fit(vectors_train, targetpitts_train)"
   ]
  },
  {
   "cell_type": "code",
   "execution_count": 71,
   "metadata": {},
   "outputs": [
    {
     "name": "stdout",
     "output_type": "stream",
     "text": [
      "              train      test\n",
      "metrics                      \n",
      "AUC        0.903189  0.842894\n",
      "Accuracy   0.808778  0.758140\n",
      "Precision  0.820860  0.768155\n",
      "Recall     0.712985  0.631335\n",
      "f1-score   0.763129  0.693057\n"
     ]
    },
    {
     "data": {
      "image/png": "[encoded data removed]",
      "text/plain": [
       "<Figure size 432x288 with 1 Axes>"
      ]
     },
     "metadata": {
      "needs_background": "light"
     },
     "output_type": "display_data"
    }
   ],
   "source": [
    "# Train test model\n",
    "train_test_model(model_rfc_grid, vectors_train, targetpitts_train, vectors_test, targetpitts_test)"
   ]
  },
  {
   "cell_type": "markdown",
   "metadata": {},
   "source": [
    "#### The performance of the best random forest with grid search is close to those of random forest without grid research and random forest with oob_score."
   ]
  },
  {
   "cell_type": "markdown",
   "metadata": {},
   "source": [
    "# NLP for Las Vegas"
   ]
  },
  {
   "cell_type": "code",
   "execution_count": 77,
   "metadata": {},
   "outputs": [
    {
     "data": {
      "text/plain": [
       "array([ True,  True, False,  True, False])"
      ]
     },
     "execution_count": 77,
     "metadata": {},
     "output_type": "execute_result"
    }
   ],
   "source": [
    "dflas['target'] = dflas['stars'] == 5\n",
    "targetlas = dflas['target'].values\n",
    "targetlas[:5]"
   ]
  },
  {
   "cell_type": "code",
   "execution_count": 79,
   "metadata": {},
   "outputs": [
    {
     "data": {
      "text/plain": [
       "0.49467377923676653"
      ]
     },
     "execution_count": 79,
     "metadata": {},
     "output_type": "execute_result"
    }
   ],
   "source": [
    "dflas.target.mean()\n",
    "# higher than pittsburgh"
   ]
  },
  {
   "cell_type": "code",
   "execution_count": 82,
   "metadata": {},
   "outputs": [],
   "source": [
    "documentslas_train, documentslas_test, targetlas_train, targetlas_test = train_test_split(\n",
    "    documentslas, targetlas, test_size = 0.7, random_state = 42)"
   ]
  },
  {
   "cell_type": "code",
   "execution_count": 83,
   "metadata": {},
   "outputs": [],
   "source": [
    "# Create TfidfVectorizer, and name it vectorizer\n",
    "tfidf_vectorizer = TfidfVectorizer(stop_words = stopwords.words('english'), max_features=2000)\n",
    "\n",
    "# Train the model with training data\n",
    "vectors_train = tfidf_vectorizer.fit_transform(documentslas_train).toarray()\n",
    "\n",
    "# Get the vocab of tfidf\n",
    "wordslas = tfidf_vectorizer.get_feature_names()\n",
    "\n",
    "# Use the trained model to transform test data\n",
    "vectors_test = tfidf_vectorizer.transform(documentslas_test).toarray()"
   ]
  },
  {
   "cell_type": "code",
   "execution_count": 84,
   "metadata": {},
   "outputs": [
    {
     "name": "stdout",
     "output_type": "stream",
     "text": [
      "['Prime is one of my favorite places in town. I\\'ve been here dozens of times and each visit has been exquisite. I always say, that for some reason, the staff at Prime seem to read my mind. Every detail here seems to be meticulously planned and executed. From the smooth, attentive, yet unobtrusive service to the sublimely prepared seafood platters or the stunning cuts of beef paired with wonderful selection of sauces and sides, I thoroughly enjoy every second here. What I love the most is that the wait staff make us feel like a million bucks from the second we are received. They never say \"no\". Everything can be arranged, customized or put together. I absolutely adore coming here and will most definitely continue to do so in the future.']\n"
     ]
    }
   ],
   "source": [
    "random_number = 20\n",
    "search_query = [documentslas_test[random_number]]\n",
    "print(search_query)\n",
    "# shorter than pitt???"
   ]
  },
  {
   "cell_type": "code",
   "execution_count": 91,
   "metadata": {},
   "outputs": [],
   "source": [
    "vector_search_query = tfidf_vectorizer.transform(search_query).toarray()\n",
    "\n",
    "# Calculate the similarity score(s) between vector(s) and training vectors\n",
    "similarity_scores = cosine_similarity(vector_search_query, vectors_train)"
   ]
  },
  {
   "cell_type": "code",
   "execution_count": 93,
   "metadata": {},
   "outputs": [],
   "source": [
    "n = 10\n",
    "top_similar_reviews = get_top_values(similarity_scores[0], n, documentslas_train)"
   ]
  },
  {
   "cell_type": "code",
   "execution_count": 94,
   "metadata": {},
   "outputs": [
    {
     "name": "stdout",
     "output_type": "stream",
     "text": [
      "query\n",
      "['Prime is one of my favorite places in town. I\\'ve been here dozens of times and each visit has been exquisite. I always say, that for some reason, the staff at Prime seem to read my mind. Every detail here seems to be meticulously planned and executed. From the smooth, attentive, yet unobtrusive service to the sublimely prepared seafood platters or the stunning cuts of beef paired with wonderful selection of sauces and sides, I thoroughly enjoy every second here. What I love the most is that the wait staff make us feel like a million bucks from the second we are received. They never say \"no\". Everything can be arranged, customized or put together. I absolutely adore coming here and will most definitely continue to do so in the future.']\n",
      "\n",
      "\n",
      "Most 10 similar reviews:\n",
      "#0:\n",
      "This place is amazingly good and the service is just amazing! Coming here for the second time never amazes me! Will be coming back again and again in the future!\n",
      "#1:\n",
      "Best. Prime. Rib. Ever! Period, hands down, no competition! Have been coming to Lawry's 30+ years ever since I was a little kid and it has always been an outstanding meal each and every time. There is literally no better place for prime rib, Lawry's wrote the book on this! The service is always spectacular, the atmosphere is nice, and the food (the most important part) is always exceptional. From the spinning salad to their amazing beef to all the wonderful sides, everything at Lawry's is always spectacular. I look forward to going there whenever I am in the area and I recommend it whole hardheartedly to everyone I know who is a fan of prime rib! It has been around this long for a reason, and they are the best when it comes to prime rib! Even the Las Vegas location is as good as the original location that started long ago in Los Angeles. Always nice to know it is an option when I'm in Vegas!\n",
      "#2:\n",
      "I have nothing negative to say about  this place it's absolutely fantastic. I have been to this location a few times and have never had any problems service is great the staff is wonderful there always very friendly and helpful the Gyro's are absolutely fantastic. Definitely a place you should stop in and check out its a spot I definitely will continue to go back to over and over again.\n",
      "#3:\n",
      "One of my favorite places in town. Love the service, the staff there are awesome, and the food is amazing.\n",
      "#4:\n",
      "Lobster tail and Prime rib for 50 bucks! The food was great. I've had better prime rib but it was still really good. I will absolutely return. You definitely get your money's worth here.\n",
      "#5:\n",
      "You look all over for a good prime rib in Vegas everyone's got it put this prime rib is the most succulent I've ever had it is certain the plate that is filled with ah juice it is the most fabulous Prime ribs I've ever had if you want to make the trip up the Southpoint which is not that far from downtown hit the Prime Cut at Southpoint you love it plus is not a bad Hotel they have a huge bowling alley movie theater and they're supposed to die for enjoy your vacation\n",
      "#6:\n",
      "Been here 3x now. Love, love, love! Entire staff with every visit--wonderful, pleasant and attentive. Owner goes through the entire restaurant and personally check on every patron to make sure everything is good and make you feel like family. She knows what she's doing. My first Filipino Gastropub-APPROVE! Wishing your establishment great continued success!\n",
      "#7:\n",
      "Amazing food. \n",
      "Great staff.\n",
      "\n",
      "Prime times are busy so be prepared and plan accordingly. \n",
      "\n",
      "Big Cheese ( add bacon ) is stellar.\n",
      "#8:\n",
      "This is such a great restaurant I can't really put it all in a review. I've been here three times and every time I'm just blown away by all of it. You cannot go wrong with Prime. The seafood tower appetizer is seriously incredible I get it every time I come here. Everything on the menu is absolutely amazing. Waiters are awesome. Highly recommend!\n",
      "#9:\n",
      "This restaurant is now my absolute favorite prime rib place. My husband and I are visiting from Hawai'i and celebrated our anniversary by having dinner here.  Every staff member we encountered was wonderful. They were very professional and attentive to out needs.  The food was amazing. From the appetizers , to our 14oz prime rib was heavenly, and perfectly prepared. We had the sizzling apple caramel pie with vanilla bean ice cream for Dessert and it was so delish!\n"
     ]
    }
   ],
   "source": [
    "print('query')\n",
    "print(search_query)  \n",
    "\n",
    "print('\\n\\nMost %s similar reviews:' % n)\n",
    "for i, review in enumerate(top_similar_reviews):\n",
    "    print('#%s:' % i)\n",
    "    print(review)"
   ]
  },
  {
   "cell_type": "code",
   "execution_count": 85,
   "metadata": {},
   "outputs": [
    {
     "data": {
      "text/plain": [
       "LogisticRegression(C=1.0, class_weight=None, dual=False, fit_intercept=True,\n",
       "          intercept_scaling=1, max_iter=100, multi_class='ovr', n_jobs=1,\n",
       "          penalty='l2', random_state=None, solver='liblinear', tol=0.0001,\n",
       "          verbose=0, warm_start=False)"
      ]
     },
     "execution_count": 85,
     "metadata": {},
     "output_type": "execute_result"
    }
   ],
   "source": [
    "model_lrc = LogisticRegression()\n",
    "model_lrc.fit(vectors_train, targetlas_train)"
   ]
  },
  {
   "cell_type": "code",
   "execution_count": 87,
   "metadata": {},
   "outputs": [
    {
     "data": {
      "text/plain": [
       "0.8421556558610314"
      ]
     },
     "execution_count": 87,
     "metadata": {},
     "output_type": "execute_result"
    }
   ],
   "source": [
    "model_lrc.score(vectors_train, targetlas_train)"
   ]
  },
  {
   "cell_type": "code",
   "execution_count": 88,
   "metadata": {},
   "outputs": [
    {
     "data": {
      "text/plain": [
       "0.8347382613283311"
      ]
     },
     "execution_count": 88,
     "metadata": {},
     "output_type": "execute_result"
    }
   ],
   "source": [
    "model_lrc.score(vectors_test, targetlas_test)"
   ]
  },
  {
   "cell_type": "code",
   "execution_count": 89,
   "metadata": {},
   "outputs": [
    {
     "data": {
      "text/plain": [
       "['amazing',\n",
       " 'best',\n",
       " 'awesome',\n",
       " 'thank',\n",
       " 'delicious',\n",
       " 'incredible',\n",
       " 'perfect',\n",
       " 'fantastic',\n",
       " 'heaven',\n",
       " 'excellent',\n",
       " 'perfection',\n",
       " 'highly',\n",
       " 'great',\n",
       " 'phenomenal',\n",
       " 'regret',\n",
       " 'love',\n",
       " 'favorite',\n",
       " 'die',\n",
       " 'outstanding',\n",
       " 'everything',\n",
       " 'exceptional',\n",
       " 'bomb',\n",
       " 'perfectly',\n",
       " 'every',\n",
       " 'omg',\n",
       " 'holy',\n",
       " 'deserves',\n",
       " 'notch',\n",
       " 'glad',\n",
       " 'soooo',\n",
       " 'beyond',\n",
       " 'absolutely',\n",
       " 'reasonably',\n",
       " 'impeccable',\n",
       " 'fabulous',\n",
       " 'thanks',\n",
       " 'personable',\n",
       " 'wonderful',\n",
       " 'sooo',\n",
       " 'loved',\n",
       " 'wow',\n",
       " 'superb',\n",
       " 'gem',\n",
       " 'definitely',\n",
       " 'life',\n",
       " 'blown',\n",
       " 'lived',\n",
       " 'five',\n",
       " 'hands',\n",
       " 'ever']"
      ]
     },
     "execution_count": 89,
     "metadata": {},
     "output_type": "execute_result"
    }
   ],
   "source": [
    "# Let's find it out by ranking\n",
    "n = 50\n",
    "get_top_values(model_lrc.coef_[0], n, wordslas)"
   ]
  },
  {
   "cell_type": "code",
   "execution_count": 90,
   "metadata": {},
   "outputs": [
    {
     "data": {
      "text/plain": [
       "['worst',\n",
       " 'horrible',\n",
       " 'ok',\n",
       " 'rude',\n",
       " 'mediocre',\n",
       " 'disappointing',\n",
       " 'terrible',\n",
       " 'okay',\n",
       " 'slow',\n",
       " 'bland',\n",
       " 'however',\n",
       " 'reason',\n",
       " 'poor',\n",
       " 'meh',\n",
       " 'awful',\n",
       " 'lacking',\n",
       " 'disgusting',\n",
       " 'worse',\n",
       " 'decent',\n",
       " 'disappointment',\n",
       " 'overpriced',\n",
       " 'average',\n",
       " 'unfortunately',\n",
       " 'lacked',\n",
       " 'dry',\n",
       " 'bad',\n",
       " 'sucks',\n",
       " 'alright',\n",
       " 'nothing',\n",
       " 'gross']"
      ]
     },
     "execution_count": 90,
     "metadata": {},
     "output_type": "execute_result"
    }
   ],
   "source": [
    "# Let's find it out by ranking\n",
    "n = 30\n",
    "get_bottom_values(model_lrc.coef_[0], n, wordslas)"
   ]
  },
  {
   "cell_type": "code",
   "execution_count": null,
   "metadata": {},
   "outputs": [],
   "source": []
  }
 ],
 "metadata": {
  "anaconda-cloud": {},
  "kernelspec": {
   "display_name": "Python 3",
   "language": "python",
   "name": "python3"
  },
  "language_info": {
   "codemirror_mode": {
    "name": "ipython",
    "version": 3
   },
   "file_extension": ".py",
   "mimetype": "text/x-python",
   "name": "python",
   "nbconvert_exporter": "python",
   "pygments_lexer": "ipython3",
   "version": "3.6.8"
  }
 },
 "nbformat": 4,
 "nbformat_minor": 2
}
