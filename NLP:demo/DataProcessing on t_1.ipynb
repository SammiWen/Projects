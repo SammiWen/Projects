{
 "cells": [
  {
   "cell_type": "markdown",
   "metadata": {},
   "source": [
    "# Data processing on Twitter data"
   ]
  },
  {
   "cell_type": "code",
   "execution_count": 1,
   "metadata": {},
   "outputs": [],
   "source": [
    "import pandas as pd\n",
    "pd.set_option('display.max_columns', None)"
   ]
  },
  {
   "cell_type": "code",
   "execution_count": 2,
   "metadata": {},
   "outputs": [],
   "source": [
    "raw = pd.read_csv('data/twitter_1.csv')"
   ]
  },
  {
   "cell_type": "code",
   "execution_count": 5,
   "metadata": {},
   "outputs": [
    {
     "data": {
      "text/plain": [
       "(196, 11)"
      ]
     },
     "execution_count": 5,
     "metadata": {},
     "output_type": "execute_result"
    }
   ],
   "source": [
    "raw.shape"
   ]
  },
  {
   "cell_type": "code",
   "execution_count": 6,
   "metadata": {},
   "outputs": [
    {
     "data": {
      "text/html": [
       "<div>\n",
       "<style scoped>\n",
       "    .dataframe tbody tr th:only-of-type {\n",
       "        vertical-align: middle;\n",
       "    }\n",
       "\n",
       "    .dataframe tbody tr th {\n",
       "        vertical-align: top;\n",
       "    }\n",
       "\n",
       "    .dataframe thead th {\n",
       "        text-align: right;\n",
       "    }\n",
       "</style>\n",
       "<table border=\"1\" class=\"dataframe\">\n",
       "  <thead>\n",
       "    <tr style=\"text-align: right;\">\n",
       "      <th></th>\n",
       "      <th>web-scraper-order</th>\n",
       "      <th>web-scraper-start-url</th>\n",
       "      <th>handle</th>\n",
       "      <th>name</th>\n",
       "      <th>content</th>\n",
       "      <th>replies</th>\n",
       "      <th>retweets</th>\n",
       "      <th>favorites</th>\n",
       "      <th>unix_timestamp</th>\n",
       "      <th>published_date</th>\n",
       "      <th>url</th>\n",
       "    </tr>\n",
       "  </thead>\n",
       "  <tbody>\n",
       "    <tr>\n",
       "      <th>0</th>\n",
       "      <td>1554395284-218</td>\n",
       "      <td>https://twitter.com/search?l=&amp;q=%40DrSquatchSo...</td>\n",
       "      <td>@nickstratton</td>\n",
       "      <td>Nick Stratton</td>\n",
       "      <td>I've been using this soap for several years no...</td>\n",
       "      <td>1</td>\n",
       "      <td>1.0</td>\n",
       "      <td>1</td>\n",
       "      <td>1.553795e+12</td>\n",
       "      <td>10:37 AM - 28 Mar 2019</td>\n",
       "      <td>/nickstratton/status/1111321377041059840</td>\n",
       "    </tr>\n",
       "    <tr>\n",
       "      <th>1</th>\n",
       "      <td>1554395284-215</td>\n",
       "      <td>https://twitter.com/search?l=&amp;q=%40DrSquatchSo...</td>\n",
       "      <td>@atheath</td>\n",
       "      <td>Ashley Heath</td>\n",
       "      <td>Watched the \\n@DrSquatchSoapCo commercial earl...</td>\n",
       "      <td>NaN</td>\n",
       "      <td>NaN</td>\n",
       "      <td>1</td>\n",
       "      <td>1.553811e+12</td>\n",
       "      <td>3:17 PM - 28 Mar 2019</td>\n",
       "      <td>/atheath/status/1111391965009059840</td>\n",
       "    </tr>\n",
       "    <tr>\n",
       "      <th>2</th>\n",
       "      <td>1554395284-269</td>\n",
       "      <td>https://twitter.com/search?l=&amp;q=%40DrSquatchSo...</td>\n",
       "      <td>@MikeFalzone</td>\n",
       "      <td>Mike Falzone</td>\n",
       "      <td>Dude, @DrSquatchSoapCo smells SO good. I just ...</td>\n",
       "      <td>1</td>\n",
       "      <td>NaN</td>\n",
       "      <td>16</td>\n",
       "      <td>1.499462e+12</td>\n",
       "      <td>2:08 PM - 7 Jul 2017</td>\n",
       "      <td>/MikeFalzone/status/883432487803772928</td>\n",
       "    </tr>\n",
       "    <tr>\n",
       "      <th>3</th>\n",
       "      <td>1554395284-331</td>\n",
       "      <td>https://twitter.com/search?l=&amp;q=%40DrSquatchSo...</td>\n",
       "      <td>@manemanblog</td>\n",
       "      <td>MANE MAN</td>\n",
       "      <td>From my friends over at @DrSquatchSoapCo https...</td>\n",
       "      <td>NaN</td>\n",
       "      <td>1.0</td>\n",
       "      <td>1</td>\n",
       "      <td>1.401757e+12</td>\n",
       "      <td>6:02 PM - 2 Jun 2014</td>\n",
       "      <td>/manemanblog/status/473630876647956481</td>\n",
       "    </tr>\n",
       "    <tr>\n",
       "      <th>4</th>\n",
       "      <td>1554395284-268</td>\n",
       "      <td>https://twitter.com/search?l=&amp;q=%40DrSquatchSo...</td>\n",
       "      <td>@bryce_carey</td>\n",
       "      <td>Bryce Carey</td>\n",
       "      <td>Time to open a new bar! Love, love, LOVE me so...</td>\n",
       "      <td>1</td>\n",
       "      <td>NaN</td>\n",
       "      <td>2</td>\n",
       "      <td>1.500569e+12</td>\n",
       "      <td>9:40 AM - 20 Jul 2017</td>\n",
       "      <td>/bryce_carey/status/888076122151305216</td>\n",
       "    </tr>\n",
       "  </tbody>\n",
       "</table>\n",
       "</div>"
      ],
      "text/plain": [
       "  web-scraper-order                              web-scraper-start-url  \\\n",
       "0    1554395284-218  https://twitter.com/search?l=&q=%40DrSquatchSo...   \n",
       "1    1554395284-215  https://twitter.com/search?l=&q=%40DrSquatchSo...   \n",
       "2    1554395284-269  https://twitter.com/search?l=&q=%40DrSquatchSo...   \n",
       "3    1554395284-331  https://twitter.com/search?l=&q=%40DrSquatchSo...   \n",
       "4    1554395284-268  https://twitter.com/search?l=&q=%40DrSquatchSo...   \n",
       "\n",
       "          handle           name  \\\n",
       "0  @nickstratton  Nick Stratton   \n",
       "1       @atheath   Ashley Heath   \n",
       "2   @MikeFalzone   Mike Falzone   \n",
       "3   @manemanblog       MANE MAN   \n",
       "4   @bryce_carey    Bryce Carey   \n",
       "\n",
       "                                             content replies  retweets  \\\n",
       "0  I've been using this soap for several years no...       1       1.0   \n",
       "1  Watched the \\n@DrSquatchSoapCo commercial earl...     NaN       NaN   \n",
       "2  Dude, @DrSquatchSoapCo smells SO good. I just ...       1       NaN   \n",
       "3  From my friends over at @DrSquatchSoapCo https...     NaN       1.0   \n",
       "4  Time to open a new bar! Love, love, LOVE me so...       1       NaN   \n",
       "\n",
       "  favorites  unix_timestamp          published_date  \\\n",
       "0         1    1.553795e+12  10:37 AM - 28 Mar 2019   \n",
       "1         1    1.553811e+12   3:17 PM - 28 Mar 2019   \n",
       "2        16    1.499462e+12    2:08 PM - 7 Jul 2017   \n",
       "3         1    1.401757e+12    6:02 PM - 2 Jun 2014   \n",
       "4         2    1.500569e+12   9:40 AM - 20 Jul 2017   \n",
       "\n",
       "                                        url  \n",
       "0  /nickstratton/status/1111321377041059840  \n",
       "1       /atheath/status/1111391965009059840  \n",
       "2    /MikeFalzone/status/883432487803772928  \n",
       "3    /manemanblog/status/473630876647956481  \n",
       "4    /bryce_carey/status/888076122151305216  "
      ]
     },
     "execution_count": 6,
     "metadata": {},
     "output_type": "execute_result"
    }
   ],
   "source": [
    "raw.head()"
   ]
  },
  {
   "cell_type": "code",
   "execution_count": 7,
   "metadata": {},
   "outputs": [],
   "source": [
    "raw1 = raw[['name','content','published_date']]"
   ]
  },
  {
   "cell_type": "code",
   "execution_count": 9,
   "metadata": {},
   "outputs": [],
   "source": [
    "raw1 = raw1.query('name != \"Dr. Squatch\"')"
   ]
  },
  {
   "cell_type": "code",
   "execution_count": 10,
   "metadata": {},
   "outputs": [
    {
     "name": "stdout",
     "output_type": "stream",
     "text": [
      "(132, 3)\n",
      "            name                                            content  \\\n",
      "0  Nick Stratton  I've been using this soap for several years no...   \n",
      "1   Ashley Heath  Watched the \\n@DrSquatchSoapCo commercial earl...   \n",
      "2   Mike Falzone  Dude, @DrSquatchSoapCo smells SO good. I just ...   \n",
      "3       MANE MAN  From my friends over at @DrSquatchSoapCo https...   \n",
      "4    Bryce Carey  Time to open a new bar! Love, love, LOVE me so...   \n",
      "\n",
      "           published_date  \n",
      "0  10:37 AM - 28 Mar 2019  \n",
      "1   3:17 PM - 28 Mar 2019  \n",
      "2    2:08 PM - 7 Jul 2017  \n",
      "3    6:02 PM - 2 Jun 2014  \n",
      "4   9:40 AM - 20 Jul 2017  \n"
     ]
    }
   ],
   "source": [
    "print(raw1.shape)\n",
    "print(raw1.head())"
   ]
  },
  {
   "cell_type": "code",
   "execution_count": 11,
   "metadata": {},
   "outputs": [],
   "source": [
    "text = raw1.content.values"
   ]
  },
  {
   "cell_type": "code",
   "execution_count": 12,
   "metadata": {},
   "outputs": [
    {
     "data": {
      "text/plain": [
       "array([\"I've been using this soap for several years now and absolutely love it. \\n\\nSmell good. Be nice to your skin. Save 15% http://bit.ly/2HUkojG\\xa0 #DrSquatch @DrSquatchSoapCo pic.twitter.com/NFgnFeAC33\",\n",
       "       \"Watched the \\n@DrSquatchSoapCo commercial earlier and it's hilarious! https://www.youtube.com/watch?v=cjEK7qQKRDY\\xa0… I think we'll have to get some, just because.\",\n",
       "       'Dude, @DrSquatchSoapCo smells SO good. I just got the Gold Moss Scrub and I want to eat it. I want to wash my insides with it. #notsponsored',\n",
       "       'From my friends over at @DrSquatchSoapCo https://www.youtube.com/watch?v=zeQMG65qJDg\\xa0… #lol',\n",
       "       'Time to open a new bar! Love, love, LOVE me some @drsquatchsoapco #natural #handmade… https://www.instagram.com/p/BWxoH4MAREt/',\n",
       "       'Love those race weekend vibes with @DrSquatchSoapCo and @RyanSiegRacing! pic.twitter.com/fPAbKvuLJr',\n",
       "       'Itzh ya go ol anime boi aye',\n",
       "       \"@SMatthew74 Thanks for the mention in your Father's Day Gift Guide! In great company with @GrillGrate @DrSquatchSoapCo @American_Giant\",\n",
       "       'Bar soap with natural ingredients? Absolutely. Learn about @drsquatchsoapco:  http://ow.ly/MKNXN',\n",
       "       'Sponsor banner for #BluegrassBeardOn @TheModCabin @GrandpaBrandsCo @HonestAmish_com @CanYouHandlebar @DrSquatchSoapCo pic.twitter.com/VlcVKdLCDg',\n",
       "       \"Beer soap has been popping up all over the place lately but it's not just a novelty! Learn the benefits of beer soap from @DrSquatchSoapCo  at the link below. http://blog.drsquatch.com/the-wonderful-world-of-beer-soap/\\xa0…pic.twitter.com/7PBPvO0fbW\",\n",
       "       'Sooo @DrSquatchSoapCo is the best soap for men !!! @cmartrocks #backstageartistlounge',\n",
       "       \"Can confirm, @DrSquatchSoapCo soap is good stuff. Not sure if I'm sold on the pine tar scent but that may get better. Soap itself is great, even in hard water my skin doesn't feel like it shrunk two sizes.\",\n",
       "       'Quick sesh after the fight tonight! About to go clean up with the best @drsquatchsoapco!!! #nogi… https://www.instagram.com/p/BYSemUOBKne/',\n",
       "       'The perfect stocking stuffers are by @DrSquatchSoapCo this year. Check them out on our #holidaygiftguidehttp://bit.ly/2gTf4Qh',\n",
       "       \"How @DrSquatchSoapCo's 31-year-old founder makes millions selling soap online.\\nhttp://bit.ly/2IbLPnj\\xa0\\n#ecommerce #marketing $AMZN\",\n",
       "       \"Hey @DrSquatchSoapCo, best your-order-has-shipped email ever. I'd like to join in on the Bob Seger sing-along by the fire, IYDM #soapforXmas\",\n",
       "       'Designs I made of @joshbilicki. @RyanSiegRacing @DrSquatchSoapCo pic.twitter.com/JIksWRc6dE',\n",
       "       'Thank you @DrSquatchSoapCo for these awesome smelling soaps! Go check out http://www.drsquatch.com\\xa0. #gettingsquatchypic.twitter.com/FNo2D4Chpm',\n",
       "       'When you forget the essentials but @BrianStockl’s got your back. @DrSquatchSoapCo #RealFriendshippic.twitter.com/W507h6ktJN',\n",
       "       \"Look closely into the dead of the winter.. there's a Squatch in there.. @DrSquatchSoapCo #menshealthpic.twitter.com/Ue7qTKvq74\",\n",
       "       'Just went a little nuts buying all natural soaps because I wish to smell like I just fought off a pack of wolves in a lumberyard of pine and cedar. @DrSquatchSoapCo',\n",
       "       '30 percent of men have suffered from depression . \\n\\n http://qoo.ly/u3qg7\\xa0\\n\\nJoin me as I talk with Will and Taylor of @go4graham about their efforts to raise awareness for mental health. Shout-out to @peopleforbikes @DrSquatchSoapCo @CheckInFDTN & @PrimalWear.pic.twitter.com/Qf50oopG1Y',\n",
       "       'do you guys also have shampoo? @DrSquatchSoapCo pic.twitter.com/vKR7qWaMNW',\n",
       "       nan,\n",
       "       'The @DrSquatchSoapCo commercials on YouTube are hilarious! One of the few ads I won’t skip. #soapfordudes #drsquatch #soap #youtube',\n",
       "       'Post shower thoughts. @DrSquatchSoapCo is the real deal. Check it out. For real. #TourLife',\n",
       "       'http://www.titlebeard.com/2014/10/beard-advice-vol-4-beard-soap-recommendations/\\xa0… New entry in #BeardAdvice. Beard soap recommendations @TheModCabin @CanYouHandlebar @DrSquatchSoapCo #beardsoap',\n",
       "       \"Ahahahahah @drsquatchsoapco's photo http://i.instagram.com/p/ph7Ev9IQjm/\",\n",
       "       'Finally got my awesome bar of citrus cedar soap from @DrSquatchSoapCo .\\nGot one for my dad too. The carpenter in him will appreciate it. pic.twitter.com/YT6yBgwjLj',\n",
       "       'Thanks James!',\n",
       "       \"@DrSquatchSoapCo It's been a great week in gear, here is the best of what we found: http://bit.ly/1tjEsz6\\xa0pic.twitter.com/8GJwDzoDXp\",\n",
       "       'Paddleboard, anyone??? @DrSquatchSoapCo and @tvcoffee will balance it for you!!!pic.twitter.com/syrM5NMjDE',\n",
       "       'Really solid qualifying effort for us.  Rolling off P20 in our @DrSquatchSoapCo Camaro for this afternoons #NascarRacingExperience300 at @DISupdates! pic.twitter.com/MHdG9GzeAX',\n",
       "       'Thanks @DrSquatchSoapCo for hooking us up! #squeekycleanpic.twitter.com/aH4tHCQCAk',\n",
       "       'Win a new @mhmgear backpack filled with a years supply of soap from @DrSquatchSoapCo https://wn.nr/E6nNP3',\n",
       "       'Branching Out:http://www.readingstyle.net/\\xa0 @MargiPreus @gBrianKaras @lorenlong @DrSquatchSoapCo @arborday @JillMcElmurrypic.twitter.com/V1BPbSaC6C',\n",
       "       \"Today's very manly #WhatsTrending features @Bonobos + @DrSquatchSoapCo!\\nhttp://elvisduran.iheart.com/articles/whats-trending-461825/whatstrending-ooh-sooo-maaanly-bonobos-dr-14496327/\\xa0…pic.twitter.com/3hjypZtcF5\",\n",
       "       'Looks like everyone had a blast!',\n",
       "       \"I'm pretty sure @DrSquatchSoapCo keeps sneaking in and adding more soap to my bar. That thing is lasting forever.\",\n",
       "       'Just got a bar of soap that smells like Christmas so I’ll be fa lalalaing in the shower for the next hour, thanks @DrSquatchSoapCo',\n",
       "       '@DrSquatchSoapCo makes some awesome #manly #manscaping products. Check out our review of their soap at http://awesomedadgear.com/dr-squatch-mens-soap/\\xa0… #clean #wild',\n",
       "       'RT @SlideBelts:  HUGE GIVEAWAY  we’re partnering with @MizzenAndMain @DrSquatchSoapCo @ParkJamesHotel @GA and @livefrey to give you a chance to win over $2000 in products and services! Click below to enter. Good luck! \\n\\nhttps://bit.ly/2Wg1Caz\\xa0pic.twitter.com/zq4646ES9T',\n",
       "       'Clean it up with @DrSquatchSoapCo and @deejay_EJ! Get it at http://www.smoksho.com\\xa0pic.twitter.com/GcbdbzPGE8',\n",
       "       \"Headed out East this weekend and can't forget the essentials @BrickellMen @DrSquatchSoapCo pic.twitter.com/NjdJtd5cih\",\n",
       "       'STAND magazine’s Father’s Day Gift Guide http://www.stand-magazine.com/stand-magazines-fathers-day-gift-guide/\\xa0… via @STANDmagazine1 @TommyJohn @DrSquatchSoapCo @UpliftingDad \\n@MudLOVE @plugable @missionworkshop @StateBicycleCo @Echoscomm #fathersday #dad #gift',\n",
       "       'Just got my first order of soap from @DrSquatchSoapCo. Going to have to take 5 showers today to try them all out! pic.twitter.com/AYLWPUZhMI',\n",
       "       '\"In a year we went from 500 in monthly revenue to being featured in Birchbox and men\\'s journal\" @drsquatchsoapco http://bit.ly/1lNVFhe',\n",
       "       'What was your favorite item from the Empire Box? @bullandmoose @weekend_casual @saltdapper @drsquatchsoapco @yosoxpic.twitter.com/UTotP7JQL2',\n",
       "       \"Maybe I'll pick up a bar and see how manly I can get!\",\n",
       "       \"It's like angels washed my body with the essence of the forest. Love the soap from @DrSquatchSoapCo!\",\n",
       "       '#WhatsTrending: Ooh! Sooo Maaanly! @Bonobos + @DrSquatchSoapCo! --\\nhttp://elvisduran.iheart.com/articles/what-we-talked-about-136656/whatstrending-ooh-sooo-maaanly-bonobos-dr-14496327/#ixzz434nCo2L6\\xa0… via @RadioBethanypic.twitter.com/fYqXXCJ97u',\n",
       "       'Shoutout to @DrSquatchSoapCo for the all natural man soap! Check em out! pic.twitter.com/BHIkaceqoR',\n",
       "       \"@DrSquatchSoapCo I am placing my order for yoyr soap in just a few moments.   This will be the 1st time and probably the last time I break my solid rule of not patronizing any vendor where I am forced to watch a commercial before a video on YouTube. I'm ordering SOON! pic.twitter.com/9YmhFOdZOT\",\n",
       "       'Honored to be included in the lineup of soaps on @themanualguide with @ernestsupplies @BaxterOfCA @Kiehls @DrSquatchSoapCo',\n",
       "       'Make me laugh and win a gift! http://buff.ly/1NsqfWb\\xa0 #ChristmasSquatch @DrSquatchSoapCo pic.twitter.com/CzucUzGFkE',\n",
       "       'I got new soaps today from @DrSquatchSoapCo and now I smell like I could build a cabin while wrestling a bear. It’s Ron Swanson in soap form',\n",
       "       \"@cmartrocks @DrSquatchSoapCo @reedsgingerbrew @Forgethangover @Luichiny @DrinkDiabolo @PuraVidaTequila @RockTheVote You're welcome!\",\n",
       "       'Win these Summer Camp Essentials! @IzolaNYC @areaware @bushsmarts @baxterofca @drsquatchsoapco http://trib.al/VVPstG6\\xa0pic.twitter.com/3Ifwi7QAAI',\n",
       "       'Mail Call! @drsquatchsoapco #drsquatch #cigarsforthewin #soap #mailcall http://ift.tt/2lPbolg\\xa0pic.twitter.com/DsuwG35z59',\n",
       "       'Hollywood Pitch Festival welcomes @DrSquatchSoapCo as an official sponsor. Beautiful, handmade, all natural soaps. pic.twitter.com/N1LGDmAYYF',\n",
       "       'Welcome to #NASCAR!',\n",
       "       'Clean it up, Manly Style with this ep of #WitB featuring @drsquatchsoapco Plus your chance to win free stuff! http://youtu.be/fUKd6K7c224?a',\n",
       "       'We love #hygiene! Use the code 10FOR10 when ordering from @DrSquatchSoapCo to save 10% & give 10% to #WaterForPeople http://ow.ly/roCN306ZmgL\\xa0pic.twitter.com/vuK8wy68KJ',\n",
       "       'Become The Most BADASS Smelling Version Of Yourself With Dr. Squatch’s All-Natural Soap Products http://ow.ly/dgqt30nNa4R\\xa0 #Ad @DrSquatchSoapCo',\n",
       "       \"It's on like Donkey Kong! #KiCon2019   - April 26 & 27 - Windy City \\n\\nDetails: https://dky.bz/2HHil3b\\xa0   via @hackadaypic.twitter.com/fuW4jSPhWC\",\n",
       "       \"If your soap irritates your skin, it's doing it wrong. Go all natural with @DrSquatchSoapCo http://deadspin.com/save-25-on-the-dr-squatch-natural-soap-4-pack-27-1740861510\\xa0…\",\n",
       "       'Shoutout to @RyanSiegRacing and @buckcentral10 for their top 10 finishes today @DISupdates and @joshbilicki for a solid run as well!!! The @Larrys_Lemonade @NightOwlInc1 @C2Freight @LombardBros @DrSquatchSoapCo cars all ran great today!!!! Great team, great sponsors, great day!!',\n",
       "       \"You know what? I'm actually going to praise a brand here on twitter. @DrSquatchSoapCo\\n\\nI bought that soap bar, and it's actually really good. And the email they sent may have been the single funniest message I have ever gotten from company after ordering their stuff.\",\n",
       "       \"This couldn't be more delayed - but thanks to @DrSquatchSoapCo for the shoutout, and check out everyone else! http://blog.drsquatch.com/best-outdoor-instagrammers/\\xa0…\",\n",
       "       \"After one season at JP Motorsports, @joshbilicki moves to @RyanSiegRacing's three-car operation and will run the entire @NASCAR_Xfinity season. His primary sponsor at @DISupdates will be @DrSquatchSoapCo. #NASCAR via @TheLTFileshttps://motorsportstribune.com/bilicki-set-to-run-entire-xfinity-season-with-rss-racing/\\xa0…\",\n",
       "       'pic.twitter.com/GClM5XDFk1',\n",
       "       'When all your delicious dreams come true.   #OrangeVanilla #ZeroSugarpic.twitter.com/dUmKFj9oMW',\n",
       "       'Thank @drsquatchsoapco for the goodies. After all the runs. Nice to smell delicious #drsquatch https://www.instagram.com/p/BEDvHIpQDOB/',\n",
       "       '9 percent of white men in the United States have daily feelings of depression or anxiety.\\n\\nTomorrow, join me for episode 41 of the podcast, looking at the important work @go4graham is doing. Shout-out to @peopleforbikes @DrSquatchSoapCo @CheckInFDTN & @PrimalWear.pic.twitter.com/WPeEXgs0Fd',\n",
       "       \"Score! One @DrSquatchSoapCo Soapscription for Christmas. Best men's soap hands down. I'm a Pine Tar man. pic.twitter.com/QMkYb5nnGX\",\n",
       "       'Real rock stars (or at least people who play them on Broadway) use @DrSquatchSoapCo. Lifelong customer. pic.twitter.com/9hLro7lGQr',\n",
       "       '...and to think I was feeling foofy using this...pic.twitter.com/3k9wOIMcbK',\n",
       "       'See ya soon #MayhemFestival !!! #BackstageArtistLounge @ManStuffUSA @RevolverCig @xzavierusainc @Bandshellcase @I_DRIVEN_I @DrSquatchSoapCo',\n",
       "       'Aye',\n",
       "       'UPDATED Ike Live promo codes. @MysteryTackleBx @DrSquatchSoapCo @LiquidMayhem_ @flambeauout @Reelsnot #WatchIkeLivepic.twitter.com/88TqUYcRVj',\n",
       "       'me: \"hi, i lost my debit card & need a new one.\"\\nbank: \"can you verify the last transaction? from doctor....squatch?\"\\n\\ncc: @DrSquatchSoapCo',\n",
       "       'Smelling like spearmint and basil thanks to my @DrSquatchSoapCo soap! #sofresh #soclean',\n",
       "       'Thanks for tagging me Trace.',\n",
       "       'Great read by @Ramblinblogger7 with his latest review of @DrSquatchSoapCo: http://drg.io/1OA2LDv\\xa0 #Men #Healthpic.twitter.com/m11JG1CJeV',\n",
       "       'Thanks for the tip @MagnaCarta1980 on this @DrSquatchSoapCo it smells great  I can’t wait to try it out pic.twitter.com/94zT43vNeu',\n",
       "       '@DrSquatchSoapCo  just got my first soap from y’all. I’m looking forward to my shower! pic.twitter.com/0qFgQrMVMU',\n",
       "       \"I'm just gunna put this out there and say that @DrSquatchSoapCo has the best shower soap out there.\",\n",
       "       'I finally got my order of @DrSquatchSoapCo , and let me tell you, it is hands down the BEST soap you could possibly ever use. You can tell it’s entirely naturally and leaves you feeling fresh!',\n",
       "       'When are you going to check out the great #soap from @DrSquatchSoapCo? I particularly love the Pine Tar & Spearmint Basil! #men #naturalpic.twitter.com/O2CDfI5UhQ',\n",
       "       \"In 28 years I've never cared what soap I bought, until now. Thank you @DrSquatchSoapCo for Cedar Citrus natural soap. pic.twitter.com/KBnnWRwf8I\",\n",
       "       'HUGE Shoutout to @DrSquatchSoapCo For all the Free Product! This stuff smells AMAZING! Cant wait to use it :P Have a Happy Halloween :D pic.twitter.com/DndZoGHbWn',\n",
       "       'THAT IS THE GREATEST LIVERY OF ALL-TIME.',\n",
       "       'Wearing the perfect hat on the day my Dr.Squatch Soap arrived in the mail!  @DrSquatchSoapCo pic.twitter.com/1cMgThVE5i',\n",
       "       '@ChiselShaveClub subscription shave box review @BrickellMen @DrSquatchSoapCo @RedLeafshop\\n#shaving #wetshaving #razor #mensgrooming #shavingsoap #Bald #Headshaving http://jonwogoman.com/2019/03/28/chisel-shave-club/\\xa0…pic.twitter.com/4iuIda0oNI',\n",
       "       'P4 for @RyanSiegRacing , P7 for @buckcentral10 , and P23 for @joshbilicki. Cars are clean and clear, solid day! Big thanks to @Larrys_Lemonade @MikeDsBBQ @LombardBros @C2Freight @NightOwlInc1 @DrSquatchSoapCo',\n",
       "       \"Lmao you've gotta watch this video from @DrSquatchSoapCo https://youtu.be/E2-VHA7UwrQ\",\n",
       "       'Our CO neighbors @DrSquatchSoapCo are sharing the love through Dec. 20 http://www.drsquatch.com/charity\\xa0https://twitter.com/DrSquatchSoapCo/status/673926101219979264\\xa0…',\n",
       "       \"We're already fairly addicted to @DrSquatchSoapCo. But if they ever come out with a Scotch-scented soap, we're going to give up and just mail them our wallet.\",\n",
       "       \"Gentlemen, if you haven't tried @DrSquatchSoapCo , do it. Pine Tar has me smelling like a lumberjack who fought off a pack of wolves.\",\n",
       "       'Spent 4 hours working in the yard with this Hori Hori knife, then I washed off with @DrSquatchSoapCo pine tar soap, if you’re wondering how a #hipsterlawyer keeps it real in the ‘burbs.pic.twitter.com/nqPKfcE1EL',\n",
       "       'Need #ValentinesDay gift ideas for men? Try @DrSquatchSoapCo http://www.itscarmen.com/2016/02/valentines-day-gift-guide-for-men.html\\xa0… #fashionbloggerpic.twitter.com/dEuqtd1iaF',\n",
       "       'Stellar Feller Beard Co. is now offering @DrSquatchSoapCo soaps! Get yours now at http://StellarFeller.com\\xa0pic.twitter.com/8eDVa8oNvI',\n",
       "       'Taking a shower, rubbing manly chest like a Dr. Squatch commercial...#sellout @DrSquatchSoapCo',\n",
       "       \"Seriously thought, I can't sing the praises of @DrSquatchSoapCo enough. Great prices for an excellent product.\",\n",
       "       'HUGE GIVEAWAY  we’re partnering with @mizzenandmain @DrSquatchSoapCo @parkjameshotel @GA and @livefrey to give you a chance to win over $2000 in products and services! Click the link below to enter. Good luck! \\n\\nhttps://bit.ly/2Wg1Caz\\xa0pic.twitter.com/jewau0Wz1m',\n",
       "       \"We're proud to partner w/ @drsquatchsoapco, see how this CO-based company is giving back.  http://ow.ly/Vhyyl\\xa0pic.twitter.com/OsLov6GmBo\",\n",
       "       'I received some soap made by @DrSquatchSoapCo from @TitleBeard and my face feels freaking awesome! #cleanbeard #beardgrooming #amazing',\n",
       "       'Boys love @DrSquatchSoapCo !!! #BackstageArtistLounge @cmartrocks',\n",
       "       '@DrSquatchSoapCo yo someone hit me up on IG about advertising y’alls products on our podcast, but I accidentally deleted the message. Would love to further discuss with you guys.',\n",
       "       'I need to get the fish taco stank off my hands... Thank goodness for @DrSquatchSoapCo pine tar soap! #drsquatch #pinetar #soap #fishtacos',\n",
       "       'Shower beer you say? Give it a try! Check out the shower beer of the week by @DrSquatchSoapCo http://ow.ly/NYoFS\\xa0 #90Shilling #craftbeer',\n",
       "       'Seems like a good buy.',\n",
       "       \"Welcome to the RSS team, @joshbilicki. We're very excited to have you and @DrSquatchSoapCo on board. https://twitter.com/joshbilicki/status/1092508630417588224\\xa0…\",\n",
       "       'Only the best for this porcelain skin',\n",
       "       \"Quick question, @DrSquatchSoapCo... I'm a beta male, so I really like the idea of using a manly soap. However, I'm concerned your soap might be TOO manly. Am I likely to be bullied by your products?\",\n",
       "       'Holy hell. Wife got me this for Christmas and I can’t stop talking about it. The sand and oatmeal to exfoliate!!   @drsquatchsoapco  Love your stuff. #notanadvertisement #justreallydigthissoappic.twitter.com/yy5tShyn9Y',\n",
       "       'In my #Fathersdaygifts guide: @GrillGrate @DrSquatchSoapCo @ribbedtee @American_Giant and more! http://ellismc.wordpress.com/2014/06/06/fathers-day-gift-guide/\\xa0…',\n",
       "       \"That's a wrap on the @DrSquatchSoapCo Pro Series season! \\n\\nEmpire Graphics 250 Race Winner - Joseph Theis \\nWest Regional Champion - Spencer Prete\\n2018/2019 @SESRARacing Series Champion - Jeff Wardpic.twitter.com/wtlJidUAhN\",\n",
       "       'August @BirchboxMan! LOVE it. @BisonMade @DrSquatchSoapCo @sukiskincare @BaxterOfCA @air_repairskinpic.twitter.com/doyAeRiJdl',\n",
       "       \"The Sincerest Thank You to My Sponsors!! \\n\\n{Backpacking for Behcet's Disease Awareness}\\n\\n@beyondclothing #BillyFishBooks @explorerjason @bluegrassdecals @burstoralcare @CascadeMTech @CoopHomeGoods @DeskCycle @DirtyKneesSoap @DrSquatchSoapCo @FKIgroup @GEARAID @GossamerGear ROCpic.twitter.com/mxkv7OqNNb\",\n",
       "       '@DrSquatchSoapCo best commercial ever on YouTube',\n",
       "       '@DrSquatchSoapCo  ad on YouTube is so fucking funny',\n",
       "       'Soaps from @DrSquatchSoapCo for the #BluegrassBeardOn silent auction. Amazing assortment of scents! Come bid on them!pic.twitter.com/MKxdI7pLQ4',\n",
       "       '@DrSquatchSoapCo just got out of the shower and I kid you not  #nauticalsage had me convinced the Squatch and 3 Mermaids were in my bathroom singing Mettalica songs barbershop quartet style. Thanks Dr. Squatch!',\n",
       "       '@TitleBeard @DrSquatchSoapCo Put your enemies on notice and the ladies at ease with the deep harmonious aromas of Dr. Squatch bathing block',\n",
       "       'Tastes like . Feels like . #OrangeVanillapic.twitter.com/pxYQgutEyu',\n",
       "       'Thank you sir!',\n",
       "       'Lots of #vegan goodies in the @vegancuts Camping Box from @samsnatural @drsquatchsoapco & more http://caurl.co/r/x9eym/g6lg?url=http://vegancuts.com/offer/camping-box\\xa0…pic.twitter.com/7Sxqw6khbp',\n",
       "       'Bae run',\n",
       "       \"RT @SlideBelts: *GIVEAWAY*\\nWe've partnered up with @MizzenAndMain, @ParkJamesHotel, @GA, @drsquatchsoapco, and @livefrey to bring you a $2000+ Finer Things Giveaway. Enter here \\nhttps://bit.ly/2Wg1Caz\\xa0pic.twitter.com/rbVILN5ncF\",\n",
       "       'Important grooming info for hipsters, lumbersexuals & other bearded dudes -  http://blog.drsquatch.com/beard-care/\\xa0 #haircare @DrSquatchSoapCo pic.twitter.com/B12So0ybsB'],\n",
       "      dtype=object)"
      ]
     },
     "execution_count": 12,
     "metadata": {},
     "output_type": "execute_result"
    }
   ],
   "source": [
    "text"
   ]
  },
  {
   "cell_type": "code",
   "execution_count": 13,
   "metadata": {},
   "outputs": [],
   "source": [
    "raw1.to_csv('data/twitter_1_1.csv', index  =False)"
   ]
  },
  {
   "cell_type": "code",
   "execution_count": null,
   "metadata": {},
   "outputs": [],
   "source": []
  }
 ],
 "metadata": {
  "kernelspec": {
   "display_name": "Python 3",
   "language": "python",
   "name": "python3"
  },
  "language_info": {
   "codemirror_mode": {
    "name": "ipython",
    "version": 3
   },
   "file_extension": ".py",
   "mimetype": "text/x-python",
   "name": "python",
   "nbconvert_exporter": "python",
   "pygments_lexer": "ipython3",
   "version": "3.6.9"
  }
 },
 "nbformat": 4,
 "nbformat_minor": 4
}
