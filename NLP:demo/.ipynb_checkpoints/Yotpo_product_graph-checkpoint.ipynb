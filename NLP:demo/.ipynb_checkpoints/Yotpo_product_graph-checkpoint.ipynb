{
 "cells": [
  {
   "cell_type": "code",
   "execution_count": 1,
   "metadata": {},
   "outputs": [],
   "source": [
    "import pandas as pd\n",
    "import matplotlib.pyplot as plt\n",
    "%matplotlib inline  "
   ]
  },
  {
   "cell_type": "code",
   "execution_count": 44,
   "metadata": {},
   "outputs": [],
   "source": [
    "import warnings\n",
    "warnings.filterwarnings('ignore')"
   ]
  },
  {
   "cell_type": "code",
   "execution_count": 2,
   "metadata": {},
   "outputs": [],
   "source": [
    "data = pd.read_csv('data/Yotpo_1.csv')"
   ]
  },
  {
   "cell_type": "code",
   "execution_count": 3,
   "metadata": {},
   "outputs": [
    {
     "data": {
      "text/html": [
       "<div>\n",
       "<style scoped>\n",
       "    .dataframe tbody tr th:only-of-type {\n",
       "        vertical-align: middle;\n",
       "    }\n",
       "\n",
       "    .dataframe tbody tr th {\n",
       "        vertical-align: top;\n",
       "    }\n",
       "\n",
       "    .dataframe thead th {\n",
       "        text-align: right;\n",
       "    }\n",
       "</style>\n",
       "<table border=\"1\" class=\"dataframe\">\n",
       "  <thead>\n",
       "    <tr style=\"text-align: right;\">\n",
       "      <th></th>\n",
       "      <th>published</th>\n",
       "      <th>review_title</th>\n",
       "      <th>product_title</th>\n",
       "      <th>review_content</th>\n",
       "      <th>review_score</th>\n",
       "      <th>date</th>\n",
       "      <th>product_id</th>\n",
       "    </tr>\n",
       "  </thead>\n",
       "  <tbody>\n",
       "    <tr>\n",
       "      <th>0</th>\n",
       "      <td>False</td>\n",
       "      <td>Great Soap!</td>\n",
       "      <td>Bay Rum</td>\n",
       "      <td>The Bay Rum smells great and my dad loves it!</td>\n",
       "      <td>5</td>\n",
       "      <td>2012-10-29 04:00:00+00:00</td>\n",
       "      <td>109190870</td>\n",
       "    </tr>\n",
       "    <tr>\n",
       "      <th>1</th>\n",
       "      <td>True</td>\n",
       "      <td>gorgeous soaps!!!</td>\n",
       "      <td>Cool Fresh Aloe</td>\n",
       "      <td>I bought the soaps for a Christmas gift.  They...</td>\n",
       "      <td>5</td>\n",
       "      <td>2012-12-01 04:00:00+00:00</td>\n",
       "      <td>109191428</td>\n",
       "    </tr>\n",
       "    <tr>\n",
       "      <th>2</th>\n",
       "      <td>True</td>\n",
       "      <td>Soap Saver - Works Great!</td>\n",
       "      <td>Soap Saver</td>\n",
       "      <td>This works great to eliminate the gooey, slimy...</td>\n",
       "      <td>5</td>\n",
       "      <td>2012-12-04 04:00:00+00:00</td>\n",
       "      <td>113623428</td>\n",
       "    </tr>\n",
       "    <tr>\n",
       "      <th>3</th>\n",
       "      <td>True</td>\n",
       "      <td>Husband with Sensitive Skin</td>\n",
       "      <td>Gift Box</td>\n",
       "      <td>My husband has sensitive skin and we have been...</td>\n",
       "      <td>5</td>\n",
       "      <td>2012-12-07 04:00:00+00:00</td>\n",
       "      <td>110663055</td>\n",
       "    </tr>\n",
       "    <tr>\n",
       "      <th>4</th>\n",
       "      <td>True</td>\n",
       "      <td>Perfect Gift!</td>\n",
       "      <td>Gift Box</td>\n",
       "      <td>I already use this soap everyday, so I was pum...</td>\n",
       "      <td>5</td>\n",
       "      <td>2012-12-13 04:00:00+00:00</td>\n",
       "      <td>110663055</td>\n",
       "    </tr>\n",
       "  </tbody>\n",
       "</table>\n",
       "</div>"
      ],
      "text/plain": [
       "   published                 review_title    product_title  \\\n",
       "0      False                  Great Soap!          Bay Rum   \n",
       "1       True            gorgeous soaps!!!  Cool Fresh Aloe   \n",
       "2       True    Soap Saver - Works Great!       Soap Saver   \n",
       "3       True  Husband with Sensitive Skin         Gift Box   \n",
       "4       True                Perfect Gift!         Gift Box   \n",
       "\n",
       "                                      review_content  review_score  \\\n",
       "0      The Bay Rum smells great and my dad loves it!             5   \n",
       "1  I bought the soaps for a Christmas gift.  They...             5   \n",
       "2  This works great to eliminate the gooey, slimy...             5   \n",
       "3  My husband has sensitive skin and we have been...             5   \n",
       "4  I already use this soap everyday, so I was pum...             5   \n",
       "\n",
       "                        date product_id  \n",
       "0  2012-10-29 04:00:00+00:00  109190870  \n",
       "1  2012-12-01 04:00:00+00:00  109191428  \n",
       "2  2012-12-04 04:00:00+00:00  113623428  \n",
       "3  2012-12-07 04:00:00+00:00  110663055  \n",
       "4  2012-12-13 04:00:00+00:00  110663055  "
      ]
     },
     "execution_count": 3,
     "metadata": {},
     "output_type": "execute_result"
    }
   ],
   "source": [
    "data.head()"
   ]
  },
  {
   "cell_type": "code",
   "execution_count": 4,
   "metadata": {},
   "outputs": [
    {
     "name": "stdout",
     "output_type": "stream",
     "text": [
      "NO. unique product\n",
      "79\n"
     ]
    }
   ],
   "source": [
    "print('NO. unique product')\n",
    "print(len(data.product_id.unique()))"
   ]
  },
  {
   "cell_type": "code",
   "execution_count": 22,
   "metadata": {},
   "outputs": [],
   "source": [
    "# product = data.groupby('product_id')"
   ]
  },
  {
   "cell_type": "code",
   "execution_count": 49,
   "metadata": {},
   "outputs": [],
   "source": [
    "# sample = data.query('product_id == \"110663055\"')\n",
    "\n",
    "# sample.date = pd.to_datetime(sample.date)\n",
    "\n",
    "# sample['date_day'] = sample.date.dt.to_period('D')\n",
    "# sample['date_month'] = sample.date.dt.to_period('M')\n",
    "\n",
    "# meanreview_d = pd.DataFrame(sample.groupby('date_day').mean()).reset_index()\n",
    "# meanreview_m = pd.DataFrame(sample.groupby('date_month').mean()).reset_index()\n",
    "\n",
    "# # meanreview_d.date_day = pd.to_datetime(meanreview_d.date_day)\n",
    "# # meanreview_m.date_month = pd.to_datetime(meanreview_m.date_month)\n",
    "\n",
    "# print('Overall average score of this product:')\n",
    "# print(sample.mean().review_score)"
   ]
  },
  {
   "cell_type": "code",
   "execution_count": 41,
   "metadata": {},
   "outputs": [
    {
     "data": {
      "text/plain": [
       "array(['Gift Box'], dtype=object)"
      ]
     },
     "execution_count": 41,
     "metadata": {},
     "output_type": "execute_result"
    }
   ],
   "source": [
    "# sample.mean('review_score')\n",
    "sample.product_title.unique()"
   ]
  },
  {
   "cell_type": "code",
   "execution_count": 26,
   "metadata": {},
   "outputs": [],
   "source": [
    "# meanreview_m"
   ]
  },
  {
   "cell_type": "code",
   "execution_count": 48,
   "metadata": {},
   "outputs": [],
   "source": [
    "# meanreview_d.plot('date_day','review_score')\n",
    "# plt.title('Average Review Score variation by Day')\n",
    "# plt.show()\n"
   ]
  },
  {
   "cell_type": "code",
   "execution_count": 50,
   "metadata": {},
   "outputs": [],
   "source": [
    "\n",
    "# meanreview_m.plot('date_month','review_score')\n",
    "# plt.title('Average Review Score variation by Month')\n",
    "# plt.show()"
   ]
  },
  {
   "cell_type": "code",
   "execution_count": 45,
   "metadata": {},
   "outputs": [],
   "source": [
    "def plot_score(id):\n",
    "#     product_name = data.query('product_id == \"product_id\"'). ???[0]\n",
    "\n",
    "    sample = data[data['product_id'] == id]\n",
    "    print('Information for this product:', id,sample.product_title.unique())\n",
    "    \n",
    "    print('Overall average score of this product:')\n",
    "    print(sample.mean().review_score)\n",
    "\n",
    "#     print(sample.head())\n",
    "    sample.date = pd.to_datetime(sample.date)\n",
    "    sample['date_day'] = sample.date.dt.to_period('D')\n",
    "    sample['date_month'] = sample.date.dt.to_period('M')\n",
    "    meanreview_d = pd.DataFrame(sample.groupby('date_day').mean()).reset_index()\n",
    "    meanreview_m = pd.DataFrame(sample.groupby('date_month').mean()).reset_index()\n",
    "    \n",
    "    \n",
    "    \n",
    "    meanreview_d.plot('date_day','review_score')\n",
    "    plt.title('Average Review Score variation by Day')\n",
    "    \n",
    "    meanreview_m.plot('date_month','review_score')\n",
    "    plt.title('Average Review Score variation by Month')\n",
    "    plt.show()\n",
    "\n",
    "\n"
   ]
  },
  {
   "cell_type": "code",
   "execution_count": 46,
   "metadata": {},
   "outputs": [
    {
     "name": "stdout",
     "output_type": "stream",
     "text": [
      "Information for this product: 110663055 ['Gift Box']\n",
      "Overall average score of this product:\n",
      "4.746987951807229\n"
     ]
    },
    {
     "data": {
      "image/png": "[encoded data removed]",
      "text/plain": [
       "<Figure size 432x288 with 1 Axes>"
      ]
     },
     "metadata": {
      "needs_background": "light"
     },
     "output_type": "display_data"
    },
    {
     "data": {
      "image/png": "[encoded data removed]",
      "text/plain": [
       "<Figure size 432x288 with 1 Axes>"
      ]
     },
     "metadata": {
      "needs_background": "light"
     },
     "output_type": "display_data"
    }
   ],
   "source": [
    "plot_score('110663055')"
   ]
  },
  {
   "cell_type": "code",
   "execution_count": 213,
   "metadata": {},
   "outputs": [],
   "source": [
    "for i in data.product_id.unique():\n",
    "    plot_score(i)\n"
   ]
  },
  {
   "cell_type": "code",
   "execution_count": null,
   "metadata": {},
   "outputs": [],
   "source": []
  }
 ],
 "metadata": {
  "kernelspec": {
   "display_name": "Python 3",
   "language": "python",
   "name": "python3"
  },
  "language_info": {
   "codemirror_mode": {
    "name": "ipython",
    "version": 3
   },
   "file_extension": ".py",
   "mimetype": "text/x-python",
   "name": "python",
   "nbconvert_exporter": "python",
   "pygments_lexer": "ipython3",
   "version": "3.6.8"
  }
 },
 "nbformat": 4,
 "nbformat_minor": 2
}
