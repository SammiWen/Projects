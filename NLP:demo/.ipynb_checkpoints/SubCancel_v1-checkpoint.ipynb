{
 "cells": [
  {
   "cell_type": "code",
   "execution_count": 4,
   "metadata": {},
   "outputs": [],
   "source": [
    "import pandas as pd\n",
    "pd.set_option('display.max_columns', None)"
   ]
  },
  {
   "cell_type": "code",
   "execution_count": 9,
   "metadata": {},
   "outputs": [],
   "source": [
    "data = pd.read_csv('data/Subscription Cancellation _ Raw data for Sentiment Analysis.csv')"
   ]
  },
  {
   "cell_type": "code",
   "execution_count": 5,
   "metadata": {},
   "outputs": [
    {
     "data": {
      "text/html": [
       "<div>\n",
       "<style scoped>\n",
       "    .dataframe tbody tr th:only-of-type {\n",
       "        vertical-align: middle;\n",
       "    }\n",
       "\n",
       "    .dataframe tbody tr th {\n",
       "        vertical-align: top;\n",
       "    }\n",
       "\n",
       "    .dataframe thead th {\n",
       "        text-align: right;\n",
       "    }\n",
       "</style>\n",
       "<table border=\"1\" class=\"dataframe\">\n",
       "  <thead>\n",
       "    <tr style=\"text-align: right;\">\n",
       "      <th></th>\n",
       "      <th>id</th>\n",
       "      <th>customer_id</th>\n",
       "      <th>first_name</th>\n",
       "      <th>last_name</th>\n",
       "      <th>name</th>\n",
       "      <th>email</th>\n",
       "      <th>phone_number</th>\n",
       "      <th>log_type</th>\n",
       "      <th>product_names</th>\n",
       "      <th>product_ids</th>\n",
       "      <th>subscription_id</th>\n",
       "      <th>subscription_term</th>\n",
       "      <th>subscription_start_date</th>\n",
       "      <th>cancel_reason</th>\n",
       "      <th>note</th>\n",
       "      <th>log_time</th>\n",
       "      <th>ship_to</th>\n",
       "      <th>ship_street</th>\n",
       "      <th>ship_unit</th>\n",
       "      <th>ship_city</th>\n",
       "      <th>ship_state</th>\n",
       "      <th>ship_zip_code</th>\n",
       "      <th>ship_country</th>\n",
       "      <th>location</th>\n",
       "      <th>country</th>\n",
       "      <th>months_subscribed</th>\n",
       "    </tr>\n",
       "  </thead>\n",
       "  <tbody>\n",
       "    <tr>\n",
       "      <th>0</th>\n",
       "      <td>2089666222</td>\n",
       "      <td>556139403</td>\n",
       "      <td>Kevin</td>\n",
       "      <td>Ramsdell</td>\n",
       "      <td>Kevin Ramsdell</td>\n",
       "      <td>ramsdellr@aol.com</td>\n",
       "      <td>NaN</td>\n",
       "      <td>cancelled</td>\n",
       "      <td>Soapscription - 3 Bars per Month</td>\n",
       "      <td>270509487</td>\n",
       "      <td>556139503</td>\n",
       "      <td>Month to Month</td>\n",
       "      <td>2016-11-26T09:13:08Z</td>\n",
       "      <td>other_service_issue</td>\n",
       "      <td>Send the correct products that I ordered. It t...</td>\n",
       "      <td>2019-03-24T07:58:19Z</td>\n",
       "      <td>Kevin Ramsdell</td>\n",
       "      <td>577 Back Rd</td>\n",
       "      <td>NaN</td>\n",
       "      <td>Shapleigh</td>\n",
       "      <td>ME</td>\n",
       "      <td>04076</td>\n",
       "      <td>US</td>\n",
       "      <td>ME, US</td>\n",
       "      <td>US</td>\n",
       "      <td>28</td>\n",
       "    </tr>\n",
       "    <tr>\n",
       "      <th>1</th>\n",
       "      <td>2089652438</td>\n",
       "      <td>1749951663</td>\n",
       "      <td>Ksenia</td>\n",
       "      <td>Harper</td>\n",
       "      <td>Ksenia  Harper</td>\n",
       "      <td>ksenia.harper@gmail.com</td>\n",
       "      <td>NaN</td>\n",
       "      <td>cancelled</td>\n",
       "      <td>Soapscription - 6 Bars per Quarter, Soapscript...</td>\n",
       "      <td>270519234, 270519234, 270519234</td>\n",
       "      <td>1749951763</td>\n",
       "      <td>1 Quarter</td>\n",
       "      <td>2018-09-13T07:40:33Z</td>\n",
       "      <td>resubscribe_later</td>\n",
       "      <td>Nothing personal :)</td>\n",
       "      <td>2019-03-24T07:45:51Z</td>\n",
       "      <td>Ksenia Harper</td>\n",
       "      <td>321 Babbling Brook Cir</td>\n",
       "      <td>NaN</td>\n",
       "      <td>Rincon</td>\n",
       "      <td>GA</td>\n",
       "      <td>31326</td>\n",
       "      <td>US</td>\n",
       "      <td>GA, US</td>\n",
       "      <td>US</td>\n",
       "      <td>6</td>\n",
       "    </tr>\n",
       "    <tr>\n",
       "      <th>2</th>\n",
       "      <td>2089630805</td>\n",
       "      <td>2047303932</td>\n",
       "      <td>Timothy</td>\n",
       "      <td>Mckirch</td>\n",
       "      <td>Timothy Mckirch</td>\n",
       "      <td>mckirchtim@gmail.com</td>\n",
       "      <td>NaN</td>\n",
       "      <td>cancelled</td>\n",
       "      <td>Soapscription - 2 Bars per Month</td>\n",
       "      <td>270508959</td>\n",
       "      <td>2047304113</td>\n",
       "      <td>Month to Month</td>\n",
       "      <td>2019-03-01T07:23:43Z</td>\n",
       "      <td>not_worth_price</td>\n",
       "      <td>X</td>\n",
       "      <td>2019-03-24T07:24:45Z</td>\n",
       "      <td>TIMOTHY MCKIRCH</td>\n",
       "      <td>6961 ROUTE E</td>\n",
       "      <td>NaN</td>\n",
       "      <td>PINEVILLE</td>\n",
       "      <td>MO</td>\n",
       "      <td>64856</td>\n",
       "      <td>US</td>\n",
       "      <td>MO, US</td>\n",
       "      <td>US</td>\n",
       "      <td>0</td>\n",
       "    </tr>\n",
       "    <tr>\n",
       "      <th>3</th>\n",
       "      <td>2089606272</td>\n",
       "      <td>1984807015</td>\n",
       "      <td>Jason</td>\n",
       "      <td>Vance</td>\n",
       "      <td>Jason Vance</td>\n",
       "      <td>bud_se_15@yahoo.com</td>\n",
       "      <td>NaN</td>\n",
       "      <td>cancelled</td>\n",
       "      <td>Soapscription - 2 Bars per Month, Soapscriptio...</td>\n",
       "      <td>270508959, 270508959, 270508959</td>\n",
       "      <td>1984807089</td>\n",
       "      <td>Month to Month</td>\n",
       "      <td>2019-01-25T19:22:36Z</td>\n",
       "      <td>resubscribe_later</td>\n",
       "      <td>Just too much soap right now</td>\n",
       "      <td>2019-03-24T06:57:13Z</td>\n",
       "      <td>Jason Vance</td>\n",
       "      <td>2141 Bloomfield Ave</td>\n",
       "      <td>NaN</td>\n",
       "      <td>Roanoke</td>\n",
       "      <td>VA</td>\n",
       "      <td>24012</td>\n",
       "      <td>US</td>\n",
       "      <td>VA, US</td>\n",
       "      <td>US</td>\n",
       "      <td>2</td>\n",
       "    </tr>\n",
       "    <tr>\n",
       "      <th>4</th>\n",
       "      <td>2089602739</td>\n",
       "      <td>1086500949</td>\n",
       "      <td>Tyler</td>\n",
       "      <td>Cassel</td>\n",
       "      <td>Tyler Cassel</td>\n",
       "      <td>tcassel18@gmail.com</td>\n",
       "      <td>NaN</td>\n",
       "      <td>cancelled</td>\n",
       "      <td>Soapscription - 1 Bar per Month, Soapscription...</td>\n",
       "      <td>270508075, 270508075, 270508075, 270508075, 27...</td>\n",
       "      <td>1222627746</td>\n",
       "      <td>Month to Month</td>\n",
       "      <td>2017-12-31T22:50:26Z</td>\n",
       "      <td>resubscribe_later</td>\n",
       "      <td>Nothing</td>\n",
       "      <td>2019-03-24T06:52:53Z</td>\n",
       "      <td>Tyler Cassel</td>\n",
       "      <td>4973 Lincolnwood Drive</td>\n",
       "      <td>NaN</td>\n",
       "      <td>York</td>\n",
       "      <td>PA</td>\n",
       "      <td>17408</td>\n",
       "      <td>US</td>\n",
       "      <td>PA, US</td>\n",
       "      <td>US</td>\n",
       "      <td>15</td>\n",
       "    </tr>\n",
       "  </tbody>\n",
       "</table>\n",
       "</div>"
      ],
      "text/plain": [
       "           id  customer_id first_name last_name             name  \\\n",
       "0  2089666222    556139403      Kevin  Ramsdell   Kevin Ramsdell   \n",
       "1  2089652438   1749951663     Ksenia    Harper   Ksenia  Harper   \n",
       "2  2089630805   2047303932    Timothy   Mckirch  Timothy Mckirch   \n",
       "3  2089606272   1984807015      Jason     Vance      Jason Vance   \n",
       "4  2089602739   1086500949      Tyler    Cassel     Tyler Cassel   \n",
       "\n",
       "                     email phone_number   log_type  \\\n",
       "0        ramsdellr@aol.com          NaN  cancelled   \n",
       "1  ksenia.harper@gmail.com          NaN  cancelled   \n",
       "2     mckirchtim@gmail.com          NaN  cancelled   \n",
       "3      bud_se_15@yahoo.com          NaN  cancelled   \n",
       "4      tcassel18@gmail.com          NaN  cancelled   \n",
       "\n",
       "                                       product_names  \\\n",
       "0                   Soapscription - 3 Bars per Month   \n",
       "1  Soapscription - 6 Bars per Quarter, Soapscript...   \n",
       "2                   Soapscription - 2 Bars per Month   \n",
       "3  Soapscription - 2 Bars per Month, Soapscriptio...   \n",
       "4  Soapscription - 1 Bar per Month, Soapscription...   \n",
       "\n",
       "                                         product_ids  subscription_id  \\\n",
       "0                                          270509487        556139503   \n",
       "1                    270519234, 270519234, 270519234       1749951763   \n",
       "2                                          270508959       2047304113   \n",
       "3                    270508959, 270508959, 270508959       1984807089   \n",
       "4  270508075, 270508075, 270508075, 270508075, 27...       1222627746   \n",
       "\n",
       "  subscription_term subscription_start_date        cancel_reason  \\\n",
       "0    Month to Month    2016-11-26T09:13:08Z  other_service_issue   \n",
       "1         1 Quarter    2018-09-13T07:40:33Z    resubscribe_later   \n",
       "2    Month to Month    2019-03-01T07:23:43Z      not_worth_price   \n",
       "3    Month to Month    2019-01-25T19:22:36Z    resubscribe_later   \n",
       "4    Month to Month    2017-12-31T22:50:26Z    resubscribe_later   \n",
       "\n",
       "                                                note              log_time  \\\n",
       "0  Send the correct products that I ordered. It t...  2019-03-24T07:58:19Z   \n",
       "1                                Nothing personal :)  2019-03-24T07:45:51Z   \n",
       "2                                                  X  2019-03-24T07:24:45Z   \n",
       "3                      Just too much soap right now   2019-03-24T06:57:13Z   \n",
       "4                                            Nothing  2019-03-24T06:52:53Z   \n",
       "\n",
       "           ship_to             ship_street ship_unit  ship_city ship_state  \\\n",
       "0   Kevin Ramsdell             577 Back Rd       NaN  Shapleigh         ME   \n",
       "1    Ksenia Harper  321 Babbling Brook Cir       NaN     Rincon         GA   \n",
       "2  TIMOTHY MCKIRCH            6961 ROUTE E       NaN  PINEVILLE         MO   \n",
       "3      Jason Vance     2141 Bloomfield Ave       NaN    Roanoke         VA   \n",
       "4     Tyler Cassel  4973 Lincolnwood Drive       NaN       York         PA   \n",
       "\n",
       "  ship_zip_code ship_country location country  months_subscribed  \n",
       "0         04076           US   ME, US      US                 28  \n",
       "1         31326           US   GA, US      US                  6  \n",
       "2         64856           US   MO, US      US                  0  \n",
       "3         24012           US   VA, US      US                  2  \n",
       "4         17408           US   PA, US      US                 15  "
      ]
     },
     "execution_count": 5,
     "metadata": {},
     "output_type": "execute_result"
    }
   ],
   "source": [
    "data.head()"
   ]
  },
  {
   "cell_type": "code",
   "execution_count": 10,
   "metadata": {},
   "outputs": [
    {
     "data": {
      "text/plain": [
       "(34797, 26)"
      ]
     },
     "execution_count": 10,
     "metadata": {},
     "output_type": "execute_result"
    }
   ],
   "source": [
    "data.shape"
   ]
  },
  {
   "cell_type": "code",
   "execution_count": 11,
   "metadata": {},
   "outputs": [
    {
     "data": {
      "text/plain": [
       "Index(['id', 'customer_id', 'first_name', 'last_name', 'name', 'email',\n",
       "       'phone_number', 'log_type', 'product_names', 'product_ids',\n",
       "       'subscription_id', 'subscription_term', 'subscription_start_date',\n",
       "       'cancel_reason', 'note', 'log_time', 'ship_to', 'ship_street',\n",
       "       'ship_unit', 'ship_city', 'ship_state', 'ship_zip_code', 'ship_country',\n",
       "       'location', 'country', 'months_subscribed'],\n",
       "      dtype='object')"
      ]
     },
     "execution_count": 11,
     "metadata": {},
     "output_type": "execute_result"
    }
   ],
   "source": [
    "data.columns"
   ]
  },
  {
   "cell_type": "code",
   "execution_count": 7,
   "metadata": {},
   "outputs": [],
   "source": []
  },
  {
   "cell_type": "code",
   "execution_count": 12,
   "metadata": {},
   "outputs": [],
   "source": [
    "notes = data.note"
   ]
  },
  {
   "cell_type": "code",
   "execution_count": 13,
   "metadata": {},
   "outputs": [
    {
     "data": {
      "text/plain": [
       "pandas.core.series.Series"
      ]
     },
     "execution_count": 13,
     "metadata": {},
     "output_type": "execute_result"
    }
   ],
   "source": [
    "type(notes)"
   ]
  },
  {
   "cell_type": "code",
   "execution_count": 15,
   "metadata": {},
   "outputs": [
    {
     "data": {
      "text/plain": [
       "(34797,)"
      ]
     },
     "execution_count": 15,
     "metadata": {},
     "output_type": "execute_result"
    }
   ],
   "source": [
    "notes.shape"
   ]
  },
  {
   "cell_type": "code",
   "execution_count": 16,
   "metadata": {},
   "outputs": [],
   "source": [
    "pd.set_option('max_colwidth',100)"
   ]
  },
  {
   "cell_type": "code",
   "execution_count": 18,
   "metadata": {},
   "outputs": [
    {
     "data": {
      "text/plain": [
       "'Send the correct products that I ordered. It took me 4 months to get a vial of beard oil I ordered, just to be jerked around the entire time until it finally arrived. Not one person I talked with offered anything to make it right. Terrible customer service.'"
      ]
     },
     "execution_count": 18,
     "metadata": {},
     "output_type": "execute_result"
    }
   ],
   "source": [
    "notes[0]"
   ]
  },
  {
   "cell_type": "code",
   "execution_count": null,
   "metadata": {},
   "outputs": [],
   "source": []
  }
 ],
 "metadata": {
  "kernelspec": {
   "display_name": "Python 3",
   "language": "python",
   "name": "python3"
  },
  "language_info": {
   "codemirror_mode": {
    "name": "ipython",
    "version": 3
   },
   "file_extension": ".py",
   "mimetype": "text/x-python",
   "name": "python",
   "nbconvert_exporter": "python",
   "pygments_lexer": "ipython3",
   "version": "3.6.8"
  }
 },
 "nbformat": 4,
 "nbformat_minor": 2
}
