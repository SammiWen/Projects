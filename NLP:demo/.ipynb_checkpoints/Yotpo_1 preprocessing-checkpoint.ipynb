{
 "cells": [
  {
   "cell_type": "code",
   "execution_count": 6,
   "metadata": {},
   "outputs": [],
   "source": [
    "import pandas as pd\n",
    "pd.options.display.max_columns = None"
   ]
  },
  {
   "cell_type": "code",
   "execution_count": 2,
   "metadata": {},
   "outputs": [],
   "source": [
    "data = pd.read_csv('data/yotpo.csv')"
   ]
  },
  {
   "cell_type": "code",
   "execution_count": 3,
   "metadata": {},
   "outputs": [
    {
     "data": {
      "text/plain": [
       "(5758, 21)"
      ]
     },
     "execution_count": 3,
     "metadata": {},
     "output_type": "execute_result"
    }
   ],
   "source": [
    "data.shape"
   ]
  },
  {
   "cell_type": "code",
   "execution_count": 5,
   "metadata": {},
   "outputs": [
    {
     "name": "stdout",
     "output_type": "stream",
     "text": [
      "<class 'pandas.core.frame.DataFrame'>\n",
      "RangeIndex: 5758 entries, 0 to 5757\n",
      "Data columns (total 21 columns):\n",
      "id                       5758 non-null int64\n",
      "user_type                5758 non-null object\n",
      "appkey                   5758 non-null object\n",
      "published                5758 non-null bool\n",
      "review_title             5756 non-null object\n",
      "review_content           5757 non-null object\n",
      "review_score             5758 non-null int64\n",
      "date                     5758 non-null object\n",
      "product_id               5758 non-null object\n",
      "product_url              5758 non-null object\n",
      "product_title            5758 non-null object\n",
      "product_description      4311 non-null object\n",
      "product_image_url        2799 non-null object\n",
      "display_name             5758 non-null object\n",
      "email                    5599 non-null object\n",
      "md_customer_country      1888 non-null object\n",
      "comment_content          230 non-null object\n",
      "comment_public           230 non-null float64\n",
      "comment_created_at       230 non-null object\n",
      "published_image_url      0 non-null float64\n",
      "unpublished_image_url    0 non-null float64\n",
      "dtypes: bool(1), float64(3), int64(2), object(15)\n",
      "memory usage: 905.4+ KB\n"
     ]
    }
   ],
   "source": [
    "data.info()"
   ]
  },
  {
   "cell_type": "code",
   "execution_count": 8,
   "metadata": {},
   "outputs": [],
   "source": [
    "# only keep useful columns\n",
    "col = ['published','review_title','review_content','review_score','date','product_id']\n",
    "data = data[col]"
   ]
  },
  {
   "cell_type": "code",
   "execution_count": 9,
   "metadata": {},
   "outputs": [
    {
     "data": {
      "text/html": [
       "<div>\n",
       "<style scoped>\n",
       "    .dataframe tbody tr th:only-of-type {\n",
       "        vertical-align: middle;\n",
       "    }\n",
       "\n",
       "    .dataframe tbody tr th {\n",
       "        vertical-align: top;\n",
       "    }\n",
       "\n",
       "    .dataframe thead th {\n",
       "        text-align: right;\n",
       "    }\n",
       "</style>\n",
       "<table border=\"1\" class=\"dataframe\">\n",
       "  <thead>\n",
       "    <tr style=\"text-align: right;\">\n",
       "      <th></th>\n",
       "      <th>published</th>\n",
       "      <th>review_title</th>\n",
       "      <th>review_content</th>\n",
       "      <th>review_score</th>\n",
       "      <th>date</th>\n",
       "      <th>product_id</th>\n",
       "    </tr>\n",
       "  </thead>\n",
       "  <tbody>\n",
       "    <tr>\n",
       "      <th>0</th>\n",
       "      <td>False</td>\n",
       "      <td>Great Soap!</td>\n",
       "      <td>The Bay Rum smells great and my dad loves it!</td>\n",
       "      <td>5</td>\n",
       "      <td>2012-10-29 04:00:00 UTC</td>\n",
       "      <td>109190870</td>\n",
       "    </tr>\n",
       "    <tr>\n",
       "      <th>1</th>\n",
       "      <td>True</td>\n",
       "      <td>gorgeous soaps!!!</td>\n",
       "      <td>I bought the soaps for a Christmas gift.  They...</td>\n",
       "      <td>5</td>\n",
       "      <td>2012-12-01 04:00:00 UTC</td>\n",
       "      <td>109191428</td>\n",
       "    </tr>\n",
       "    <tr>\n",
       "      <th>2</th>\n",
       "      <td>True</td>\n",
       "      <td>Soap Saver - Works Great!</td>\n",
       "      <td>This works great to eliminate the gooey, slimy...</td>\n",
       "      <td>5</td>\n",
       "      <td>2012-12-04 04:00:00 UTC</td>\n",
       "      <td>113623428</td>\n",
       "    </tr>\n",
       "    <tr>\n",
       "      <th>3</th>\n",
       "      <td>True</td>\n",
       "      <td>Husband with Sensitive Skin</td>\n",
       "      <td>My husband has sensitive skin and we have been...</td>\n",
       "      <td>5</td>\n",
       "      <td>2012-12-07 04:00:00 UTC</td>\n",
       "      <td>110663055</td>\n",
       "    </tr>\n",
       "    <tr>\n",
       "      <th>4</th>\n",
       "      <td>True</td>\n",
       "      <td>Perfect Gift!</td>\n",
       "      <td>I already use this soap everyday, so I was pum...</td>\n",
       "      <td>5</td>\n",
       "      <td>2012-12-13 04:00:00 UTC</td>\n",
       "      <td>110663055</td>\n",
       "    </tr>\n",
       "  </tbody>\n",
       "</table>\n",
       "</div>"
      ],
      "text/plain": [
       "   published                 review_title  \\\n",
       "0      False                  Great Soap!   \n",
       "1       True            gorgeous soaps!!!   \n",
       "2       True    Soap Saver - Works Great!   \n",
       "3       True  Husband with Sensitive Skin   \n",
       "4       True                Perfect Gift!   \n",
       "\n",
       "                                      review_content  review_score  \\\n",
       "0      The Bay Rum smells great and my dad loves it!             5   \n",
       "1  I bought the soaps for a Christmas gift.  They...             5   \n",
       "2  This works great to eliminate the gooey, slimy...             5   \n",
       "3  My husband has sensitive skin and we have been...             5   \n",
       "4  I already use this soap everyday, so I was pum...             5   \n",
       "\n",
       "                      date product_id  \n",
       "0  2012-10-29 04:00:00 UTC  109190870  \n",
       "1  2012-12-01 04:00:00 UTC  109191428  \n",
       "2  2012-12-04 04:00:00 UTC  113623428  \n",
       "3  2012-12-07 04:00:00 UTC  110663055  \n",
       "4  2012-12-13 04:00:00 UTC  110663055  "
      ]
     },
     "execution_count": 9,
     "metadata": {},
     "output_type": "execute_result"
    }
   ],
   "source": [
    "data.head()"
   ]
  },
  {
   "cell_type": "code",
   "execution_count": 13,
   "metadata": {},
   "outputs": [],
   "source": [
    "# convert to pandas datetime\n",
    "data.date  = pd.to_datetime(data.date)"
   ]
  },
  {
   "cell_type": "code",
   "execution_count": 20,
   "metadata": {},
   "outputs": [],
   "source": [
    "# remove null value in review_content\n",
    "data = data[data.review_content.notnull()]"
   ]
  },
  {
   "cell_type": "code",
   "execution_count": 23,
   "metadata": {},
   "outputs": [],
   "source": [
    "data.to_csv('data/Yotpo_1.csv', index  = False)"
   ]
  },
  {
   "cell_type": "code",
   "execution_count": null,
   "metadata": {},
   "outputs": [],
   "source": []
  }
 ],
 "metadata": {
  "kernelspec": {
   "display_name": "Python 3",
   "language": "python",
   "name": "python3"
  },
  "language_info": {
   "codemirror_mode": {
    "name": "ipython",
    "version": 3
   },
   "file_extension": ".py",
   "mimetype": "text/x-python",
   "name": "python",
   "nbconvert_exporter": "python",
   "pygments_lexer": "ipython3",
   "version": "3.6.8"
  }
 },
 "nbformat": 4,
 "nbformat_minor": 2
}
