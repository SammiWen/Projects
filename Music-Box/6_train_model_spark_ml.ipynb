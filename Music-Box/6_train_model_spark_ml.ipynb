{
 "cells": [
  {
   "cell_type": "markdown",
   "metadata": {},
   "source": [
    "### Load data"
   ]
  },
  {
   "cell_type": "code",
   "execution_count": 12,
   "metadata": {
    "collapsed": true
   },
   "outputs": [],
   "source": [
    "from pyspark.sql.types import *\n",
    "from pyspark.mllib.linalg import Vectors\n",
    "from pyspark.mllib.linalg import DenseVector\n",
    "from pyspark.ml.feature import VectorAssembler\n",
    "from pyspark.ml.feature import StringIndexer, VectorIndexer\n",
    "from pyspark.ml import Pipeline\n",
    "from pyspark.ml.classification import LogisticRegression\n",
    "from pyspark.ml.classification import DecisionTreeClassifier\n",
    "from pyspark.ml.classification import RandomForestClassifier\n",
    "from pyspark.ml.classification import GBTClassifier\n",
    "from pyspark.ml.tuning import CrossValidator, ParamGridBuilder\n",
    "from pyspark.ml.evaluation import BinaryClassificationEvaluator\n",
    "from pyspark.ml.evaluation import MulticlassClassificationEvaluator\n",
    "import numpy as np\n",
    "import pandas as pd"
   ]
  },
  {
   "cell_type": "code",
   "execution_count": 9,
   "metadata": {
    "collapsed": true
   },
   "outputs": [],
   "source": [
    "import pyspark\n",
    "from pyspark import SparkContext\n",
    "import pyspark.sql.functions as F\n"
   ]
  },
  {
   "cell_type": "code",
   "execution_count": 10,
   "metadata": {
    "collapsed": true
   },
   "outputs": [],
   "source": [
    "from pyspark.sql.session import SparkSession\n",
    "from pyspark import SparkContext\n",
    "sc2 = SparkContext('local')\n",
    "spark = SparkSession(sc2)"
   ]
  },
  {
   "cell_type": "code",
   "execution_count": 13,
   "metadata": {},
   "outputs": [
    {
     "name": "stdout",
     "output_type": "stream",
     "text": [
      "+---------+-----+-------------+-------------+-------------+--------------+--------------+-------------+-------------+-------------+--------------+--------------+-------------+-------------+-------------+--------------+--------------+-----------+\n",
      "|      uid|label|freq_P_last_1|freq_P_last_3|freq_P_last_7|freq_P_last_14|freq_P_last_30|freq_D_last_1|freq_D_last_3|freq_D_last_7|freq_D_last_14|freq_D_last_30|freq_S_last_1|freq_S_last_3|freq_S_last_7|freq_S_last_14|freq_S_last_30|device_type|\n",
      "+---------+-----+-------------+-------------+-------------+--------------+--------------+-------------+-------------+-------------+--------------+--------------+-------------+-------------+-------------+--------------+--------------+-----------+\n",
      "|141858867|    1|            0|            0|            0|             0|            11|            0|            0|            0|             0|             0|            0|            0|            0|             0|             0|          2|\n",
      "|157309586|    1|            0|            0|            0|             0|             5|            0|            0|            0|             0|             0|            0|            0|            0|             0|             1|          2|\n",
      "|162228038|    1|            0|            0|            0|             0|             1|            0|            0|            0|             0|             0|            0|            0|            0|             0|             0|          2|\n",
      "|166397219|    1|            0|            0|            0|             0|             2|            0|            0|            0|             0|             0|            0|            0|            0|             0|             0|          2|\n",
      "|167587246|    0|            0|            0|            0|           169|           514|            4|            5|            6|             9|            21|            6|            7|           21|            37|            75|          2|\n",
      "+---------+-----+-------------+-------------+-------------+--------------+--------------+-------------+-------------+-------------+--------------+--------------+-------------+-------------+-------------+--------------+--------------+-----------+\n",
      "only showing top 5 rows\n",
      "\n"
     ]
    }
   ],
   "source": [
    "df = spark.read.csv('data/df_model_final.csv',header=True,inferSchema=True).cache()\n",
    "df.show(5)"
   ]
  },
  {
   "cell_type": "code",
   "execution_count": 14,
   "metadata": {},
   "outputs": [
    {
     "data": {
      "text/plain": [
       "DataFrame[uid: int, label: int, freq_P_last_1: int, freq_P_last_3: int, freq_P_last_7: int, freq_P_last_14: int, freq_P_last_30: int, freq_D_last_1: int, freq_D_last_3: int, freq_D_last_7: int, freq_D_last_14: int, freq_D_last_30: int, freq_S_last_1: int, freq_S_last_3: int, freq_S_last_7: int, freq_S_last_14: int, freq_S_last_30: int, device_type: int]"
      ]
     },
     "execution_count": 14,
     "metadata": {},
     "output_type": "execute_result"
    }
   ],
   "source": [
    "df"
   ]
  },
  {
   "cell_type": "markdown",
   "metadata": {},
   "source": [
    "### Prepare training data"
   ]
  },
  {
   "cell_type": "code",
   "execution_count": 15,
   "metadata": {},
   "outputs": [
    {
     "data": {
      "text/plain": [
       "['freq_P_last_1',\n",
       " 'freq_P_last_3',\n",
       " 'freq_P_last_7',\n",
       " 'freq_P_last_14',\n",
       " 'freq_P_last_30',\n",
       " 'freq_D_last_1',\n",
       " 'freq_D_last_3',\n",
       " 'freq_D_last_7',\n",
       " 'freq_D_last_14',\n",
       " 'freq_D_last_30',\n",
       " 'freq_S_last_1',\n",
       " 'freq_S_last_3',\n",
       " 'freq_S_last_7',\n",
       " 'freq_S_last_14',\n",
       " 'freq_S_last_30']"
      ]
     },
     "execution_count": 15,
     "metadata": {},
     "output_type": "execute_result"
    }
   ],
   "source": [
    "selected_features = df.columns\n",
    "selected_features.remove('uid')\n",
    "selected_features.remove('label')\n",
    "selected_features.remove('device_type')\n",
    "selected_features"
   ]
  },
  {
   "cell_type": "code",
   "execution_count": 16,
   "metadata": {
    "collapsed": true
   },
   "outputs": [],
   "source": [
    "# training data\n",
    "assembler = VectorAssembler(\n",
    "    inputCols=selected_features,\n",
    "    outputCol=\"features\")\n",
    "data = assembler.transform(df)\n",
    "\n",
    "# train test split\n",
    "(train, test) = data.randomSplit([0.7, 0.3], seed=1)"
   ]
  },
  {
   "cell_type": "markdown",
   "metadata": {},
   "source": [
    "### Fit logistic regression"
   ]
  },
  {
   "cell_type": "code",
   "execution_count": 17,
   "metadata": {
    "collapsed": true
   },
   "outputs": [],
   "source": [
    "ml = LogisticRegression(maxIter=3, regParam=0.01)\n",
    "model = ml.fit(train)"
   ]
  },
  {
   "cell_type": "markdown",
   "metadata": {},
   "source": [
    "### Predict and Evaluate performance"
   ]
  },
  {
   "cell_type": "code",
   "execution_count": 18,
   "metadata": {},
   "outputs": [
    {
     "name": "stdout",
     "output_type": "stream",
     "text": [
      "+--------------------+----------+-----+--------------------+\n",
      "|         probability|prediction|label|            features|\n",
      "+--------------------+----------+-----+--------------------+\n",
      "|[0.20923936235225...|       1.0|    1|(15,[3,4,14],[50....|\n",
      "|[0.44212270717753...|       1.0|    1|[0.0,0.0,0.0,5.0,...|\n",
      "|[0.20789782191746...|       1.0|    1|(15,[3,4],[54.0,1...|\n",
      "|[0.76566382813704...|       0.0|    0|[0.0,0.0,0.0,156....|\n",
      "|[0.18152161496690...|       1.0|    1|(15,[3,4,9,14],[2...|\n",
      "+--------------------+----------+-----+--------------------+\n",
      "only showing top 5 rows\n",
      "\n",
      "+--------------------+----------+-----+--------------------+\n",
      "|         probability|prediction|label|            features|\n",
      "+--------------------+----------+-----+--------------------+\n",
      "|[0.18278851434913...|       1.0|    0|(15,[4,12,13,14],...|\n",
      "|[0.21374223116013...|       1.0|    1|(15,[4,12,13,14],...|\n",
      "|[0.16545402680451...|       1.0|    1|      (15,[4],[2.0])|\n",
      "|[0.67686480926158...|       0.0|    0|(15,[3,4,9],[491....|\n",
      "|[0.16537059648646...|       1.0|    1|      (15,[4],[1.0])|\n",
      "+--------------------+----------+-----+--------------------+\n",
      "only showing top 5 rows\n",
      "\n"
     ]
    }
   ],
   "source": [
    "# Predict train data\n",
    "predictions_train = model.transform(train)\n",
    "\n",
    "# Select example rows to display.\n",
    "predictions_train.select(\"probability\",\"prediction\", \"label\", \"features\").show(5)\n",
    "res_train = predictions_train.select(\"probability\", \"label\").toPandas()\n",
    "\n",
    "\n",
    "# Predict test data\n",
    "predictions_test = model.transform(test)\n",
    "\n",
    "# Select example rows to display.\n",
    "predictions_test.select(\"probability\",\"prediction\", \"label\", \"features\").show(5)\n",
    "res_test = predictions_test.select(\"probability\", \"label\").toPandas()\n"
   ]
  },
  {
   "cell_type": "markdown",
   "metadata": {},
   "source": [
    "### Evaluate performance"
   ]
  },
  {
   "cell_type": "code",
   "execution_count": 19,
   "metadata": {
    "collapsed": true
   },
   "outputs": [],
   "source": [
    "%matplotlib inline\n",
    "import matplotlib.pyplot as plt\n",
    "from sklearn.metrics import roc_curve, auc, roc_auc_score\n",
    "\n",
    "def plot_roc_curve(y_train, y_train_pred, y_test, y_test_pred):\n",
    "    roc_auc_train = roc_auc_score(y_train, y_train_pred)\n",
    "    fpr_train, tpr_train, _ = roc_curve(y_train, y_train_pred)\n",
    "\n",
    "    roc_auc_test = roc_auc_score(y_test, y_test_pred)\n",
    "    fpr_test, tpr_test, _ = roc_curve(y_test, y_test_pred)\n",
    "    plt.figure()\n",
    "    lw = 2\n",
    "    plt.plot(fpr_train, tpr_train, color='green',\n",
    "             lw=lw, label='ROC Train (AUC = %0.4f)' % roc_auc_train)\n",
    "    plt.plot(fpr_test, tpr_test, color='darkorange',\n",
    "             lw=lw, label='ROC Test (AUC = %0.4f)' % roc_auc_test)\n",
    "    plt.plot([0, 1], [0, 1], color='navy', lw=lw, linestyle='--')\n",
    "    plt.xlim([0.0, 1.0])\n",
    "    plt.ylim([0.0, 1.05])\n",
    "    plt.xlabel('False Positive Rate')\n",
    "    plt.ylabel('True Positive Rate')\n",
    "    plt.title('Receiver operating characteristic example')\n",
    "    plt.legend(loc=\"lower right\")\n",
    "    plt.show()\n",
    "    "
   ]
  },
  {
   "cell_type": "code",
   "execution_count": 20,
   "metadata": {},
   "outputs": [
    {
     "data": {
      "image/png": "[encoded data removed]",
      "text/plain": [
       "<matplotlib.figure.Figure at 0x7f09d9f58f98>"
      ]
     },
     "metadata": {},
     "output_type": "display_data"
    }
   ],
   "source": [
    "y_train = res_train['label']\n",
    "y_train_pred = [v[1] for v in res_train['probability']]\n",
    "y_test = res_test['label']\n",
    "y_test_pred = [v[1] for v in res_test['probability']]\n",
    "\n",
    "plot_roc_curve(y_train, y_train_pred, y_test, y_test_pred)"
   ]
  },
  {
   "cell_type": "markdown",
   "metadata": {},
   "source": [
    "### Let's train random forest too!"
   ]
  },
  {
   "cell_type": "code",
   "execution_count": 21,
   "metadata": {
    "collapsed": true
   },
   "outputs": [],
   "source": [
    "ml = RandomForestClassifier(labelCol=\"label\", featuresCol=\"features\"\n",
    "                            ,numTrees=50#50\n",
    "                            ,featureSubsetStrategy=\"auto\"\n",
    "                            ,impurity='gini'\n",
    "                            ,maxDepth=12#20\n",
    "                            ,minInstancesPerNode=10\n",
    "                            ,maxBins=16\n",
    "                            )\n",
    "model = ml.fit(train)"
   ]
  },
  {
   "cell_type": "code",
   "execution_count": 22,
   "metadata": {},
   "outputs": [
    {
     "name": "stdout",
     "output_type": "stream",
     "text": [
      "+--------------------+----------+-----+--------------------+\n",
      "|         probability|prediction|label|            features|\n",
      "+--------------------+----------+-----+--------------------+\n",
      "|[0.19440089919017...|       1.0|    1|(15,[3,4,14],[50....|\n",
      "|[0.68059349404766...|       0.0|    1|[0.0,0.0,0.0,5.0,...|\n",
      "|[0.08582879638682...|       1.0|    1|(15,[3,4],[54.0,1...|\n",
      "|[0.85917269141843...|       0.0|    0|[0.0,0.0,0.0,156....|\n",
      "|[0.26206432683589...|       1.0|    1|(15,[3,4,9,14],[2...|\n",
      "+--------------------+----------+-----+--------------------+\n",
      "only showing top 5 rows\n",
      "\n",
      "+--------------------+----------+-----+--------------------+\n",
      "|         probability|prediction|label|            features|\n",
      "+--------------------+----------+-----+--------------------+\n",
      "|[0.28552186008497...|       1.0|    0|(15,[4,12,13,14],...|\n",
      "|[0.51949768808450...|       0.0|    1|(15,[4,12,13,14],...|\n",
      "|[0.05066427180219...|       1.0|    1|      (15,[4],[2.0])|\n",
      "|[0.19433496492538...|       1.0|    0|(15,[3,4,9],[491....|\n",
      "|[0.04900521824890...|       1.0|    1|      (15,[4],[1.0])|\n",
      "+--------------------+----------+-----+--------------------+\n",
      "only showing top 5 rows\n",
      "\n"
     ]
    }
   ],
   "source": [
    "#### predict and evaluate performance\n",
    "\n",
    "# Predict train data\n",
    "predictions_train = model.transform(train)\n",
    "\n",
    "# Select example rows to display.\n",
    "predictions_train.select(\"probability\",\"prediction\", \"label\", \"features\").show(5)\n",
    "res_train = predictions_train.select(\"probability\", \"label\").toPandas()\n",
    "\n",
    "\n",
    "# Predict test data\n",
    "predictions_test = model.transform(test)\n",
    "\n",
    "# Select example rows to display.\n",
    "predictions_test.select(\"probability\",\"prediction\", \"label\", \"features\").show(5)\n",
    "res_test = predictions_test.select(\"probability\", \"label\").toPandas()"
   ]
  },
  {
   "cell_type": "code",
   "execution_count": 23,
   "metadata": {},
   "outputs": [
    {
     "data": {
      "image/png": "[encoded data removed]",
      "text/plain": [
       "<matplotlib.figure.Figure at 0x7f09e32d44a8>"
      ]
     },
     "metadata": {},
     "output_type": "display_data"
    }
   ],
   "source": [
    "y_train = res_train['label']\n",
    "y_train_pred = [v[1] for v in res_train['probability']]\n",
    "y_test = res_test['label']\n",
    "y_test_pred = [v[1] for v in res_test['probability']]\n",
    "\n",
    "plot_roc_curve(y_train, y_train_pred, y_test, y_test_pred)"
   ]
  },
  {
   "cell_type": "code",
   "execution_count": null,
   "metadata": {
    "collapsed": true
   },
   "outputs": [],
   "source": []
  },
  {
   "cell_type": "code",
   "execution_count": null,
   "metadata": {
    "collapsed": true
   },
   "outputs": [],
   "source": []
  }
 ],
 "metadata": {
  "kernelspec": {
   "display_name": "Python 3",
   "language": "python",
   "name": "python3"
  },
  "language_info": {
   "codemirror_mode": {
    "name": "ipython",
    "version": 3
   },
   "file_extension": ".py",
   "mimetype": "text/x-python",
   "name": "python",
   "nbconvert_exporter": "python",
   "pygments_lexer": "ipython3",
   "version": "3.6.3"
  }
 },
 "nbformat": 4,
 "nbformat_minor": 2
}
